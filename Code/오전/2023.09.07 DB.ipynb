{
 "cells": [
  {
   "cell_type": "code",
   "execution_count": 1,
   "metadata": {},
   "outputs": [],
   "source": [
    "from sqlalchemy import create_engine, MetaData\n",
    "from sqlalchemy.schema import Table, Column, ForeignKey\n",
    "from sqlalchemy.types import Integer, Text\n",
    "from sqlalchemy.sql import select, insert, update, delete, join, func\n",
    "import sqlalchemy"
   ]
  },
  {
   "cell_type": "code",
   "execution_count": null,
   "metadata": {},
   "outputs": [],
   "source": [
    "\"\"\" \n",
    "<HOMEWORK>\n",
    "1. POST에 본문 insert\n",
    "2. insert된 PK 가져오기\n",
    "3. 위에 코드 이용해서 해시태그 PK값 가져오기\n",
    "4. POSTAG에 POST.PK, HASHTAG.PK를 insert\n",
    "5. HASHTAG count = HASHTAG count + 1, if PK == HASHTAG.PK \n",
    " \"\"\"\n",
    "\n",
    "# engine, connect Define\n",
    "engine = create_engine('sqlite:///:memory:', echo = True)\n",
    "meta = MetaData()\n",
    "con = engine.connect()\n",
    "\n",
    "# 초기화\n",
    "meta.drop_all(engine)\n",
    "meta.clear()\n",
    "#if A:\n",
    "#    meta.remove(A)\n",
    "#if B:\n",
    "#    meta.remove(B)\n",
    "#if C:\n",
    "#    meta.remove(C)\n",
    "\n",
    "# 테이블 생성\n",
    "Table('POST', meta,\n",
    "      Column('PK', Integer, primary_key= True),\n",
    "      Column('CONTENT', Text),\n",
    "      extend_existing = True)\n",
    "\n",
    "Table('HASHTAG', meta,\n",
    "      Column('PK', Integer, primary_key= True),\n",
    "      Column('NAME', Text, nullable=False),\n",
    "      # server_default는 서버에 디폴트를 저장해서 새로 만들때마다 적용한다.\n",
    "      Column('Count', Integer, server_default='0'),\n",
    "      extend_existing = True)\n",
    "\n",
    "Table('POSTTAG', meta,\n",
    "      Column('PFK', None, ForeignKey('POST.PK')),\n",
    "      Column('HFK', Integer, ForeignKey('HASHTAG.PK')),\n",
    "      extend_existing = True)\n",
    "\n",
    "# commit\n",
    "meta.create_all(engine)\n",
    "\n",
    "# Define Table\n",
    "A = meta.tables['POST']\n",
    "B = meta.tables['HASHTAG']\n",
    "C = meta.tables['POSTTAG']\n",
    "\n",
    "# 1. POST에 content 넣기 +  2. PK값 불러오기\n",
    "data1 = {'content': '본문1', 'tags':['Python']}\n",
    "\n",
    "# A에 컨탠츠를 넣음과 동시에 lastrowid로 PFK 값 추출\n",
    "A_PK = con.execute(A.insert().values(CONTENT = data1['content'])).lastrowid\n",
    "print(A_PK)\n",
    "\n",
    "# 3. 해시태그 PK 값 매칭\n",
    "for tag in data1['tags']:\n",
    "    size = con.execute(select(func.count(B.c.Count)).where(B.c.NAME == tag)).fetchone()[0]\n",
    "    if size == 0:\n",
    "        con.execute(insert(B).values(NAME = tag))\n",
    "\n",
    "H_PK = con.execute(select(B.c.PK).where(B.c.NAME == tag)).fetchall()[0]\n",
    "\n",
    "# 4. POSTAG에 POST.PK, HASHTAG.PK를 insert\n",
    "con.execute(insert(C).values([{'PFK':A_PK, 'HFK':H_PK[0]}]))\n",
    "\n",
    "# 5. HASHTAG count = HASHTAG count + 1, if PK == HASHTAG.PK \n",
    "con.execute(update(B).where(B.c.PK == C.c.HFK).values({'Count': B.c.Count + 1}))\n",
    "\n",
    "con.execute(select(B)).fetchall()"
   ]
  },
  {
   "cell_type": "code",
   "execution_count": 2,
   "metadata": {},
   "outputs": [],
   "source": [
    "# 메타데이터를 넣어주는 객체를 만들어줌\n",
    "from sqlalchemy.orm import declarative_base"
   ]
  },
  {
   "cell_type": "code",
   "execution_count": 3,
   "metadata": {},
   "outputs": [],
   "source": [
    "base = declarative_base()"
   ]
  },
  {
   "cell_type": "code",
   "execution_count": 4,
   "metadata": {},
   "outputs": [
    {
     "data": {
      "text/plain": [
       "FacadeDict({})"
      ]
     },
     "execution_count": 4,
     "metadata": {},
     "output_type": "execute_result"
    }
   ],
   "source": [
    "base.metadata.tables # core Table 객체들 - RDMBS와 싱크가 맞음."
   ]
  },
  {
   "cell_type": "code",
   "execution_count": null,
   "metadata": {},
   "outputs": [],
   "source": [
    "base.registry # object 등록"
   ]
  },
  {
   "cell_type": "code",
   "execution_count": 5,
   "metadata": {},
   "outputs": [],
   "source": [
    "from sqlalchemy import create_engine, MetaData\n",
    "from sqlalchemy.schema import Table, Column, ForeignKey\n",
    "from sqlalchemy.types import Integer, Text\n",
    "from sqlalchemy.sql import select, insert, update, delete, join, func\n",
    "import sqlalchemy"
   ]
  },
  {
   "cell_type": "code",
   "execution_count": null,
   "metadata": {},
   "outputs": [],
   "source": [
    "# 만약 base 잘못 넣었을 경우, 아래 코드로 날려주고 다시 만든다.\n",
    "# 객체 제거 + 객체가 저장된 테이블 삭제\n",
    "base.metadata.remove(base.metadata.tables['USER'])\n",
    "base.registry.dispose()"
   ]
  },
  {
   "cell_type": "code",
   "execution_count": 6,
   "metadata": {},
   "outputs": [],
   "source": [
    "class User(base):    \n",
    "    # object에서 접근할 수 있는 테이블 이름\n",
    "    # 실제 DBMS에서 사용될 Table 이름\n",
    "    __tablename__ = 'USER'\n",
    "    # object에서 pk\n",
    "    # 실제 DBMS에서 Table에 사용되는 Column이 됨\n",
    "    pk = Column('PK', Integer, primary_key= True)\n",
    "    name = Column('NAME', Text)\n",
    "\n",
    "    def __repr__(self):\n",
    "        return f'PK: {self.pk}, NAME: {self.name}'"
   ]
  },
  {
   "cell_type": "code",
   "execution_count": 8,
   "metadata": {},
   "outputs": [
    {
     "data": {
      "text/plain": [
       "FacadeDict({'USER': Table('USER', MetaData(), Column('PK', Integer(), table=<USER>, primary_key=True, nullable=False), Column('NAME', Text(), table=<USER>), schema=None)})"
      ]
     },
     "execution_count": 8,
     "metadata": {},
     "output_type": "execute_result"
    }
   ],
   "source": [
    "base.metadata.tables"
   ]
  },
  {
   "cell_type": "code",
   "execution_count": 9,
   "metadata": {},
   "outputs": [],
   "source": [
    "# 객체 만들기\n",
    "user1 = User(name = '아무거나')"
   ]
  },
  {
   "cell_type": "code",
   "execution_count": 11,
   "metadata": {},
   "outputs": [
    {
     "data": {
      "text/plain": [
       "(__main__.User, sqlalchemy.sql.schema.Table)"
      ]
     },
     "execution_count": 11,
     "metadata": {},
     "output_type": "execute_result"
    }
   ],
   "source": [
    "# main에 등록된 클래스 > 테이블의 이름은 아니다.\n",
    "type(user1), type(base.metadata.tables['USER'])"
   ]
  },
  {
   "cell_type": "code",
   "execution_count": 13,
   "metadata": {},
   "outputs": [],
   "source": [
    "engine = create_engine('sqlite:///:memory:', echo = True)"
   ]
  },
  {
   "cell_type": "code",
   "execution_count": 14,
   "metadata": {},
   "outputs": [
    {
     "name": "stdout",
     "output_type": "stream",
     "text": [
      "2023-09-07 09:24:39,405 INFO sqlalchemy.engine.Engine BEGIN (implicit)\n",
      "2023-09-07 09:24:39,406 INFO sqlalchemy.engine.Engine PRAGMA main.table_info(\"USER\")\n",
      "2023-09-07 09:24:39,406 INFO sqlalchemy.engine.Engine [raw sql] ()\n",
      "2023-09-07 09:24:39,407 INFO sqlalchemy.engine.Engine PRAGMA temp.table_info(\"USER\")\n",
      "2023-09-07 09:24:39,409 INFO sqlalchemy.engine.Engine [raw sql] ()\n",
      "2023-09-07 09:24:39,412 INFO sqlalchemy.engine.Engine \n",
      "CREATE TABLE \"USER\" (\n",
      "\t\"PK\" INTEGER NOT NULL, \n",
      "\t\"NAME\" TEXT, \n",
      "\tPRIMARY KEY (\"PK\")\n",
      ")\n",
      "\n",
      "\n",
      "2023-09-07 09:24:39,413 INFO sqlalchemy.engine.Engine [no key 0.00074s] ()\n",
      "2023-09-07 09:24:39,414 INFO sqlalchemy.engine.Engine COMMIT\n"
     ]
    }
   ],
   "source": [
    "# create all과 같게 DB에 넣는 작업\n",
    "base.metadata.create_all(engine)"
   ]
  },
  {
   "cell_type": "code",
   "execution_count": 15,
   "metadata": {},
   "outputs": [],
   "source": [
    "# session이 engine.connect.execute를 DBMS로 알아서 보낸다.\n",
    "from sqlalchemy.orm import sessionmaker"
   ]
  },
  {
   "cell_type": "code",
   "execution_count": 16,
   "metadata": {},
   "outputs": [],
   "source": [
    "# in-memory에 있는 object들과 RDBMS 사이에 창구 역할을 한다.\n",
    "Session = sessionmaker(engine)\n",
    "sess = Session()"
   ]
  },
  {
   "cell_type": "code",
   "execution_count": 17,
   "metadata": {},
   "outputs": [],
   "source": [
    "# session을 통해 객체를 등록한다.\n",
    "sess.add(user1)"
   ]
  },
  {
   "cell_type": "code",
   "execution_count": 18,
   "metadata": {},
   "outputs": [
    {
     "data": {
      "text/plain": [
       "PK: None, NAME: 아무거나"
      ]
     },
     "execution_count": 18,
     "metadata": {},
     "output_type": "execute_result"
    }
   ],
   "source": [
    "user1"
   ]
  },
  {
   "cell_type": "code",
   "execution_count": 19,
   "metadata": {},
   "outputs": [
    {
     "name": "stdout",
     "output_type": "stream",
     "text": [
      "2023-09-07 09:29:31,299 INFO sqlalchemy.engine.Engine BEGIN (implicit)\n",
      "2023-09-07 09:29:31,301 INFO sqlalchemy.engine.Engine INSERT INTO \"USER\" (\"NAME\") VALUES (?)\n",
      "2023-09-07 09:29:31,302 INFO sqlalchemy.engine.Engine [generated in 0.00116s] ('아무거나',)\n",
      "2023-09-07 09:29:31,304 INFO sqlalchemy.engine.Engine COMMIT\n"
     ]
    }
   ],
   "source": [
    "# commit을 통해 sess이 DBMS에 반영한다.\n",
    "# session이라는 얘가 관찰하고 있는 object를 DBMS에 반영한다.\n",
    "sess.commit()"
   ]
  },
  {
   "cell_type": "code",
   "execution_count": 20,
   "metadata": {},
   "outputs": [
    {
     "name": "stdout",
     "output_type": "stream",
     "text": [
      "2023-09-07 09:29:34,485 INFO sqlalchemy.engine.Engine BEGIN (implicit)\n",
      "2023-09-07 09:29:34,487 INFO sqlalchemy.engine.Engine SELECT \"USER\".\"PK\" AS \"USER_PK\", \"USER\".\"NAME\" AS \"USER_NAME\" \n",
      "FROM \"USER\" \n",
      "WHERE \"USER\".\"PK\" = ?\n",
      "2023-09-07 09:29:34,488 INFO sqlalchemy.engine.Engine [generated in 0.00097s] (1,)\n"
     ]
    },
    {
     "data": {
      "text/plain": [
       "PK: 1, NAME: 아무거나"
      ]
     },
     "execution_count": 20,
     "metadata": {},
     "output_type": "execute_result"
    }
   ],
   "source": [
    "user1"
   ]
  },
  {
   "cell_type": "code",
   "execution_count": 22,
   "metadata": {},
   "outputs": [
    {
     "data": {
      "text/plain": [
       "False"
      ]
     },
     "execution_count": 22,
     "metadata": {},
     "output_type": "execute_result"
    }
   ],
   "source": [
    "# 수정확인\n",
    "sess.is_modified(user1)"
   ]
  },
  {
   "cell_type": "code",
   "execution_count": 23,
   "metadata": {},
   "outputs": [
    {
     "data": {
      "text/plain": [
       "IdentitySet([])"
      ]
     },
     "execution_count": 23,
     "metadata": {},
     "output_type": "execute_result"
    }
   ],
   "source": [
    "sess.dirty"
   ]
  },
  {
   "cell_type": "code",
   "execution_count": 24,
   "metadata": {},
   "outputs": [],
   "source": [
    "user1.name = '다른값'"
   ]
  },
  {
   "cell_type": "code",
   "execution_count": 25,
   "metadata": {},
   "outputs": [
    {
     "data": {
      "text/plain": [
       "PK: 1, NAME: 다른값"
      ]
     },
     "execution_count": 25,
     "metadata": {},
     "output_type": "execute_result"
    }
   ],
   "source": [
    "user1"
   ]
  },
  {
   "cell_type": "code",
   "execution_count": 26,
   "metadata": {},
   "outputs": [
    {
     "data": {
      "text/plain": [
       "IdentitySet([PK: 1, NAME: 다른값])"
      ]
     },
     "execution_count": 26,
     "metadata": {},
     "output_type": "execute_result"
    }
   ],
   "source": [
    "# 작업할 것을 쌓아줌\n",
    "sess.dirty"
   ]
  },
  {
   "cell_type": "code",
   "execution_count": 27,
   "metadata": {},
   "outputs": [
    {
     "data": {
      "text/plain": [
       "True"
      ]
     },
     "execution_count": 27,
     "metadata": {},
     "output_type": "execute_result"
    }
   ],
   "source": [
    "# 수정이 필요한지 확인\n",
    "sess.is_modified(user1)"
   ]
  },
  {
   "cell_type": "code",
   "execution_count": 28,
   "metadata": {},
   "outputs": [
    {
     "name": "stdout",
     "output_type": "stream",
     "text": [
      "2023-09-07 09:33:02,798 INFO sqlalchemy.engine.Engine UPDATE \"USER\" SET \"NAME\"=? WHERE \"USER\".\"PK\" = ?\n",
      "2023-09-07 09:33:02,799 INFO sqlalchemy.engine.Engine [generated in 0.00147s] ('다른값', 1)\n",
      "2023-09-07 09:33:02,800 INFO sqlalchemy.engine.Engine COMMIT\n"
     ]
    }
   ],
   "source": [
    "# 반영\n",
    "sess.commit()"
   ]
  },
  {
   "cell_type": "code",
   "execution_count": 29,
   "metadata": {},
   "outputs": [
    {
     "name": "stdout",
     "output_type": "stream",
     "text": [
      "2023-09-07 09:33:06,956 INFO sqlalchemy.engine.Engine BEGIN (implicit)\n",
      "2023-09-07 09:33:06,957 INFO sqlalchemy.engine.Engine SELECT \"USER\".\"PK\" AS \"USER_PK\", \"USER\".\"NAME\" AS \"USER_NAME\" \n",
      "FROM \"USER\" \n",
      "WHERE \"USER\".\"PK\" = ?\n",
      "2023-09-07 09:33:06,958 INFO sqlalchemy.engine.Engine [cached since 212.5s ago] (1,)\n"
     ]
    },
    {
     "data": {
      "text/plain": [
       "PK: 1, NAME: 다른값"
      ]
     },
     "execution_count": 29,
     "metadata": {},
     "output_type": "execute_result"
    }
   ],
   "source": [
    "# name이 바뀐 것을 확인\n",
    "user1"
   ]
  },
  {
   "cell_type": "code",
   "execution_count": 30,
   "metadata": {},
   "outputs": [],
   "source": [
    "# 어제 executemany 처럼 []로 묶어서 보낸 작업을 session에서도 동일하게 한다.\n",
    "sess.add_all([User(name = '2'), User(name = '3')])"
   ]
  },
  {
   "cell_type": "code",
   "execution_count": 31,
   "metadata": {},
   "outputs": [
    {
     "name": "stdout",
     "output_type": "stream",
     "text": [
      "2023-09-07 09:34:26,216 INFO sqlalchemy.engine.Engine INSERT INTO \"USER\" (\"NAME\") VALUES (?) RETURNING \"PK\"\n",
      "2023-09-07 09:34:26,217 INFO sqlalchemy.engine.Engine [generated in 0.00010s (insertmanyvalues) 1/2 (ordered; batch not supported)] ('2',)\n",
      "2023-09-07 09:34:26,226 INFO sqlalchemy.engine.Engine INSERT INTO \"USER\" (\"NAME\") VALUES (?) RETURNING \"PK\"\n",
      "2023-09-07 09:34:26,228 INFO sqlalchemy.engine.Engine [insertmanyvalues 2/2 (ordered; batch not supported)] ('3',)\n",
      "2023-09-07 09:34:26,230 INFO sqlalchemy.engine.Engine COMMIT\n"
     ]
    }
   ],
   "source": [
    "sess.commit()"
   ]
  },
  {
   "cell_type": "code",
   "execution_count": 32,
   "metadata": {},
   "outputs": [
    {
     "name": "stdout",
     "output_type": "stream",
     "text": [
      "2023-09-07 09:34:49,362 INFO sqlalchemy.engine.Engine BEGIN (implicit)\n",
      "2023-09-07 09:34:49,364 INFO sqlalchemy.engine.Engine SELECT \"USER\".\"PK\" AS \"USER_PK\", \"USER\".\"NAME\" AS \"USER_NAME\" \n",
      "FROM \"USER\"\n",
      "2023-09-07 09:34:49,365 INFO sqlalchemy.engine.Engine [generated in 0.00067s] ()\n"
     ]
    }
   ],
   "source": [
    "userList = sess.query(User).all()"
   ]
  },
  {
   "cell_type": "code",
   "execution_count": 33,
   "metadata": {},
   "outputs": [
    {
     "data": {
      "text/plain": [
       "3"
      ]
     },
     "execution_count": 33,
     "metadata": {},
     "output_type": "execute_result"
    }
   ],
   "source": [
    "len(userList)"
   ]
  },
  {
   "cell_type": "code",
   "execution_count": 34,
   "metadata": {},
   "outputs": [
    {
     "data": {
      "text/plain": [
       "True"
      ]
     },
     "execution_count": 34,
     "metadata": {},
     "output_type": "execute_result"
    }
   ],
   "source": [
    "user1 is userList[0]"
   ]
  },
  {
   "cell_type": "code",
   "execution_count": 35,
   "metadata": {},
   "outputs": [
    {
     "data": {
      "text/plain": [
       "PK: 2, NAME: 2"
      ]
     },
     "execution_count": 35,
     "metadata": {},
     "output_type": "execute_result"
    }
   ],
   "source": [
    "userList[1]"
   ]
  },
  {
   "cell_type": "code",
   "execution_count": 36,
   "metadata": {},
   "outputs": [],
   "source": [
    "userList[1].name = '다른값2'"
   ]
  },
  {
   "cell_type": "code",
   "execution_count": 37,
   "metadata": {},
   "outputs": [
    {
     "data": {
      "text/plain": [
       "IdentitySet([PK: 2, NAME: 다른값2])"
      ]
     },
     "execution_count": 37,
     "metadata": {},
     "output_type": "execute_result"
    }
   ],
   "source": [
    "# dirty에 무언가 있다는 것은 DB와 싱크가 안맞는 것 > commit 필요\n",
    "sess.dirty"
   ]
  },
  {
   "cell_type": "code",
   "execution_count": 38,
   "metadata": {},
   "outputs": [
    {
     "name": "stdout",
     "output_type": "stream",
     "text": [
      "2023-09-07 09:35:43,514 INFO sqlalchemy.engine.Engine UPDATE \"USER\" SET \"NAME\"=? WHERE \"USER\".\"PK\" = ?\n",
      "2023-09-07 09:35:43,515 INFO sqlalchemy.engine.Engine [cached since 160.7s ago] ('다른값2', 2)\n",
      "2023-09-07 09:35:43,516 INFO sqlalchemy.engine.Engine COMMIT\n"
     ]
    }
   ],
   "source": [
    "sess.commit()"
   ]
  },
  {
   "cell_type": "code",
   "execution_count": 39,
   "metadata": {},
   "outputs": [
    {
     "name": "stdout",
     "output_type": "stream",
     "text": [
      "2023-09-07 09:35:54,537 INFO sqlalchemy.engine.Engine BEGIN (implicit)\n",
      "2023-09-07 09:35:54,538 INFO sqlalchemy.engine.Engine SELECT \"USER\".\"PK\" AS \"USER_PK\", \"USER\".\"NAME\" AS \"USER_NAME\" \n",
      "FROM \"USER\" \n",
      "WHERE \"USER\".\"PK\" = ?\n",
      "2023-09-07 09:35:54,539 INFO sqlalchemy.engine.Engine [cached since 380.1s ago] (2,)\n"
     ]
    },
    {
     "data": {
      "text/plain": [
       "PK: 2, NAME: 다른값2"
      ]
     },
     "execution_count": 39,
     "metadata": {},
     "output_type": "execute_result"
    }
   ],
   "source": [
    "userList[1]"
   ]
  },
  {
   "cell_type": "code",
   "execution_count": 43,
   "metadata": {},
   "outputs": [
    {
     "data": {
      "text/plain": [
       "True"
      ]
     },
     "execution_count": 43,
     "metadata": {},
     "output_type": "execute_result"
    }
   ],
   "source": [
    "# Python에서 작업하여 값 확인\n",
    "[user for user in userList if user.name == '3'][0] is userList[2]"
   ]
  },
  {
   "cell_type": "code",
   "execution_count": 44,
   "metadata": {},
   "outputs": [
    {
     "name": "stdout",
     "output_type": "stream",
     "text": [
      "2023-09-07 09:39:09,457 INFO sqlalchemy.engine.Engine SELECT \"USER\".\"PK\" AS \"USER_PK\", \"USER\".\"NAME\" AS \"USER_NAME\" \n",
      "FROM \"USER\" \n",
      "WHERE \"USER\".\"NAME\" = ?\n",
      "2023-09-07 09:39:09,458 INFO sqlalchemy.engine.Engine [generated in 0.00088s] ('3',)\n"
     ]
    },
    {
     "data": {
      "text/plain": [
       "True"
      ]
     },
     "execution_count": 44,
     "metadata": {},
     "output_type": "execute_result"
    }
   ],
   "source": [
    "# DB에서 작업하여 값 확인\n",
    "sess.query(User).where(User.name == '3').one() is userList[2]"
   ]
  },
  {
   "cell_type": "code",
   "execution_count": 45,
   "metadata": {},
   "outputs": [],
   "source": [
    "class Address(base):\n",
    "    __tablename__ = 'ADDRESS'\n",
    "    pk = Column('PK', Integer, primary_key= True)\n",
    "    name = Column('NAME', Text)\n",
    "    fk = Column('FK', None, ForeignKey('USER.PK'))\n",
    "\n",
    "    # representaion\n",
    "    def __repr__(self):\n",
    "        return f'PK: {self.pk}, NAME: {self.name}, FK: {self.fk}'"
   ]
  },
  {
   "cell_type": "code",
   "execution_count": 46,
   "metadata": {},
   "outputs": [
    {
     "name": "stdout",
     "output_type": "stream",
     "text": [
      "2023-09-07 09:45:11,211 INFO sqlalchemy.engine.Engine BEGIN (implicit)\n",
      "2023-09-07 09:45:11,212 INFO sqlalchemy.engine.Engine PRAGMA main.table_info(\"USER\")\n",
      "2023-09-07 09:45:11,214 INFO sqlalchemy.engine.Engine [raw sql] ()\n",
      "2023-09-07 09:45:11,215 INFO sqlalchemy.engine.Engine PRAGMA main.table_info(\"ADDRESS\")\n",
      "2023-09-07 09:45:11,216 INFO sqlalchemy.engine.Engine [raw sql] ()\n",
      "2023-09-07 09:45:11,217 INFO sqlalchemy.engine.Engine PRAGMA temp.table_info(\"ADDRESS\")\n",
      "2023-09-07 09:45:11,217 INFO sqlalchemy.engine.Engine [raw sql] ()\n",
      "2023-09-07 09:45:11,219 INFO sqlalchemy.engine.Engine \n",
      "CREATE TABLE \"ADDRESS\" (\n",
      "\t\"PK\" INTEGER NOT NULL, \n",
      "\t\"NAME\" TEXT, \n",
      "\t\"FK\" INTEGER, \n",
      "\tPRIMARY KEY (\"PK\"), \n",
      "\tFOREIGN KEY(\"FK\") REFERENCES \"USER\" (\"PK\")\n",
      ")\n",
      "\n",
      "\n",
      "2023-09-07 09:45:11,220 INFO sqlalchemy.engine.Engine [no key 0.00096s] ()\n",
      "2023-09-07 09:45:11,221 INFO sqlalchemy.engine.Engine COMMIT\n"
     ]
    }
   ],
   "source": [
    "# 클래스 등록\n",
    "base.metadata.create_all(engine)"
   ]
  },
  {
   "cell_type": "code",
   "execution_count": 47,
   "metadata": {},
   "outputs": [],
   "source": [
    "sess.add(Address(name = '주소1', fk = user1.pk))"
   ]
  },
  {
   "cell_type": "code",
   "execution_count": 48,
   "metadata": {},
   "outputs": [
    {
     "name": "stdout",
     "output_type": "stream",
     "text": [
      "2023-09-07 09:45:57,957 INFO sqlalchemy.engine.Engine INSERT INTO \"ADDRESS\" (\"NAME\", \"FK\") VALUES (?, ?)\n",
      "2023-09-07 09:45:57,958 INFO sqlalchemy.engine.Engine [generated in 0.00143s] ('주소1', 1)\n",
      "2023-09-07 09:45:57,961 INFO sqlalchemy.engine.Engine COMMIT\n"
     ]
    }
   ],
   "source": [
    "sess.commit()"
   ]
  },
  {
   "cell_type": "code",
   "execution_count": 51,
   "metadata": {},
   "outputs": [
    {
     "name": "stdout",
     "output_type": "stream",
     "text": [
      "2023-09-07 09:47:20,118 INFO sqlalchemy.engine.Engine SELECT \"ADDRESS\".\"PK\" AS \"ADDRESS_PK\", \"ADDRESS\".\"NAME\" AS \"ADDRESS_NAME\", \"ADDRESS\".\"FK\" AS \"ADDRESS_FK\" \n",
      "FROM \"ADDRESS\"\n",
      "2023-09-07 09:47:20,118 INFO sqlalchemy.engine.Engine [cached since 71.37s ago] ()\n"
     ]
    }
   ],
   "source": [
    "address1 = sess.query(Address).one()"
   ]
  },
  {
   "cell_type": "code",
   "execution_count": 53,
   "metadata": {},
   "outputs": [
    {
     "name": "stdout",
     "output_type": "stream",
     "text": [
      "PK: 1, NAME: 다른값 PK: 1, NAME: 주소1, FK: 1\n"
     ]
    }
   ],
   "source": [
    "for user in userList:\n",
    "    if user.pk == address1.fk:\n",
    "        print(user, address1)"
   ]
  },
  {
   "cell_type": "code",
   "execution_count": 92,
   "metadata": {},
   "outputs": [],
   "source": [
    "# 초기화\n",
    "engine.dispose()\n",
    "base.metadata.clear()\n",
    "base.registry.dispose()"
   ]
  },
  {
   "cell_type": "code",
   "execution_count": 93,
   "metadata": {},
   "outputs": [],
   "source": [
    "# CITY, SUPPLIER, PART, SELLS => ORM으로 만들기\n",
    "base = declarative_base()"
   ]
  },
  {
   "cell_type": "code",
   "execution_count": 94,
   "metadata": {},
   "outputs": [],
   "source": [
    "base.metadata.tables\n",
    "engine = create_engine('sqlite:///:memory:', echo = True)"
   ]
  },
  {
   "cell_type": "code",
   "execution_count": 95,
   "metadata": {},
   "outputs": [],
   "source": [
    "class CITY(base):    \n",
    "    __tablename__ = 'CITY'\n",
    "    cno = Column('CNO', Integer, primary_key= True)\n",
    "    cname = Column('CNAME', Text)\n",
    "\n",
    "    def __repr__(self):\n",
    "        return f'CNO: {self.cno}, CNAME: {self.cname}'\n",
    "\n",
    "class SUPPLIER(base):    \n",
    "    __tablename__ = 'SUPPLIER'\n",
    "    sno = Column('SNO', Integer, primary_key= True)\n",
    "    sname = Column('SNAME', Text)\n",
    "    cno = Column('CNO', Integer, nullable= False) # ForeignKey('CIIY.CNO')\n",
    "\n",
    "    def __repr__(self):\n",
    "        return f'SNO: {self.sno}, SNAME: {self.sname}, CNO: {self.cno}'\n",
    "        \n",
    "class PART(base):    \n",
    "    __tablename__ = 'PART'\n",
    "    pno = Column('PNO', Integer, primary_key= True)\n",
    "    pname = Column('PNAME', Text)\n",
    "\n",
    "    def __repr__(self):\n",
    "        return f'PNO: {self.pno}, PNAME: {self.pname}'\n",
    "    \n",
    "class SELLS(base):    \n",
    "    __tablename__ = 'SELLS'\n",
    "    sno = Column('SNO', Integer, primary_key= True)  # ForeignKey('SUPPLIER.SNO')\n",
    "    pno = Column('PNO', Integer, nullable=False) # ForeignKey('PART.PNO')\n",
    "    price = Column('PRICE', Integer, nullable=False)\n",
    "\n",
    "    def __repr__(self):\n",
    "        return f'SNO: {self.sno}, PNO: {self.pno}, price: {self.price}'    \n",
    "                "
   ]
  },
  {
   "cell_type": "code",
   "execution_count": 96,
   "metadata": {},
   "outputs": [
    {
     "name": "stdout",
     "output_type": "stream",
     "text": [
      "2023-09-07 10:16:55,339 INFO sqlalchemy.engine.Engine BEGIN (implicit)\n",
      "2023-09-07 10:16:55,340 INFO sqlalchemy.engine.Engine PRAGMA main.table_info(\"CITY\")\n",
      "2023-09-07 10:16:55,340 INFO sqlalchemy.engine.Engine [raw sql] ()\n",
      "2023-09-07 10:16:55,340 INFO sqlalchemy.engine.Engine PRAGMA temp.table_info(\"CITY\")\n",
      "2023-09-07 10:16:55,341 INFO sqlalchemy.engine.Engine [raw sql] ()\n",
      "2023-09-07 10:16:55,342 INFO sqlalchemy.engine.Engine PRAGMA main.table_info(\"SUPPLIER\")\n",
      "2023-09-07 10:16:55,343 INFO sqlalchemy.engine.Engine [raw sql] ()\n",
      "2023-09-07 10:16:55,344 INFO sqlalchemy.engine.Engine PRAGMA temp.table_info(\"SUPPLIER\")\n",
      "2023-09-07 10:16:55,345 INFO sqlalchemy.engine.Engine [raw sql] ()\n",
      "2023-09-07 10:16:55,346 INFO sqlalchemy.engine.Engine PRAGMA main.table_info(\"PART\")\n",
      "2023-09-07 10:16:55,347 INFO sqlalchemy.engine.Engine [raw sql] ()\n",
      "2023-09-07 10:16:55,348 INFO sqlalchemy.engine.Engine PRAGMA temp.table_info(\"PART\")\n",
      "2023-09-07 10:16:55,349 INFO sqlalchemy.engine.Engine [raw sql] ()\n",
      "2023-09-07 10:16:55,350 INFO sqlalchemy.engine.Engine PRAGMA main.table_info(\"SELLS\")\n",
      "2023-09-07 10:16:55,350 INFO sqlalchemy.engine.Engine [raw sql] ()\n",
      "2023-09-07 10:16:55,351 INFO sqlalchemy.engine.Engine PRAGMA temp.table_info(\"SELLS\")\n",
      "2023-09-07 10:16:55,351 INFO sqlalchemy.engine.Engine [raw sql] ()\n",
      "2023-09-07 10:16:55,352 INFO sqlalchemy.engine.Engine \n",
      "CREATE TABLE \"CITY\" (\n",
      "\t\"CNO\" INTEGER NOT NULL, \n",
      "\t\"CNAME\" TEXT, \n",
      "\tPRIMARY KEY (\"CNO\")\n",
      ")\n",
      "\n",
      "\n",
      "2023-09-07 10:16:55,354 INFO sqlalchemy.engine.Engine [no key 0.00068s] ()\n",
      "2023-09-07 10:16:55,355 INFO sqlalchemy.engine.Engine \n",
      "CREATE TABLE \"SUPPLIER\" (\n",
      "\t\"SNO\" INTEGER NOT NULL, \n",
      "\t\"SNAME\" TEXT, \n",
      "\t\"CNO\" INTEGER NOT NULL, \n",
      "\tPRIMARY KEY (\"SNO\")\n",
      ")\n",
      "\n",
      "\n",
      "2023-09-07 10:16:55,356 INFO sqlalchemy.engine.Engine [no key 0.00059s] ()\n",
      "2023-09-07 10:16:55,357 INFO sqlalchemy.engine.Engine \n",
      "CREATE TABLE \"PART\" (\n",
      "\t\"PNO\" INTEGER NOT NULL, \n",
      "\t\"PNAME\" TEXT, \n",
      "\tPRIMARY KEY (\"PNO\")\n",
      ")\n",
      "\n",
      "\n",
      "2023-09-07 10:16:55,357 INFO sqlalchemy.engine.Engine [no key 0.00042s] ()\n",
      "2023-09-07 10:16:55,358 INFO sqlalchemy.engine.Engine \n",
      "CREATE TABLE \"SELLS\" (\n",
      "\t\"SNO\" INTEGER NOT NULL, \n",
      "\t\"PNO\" INTEGER NOT NULL, \n",
      "\t\"PRICE\" INTEGER NOT NULL, \n",
      "\tPRIMARY KEY (\"SNO\")\n",
      ")\n",
      "\n",
      "\n",
      "2023-09-07 10:16:55,359 INFO sqlalchemy.engine.Engine [no key 0.00063s] ()\n",
      "2023-09-07 10:16:55,359 INFO sqlalchemy.engine.Engine COMMIT\n"
     ]
    }
   ],
   "source": [
    "base.metadata.create_all(engine)"
   ]
  },
  {
   "cell_type": "code",
   "execution_count": 97,
   "metadata": {},
   "outputs": [],
   "source": [
    "Session = sessionmaker(engine)\n",
    "sess = Session()"
   ]
  },
  {
   "cell_type": "code",
   "execution_count": 98,
   "metadata": {},
   "outputs": [],
   "source": [
    "sess.add_all([CITY(cname = 'London'), CITY(cname = 'Paris'), CITY(cname = 'Rome'), CITY(cname = 'Vienna')])\n"
   ]
  },
  {
   "cell_type": "code",
   "execution_count": 99,
   "metadata": {},
   "outputs": [
    {
     "name": "stdout",
     "output_type": "stream",
     "text": [
      "2023-09-07 10:16:59,290 INFO sqlalchemy.engine.Engine BEGIN (implicit)\n",
      "2023-09-07 10:16:59,291 INFO sqlalchemy.engine.Engine INSERT INTO \"CITY\" (\"CNAME\") VALUES (?) RETURNING \"CNO\"\n",
      "2023-09-07 10:16:59,292 INFO sqlalchemy.engine.Engine [generated in 0.00008s (insertmanyvalues) 1/4 (ordered; batch not supported)] ('London',)\n",
      "2023-09-07 10:16:59,293 INFO sqlalchemy.engine.Engine INSERT INTO \"CITY\" (\"CNAME\") VALUES (?) RETURNING \"CNO\"\n",
      "2023-09-07 10:16:59,293 INFO sqlalchemy.engine.Engine [insertmanyvalues 2/4 (ordered; batch not supported)] ('Paris',)\n",
      "2023-09-07 10:16:59,294 INFO sqlalchemy.engine.Engine INSERT INTO \"CITY\" (\"CNAME\") VALUES (?) RETURNING \"CNO\"\n",
      "2023-09-07 10:16:59,295 INFO sqlalchemy.engine.Engine [insertmanyvalues 3/4 (ordered; batch not supported)] ('Rome',)\n",
      "2023-09-07 10:16:59,296 INFO sqlalchemy.engine.Engine INSERT INTO \"CITY\" (\"CNAME\") VALUES (?) RETURNING \"CNO\"\n",
      "2023-09-07 10:16:59,297 INFO sqlalchemy.engine.Engine [insertmanyvalues 4/4 (ordered; batch not supported)] ('Vienna',)\n",
      "2023-09-07 10:16:59,299 INFO sqlalchemy.engine.Engine COMMIT\n"
     ]
    }
   ],
   "source": [
    "sess.commit()"
   ]
  },
  {
   "cell_type": "code",
   "execution_count": 100,
   "metadata": {},
   "outputs": [
    {
     "name": "stdout",
     "output_type": "stream",
     "text": [
      "2023-09-07 10:17:01,036 INFO sqlalchemy.engine.Engine BEGIN (implicit)\n",
      "2023-09-07 10:17:01,038 INFO sqlalchemy.engine.Engine SELECT \"CITY\".\"CNO\" AS \"CITY_CNO\", \"CITY\".\"CNAME\" AS \"CITY_CNAME\" \n",
      "FROM \"CITY\"\n",
      "2023-09-07 10:17:01,039 INFO sqlalchemy.engine.Engine [generated in 0.00053s] ()\n"
     ]
    },
    {
     "data": {
      "text/plain": [
       "[CNO: 1, CNAME: London,\n",
       " CNO: 2, CNAME: Paris,\n",
       " CNO: 3, CNAME: Rome,\n",
       " CNO: 4, CNAME: Vienna]"
      ]
     },
     "execution_count": 100,
     "metadata": {},
     "output_type": "execute_result"
    }
   ],
   "source": [
    "sess.query(CITY).all()"
   ]
  },
  {
   "cell_type": "code",
   "execution_count": 101,
   "metadata": {},
   "outputs": [
    {
     "name": "stdout",
     "output_type": "stream",
     "text": [
      "2023-09-07 10:17:02,463 INFO sqlalchemy.engine.Engine INSERT INTO \"SUPPLIER\" (\"SNAME\", \"CNO\") VALUES (?, ?) RETURNING \"SNO\"\n",
      "2023-09-07 10:17:02,464 INFO sqlalchemy.engine.Engine [generated in 0.00009s (insertmanyvalues) 1/4 (ordered; batch not supported)] ('Smith', 1)\n",
      "2023-09-07 10:17:02,465 INFO sqlalchemy.engine.Engine INSERT INTO \"SUPPLIER\" (\"SNAME\", \"CNO\") VALUES (?, ?) RETURNING \"SNO\"\n",
      "2023-09-07 10:17:02,466 INFO sqlalchemy.engine.Engine [insertmanyvalues 2/4 (ordered; batch not supported)] ('Jones', 2)\n",
      "2023-09-07 10:17:02,466 INFO sqlalchemy.engine.Engine INSERT INTO \"SUPPLIER\" (\"SNAME\", \"CNO\") VALUES (?, ?) RETURNING \"SNO\"\n",
      "2023-09-07 10:17:02,467 INFO sqlalchemy.engine.Engine [insertmanyvalues 3/4 (ordered; batch not supported)] ('Adams', 1)\n",
      "2023-09-07 10:17:02,467 INFO sqlalchemy.engine.Engine INSERT INTO \"SUPPLIER\" (\"SNAME\", \"CNO\") VALUES (?, ?) RETURNING \"SNO\"\n",
      "2023-09-07 10:17:02,468 INFO sqlalchemy.engine.Engine [insertmanyvalues 4/4 (ordered; batch not supported)] ('Blake', 3)\n",
      "2023-09-07 10:17:02,472 INFO sqlalchemy.engine.Engine COMMIT\n",
      "2023-09-07 10:17:02,472 INFO sqlalchemy.engine.Engine BEGIN (implicit)\n",
      "2023-09-07 10:17:02,474 INFO sqlalchemy.engine.Engine SELECT \"SUPPLIER\".\"SNO\" AS \"SUPPLIER_SNO\", \"SUPPLIER\".\"SNAME\" AS \"SUPPLIER_SNAME\", \"SUPPLIER\".\"CNO\" AS \"SUPPLIER_CNO\" \n",
      "FROM \"SUPPLIER\"\n",
      "2023-09-07 10:17:02,475 INFO sqlalchemy.engine.Engine [generated in 0.00126s] ()\n"
     ]
    },
    {
     "data": {
      "text/plain": [
       "[SNO: 1, SNAME: Smith, CNO: 1,\n",
       " SNO: 2, SNAME: Jones, CNO: 2,\n",
       " SNO: 3, SNAME: Adams, CNO: 1,\n",
       " SNO: 4, SNAME: Blake, CNO: 3]"
      ]
     },
     "execution_count": 101,
     "metadata": {},
     "output_type": "execute_result"
    }
   ],
   "source": [
    "sess.add_all([SUPPLIER(sname = 'Smith', cno = 1),\\\n",
    "              SUPPLIER(sname = 'Jones', cno = 2),\\\n",
    "              SUPPLIER(sname = 'Adams', cno = 1),\\\n",
    "              SUPPLIER(sname = 'Blake', cno = 3)])\n",
    "sess.commit()\n",
    "sess.query(SUPPLIER).all()"
   ]
  },
  {
   "cell_type": "code",
   "execution_count": 102,
   "metadata": {},
   "outputs": [
    {
     "name": "stdout",
     "output_type": "stream",
     "text": [
      "2023-09-07 10:17:03,848 INFO sqlalchemy.engine.Engine INSERT INTO \"PART\" (\"PNAME\") VALUES (?) RETURNING \"PNO\"\n",
      "2023-09-07 10:17:03,849 INFO sqlalchemy.engine.Engine [generated in 0.00009s (insertmanyvalues) 1/4 (ordered; batch not supported)] ('Screw',)\n",
      "2023-09-07 10:17:03,850 INFO sqlalchemy.engine.Engine INSERT INTO \"PART\" (\"PNAME\") VALUES (?) RETURNING \"PNO\"\n",
      "2023-09-07 10:17:03,851 INFO sqlalchemy.engine.Engine [insertmanyvalues 2/4 (ordered; batch not supported)] ('Nut',)\n",
      "2023-09-07 10:17:03,852 INFO sqlalchemy.engine.Engine INSERT INTO \"PART\" (\"PNAME\") VALUES (?) RETURNING \"PNO\"\n",
      "2023-09-07 10:17:03,852 INFO sqlalchemy.engine.Engine [insertmanyvalues 3/4 (ordered; batch not supported)] ('Bolt',)\n",
      "2023-09-07 10:17:03,854 INFO sqlalchemy.engine.Engine INSERT INTO \"PART\" (\"PNAME\") VALUES (?) RETURNING \"PNO\"\n",
      "2023-09-07 10:17:03,854 INFO sqlalchemy.engine.Engine [insertmanyvalues 4/4 (ordered; batch not supported)] ('Cam',)\n",
      "2023-09-07 10:17:03,856 INFO sqlalchemy.engine.Engine COMMIT\n",
      "2023-09-07 10:17:03,859 INFO sqlalchemy.engine.Engine BEGIN (implicit)\n",
      "2023-09-07 10:17:03,860 INFO sqlalchemy.engine.Engine SELECT \"PART\".\"PNO\" AS \"PART_PNO\", \"PART\".\"PNAME\" AS \"PART_PNAME\" \n",
      "FROM \"PART\"\n",
      "2023-09-07 10:17:03,860 INFO sqlalchemy.engine.Engine [generated in 0.00077s] ()\n"
     ]
    },
    {
     "data": {
      "text/plain": [
       "[PNO: 1, PNAME: Screw,\n",
       " PNO: 2, PNAME: Nut,\n",
       " PNO: 3, PNAME: Bolt,\n",
       " PNO: 4, PNAME: Cam]"
      ]
     },
     "execution_count": 102,
     "metadata": {},
     "output_type": "execute_result"
    }
   ],
   "source": [
    "sess.add_all([PART(pname = 'Screw'),\\\n",
    "              PART(pname = 'Nut'),\\\n",
    "              PART(pname = 'Bolt'),\\\n",
    "              PART(pname = 'Cam')])\n",
    "sess.commit()\n",
    "sess.query(PART).all()"
   ]
  },
  {
   "cell_type": "code",
   "execution_count": 103,
   "metadata": {},
   "outputs": [
    {
     "name": "stdout",
     "output_type": "stream",
     "text": [
      "2023-09-07 10:17:05,501 INFO sqlalchemy.engine.Engine INSERT INTO \"SELLS\" (\"PNO\", \"PRICE\") VALUES (?, ?) RETURNING \"SNO\"\n",
      "2023-09-07 10:17:05,502 INFO sqlalchemy.engine.Engine [generated in 0.00009s (insertmanyvalues) 1/8 (ordered; batch not supported)] (1, 10)\n",
      "2023-09-07 10:17:05,503 INFO sqlalchemy.engine.Engine INSERT INTO \"SELLS\" (\"PNO\", \"PRICE\") VALUES (?, ?) RETURNING \"SNO\"\n",
      "2023-09-07 10:17:05,504 INFO sqlalchemy.engine.Engine [insertmanyvalues 2/8 (ordered; batch not supported)] (2, 8)\n",
      "2023-09-07 10:17:05,505 INFO sqlalchemy.engine.Engine INSERT INTO \"SELLS\" (\"PNO\", \"PRICE\") VALUES (?, ?) RETURNING \"SNO\"\n",
      "2023-09-07 10:17:05,505 INFO sqlalchemy.engine.Engine [insertmanyvalues 3/8 (ordered; batch not supported)] (4, 38)\n",
      "2023-09-07 10:17:05,507 INFO sqlalchemy.engine.Engine INSERT INTO \"SELLS\" (\"PNO\", \"PRICE\") VALUES (?, ?) RETURNING \"SNO\"\n",
      "2023-09-07 10:17:05,508 INFO sqlalchemy.engine.Engine [insertmanyvalues 4/8 (ordered; batch not supported)] (1, 11)\n",
      "2023-09-07 10:17:05,509 INFO sqlalchemy.engine.Engine INSERT INTO \"SELLS\" (\"PNO\", \"PRICE\") VALUES (?, ?) RETURNING \"SNO\"\n",
      "2023-09-07 10:17:05,509 INFO sqlalchemy.engine.Engine [insertmanyvalues 5/8 (ordered; batch not supported)] (3, 6)\n",
      "2023-09-07 10:17:05,510 INFO sqlalchemy.engine.Engine INSERT INTO \"SELLS\" (\"PNO\", \"PRICE\") VALUES (?, ?) RETURNING \"SNO\"\n",
      "2023-09-07 10:17:05,510 INFO sqlalchemy.engine.Engine [insertmanyvalues 6/8 (ordered; batch not supported)] (2, 7)\n",
      "2023-09-07 10:17:05,511 INFO sqlalchemy.engine.Engine INSERT INTO \"SELLS\" (\"PNO\", \"PRICE\") VALUES (?, ?) RETURNING \"SNO\"\n",
      "2023-09-07 10:17:05,511 INFO sqlalchemy.engine.Engine [insertmanyvalues 7/8 (ordered; batch not supported)] (3, 4)\n",
      "2023-09-07 10:17:05,512 INFO sqlalchemy.engine.Engine INSERT INTO \"SELLS\" (\"PNO\", \"PRICE\") VALUES (?, ?) RETURNING \"SNO\"\n",
      "2023-09-07 10:17:05,512 INFO sqlalchemy.engine.Engine [insertmanyvalues 8/8 (ordered; batch not supported)] (4, 45)\n",
      "2023-09-07 10:17:05,514 INFO sqlalchemy.engine.Engine COMMIT\n",
      "2023-09-07 10:17:05,515 INFO sqlalchemy.engine.Engine BEGIN (implicit)\n",
      "2023-09-07 10:17:05,516 INFO sqlalchemy.engine.Engine SELECT \"SELLS\".\"SNO\" AS \"SELLS_SNO\", \"SELLS\".\"PNO\" AS \"SELLS_PNO\", \"SELLS\".\"PRICE\" AS \"SELLS_PRICE\" \n",
      "FROM \"SELLS\"\n",
      "2023-09-07 10:17:05,517 INFO sqlalchemy.engine.Engine [generated in 0.00054s] ()\n"
     ]
    },
    {
     "data": {
      "text/plain": [
       "[SNO: 1, PNO: 1, price: 10,\n",
       " SNO: 2, PNO: 2, price: 8,\n",
       " SNO: 3, PNO: 4, price: 38,\n",
       " SNO: 4, PNO: 1, price: 11,\n",
       " SNO: 5, PNO: 3, price: 6,\n",
       " SNO: 6, PNO: 2, price: 7,\n",
       " SNO: 7, PNO: 3, price: 4,\n",
       " SNO: 8, PNO: 4, price: 45]"
      ]
     },
     "execution_count": 103,
     "metadata": {},
     "output_type": "execute_result"
    }
   ],
   "source": [
    "sess.add_all([SELLS(pno = 1, price = 10),\\\n",
    "              SELLS(pno = 2, price = 8),\\\n",
    "              SELLS(pno = 4, price = 38),\\\n",
    "              SELLS(pno = 1, price = 11),\\\n",
    "              SELLS(pno = 3, price = 6),\\\n",
    "              SELLS(pno = 2, price = 7),\\\n",
    "              SELLS(pno = 3, price = 4),\\\n",
    "              SELLS(pno = 4, price = 45)])\n",
    "sess.commit()\n",
    "sess.query(SELLS).all()"
   ]
  },
  {
   "cell_type": "code",
   "execution_count": 109,
   "metadata": {},
   "outputs": [
    {
     "name": "stdout",
     "output_type": "stream",
     "text": [
      "2023-09-07 10:25:14,061 INFO sqlalchemy.engine.Engine SELECT \"CITY\".\"CNO\" AS \"CITY_CNO\", \"CITY\".\"CNAME\" AS \"CITY_CNAME\" \n",
      "FROM \"CITY\" \n",
      "WHERE \"CITY\".\"CNO\" = ?\n",
      "2023-09-07 10:25:14,061 INFO sqlalchemy.engine.Engine [cached since 16.38s ago] (1,)\n"
     ]
    }
   ],
   "source": [
    "cno = sess.query(CITY).where(CITY.cno == 1).one().cno"
   ]
  },
  {
   "cell_type": "code",
   "execution_count": 105,
   "metadata": {},
   "outputs": [
    {
     "name": "stdout",
     "output_type": "stream",
     "text": [
      "2023-09-07 10:20:34,258 INFO sqlalchemy.engine.Engine SELECT \"SUPPLIER\".\"SNO\" AS \"SUPPLIER_SNO\", \"SUPPLIER\".\"SNAME\" AS \"SUPPLIER_SNAME\", \"SUPPLIER\".\"CNO\" AS \"SUPPLIER_CNO\" \n",
      "FROM \"SUPPLIER\" \n",
      "WHERE \"SUPPLIER\".\"SNAME\" = ?\n",
      "2023-09-07 10:20:34,258 INFO sqlalchemy.engine.Engine [generated in 0.00101s] ('Smith',)\n"
     ]
    },
    {
     "data": {
      "text/plain": [
       "SNO: 1, SNAME: Smith, CNO: 1"
      ]
     },
     "execution_count": 105,
     "metadata": {},
     "output_type": "execute_result"
    }
   ],
   "source": [
    "sess.query(SUPPLIER).filter(SUPPLIER.sname == 'Smith').one()"
   ]
  },
  {
   "cell_type": "code",
   "execution_count": null,
   "metadata": {},
   "outputs": [],
   "source": [
    "base.metadata.create_all(engine)"
   ]
  },
  {
   "cell_type": "code",
   "execution_count": 127,
   "metadata": {},
   "outputs": [],
   "source": [
    "from sqlalchemy.orm import relationship\n",
    "\n",
    "engine.dispose()\n",
    "base.metadata.clear()\n",
    "base.registry.dispose()"
   ]
  },
  {
   "cell_type": "code",
   "execution_count": 130,
   "metadata": {},
   "outputs": [
    {
     "name": "stderr",
     "output_type": "stream",
     "text": [
      "C:\\Users\\GyeongJun\\AppData\\Local\\Temp\\ipykernel_1192\\2633134379.py:1: SAWarning: This declarative base already contains a class with the same class name and module name as __main__.CITY, and will be replaced in the string-lookup table.\n",
      "  class CITY(base):\n",
      "C:\\Users\\GyeongJun\\AppData\\Local\\Temp\\ipykernel_1192\\2633134379.py:11: SAWarning: This declarative base already contains a class with the same class name and module name as __main__.SUPPLIER, and will be replaced in the string-lookup table.\n",
      "  class SUPPLIER(base):\n",
      "C:\\Users\\GyeongJun\\AppData\\Local\\Temp\\ipykernel_1192\\2633134379.py:21: SAWarning: This declarative base already contains a class with the same class name and module name as __main__.PART, and will be replaced in the string-lookup table.\n",
      "  class PART(base):\n",
      "C:\\Users\\GyeongJun\\AppData\\Local\\Temp\\ipykernel_1192\\2633134379.py:30: SAWarning: This declarative base already contains a class with the same class name and module name as __main__.SELLS, and will be replaced in the string-lookup table.\n",
      "  class SELLS(base):\n"
     ]
    }
   ],
   "source": [
    "class CITY(base):    \n",
    "    __tablename__ = 'CITY'\n",
    "    __table_args__ = {'extend_existing': True}\n",
    "    cno = Column('CNO', Integer, primary_key= True)\n",
    "    cname = Column('CNAME', Text)\n",
    "    #nodes = relationship('SUPPLIER', back_populates='CITY', uselist = True)\n",
    "\n",
    "    def __repr__(self):\n",
    "        return f'CNO: {self.cno}, CNAME: {self.cname}'\n",
    "\n",
    "class SUPPLIER(base):    \n",
    "    __tablename__ = 'SUPPLIER'\n",
    "    __table_args__ = {'extend_existing': True}\n",
    "    sno = Column('SNO', Integer, primary_key= True)\n",
    "    sname = Column('SNAME', Text)\n",
    "    cno = Column('CNO', Integer, ForeignKey('CITY.CNO'))\n",
    "\n",
    "    def __repr__(self):\n",
    "        return f'SNO: {self.sno}, SNAME: {self.sname}, CNO: {self.cno}'\n",
    "        \n",
    "class PART(base):    \n",
    "    __tablename__ = 'PART'\n",
    "    __table_args__ = {'extend_existing': True}\n",
    "    pno = Column('PNO', Integer, primary_key= True)\n",
    "    pname = Column('PNAME', Text)\n",
    "\n",
    "    def __repr__(self):\n",
    "        return f'PNO: {self.pno}, PNAME: {self.pname}'\n",
    "    \n",
    "class SELLS(base):    \n",
    "    __tablename__ = 'SELLS'\n",
    "    __table_args__ = {'extend_existing': True}\n",
    "    pk = Column('PK', Integer, primary_key = True)\n",
    "    sno = Column('SNO', Integer, ForeignKey('SUPPLIER.SNO'))\n",
    "    pno = Column('PNO', Integer, ForeignKey('PART.PNO'))\n",
    "    price = Column('PRICE', Integer, nullable=False)\n",
    "\n",
    "    def __repr__(self):\n",
    "        return f'PK: {self.pk}, SNO: {self.sno}, PNO: {self.pno}, price: {self.price}'    \n",
    "                "
   ]
  },
  {
   "cell_type": "code",
   "execution_count": 131,
   "metadata": {},
   "outputs": [
    {
     "name": "stdout",
     "output_type": "stream",
     "text": [
      "2023-09-07 10:44:14,341 INFO sqlalchemy.engine.Engine BEGIN (implicit)\n",
      "2023-09-07 10:44:14,342 INFO sqlalchemy.engine.Engine PRAGMA main.table_info(\"CITY\")\n",
      "2023-09-07 10:44:14,343 INFO sqlalchemy.engine.Engine [raw sql] ()\n",
      "2023-09-07 10:44:14,345 INFO sqlalchemy.engine.Engine PRAGMA temp.table_info(\"CITY\")\n",
      "2023-09-07 10:44:14,346 INFO sqlalchemy.engine.Engine [raw sql] ()\n",
      "2023-09-07 10:44:14,347 INFO sqlalchemy.engine.Engine PRAGMA main.table_info(\"SUPPLIER\")\n",
      "2023-09-07 10:44:14,347 INFO sqlalchemy.engine.Engine [raw sql] ()\n",
      "2023-09-07 10:44:14,349 INFO sqlalchemy.engine.Engine PRAGMA temp.table_info(\"SUPPLIER\")\n",
      "2023-09-07 10:44:14,349 INFO sqlalchemy.engine.Engine [raw sql] ()\n",
      "2023-09-07 10:44:14,350 INFO sqlalchemy.engine.Engine PRAGMA main.table_info(\"PART\")\n",
      "2023-09-07 10:44:14,350 INFO sqlalchemy.engine.Engine [raw sql] ()\n",
      "2023-09-07 10:44:14,350 INFO sqlalchemy.engine.Engine PRAGMA temp.table_info(\"PART\")\n",
      "2023-09-07 10:44:14,351 INFO sqlalchemy.engine.Engine [raw sql] ()\n",
      "2023-09-07 10:44:14,351 INFO sqlalchemy.engine.Engine PRAGMA main.table_info(\"SELLS\")\n",
      "2023-09-07 10:44:14,352 INFO sqlalchemy.engine.Engine [raw sql] ()\n",
      "2023-09-07 10:44:14,353 INFO sqlalchemy.engine.Engine PRAGMA temp.table_info(\"SELLS\")\n",
      "2023-09-07 10:44:14,354 INFO sqlalchemy.engine.Engine [raw sql] ()\n",
      "2023-09-07 10:44:14,357 INFO sqlalchemy.engine.Engine \n",
      "CREATE TABLE \"CITY\" (\n",
      "\t\"CNO\" INTEGER NOT NULL, \n",
      "\t\"CNAME\" TEXT, \n",
      "\tPRIMARY KEY (\"CNO\")\n",
      ")\n",
      "\n",
      "\n",
      "2023-09-07 10:44:14,357 INFO sqlalchemy.engine.Engine [no key 0.00076s] ()\n",
      "2023-09-07 10:44:14,359 INFO sqlalchemy.engine.Engine \n",
      "CREATE TABLE \"PART\" (\n",
      "\t\"PNO\" INTEGER NOT NULL, \n",
      "\t\"PNAME\" TEXT, \n",
      "\tPRIMARY KEY (\"PNO\")\n",
      ")\n",
      "\n",
      "\n",
      "2023-09-07 10:44:14,360 INFO sqlalchemy.engine.Engine [no key 0.00055s] ()\n",
      "2023-09-07 10:44:14,361 INFO sqlalchemy.engine.Engine \n",
      "CREATE TABLE \"SUPPLIER\" (\n",
      "\t\"SNO\" INTEGER NOT NULL, \n",
      "\t\"SNAME\" TEXT, \n",
      "\t\"CNO\" INTEGER, \n",
      "\tPRIMARY KEY (\"SNO\"), \n",
      "\tFOREIGN KEY(\"CNO\") REFERENCES \"CITY\" (\"CNO\")\n",
      ")\n",
      "\n",
      "\n",
      "2023-09-07 10:44:14,361 INFO sqlalchemy.engine.Engine [no key 0.00052s] ()\n",
      "2023-09-07 10:44:14,362 INFO sqlalchemy.engine.Engine \n",
      "CREATE TABLE \"SELLS\" (\n",
      "\t\"PK\" INTEGER NOT NULL, \n",
      "\t\"SNO\" INTEGER, \n",
      "\t\"PNO\" INTEGER, \n",
      "\t\"PRICE\" INTEGER NOT NULL, \n",
      "\tPRIMARY KEY (\"PK\"), \n",
      "\tFOREIGN KEY(\"SNO\") REFERENCES \"SUPPLIER\" (\"SNO\"), \n",
      "\tFOREIGN KEY(\"PNO\") REFERENCES \"PART\" (\"PNO\")\n",
      ")\n",
      "\n",
      "\n",
      "2023-09-07 10:44:14,363 INFO sqlalchemy.engine.Engine [no key 0.00059s] ()\n",
      "2023-09-07 10:44:14,364 INFO sqlalchemy.engine.Engine COMMIT\n"
     ]
    }
   ],
   "source": [
    "base.metadata.create_all(engine)"
   ]
  },
  {
   "cell_type": "code",
   "execution_count": 132,
   "metadata": {},
   "outputs": [
    {
     "data": {
      "text/plain": [
       "FacadeDict({'CITY': Table('CITY', MetaData(), Column('CNO', Integer(), table=<CITY>, primary_key=True, nullable=False), Column('CNAME', Text(), table=<CITY>), schema=None), 'SUPPLIER': Table('SUPPLIER', MetaData(), Column('SNO', Integer(), table=<SUPPLIER>, primary_key=True, nullable=False), Column('SNAME', Text(), table=<SUPPLIER>), Column('CNO', Integer(), ForeignKey('CITY.CNO'), table=<SUPPLIER>), schema=None), 'PART': Table('PART', MetaData(), Column('PNO', Integer(), table=<PART>, primary_key=True, nullable=False), Column('PNAME', Text(), table=<PART>), schema=None), 'SELLS': Table('SELLS', MetaData(), Column('PK', Integer(), table=<SELLS>, primary_key=True, nullable=False), Column('SNO', Integer(), ForeignKey('SUPPLIER.SNO'), table=<SELLS>), Column('PNO', Integer(), ForeignKey('PART.PNO'), table=<SELLS>), Column('PRICE', Integer(), table=<SELLS>, nullable=False), schema=None)})"
      ]
     },
     "execution_count": 132,
     "metadata": {},
     "output_type": "execute_result"
    }
   ],
   "source": [
    "base.metadata.tables"
   ]
  },
  {
   "cell_type": "code",
   "execution_count": 193,
   "metadata": {},
   "outputs": [],
   "source": [
    "sess.rollback()\n",
    "sess.close()"
   ]
  },
  {
   "cell_type": "code",
   "execution_count": 194,
   "metadata": {},
   "outputs": [],
   "source": [
    "engine.dispose()\n",
    "base.metadata.clear()\n",
    "base.registry.dispose()"
   ]
  },
  {
   "cell_type": "code",
   "execution_count": 192,
   "metadata": {},
   "outputs": [],
   "source": [
    "engine = create_engine('sqlite:///:memory:', echo = True)\n",
    "base = declarative_base()\n",
    "Session = sessionmaker(engine)\n",
    "sess= Session()"
   ]
  },
  {
   "cell_type": "code",
   "execution_count": null,
   "metadata": {},
   "outputs": [],
   "source": [
    "# 기존 DB에서 불러오기\n",
    "base.metadata.reflect(engine)\n",
    "base.metadata.tables['테이블이름']\n",
    "\n",
    "class 어쩌구():\n",
    "    __table__= base.metadata.tables['테이블이름']\n",
    "\n",
    "# relationship을 만드려면 DB에 PK/FK관계까 있어야함."
   ]
  },
  {
   "cell_type": "code",
   "execution_count": 189,
   "metadata": {},
   "outputs": [
    {
     "name": "stderr",
     "output_type": "stream",
     "text": [
      "Exception ignored in: <function _ConnectionRecord.checkout.<locals>.<lambda> at 0x000001FB20A61F70>\n",
      "Traceback (most recent call last):\n",
      "  File \"c:\\Users\\GyeongJun\\anaconda3\\lib\\site-packages\\sqlalchemy\\pool\\base.py\", line 732, in <lambda>\n",
      "  File \"c:\\Users\\GyeongJun\\anaconda3\\lib\\site-packages\\sqlalchemy\\pool\\base.py\", line 1043, in _finalize_fairy\n",
      "AttributeError: 'NoneType' object has no attribute 'dbapi_connection'\n"
     ]
    },
    {
     "ename": "SyntaxError",
     "evalue": "expression cannot contain assignment, perhaps you meant \"==\"? (2268504082.py, line 15)",
     "output_type": "error",
     "traceback": [
      "\u001b[1;36m  File \u001b[1;32m\"C:\\Users\\GyeongJun\\AppData\\Local\\Temp\\ipykernel_1192\\2268504082.py\"\u001b[1;36m, line \u001b[1;32m15\u001b[0m\n\u001b[1;33m    sess.query(Album).filter(Album.name = name).one().delete()\u001b[0m\n\u001b[1;37m                             ^\u001b[0m\n\u001b[1;31mSyntaxError\u001b[0m\u001b[1;31m:\u001b[0m expression cannot contain assignment, perhaps you meant \"==\"?\n"
     ]
    }
   ],
   "source": [
    "class Artist(base):\n",
    "    __tablename__ = 'ARTIST'\n",
    "    pk = Column('PK', Integer, primary_key= True)\n",
    "    name = Column('NAME', Text)\n",
    "    # relationship 관계를 위해 쌍을 설정\n",
    "    albums = relationship('Album', back_populates= 'artist', uselist=True)\n",
    "    \n",
    "    def addAlbum(self, name):\n",
    "        album = Album(name = name)\n",
    "        sess.add(album)\n",
    "        sess.commit()\n",
    "        self.albums.append(album)\n",
    "\n",
    "    def removeAlbum(self, name):\n",
    "        album = sess.query(Album).filter(Album.name == name).one()\n",
    "        self.albums.index(album)\n",
    "        \n",
    "        sess.commit()\n",
    "\n",
    "    def __repr__(self):\n",
    "        return f'{self.name}, {len(self.albums)}'\n",
    "    \n",
    "class Album(base):\n",
    "    __tablename__ = 'ALBUM'\n",
    "    pk = Column('PK', Integer, primary_key= True)\n",
    "    name = Column('NAME', Text)    \n",
    "    fk = Column('FK', Integer, ForeignKey('ARTIST.PK'))\n",
    "    artist = relationship('Artist', back_populates='albums')\n",
    "\n",
    "    def __repr__(self):\n",
    "        return f'{self.name}, {len(self.artist.albums)}'"
   ]
  },
  {
   "cell_type": "code",
   "execution_count": null,
   "metadata": {},
   "outputs": [],
   "source": [
    "base.metadata.create_all(engine)"
   ]
  },
  {
   "cell_type": "code",
   "execution_count": 182,
   "metadata": {},
   "outputs": [
    {
     "name": "stdout",
     "output_type": "stream",
     "text": [
      "2023-09-07 11:21:41,163 INFO sqlalchemy.engine.Engine BEGIN (implicit)\n",
      "2023-09-07 11:21:41,164 INFO sqlalchemy.engine.Engine INSERT INTO \"ARTIST\" (\"NAME\") VALUES (?)\n",
      "2023-09-07 11:21:41,165 INFO sqlalchemy.engine.Engine [generated in 0.00084s] ('가수1',)\n",
      "2023-09-07 11:21:41,166 INFO sqlalchemy.engine.Engine COMMIT\n"
     ]
    }
   ],
   "source": [
    "artist1 = Artist(name = '가수1')\n",
    "sess.add(artist1)\n",
    "sess.commit()"
   ]
  },
  {
   "cell_type": "code",
   "execution_count": 183,
   "metadata": {},
   "outputs": [
    {
     "name": "stdout",
     "output_type": "stream",
     "text": [
      "2023-09-07 11:21:42,219 INFO sqlalchemy.engine.Engine BEGIN (implicit)\n",
      "2023-09-07 11:21:42,220 INFO sqlalchemy.engine.Engine INSERT INTO \"ALBUM\" (\"NAME\", \"FK\") VALUES (?, ?)\n",
      "2023-09-07 11:21:42,220 INFO sqlalchemy.engine.Engine [generated in 0.00056s] ('앨범1', None)\n",
      "2023-09-07 11:21:42,222 INFO sqlalchemy.engine.Engine COMMIT\n",
      "2023-09-07 11:21:42,223 INFO sqlalchemy.engine.Engine BEGIN (implicit)\n",
      "2023-09-07 11:21:42,224 INFO sqlalchemy.engine.Engine SELECT \"ARTIST\".\"PK\" AS \"ARTIST_PK\", \"ARTIST\".\"NAME\" AS \"ARTIST_NAME\" \n",
      "FROM \"ARTIST\" \n",
      "WHERE \"ARTIST\".\"PK\" = ?\n",
      "2023-09-07 11:21:42,225 INFO sqlalchemy.engine.Engine [generated in 0.00073s] (1,)\n",
      "2023-09-07 11:21:42,227 INFO sqlalchemy.engine.Engine SELECT \"ALBUM\".\"PK\" AS \"ALBUM_PK\", \"ALBUM\".\"NAME\" AS \"ALBUM_NAME\", \"ALBUM\".\"FK\" AS \"ALBUM_FK\" \n",
      "FROM \"ALBUM\" \n",
      "WHERE ? = \"ALBUM\".\"FK\"\n",
      "2023-09-07 11:21:42,228 INFO sqlalchemy.engine.Engine [generated in 0.00114s] (1,)\n"
     ]
    }
   ],
   "source": [
    "artist1.addAlbum('앨범1')"
   ]
  },
  {
   "cell_type": "code",
   "execution_count": 184,
   "metadata": {},
   "outputs": [
    {
     "name": "stdout",
     "output_type": "stream",
     "text": [
      "2023-09-07 11:21:43,732 INFO sqlalchemy.engine.Engine SELECT \"ALBUM\".\"PK\" AS \"ALBUM_PK\", \"ALBUM\".\"NAME\" AS \"ALBUM_NAME\" \n",
      "FROM \"ALBUM\" \n",
      "WHERE \"ALBUM\".\"PK\" = ?\n",
      "2023-09-07 11:21:43,733 INFO sqlalchemy.engine.Engine [generated in 0.00095s] (1,)\n",
      "2023-09-07 11:21:43,736 INFO sqlalchemy.engine.Engine UPDATE \"ALBUM\" SET \"FK\"=? WHERE \"ALBUM\".\"PK\" = ?\n",
      "2023-09-07 11:21:43,737 INFO sqlalchemy.engine.Engine [generated in 0.00100s] (1, 1)\n",
      "2023-09-07 11:21:43,740 INFO sqlalchemy.engine.Engine SELECT \"ALBUM\".\"PK\" AS \"ALBUM_PK\", \"ALBUM\".\"NAME\" AS \"ALBUM_NAME\", \"ALBUM\".\"FK\" AS \"ALBUM_FK\" \n",
      "FROM \"ALBUM\" \n",
      "WHERE \"ALBUM\".\"PK\" = ?\n",
      "2023-09-07 11:21:43,741 INFO sqlalchemy.engine.Engine [generated in 0.00103s] (1,)\n"
     ]
    },
    {
     "data": {
      "text/plain": [
       "앨범1, 1"
      ]
     },
     "execution_count": 184,
     "metadata": {},
     "output_type": "execute_result"
    }
   ],
   "source": [
    "artist1.albums[0]"
   ]
  },
  {
   "cell_type": "code",
   "execution_count": null,
   "metadata": {},
   "outputs": [],
   "source": [
    "# 앨범을 삭제하는 코드를 만들기 (11시 20분)\n",
    "artist1.removeAlbum('앨범1')"
   ]
  },
  {
   "cell_type": "code",
   "execution_count": 212,
   "metadata": {},
   "outputs": [],
   "source": [
    "sess.rollback()\n",
    "sess.close()\n",
    "engine.dispose()\n",
    "base.metadata.clear()\n",
    "base.registry.dispose()"
   ]
  },
  {
   "cell_type": "code",
   "execution_count": 213,
   "metadata": {},
   "outputs": [],
   "source": [
    "engine = create_engine('sqlite:///:memory:', echo = True)\n",
    "base = declarative_base()\n",
    "Session = sessionmaker(engine)\n",
    "sess= Session()"
   ]
  },
  {
   "cell_type": "code",
   "execution_count": 215,
   "metadata": {},
   "outputs": [
    {
     "name": "stderr",
     "output_type": "stream",
     "text": [
      "C:\\Users\\GyeongJun\\AppData\\Local\\Temp\\ipykernel_1192\\1890848086.py:7: SAWarning: This declarative base already contains a class with the same class name and module name as __main__.Post, and will be replaced in the string-lookup table.\n",
      "  class Post(base):\n"
     ]
    }
   ],
   "source": [
    "# Artist 1:N Ablums (관계)\n",
    "# Post N:M HashTag => 관계를 정의하고 있는 별도의 테이블을 써야함.\n",
    "# Post               Tags              Hashtag\n",
    "# tags-------------post/hashtag----------posts\n",
    "# Posts.tags[0].hashtag -------------> Hashtag\n",
    "\n",
    "class Post(base):\n",
    "    __tablename__ = 'POST'\n",
    "    __table_args__ = {'extend_existing': True}\n",
    "    pk = Column('PK', Integer, primary_key= True)\n",
    "    content = Column('CONTENT', Text)\n",
    "    # tags는 Tags라는 Table과 관계를 갖고 있고, post를 통해 연결됨\n",
    "    tags = relationship('Tags', back_populates='post', uselist=True)\n",
    "\n",
    "    def addTags(self, tags):\n",
    "        tagList = []\n",
    "        for tag in tags:\n",
    "            rst = sess.query(Hashtag).filter(Hashtag.name == tag)\n",
    "            if rst.count() > 0:\n",
    "                tagList.append(rst.one())\n",
    "            else:\n",
    "                newTag = Hashtag(name = tag)\n",
    "                sess.add(newTag)\n",
    "                sess.commit()\n",
    "                tagList.append(newTag)\n",
    "        for tag in tagList:\n",
    "            sess.add(Tags(fk1 = self.pk, fk2 = tag.pk))\n",
    "            sess.commit()\n",
    "            tag.cnt += 1\n",
    "\n",
    "    def __repr__(self):\n",
    "        return f'{self.pk}, {len(self.tags)}'\n",
    "\n",
    "class Hashtag(base):\n",
    "    __tablename__ = 'HASHTAG'\n",
    "    __table_args__ = {'extend_existing': True}\n",
    "    pk = Column('PK', Integer, primary_key= True)\n",
    "    name = Column('NAME', Text)\n",
    "    cnt = Column('CNT', Integer, server_default='0')\n",
    "    posts = relationship('Tags', back_populates='hashtag', uselist=True)\n",
    "\n",
    "    def __repr__(self):\n",
    "        return f'{self.pk}, {self.name}, {len(self.posts)}'    \n",
    "\n",
    "class Tags(base):\n",
    "    __tablename__ = 'TAGS'\n",
    "    __table_args__ = {'extend_existing': True}\n",
    "    pk = Column('PK', Integer, primary_key= True)\n",
    "    fk1 = Column('FK1', Integer, None, ForeignKey('POST.PK'))\n",
    "    fk2 = Column('FK2', Integer, None, ForeignKey('HASHTAG.PK'))\n",
    "    post = relationship('Post', back_populates='tags')\n",
    "    hashtag = relationship('Hashtag', back_populates='posts')"
   ]
  },
  {
   "cell_type": "code",
   "execution_count": 216,
   "metadata": {},
   "outputs": [
    {
     "name": "stdout",
     "output_type": "stream",
     "text": [
      "2023-09-07 11:53:11,868 INFO sqlalchemy.engine.Engine BEGIN (implicit)\n",
      "2023-09-07 11:53:11,869 INFO sqlalchemy.engine.Engine PRAGMA main.table_info(\"POST\")\n",
      "2023-09-07 11:53:11,870 INFO sqlalchemy.engine.Engine [raw sql] ()\n",
      "2023-09-07 11:53:11,871 INFO sqlalchemy.engine.Engine PRAGMA temp.table_info(\"POST\")\n",
      "2023-09-07 11:53:11,873 INFO sqlalchemy.engine.Engine [raw sql] ()\n",
      "2023-09-07 11:53:11,875 INFO sqlalchemy.engine.Engine PRAGMA main.table_info(\"HASHTAG\")\n",
      "2023-09-07 11:53:11,876 INFO sqlalchemy.engine.Engine [raw sql] ()\n",
      "2023-09-07 11:53:11,877 INFO sqlalchemy.engine.Engine PRAGMA temp.table_info(\"HASHTAG\")\n",
      "2023-09-07 11:53:11,877 INFO sqlalchemy.engine.Engine [raw sql] ()\n",
      "2023-09-07 11:53:11,878 INFO sqlalchemy.engine.Engine PRAGMA main.table_info(\"TAGS\")\n",
      "2023-09-07 11:53:11,878 INFO sqlalchemy.engine.Engine [raw sql] ()\n",
      "2023-09-07 11:53:11,879 INFO sqlalchemy.engine.Engine PRAGMA temp.table_info(\"TAGS\")\n",
      "2023-09-07 11:53:11,879 INFO sqlalchemy.engine.Engine [raw sql] ()\n",
      "2023-09-07 11:53:11,880 INFO sqlalchemy.engine.Engine \n",
      "CREATE TABLE \"POST\" (\n",
      "\t\"PK\" INTEGER NOT NULL, \n",
      "\t\"CONTENT\" TEXT, \n",
      "\tPRIMARY KEY (\"PK\")\n",
      ")\n",
      "\n",
      "\n",
      "2023-09-07 11:53:11,881 INFO sqlalchemy.engine.Engine [no key 0.00047s] ()\n",
      "2023-09-07 11:53:11,882 INFO sqlalchemy.engine.Engine \n",
      "CREATE TABLE \"HASHTAG\" (\n",
      "\t\"PK\" INTEGER NOT NULL, \n",
      "\t\"NAME\" TEXT, \n",
      "\t\"CNT\" INTEGER DEFAULT '0', \n",
      "\tPRIMARY KEY (\"PK\")\n",
      ")\n",
      "\n",
      "\n",
      "2023-09-07 11:53:11,883 INFO sqlalchemy.engine.Engine [no key 0.00071s] ()\n",
      "2023-09-07 11:53:11,885 INFO sqlalchemy.engine.Engine \n",
      "CREATE TABLE \"TAGS\" (\n",
      "\t\"PK\" INTEGER NOT NULL, \n",
      "\t\"FK1\" INTEGER, \n",
      "\t\"FK2\" INTEGER, \n",
      "\tPRIMARY KEY (\"PK\"), \n",
      "\tFOREIGN KEY(\"FK1\") REFERENCES \"POST\" (\"PK\"), \n",
      "\tFOREIGN KEY(\"FK2\") REFERENCES \"HASHTAG\" (\"PK\")\n",
      ")\n",
      "\n",
      "\n",
      "2023-09-07 11:53:11,886 INFO sqlalchemy.engine.Engine [no key 0.00060s] ()\n",
      "2023-09-07 11:53:11,886 INFO sqlalchemy.engine.Engine COMMIT\n"
     ]
    }
   ],
   "source": [
    "base.metadata.create_all(engine)"
   ]
  },
  {
   "cell_type": "code",
   "execution_count": 199,
   "metadata": {},
   "outputs": [],
   "source": [
    "post1 = Post(content = '내용1')\n",
    "sess.add(post1)"
   ]
  },
  {
   "cell_type": "code",
   "execution_count": 200,
   "metadata": {},
   "outputs": [
    {
     "name": "stdout",
     "output_type": "stream",
     "text": [
      "2023-09-07 11:39:22,721 INFO sqlalchemy.engine.Engine BEGIN (implicit)\n",
      "2023-09-07 11:39:22,722 INFO sqlalchemy.engine.Engine INSERT INTO \"POST\" (\"CONTENT\") VALUES (?)\n",
      "2023-09-07 11:39:22,724 INFO sqlalchemy.engine.Engine [generated in 0.00062s] ('내용1',)\n",
      "2023-09-07 11:39:22,725 INFO sqlalchemy.engine.Engine COMMIT\n"
     ]
    }
   ],
   "source": [
    "sess.commit()"
   ]
  },
  {
   "cell_type": "code",
   "execution_count": 201,
   "metadata": {},
   "outputs": [
    {
     "name": "stdout",
     "output_type": "stream",
     "text": [
      "2023-09-07 11:40:07,600 INFO sqlalchemy.engine.Engine BEGIN (implicit)\n",
      "2023-09-07 11:40:07,602 INFO sqlalchemy.engine.Engine INSERT INTO \"HASHTAG\" (\"NAME\") VALUES (?)\n",
      "2023-09-07 11:40:07,603 INFO sqlalchemy.engine.Engine [generated in 0.00141s] ('해시태그1',)\n",
      "2023-09-07 11:40:07,607 INFO sqlalchemy.engine.Engine COMMIT\n"
     ]
    }
   ],
   "source": [
    "tag1 = Hashtag(name = '해시태그1')\n",
    "sess.add(tag1)\n",
    "sess.commit()"
   ]
  },
  {
   "cell_type": "code",
   "execution_count": 202,
   "metadata": {},
   "outputs": [
    {
     "name": "stdout",
     "output_type": "stream",
     "text": [
      "2023-09-07 11:40:43,836 INFO sqlalchemy.engine.Engine BEGIN (implicit)\n",
      "2023-09-07 11:40:43,838 INFO sqlalchemy.engine.Engine SELECT \"POST\".\"PK\" AS \"POST_PK\", \"POST\".\"CONTENT\" AS \"POST_CONTENT\" \n",
      "FROM \"POST\" \n",
      "WHERE \"POST\".\"PK\" = ?\n",
      "2023-09-07 11:40:43,838 INFO sqlalchemy.engine.Engine [generated in 0.00087s] (1,)\n",
      "2023-09-07 11:40:43,841 INFO sqlalchemy.engine.Engine SELECT \"HASHTAG\".\"PK\" AS \"HASHTAG_PK\", \"HASHTAG\".\"NAME\" AS \"HASHTAG_NAME\" \n",
      "FROM \"HASHTAG\" \n",
      "WHERE \"HASHTAG\".\"PK\" = ?\n",
      "2023-09-07 11:40:43,842 INFO sqlalchemy.engine.Engine [generated in 0.00090s] (1,)\n",
      "2023-09-07 11:40:43,845 INFO sqlalchemy.engine.Engine INSERT INTO \"TAGS\" (\"FK1\", \"FK2\") VALUES (?, ?)\n",
      "2023-09-07 11:40:43,845 INFO sqlalchemy.engine.Engine [generated in 0.00096s] (1, 1)\n",
      "2023-09-07 11:40:43,847 INFO sqlalchemy.engine.Engine COMMIT\n"
     ]
    }
   ],
   "source": [
    "sess.add(Tags(fk1 = post1.pk, fk2 =tag1.pk))\n",
    "sess.commit()"
   ]
  },
  {
   "cell_type": "code",
   "execution_count": 204,
   "metadata": {},
   "outputs": [
    {
     "name": "stdout",
     "output_type": "stream",
     "text": [
      "2023-09-07 11:41:09,608 INFO sqlalchemy.engine.Engine SELECT \"HASHTAG\".\"PK\" AS \"HASHTAG_PK\", \"HASHTAG\".\"NAME\" AS \"HASHTAG_NAME\" \n",
      "FROM \"HASHTAG\" \n",
      "WHERE \"HASHTAG\".\"PK\" = ?\n",
      "2023-09-07 11:41:09,609 INFO sqlalchemy.engine.Engine [cached since 25.77s ago] (1,)\n"
     ]
    },
    {
     "data": {
      "text/plain": [
       "(1, '해시태그1')"
      ]
     },
     "execution_count": 204,
     "metadata": {},
     "output_type": "execute_result"
    }
   ],
   "source": [
    "len(post1.tags), post1.tags[0].hashtag.name"
   ]
  },
  {
   "cell_type": "code",
   "execution_count": 206,
   "metadata": {},
   "outputs": [
    {
     "data": {
      "text/plain": [
       "(1, '내용1')"
      ]
     },
     "execution_count": 206,
     "metadata": {},
     "output_type": "execute_result"
    }
   ],
   "source": [
    "len(tag1.posts), tag1.posts[0].post.content"
   ]
  },
  {
   "cell_type": "code",
   "execution_count": 217,
   "metadata": {},
   "outputs": [],
   "source": [
    "sess.rollback()\n",
    "sess.close()\n",
    "engine.dispose()\n",
    "base.metadata.clear()\n",
    "base.registry.dispose()\n",
    "\n",
    "engine = create_engine('sqlite:///:memory:', echo = True)\n",
    "base = declarative_base()\n",
    "Session = sessionmaker(engine)\n",
    "sess= Session()"
   ]
  },
  {
   "cell_type": "code",
   "execution_count": 218,
   "metadata": {},
   "outputs": [],
   "source": [
    "# Artist 1:N Ablums (관계)\n",
    "# Post N:M HashTag => 관계를 정의하고 있는 별도의 테이블을 써야함.\n",
    "# Post               Tags              Hashtag\n",
    "# tags-------------post/hashtag----------posts\n",
    "# Posts.tags[0].hashtag -------------> Hashtag\n",
    "\n",
    "class Post(base):\n",
    "    __tablename__ = 'POST'\n",
    "    __table_args__ = {'extend_existing': True}\n",
    "    pk = Column('PK', Integer, primary_key= True)\n",
    "    content = Column('CONTENT', Text)\n",
    "    # tags는 Tags라는 Table과 관계를 갖고 있고, post를 통해 연결됨\n",
    "    tags = relationship('Tags', back_populates='post', uselist=True)\n",
    "\n",
    "    # tag 추가\n",
    "    def addTags(self, tags):\n",
    "        tagList = []\n",
    "        for tag in tags:\n",
    "            rst = sess.query(Hashtag).filter(Hashtag.name == tag)\n",
    "            if rst.count() > 0:\n",
    "                tagList.append(rst.one())\n",
    "            else:\n",
    "                newTag = Hashtag(name = tag)\n",
    "                sess.add(newTag)\n",
    "                sess.commit()\n",
    "                tagList.append(newTag)\n",
    "        for tag in tagList:\n",
    "            sess.add(Tags(fk1 = self.pk, fk2 = tag.pk))\n",
    "            sess.commit()\n",
    "            tag.cnt += 1\n",
    "\n",
    "    # tag 삭제    \n",
    "    def deleteTags(self, tags):\n",
    "        del_tagList = []\n",
    "        for tag in tags:\n",
    "            rst = sess.query(Hashtag).filter(Hashtag.name == tag)\n",
    "            if rst.count() == 0:\n",
    "                continue\n",
    "            else:\n",
    "                newTag = sess.query(Hashtag).filter(Hashtag.name == tag).one()\n",
    "                index = self.tags.index(newTag)\n",
    "                \n",
    "\n",
    "                sess.commit()\n",
    "                del_tagList.append(newTag)\n",
    "\n",
    "        for tag in del_tagList:\n",
    "            sess.commit()\n",
    "            tag.cnt -= 1\n",
    "\n",
    "    def __repr__(self):\n",
    "        return f'{self.pk}, {len(self.tags)}'\n",
    "    \n",
    "\n",
    "class Hashtag(base):\n",
    "    __tablename__ = 'HASHTAG'\n",
    "    __table_args__ = {'extend_existing': True}\n",
    "    pk = Column('PK', Integer, primary_key= True)\n",
    "    name = Column('NAME', Text)\n",
    "    cnt = Column('CNT', Integer, server_default='0')\n",
    "    posts = relationship('Tags', back_populates='hashtag', uselist=True)\n",
    "\n",
    "    def __repr__(self):\n",
    "        return f'{self.pk}, {self.name}, {len(self.posts)}'    \n",
    "    \n",
    "    # +1, -1 함수\n",
    "\n",
    "class Tags(base):\n",
    "    __tablename__ = 'TAGS'\n",
    "    __table_args__ = {'extend_existing': True}\n",
    "    pk = Column('PK', Integer, primary_key= True)\n",
    "    fk1 = Column('FK1', Integer, None, ForeignKey('POST.PK'))\n",
    "    fk2 = Column('FK2', Integer, None, ForeignKey('HASHTAG.PK'))\n",
    "    post = relationship('Post', back_populates='tags')\n",
    "    hashtag = relationship('Hashtag', back_populates='posts')"
   ]
  },
  {
   "cell_type": "code",
   "execution_count": 219,
   "metadata": {},
   "outputs": [
    {
     "name": "stdout",
     "output_type": "stream",
     "text": [
      "2023-09-07 11:54:27,783 INFO sqlalchemy.engine.Engine BEGIN (implicit)\n",
      "2023-09-07 11:54:27,784 INFO sqlalchemy.engine.Engine PRAGMA main.table_info(\"POST\")\n",
      "2023-09-07 11:54:27,785 INFO sqlalchemy.engine.Engine [raw sql] ()\n",
      "2023-09-07 11:54:27,788 INFO sqlalchemy.engine.Engine PRAGMA temp.table_info(\"POST\")\n",
      "2023-09-07 11:54:27,789 INFO sqlalchemy.engine.Engine [raw sql] ()\n",
      "2023-09-07 11:54:27,792 INFO sqlalchemy.engine.Engine PRAGMA main.table_info(\"HASHTAG\")\n",
      "2023-09-07 11:54:27,793 INFO sqlalchemy.engine.Engine [raw sql] ()\n",
      "2023-09-07 11:54:27,794 INFO sqlalchemy.engine.Engine PRAGMA temp.table_info(\"HASHTAG\")\n",
      "2023-09-07 11:54:27,794 INFO sqlalchemy.engine.Engine [raw sql] ()\n",
      "2023-09-07 11:54:27,795 INFO sqlalchemy.engine.Engine PRAGMA main.table_info(\"TAGS\")\n",
      "2023-09-07 11:54:27,796 INFO sqlalchemy.engine.Engine [raw sql] ()\n",
      "2023-09-07 11:54:27,796 INFO sqlalchemy.engine.Engine PRAGMA temp.table_info(\"TAGS\")\n",
      "2023-09-07 11:54:27,797 INFO sqlalchemy.engine.Engine [raw sql] ()\n",
      "2023-09-07 11:54:27,799 INFO sqlalchemy.engine.Engine \n",
      "CREATE TABLE \"POST\" (\n",
      "\t\"PK\" INTEGER NOT NULL, \n",
      "\t\"CONTENT\" TEXT, \n",
      "\tPRIMARY KEY (\"PK\")\n",
      ")\n",
      "\n",
      "\n",
      "2023-09-07 11:54:27,799 INFO sqlalchemy.engine.Engine [no key 0.00069s] ()\n",
      "2023-09-07 11:54:27,800 INFO sqlalchemy.engine.Engine \n",
      "CREATE TABLE \"HASHTAG\" (\n",
      "\t\"PK\" INTEGER NOT NULL, \n",
      "\t\"NAME\" TEXT, \n",
      "\t\"CNT\" INTEGER DEFAULT '0', \n",
      "\tPRIMARY KEY (\"PK\")\n",
      ")\n",
      "\n",
      "\n",
      "2023-09-07 11:54:27,801 INFO sqlalchemy.engine.Engine [no key 0.00031s] ()\n",
      "2023-09-07 11:54:27,802 INFO sqlalchemy.engine.Engine \n",
      "CREATE TABLE \"TAGS\" (\n",
      "\t\"PK\" INTEGER NOT NULL, \n",
      "\t\"FK1\" INTEGER, \n",
      "\t\"FK2\" INTEGER, \n",
      "\tPRIMARY KEY (\"PK\"), \n",
      "\tFOREIGN KEY(\"FK1\") REFERENCES \"POST\" (\"PK\"), \n",
      "\tFOREIGN KEY(\"FK2\") REFERENCES \"HASHTAG\" (\"PK\")\n",
      ")\n",
      "\n",
      "\n",
      "2023-09-07 11:54:27,802 INFO sqlalchemy.engine.Engine [no key 0.00044s] ()\n",
      "2023-09-07 11:54:27,803 INFO sqlalchemy.engine.Engine COMMIT\n"
     ]
    }
   ],
   "source": [
    "base.metadata.create_all(engine)"
   ]
  },
  {
   "cell_type": "code",
   "execution_count": 220,
   "metadata": {},
   "outputs": [
    {
     "name": "stdout",
     "output_type": "stream",
     "text": [
      "2023-09-07 11:55:46,594 INFO sqlalchemy.engine.Engine BEGIN (implicit)\n",
      "2023-09-07 11:55:46,596 INFO sqlalchemy.engine.Engine INSERT INTO \"POST\" (\"CONTENT\") VALUES (?)\n",
      "2023-09-07 11:55:46,597 INFO sqlalchemy.engine.Engine [generated in 0.00087s] ('내용2',)\n",
      "2023-09-07 11:55:46,599 INFO sqlalchemy.engine.Engine COMMIT\n",
      "2023-09-07 11:55:46,600 INFO sqlalchemy.engine.Engine BEGIN (implicit)\n",
      "2023-09-07 11:55:46,605 INFO sqlalchemy.engine.Engine SELECT count(*) AS count_1 \n",
      "FROM (SELECT \"HASHTAG\".\"PK\" AS \"HASHTAG_PK\", \"HASHTAG\".\"NAME\" AS \"HASHTAG_NAME\", \"HASHTAG\".\"CNT\" AS \"HASHTAG_CNT\" \n",
      "FROM \"HASHTAG\" \n",
      "WHERE \"HASHTAG\".\"NAME\" = ?) AS anon_1\n",
      "2023-09-07 11:55:46,606 INFO sqlalchemy.engine.Engine [generated in 0.00114s] ('해시태그2',)\n",
      "2023-09-07 11:55:46,608 INFO sqlalchemy.engine.Engine INSERT INTO \"HASHTAG\" (\"NAME\") VALUES (?) RETURNING \"PK\", \"CNT\"\n",
      "2023-09-07 11:55:46,609 INFO sqlalchemy.engine.Engine [generated in 0.00087s] ('해시태그2',)\n",
      "2023-09-07 11:55:46,611 INFO sqlalchemy.engine.Engine COMMIT\n",
      "2023-09-07 11:55:46,612 INFO sqlalchemy.engine.Engine BEGIN (implicit)\n",
      "2023-09-07 11:55:46,613 INFO sqlalchemy.engine.Engine SELECT count(*) AS count_1 \n",
      "FROM (SELECT \"HASHTAG\".\"PK\" AS \"HASHTAG_PK\", \"HASHTAG\".\"NAME\" AS \"HASHTAG_NAME\", \"HASHTAG\".\"CNT\" AS \"HASHTAG_CNT\" \n",
      "FROM \"HASHTAG\" \n",
      "WHERE \"HASHTAG\".\"NAME\" = ?) AS anon_1\n",
      "2023-09-07 11:55:46,613 INFO sqlalchemy.engine.Engine [cached since 0.00842s ago] ('해시태그3',)\n",
      "2023-09-07 11:55:46,615 INFO sqlalchemy.engine.Engine INSERT INTO \"HASHTAG\" (\"NAME\") VALUES (?) RETURNING \"PK\", \"CNT\"\n",
      "2023-09-07 11:55:46,616 INFO sqlalchemy.engine.Engine [cached since 0.007915s ago] ('해시태그3',)\n",
      "2023-09-07 11:55:46,617 INFO sqlalchemy.engine.Engine COMMIT\n",
      "2023-09-07 11:55:46,618 INFO sqlalchemy.engine.Engine BEGIN (implicit)\n",
      "2023-09-07 11:55:46,619 INFO sqlalchemy.engine.Engine SELECT \"POST\".\"PK\" AS \"POST_PK\", \"POST\".\"CONTENT\" AS \"POST_CONTENT\" \n",
      "FROM \"POST\" \n",
      "WHERE \"POST\".\"PK\" = ?\n",
      "2023-09-07 11:55:46,620 INFO sqlalchemy.engine.Engine [generated in 0.00058s] (1,)\n",
      "2023-09-07 11:55:46,622 INFO sqlalchemy.engine.Engine SELECT \"HASHTAG\".\"PK\" AS \"HASHTAG_PK\", \"HASHTAG\".\"NAME\" AS \"HASHTAG_NAME\", \"HASHTAG\".\"CNT\" AS \"HASHTAG_CNT\" \n",
      "FROM \"HASHTAG\" \n",
      "WHERE \"HASHTAG\".\"PK\" = ?\n",
      "2023-09-07 11:55:46,623 INFO sqlalchemy.engine.Engine [generated in 0.00089s] (1,)\n",
      "2023-09-07 11:55:46,626 INFO sqlalchemy.engine.Engine INSERT INTO \"TAGS\" (\"FK1\", \"FK2\") VALUES (?, ?)\n",
      "2023-09-07 11:55:46,626 INFO sqlalchemy.engine.Engine [generated in 0.00086s] (1, 1)\n",
      "2023-09-07 11:55:46,628 INFO sqlalchemy.engine.Engine COMMIT\n",
      "2023-09-07 11:55:46,630 INFO sqlalchemy.engine.Engine BEGIN (implicit)\n",
      "2023-09-07 11:55:46,631 INFO sqlalchemy.engine.Engine SELECT \"HASHTAG\".\"PK\" AS \"HASHTAG_PK\", \"HASHTAG\".\"NAME\" AS \"HASHTAG_NAME\", \"HASHTAG\".\"CNT\" AS \"HASHTAG_CNT\" \n",
      "FROM \"HASHTAG\" \n",
      "WHERE \"HASHTAG\".\"PK\" = ?\n",
      "2023-09-07 11:55:46,631 INFO sqlalchemy.engine.Engine [cached since 0.008866s ago] (1,)\n",
      "2023-09-07 11:55:46,634 INFO sqlalchemy.engine.Engine UPDATE \"HASHTAG\" SET \"CNT\"=? WHERE \"HASHTAG\".\"PK\" = ?\n",
      "2023-09-07 11:55:46,634 INFO sqlalchemy.engine.Engine [generated in 0.00083s] (1, 1)\n",
      "2023-09-07 11:55:46,636 INFO sqlalchemy.engine.Engine SELECT \"POST\".\"PK\" AS \"POST_PK\", \"POST\".\"CONTENT\" AS \"POST_CONTENT\" \n",
      "FROM \"POST\" \n",
      "WHERE \"POST\".\"PK\" = ?\n",
      "2023-09-07 11:55:46,636 INFO sqlalchemy.engine.Engine [cached since 0.01717s ago] (1,)\n",
      "2023-09-07 11:55:46,638 INFO sqlalchemy.engine.Engine SELECT \"HASHTAG\".\"PK\" AS \"HASHTAG_PK\", \"HASHTAG\".\"NAME\" AS \"HASHTAG_NAME\", \"HASHTAG\".\"CNT\" AS \"HASHTAG_CNT\" \n",
      "FROM \"HASHTAG\" \n",
      "WHERE \"HASHTAG\".\"PK\" = ?\n",
      "2023-09-07 11:55:46,639 INFO sqlalchemy.engine.Engine [cached since 0.01675s ago] (2,)\n",
      "2023-09-07 11:55:46,640 INFO sqlalchemy.engine.Engine INSERT INTO \"TAGS\" (\"FK1\", \"FK2\") VALUES (?, ?)\n",
      "2023-09-07 11:55:46,641 INFO sqlalchemy.engine.Engine [cached since 0.01585s ago] (1, 2)\n",
      "2023-09-07 11:55:46,642 INFO sqlalchemy.engine.Engine COMMIT\n",
      "2023-09-07 11:55:46,643 INFO sqlalchemy.engine.Engine BEGIN (implicit)\n",
      "2023-09-07 11:55:46,645 INFO sqlalchemy.engine.Engine SELECT \"HASHTAG\".\"PK\" AS \"HASHTAG_PK\", \"HASHTAG\".\"NAME\" AS \"HASHTAG_NAME\", \"HASHTAG\".\"CNT\" AS \"HASHTAG_CNT\" \n",
      "FROM \"HASHTAG\" \n",
      "WHERE \"HASHTAG\".\"PK\" = ?\n",
      "2023-09-07 11:55:46,646 INFO sqlalchemy.engine.Engine [cached since 0.02355s ago] (2,)\n"
     ]
    }
   ],
   "source": [
    "post2 = Post(content = '내용2')\n",
    "sess.add(post2)\n",
    "sess.commit()\n",
    "post2.addTags(['해시태그2', '해시태그3'])"
   ]
  },
  {
   "cell_type": "code",
   "execution_count": 221,
   "metadata": {},
   "outputs": [
    {
     "name": "stdout",
     "output_type": "stream",
     "text": [
      "2023-09-07 11:56:13,117 INFO sqlalchemy.engine.Engine UPDATE \"HASHTAG\" SET \"CNT\"=? WHERE \"HASHTAG\".\"PK\" = ?\n",
      "2023-09-07 11:56:13,118 INFO sqlalchemy.engine.Engine [cached since 26.49s ago] (1, 2)\n",
      "2023-09-07 11:56:13,120 INFO sqlalchemy.engine.Engine INSERT INTO \"POST\" (\"CONTENT\") VALUES (?)\n",
      "2023-09-07 11:56:13,121 INFO sqlalchemy.engine.Engine [cached since 26.52s ago] ('내용3',)\n",
      "2023-09-07 11:56:13,123 INFO sqlalchemy.engine.Engine COMMIT\n",
      "2023-09-07 11:56:13,123 INFO sqlalchemy.engine.Engine BEGIN (implicit)\n",
      "2023-09-07 11:56:13,125 INFO sqlalchemy.engine.Engine SELECT count(*) AS count_1 \n",
      "FROM (SELECT \"HASHTAG\".\"PK\" AS \"HASHTAG_PK\", \"HASHTAG\".\"NAME\" AS \"HASHTAG_NAME\", \"HASHTAG\".\"CNT\" AS \"HASHTAG_CNT\" \n",
      "FROM \"HASHTAG\" \n",
      "WHERE \"HASHTAG\".\"NAME\" = ?) AS anon_1\n",
      "2023-09-07 11:56:13,126 INFO sqlalchemy.engine.Engine [cached since 26.52s ago] ('해시태그1',)\n",
      "2023-09-07 11:56:13,128 INFO sqlalchemy.engine.Engine INSERT INTO \"HASHTAG\" (\"NAME\") VALUES (?) RETURNING \"PK\", \"CNT\"\n",
      "2023-09-07 11:56:13,128 INFO sqlalchemy.engine.Engine [cached since 26.52s ago] ('해시태그1',)\n",
      "2023-09-07 11:56:13,129 INFO sqlalchemy.engine.Engine COMMIT\n",
      "2023-09-07 11:56:13,131 INFO sqlalchemy.engine.Engine BEGIN (implicit)\n",
      "2023-09-07 11:56:13,132 INFO sqlalchemy.engine.Engine SELECT count(*) AS count_1 \n",
      "FROM (SELECT \"HASHTAG\".\"PK\" AS \"HASHTAG_PK\", \"HASHTAG\".\"NAME\" AS \"HASHTAG_NAME\", \"HASHTAG\".\"CNT\" AS \"HASHTAG_CNT\" \n",
      "FROM \"HASHTAG\" \n",
      "WHERE \"HASHTAG\".\"NAME\" = ?) AS anon_1\n",
      "2023-09-07 11:56:13,132 INFO sqlalchemy.engine.Engine [cached since 26.53s ago] ('해시태그2',)\n",
      "2023-09-07 11:56:13,134 INFO sqlalchemy.engine.Engine SELECT \"HASHTAG\".\"PK\" AS \"HASHTAG_PK\", \"HASHTAG\".\"NAME\" AS \"HASHTAG_NAME\", \"HASHTAG\".\"CNT\" AS \"HASHTAG_CNT\" \n",
      "FROM \"HASHTAG\" \n",
      "WHERE \"HASHTAG\".\"NAME\" = ?\n",
      "2023-09-07 11:56:13,134 INFO sqlalchemy.engine.Engine [generated in 0.00083s] ('해시태그2',)\n",
      "2023-09-07 11:56:13,136 INFO sqlalchemy.engine.Engine SELECT \"POST\".\"PK\" AS \"POST_PK\", \"POST\".\"CONTENT\" AS \"POST_CONTENT\" \n",
      "FROM \"POST\" \n",
      "WHERE \"POST\".\"PK\" = ?\n",
      "2023-09-07 11:56:13,136 INFO sqlalchemy.engine.Engine [cached since 26.52s ago] (2,)\n",
      "2023-09-07 11:56:13,138 INFO sqlalchemy.engine.Engine SELECT \"HASHTAG\".\"PK\" AS \"HASHTAG_PK\", \"HASHTAG\".\"NAME\" AS \"HASHTAG_NAME\", \"HASHTAG\".\"CNT\" AS \"HASHTAG_CNT\" \n",
      "FROM \"HASHTAG\" \n",
      "WHERE \"HASHTAG\".\"PK\" = ?\n",
      "2023-09-07 11:56:13,138 INFO sqlalchemy.engine.Engine [cached since 26.52s ago] (3,)\n",
      "2023-09-07 11:56:13,139 INFO sqlalchemy.engine.Engine INSERT INTO \"TAGS\" (\"FK1\", \"FK2\") VALUES (?, ?)\n",
      "2023-09-07 11:56:13,140 INFO sqlalchemy.engine.Engine [cached since 26.51s ago] (2, 3)\n",
      "2023-09-07 11:56:13,141 INFO sqlalchemy.engine.Engine COMMIT\n",
      "2023-09-07 11:56:13,142 INFO sqlalchemy.engine.Engine BEGIN (implicit)\n",
      "2023-09-07 11:56:13,142 INFO sqlalchemy.engine.Engine SELECT \"HASHTAG\".\"PK\" AS \"HASHTAG_PK\", \"HASHTAG\".\"NAME\" AS \"HASHTAG_NAME\", \"HASHTAG\".\"CNT\" AS \"HASHTAG_CNT\" \n",
      "FROM \"HASHTAG\" \n",
      "WHERE \"HASHTAG\".\"PK\" = ?\n",
      "2023-09-07 11:56:13,143 INFO sqlalchemy.engine.Engine [cached since 26.52s ago] (3,)\n",
      "2023-09-07 11:56:13,146 INFO sqlalchemy.engine.Engine UPDATE \"HASHTAG\" SET \"CNT\"=? WHERE \"HASHTAG\".\"PK\" = ?\n",
      "2023-09-07 11:56:13,147 INFO sqlalchemy.engine.Engine [cached since 26.51s ago] (1, 3)\n",
      "2023-09-07 11:56:13,148 INFO sqlalchemy.engine.Engine SELECT \"POST\".\"PK\" AS \"POST_PK\", \"POST\".\"CONTENT\" AS \"POST_CONTENT\" \n",
      "FROM \"POST\" \n",
      "WHERE \"POST\".\"PK\" = ?\n",
      "2023-09-07 11:56:13,149 INFO sqlalchemy.engine.Engine [cached since 26.53s ago] (2,)\n",
      "2023-09-07 11:56:13,150 INFO sqlalchemy.engine.Engine SELECT \"HASHTAG\".\"PK\" AS \"HASHTAG_PK\", \"HASHTAG\".\"NAME\" AS \"HASHTAG_NAME\", \"HASHTAG\".\"CNT\" AS \"HASHTAG_CNT\" \n",
      "FROM \"HASHTAG\" \n",
      "WHERE \"HASHTAG\".\"PK\" = ?\n",
      "2023-09-07 11:56:13,151 INFO sqlalchemy.engine.Engine [cached since 26.53s ago] (1,)\n",
      "2023-09-07 11:56:13,153 INFO sqlalchemy.engine.Engine INSERT INTO \"TAGS\" (\"FK1\", \"FK2\") VALUES (?, ?)\n",
      "2023-09-07 11:56:13,153 INFO sqlalchemy.engine.Engine [cached since 26.53s ago] (2, 1)\n",
      "2023-09-07 11:56:13,155 INFO sqlalchemy.engine.Engine COMMIT\n",
      "2023-09-07 11:56:13,156 INFO sqlalchemy.engine.Engine BEGIN (implicit)\n",
      "2023-09-07 11:56:13,157 INFO sqlalchemy.engine.Engine SELECT \"HASHTAG\".\"PK\" AS \"HASHTAG_PK\", \"HASHTAG\".\"NAME\" AS \"HASHTAG_NAME\", \"HASHTAG\".\"CNT\" AS \"HASHTAG_CNT\" \n",
      "FROM \"HASHTAG\" \n",
      "WHERE \"HASHTAG\".\"PK\" = ?\n",
      "2023-09-07 11:56:13,157 INFO sqlalchemy.engine.Engine [cached since 26.54s ago] (1,)\n"
     ]
    }
   ],
   "source": [
    "post3 = Post(content = '내용3')\n",
    "sess.add(post3)\n",
    "sess.commit()\n",
    "post3.addTags(['해시태그1', '해시태그2'])"
   ]
  },
  {
   "cell_type": "code",
   "execution_count": 222,
   "metadata": {},
   "outputs": [
    {
     "name": "stdout",
     "output_type": "stream",
     "text": [
      "2023-09-07 11:56:43,520 INFO sqlalchemy.engine.Engine UPDATE \"HASHTAG\" SET \"CNT\"=? WHERE \"HASHTAG\".\"PK\" = ?\n",
      "2023-09-07 11:56:43,521 INFO sqlalchemy.engine.Engine [cached since 56.89s ago] (2, 1)\n",
      "2023-09-07 11:56:43,522 INFO sqlalchemy.engine.Engine SELECT \"HASHTAG\".\"PK\" AS \"HASHTAG_PK\", \"HASHTAG\".\"NAME\" AS \"HASHTAG_NAME\", \"HASHTAG\".\"CNT\" AS \"HASHTAG_CNT\" \n",
      "FROM \"HASHTAG\" \n",
      "WHERE \"HASHTAG\".\"NAME\" = ?\n",
      "2023-09-07 11:56:43,523 INFO sqlalchemy.engine.Engine [cached since 30.39s ago] ('해시태그2',)\n"
     ]
    }
   ],
   "source": [
    "tag1 = sess.query(Hashtag).where(Hashtag.name == '해시태그2').one()"
   ]
  },
  {
   "cell_type": "code",
   "execution_count": 223,
   "metadata": {},
   "outputs": [
    {
     "name": "stdout",
     "output_type": "stream",
     "text": [
      "2023-09-07 11:57:08,262 INFO sqlalchemy.engine.Engine SELECT \"TAGS\".\"PK\" AS \"TAGS_PK\", \"TAGS\".\"FK1\" AS \"TAGS_FK1\", \"TAGS\".\"FK2\" AS \"TAGS_FK2\" \n",
      "FROM \"TAGS\" \n",
      "WHERE ? = \"TAGS\".\"FK2\"\n",
      "2023-09-07 11:57:08,265 INFO sqlalchemy.engine.Engine [generated in 0.00205s] (1,)\n",
      "2023-09-07 11:57:08,266 INFO sqlalchemy.engine.Engine SELECT \"POST\".\"PK\" AS \"POST_PK\", \"POST\".\"CONTENT\" AS \"POST_CONTENT\" \n",
      "FROM \"POST\" \n",
      "WHERE \"POST\".\"PK\" = ?\n",
      "2023-09-07 11:57:08,267 INFO sqlalchemy.engine.Engine [cached since 81.65s ago] (1,)\n",
      "내용2\n",
      "2023-09-07 11:57:08,268 INFO sqlalchemy.engine.Engine SELECT \"POST\".\"PK\" AS \"POST_PK\", \"POST\".\"CONTENT\" AS \"POST_CONTENT\" \n",
      "FROM \"POST\" \n",
      "WHERE \"POST\".\"PK\" = ?\n",
      "2023-09-07 11:57:08,269 INFO sqlalchemy.engine.Engine [cached since 81.65s ago] (2,)\n",
      "내용3\n"
     ]
    }
   ],
   "source": [
    "for post in tag1.posts:\n",
    "    print(post.post.content)"
   ]
  },
  {
   "cell_type": "code",
   "execution_count": 240,
   "metadata": {},
   "outputs": [
    {
     "name": "stdout",
     "output_type": "stream",
     "text": [
      "2023-09-07 12:26:31,229 INFO sqlalchemy.engine.Engine SELECT \"HASHTAG\".\"PK\" AS \"HASHTAG_PK\", \"HASHTAG\".\"NAME\" AS \"HASHTAG_NAME\", \"HASHTAG\".\"CNT\" AS \"HASHTAG_CNT\" \n",
      "FROM \"HASHTAG\" \n",
      "WHERE \"HASHTAG\".\"NAME\" = ?\n",
      "2023-09-07 12:26:31,231 INFO sqlalchemy.engine.Engine [cached since 1818s ago] ('해시태그1',)\n"
     ]
    },
    {
     "data": {
      "text/plain": [
       "[]"
      ]
     },
     "execution_count": 240,
     "metadata": {},
     "output_type": "execute_result"
    }
   ],
   "source": [
    "sess.query(Hashtag).filter(Hashtag.name == '해시태그1').all()"
   ]
  },
  {
   "cell_type": "code",
   "execution_count": 239,
   "metadata": {},
   "outputs": [
    {
     "name": "stdout",
     "output_type": "stream",
     "text": [
      "2023-09-07 12:26:19,777 INFO sqlalchemy.engine.Engine DELETE FROM \"HASHTAG\" WHERE \"HASHTAG\".\"NAME\" = ?\n",
      "2023-09-07 12:26:19,777 INFO sqlalchemy.engine.Engine [generated in 0.00151s] ('해시태그1',)\n"
     ]
    },
    {
     "data": {
      "text/plain": [
       "1"
      ]
     },
     "execution_count": 239,
     "metadata": {},
     "output_type": "execute_result"
    }
   ],
   "source": [
    "sess.query(Hashtag).filter(Hashtag.name == '해시태그1').delete()"
   ]
  }
 ],
 "metadata": {
  "kernelspec": {
   "display_name": "base",
   "language": "python",
   "name": "python3"
  },
  "language_info": {
   "codemirror_mode": {
    "name": "ipython",
    "version": 3
   },
   "file_extension": ".py",
   "mimetype": "text/x-python",
   "name": "python",
   "nbconvert_exporter": "python",
   "pygments_lexer": "ipython3",
   "version": "3.9.13"
  },
  "orig_nbformat": 4
 },
 "nbformat": 4,
 "nbformat_minor": 2
}
