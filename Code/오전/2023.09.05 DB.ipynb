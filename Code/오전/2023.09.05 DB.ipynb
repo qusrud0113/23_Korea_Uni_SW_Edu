{
 "cells": [
  {
   "cell_type": "code",
   "execution_count": 2,
   "metadata": {},
   "outputs": [],
   "source": [
    "import sqlite3\n",
    "# DBMS(일반적으로 서버) - DB 연결 중, 우리는 client라서 접근(connection)해야함.\n",
    "# cursor ---> 작업공간\n",
    "# con - cur\n",
    "\n",
    "# 첫번째로 connetion이 필요하다.\n",
    "con = sqlite3.connect(':memory:') # file path or in memory에서 가능, 이번 경우엔 in memory에서 사용"
   ]
  },
  {
   "cell_type": "code",
   "execution_count": 36,
   "metadata": {},
   "outputs": [],
   "source": [
    "# cursor를 부여 받아야함.\n",
    "cur = con.cursor()"
   ]
  },
  {
   "cell_type": "code",
   "execution_count": 6,
   "metadata": {},
   "outputs": [
    {
     "data": {
      "text/plain": [
       "['__class__',\n",
       " '__delattr__',\n",
       " '__dir__',\n",
       " '__doc__',\n",
       " '__eq__',\n",
       " '__format__',\n",
       " '__ge__',\n",
       " '__getattribute__',\n",
       " '__gt__',\n",
       " '__hash__',\n",
       " '__init__',\n",
       " '__init_subclass__',\n",
       " '__iter__',\n",
       " '__le__',\n",
       " '__lt__',\n",
       " '__ne__',\n",
       " '__new__',\n",
       " '__next__',\n",
       " '__reduce__',\n",
       " '__reduce_ex__',\n",
       " '__repr__',\n",
       " '__setattr__',\n",
       " '__sizeof__',\n",
       " '__str__',\n",
       " '__subclasshook__',\n",
       " 'arraysize',\n",
       " 'close',\n",
       " 'connection',\n",
       " 'description',\n",
       " 'execute',\n",
       " 'executemany',\n",
       " 'executescript',\n",
       " 'fetchall',\n",
       " 'fetchmany',\n",
       " 'fetchone',\n",
       " 'lastrowid',\n",
       " 'row_factory',\n",
       " 'rowcount',\n",
       " 'setinputsizes',\n",
       " 'setoutputsize']"
      ]
     },
     "execution_count": 6,
     "metadata": {},
     "output_type": "execute_result"
    }
   ],
   "source": [
    "dir(cur)\n",
    "# 'execute'와 관련된 것이 SQL을 커서를 통해서 실행한다."
   ]
  },
  {
   "cell_type": "code",
   "execution_count": null,
   "metadata": {},
   "outputs": [],
   "source": [
    "# execute를 통해 SQL구문이 1개 들어간다.\n",
    "cur.execute('SQL문 한 개')\n",
    "cur.executemany('SQL문 한 개가 반복실행')\n",
    "# 비표준 방법이지만 편의성을 위해 사용한다.\n",
    "# 중간에 오류가 나면 멈춘다.\n",
    "cur.executescript('SQL문 여러개 한번에 실행')"
   ]
  },
  {
   "cell_type": "code",
   "execution_count": 37,
   "metadata": {},
   "outputs": [
    {
     "data": {
      "text/plain": [
       "<sqlite3.Cursor at 0x131e62720a0>"
      ]
     },
     "execution_count": 37,
     "metadata": {},
     "output_type": "execute_result"
    }
   ],
   "source": [
    "cur.execute('''\n",
    "    CREATE TABLE CITY (\n",
    "    CNO INTEGER PRIMARY KEY,\n",
    "    CNAME TEXT\n",
    "    );\n",
    "''')"
   ]
  },
  {
   "cell_type": "code",
   "execution_count": 38,
   "metadata": {},
   "outputs": [
    {
     "data": {
      "text/plain": [
       "<sqlite3.Cursor at 0x131e62720a0>"
      ]
     },
     "execution_count": 38,
     "metadata": {},
     "output_type": "execute_result"
    }
   ],
   "source": [
    "cur.execute('''\n",
    "    INSERT INTO CITY (CNO, CNAME)\n",
    "    VALUES(1, \"London\");\n",
    "''')"
   ]
  },
  {
   "cell_type": "code",
   "execution_count": 10,
   "metadata": {},
   "outputs": [
    {
     "ename": "IntegrityError",
     "evalue": "datatype mismatch",
     "output_type": "error",
     "traceback": [
      "\u001b[1;31m---------------------------------------------------------------------------\u001b[0m",
      "\u001b[1;31mIntegrityError\u001b[0m                            Traceback (most recent call last)",
      "\u001b[1;32m~\\AppData\\Local\\Temp\\ipykernel_20116\\1463027718.py\u001b[0m in \u001b[0;36m<module>\u001b[1;34m\u001b[0m\n\u001b[1;32m----> 1\u001b[1;33m cur.execute('''\n\u001b[0m\u001b[0;32m      2\u001b[0m     \u001b[0mINSERT\u001b[0m \u001b[0mINTO\u001b[0m \u001b[0mCITY\u001b[0m \u001b[1;33m(\u001b[0m\u001b[0mCNO\u001b[0m\u001b[1;33m,\u001b[0m \u001b[0mCNAME\u001b[0m\u001b[1;33m)\u001b[0m\u001b[1;33m\u001b[0m\u001b[1;33m\u001b[0m\u001b[0m\n\u001b[0;32m      3\u001b[0m     \u001b[0mVALUES\u001b[0m\u001b[1;33m(\u001b[0m\u001b[1;34m'dad'\u001b[0m\u001b[1;33m,\u001b[0m \u001b[1;34m\"London\"\u001b[0m\u001b[1;33m)\u001b[0m\u001b[1;33m;\u001b[0m\u001b[1;33m\u001b[0m\u001b[1;33m\u001b[0m\u001b[0m\n\u001b[0;32m      4\u001b[0m ''')\n",
      "\u001b[1;31mIntegrityError\u001b[0m: datatype mismatch"
     ]
    }
   ],
   "source": [
    "# dtype이 잘못들어가면 오류가 발생한다.\n",
    "cur.execute('''\n",
    "    INSERT INTO CITY (CNO, CNAME)\n",
    "    VALUES('dad', \"London\");\n",
    "''')"
   ]
  },
  {
   "cell_type": "code",
   "execution_count": 39,
   "metadata": {},
   "outputs": [
    {
     "data": {
      "text/plain": [
       "<sqlite3.Cursor at 0x131e62720a0>"
      ]
     },
     "execution_count": 39,
     "metadata": {},
     "output_type": "execute_result"
    }
   ],
   "source": [
    "cur.execute('''\n",
    "    INSERT INTO CITY\n",
    "    VALUES(2, 'Paris')\n",
    "''')"
   ]
  },
  {
   "cell_type": "code",
   "execution_count": 40,
   "metadata": {},
   "outputs": [
    {
     "data": {
      "text/plain": [
       "<sqlite3.Cursor at 0x131e62720a0>"
      ]
     },
     "execution_count": 40,
     "metadata": {},
     "output_type": "execute_result"
    }
   ],
   "source": [
    "# CNO는 primary key라서 3이 입력된다.\n",
    "cur.execute('''\n",
    "    INSERT INTO CITY (CNAME)\n",
    "    VALUES('Rome')\n",
    "''')"
   ]
  },
  {
   "cell_type": "code",
   "execution_count": 41,
   "metadata": {},
   "outputs": [
    {
     "data": {
      "text/plain": [
       "<sqlite3.Cursor at 0x131e62720a0>"
      ]
     },
     "execution_count": 41,
     "metadata": {},
     "output_type": "execute_result"
    }
   ],
   "source": [
    "# CNO는 primary key라 not null인데 null을 넣으면 어떻게 될까?\n",
    "# primary key는 Not null과 Unique가 기본 조건이기 때문에 다음 순서의 값이 배정된다.\n",
    "# 따라서 values는 (4, 'Vienna')가 삽입될 것이다.\n",
    "cur.execute('''\n",
    "    INSERT INTO CITY \n",
    "    VALUES(NULL, \"Vienna\")\n",
    "''')"
   ]
  },
  {
   "cell_type": "code",
   "execution_count": null,
   "metadata": {},
   "outputs": [],
   "source": [
    "# fetch는 cursor를 이용하여 데이터를 가져온다. \n",
    "# 사용하기 위해서는 cursor는 데이터를 가지고 있어야한다.\n",
    "cur.fetchone('Tuple/Record/Row 1개 가져온다')\n",
    "cur.fetchmany('N개')\n",
    "cur.fetchall('전부')"
   ]
  },
  {
   "cell_type": "code",
   "execution_count": 42,
   "metadata": {},
   "outputs": [
    {
     "data": {
      "text/plain": [
       "<sqlite3.Cursor at 0x131e62720a0>"
      ]
     },
     "execution_count": 42,
     "metadata": {},
     "output_type": "execute_result"
    }
   ],
   "source": [
    "cur.execute('SELECT * FROM CITY')"
   ]
  },
  {
   "cell_type": "code",
   "execution_count": 43,
   "metadata": {},
   "outputs": [
    {
     "data": {
      "text/plain": [
       "[(1, 'London'), (2, 'Paris'), (3, 'Rome'), (4, 'Vienna')]"
      ]
     },
     "execution_count": 43,
     "metadata": {},
     "output_type": "execute_result"
    }
   ],
   "source": [
    "# iterate라서 한개씩 추출된다.\n",
    "# cur.fetchone()\n",
    "# cur.fetchmany(2)\n",
    "cur.fetchall()"
   ]
  },
  {
   "cell_type": "code",
   "execution_count": 45,
   "metadata": {},
   "outputs": [
    {
     "data": {
      "text/plain": [
       "<sqlite3.Cursor at 0x131e62720a0>"
      ]
     },
     "execution_count": 45,
     "metadata": {},
     "output_type": "execute_result"
    }
   ],
   "source": [
    "cur.execute('''\n",
    "    CREATE TABLE TEMP(\n",
    "    PK INTEGER NOT NULL UNIQUE,\n",
    "    NAME CHAR(5) NOT NULL\n",
    "    )\n",
    "''')"
   ]
  },
  {
   "cell_type": "code",
   "execution_count": 46,
   "metadata": {},
   "outputs": [
    {
     "ename": "IntegrityError",
     "evalue": "NOT NULL constraint failed: TEMP.PK",
     "output_type": "error",
     "traceback": [
      "\u001b[1;31m---------------------------------------------------------------------------\u001b[0m",
      "\u001b[1;31mIntegrityError\u001b[0m                            Traceback (most recent call last)",
      "\u001b[1;32m~\\AppData\\Local\\Temp\\ipykernel_20116\\1526889409.py\u001b[0m in \u001b[0;36m<module>\u001b[1;34m\u001b[0m\n\u001b[1;32m----> 1\u001b[1;33m \u001b[0mcur\u001b[0m\u001b[1;33m.\u001b[0m\u001b[0mexecute\u001b[0m\u001b[1;33m(\u001b[0m\u001b[1;34m'INSERT INTO TEMP VALUES(NULL, \"ABCD\")'\u001b[0m\u001b[1;33m)\u001b[0m\u001b[1;33m\u001b[0m\u001b[1;33m\u001b[0m\u001b[0m\n\u001b[0m",
      "\u001b[1;31mIntegrityError\u001b[0m: NOT NULL constraint failed: TEMP.PK"
     ]
    }
   ],
   "source": [
    "# NOT NULL을 넣어서 INSERT에 NULL이 안된다.\n",
    "cur.execute('INSERT INTO TEMP VALUES(NULL, \"ABCD\")')"
   ]
  },
  {
   "cell_type": "code",
   "execution_count": 47,
   "metadata": {},
   "outputs": [
    {
     "data": {
      "text/plain": [
       "<sqlite3.Cursor at 0x131e62720a0>"
      ]
     },
     "execution_count": 47,
     "metadata": {},
     "output_type": "execute_result"
    }
   ],
   "source": [
    "# sqlite에서는 문자열은 text로 받아들이기에 기존조건인 char(5)가 무시된다.\n",
    "cur.execute('INSERT INTO TEMP VALUES(1, \"ABCDWEE\")')"
   ]
  },
  {
   "cell_type": "code",
   "execution_count": 48,
   "metadata": {},
   "outputs": [
    {
     "data": {
      "text/plain": [
       "<sqlite3.Cursor at 0x131e62720a0>"
      ]
     },
     "execution_count": 48,
     "metadata": {},
     "output_type": "execute_result"
    }
   ],
   "source": [
    "cur.execute('SELECT * FROM TEMP')"
   ]
  },
  {
   "cell_type": "code",
   "execution_count": 50,
   "metadata": {},
   "outputs": [],
   "source": [
    "cur.fetchone()"
   ]
  },
  {
   "cell_type": "code",
   "execution_count": 63,
   "metadata": {},
   "outputs": [
    {
     "data": {
      "text/plain": [
       "<sqlite3.Cursor at 0x131e62720a0>"
      ]
     },
     "execution_count": 63,
     "metadata": {},
     "output_type": "execute_result"
    }
   ],
   "source": [
    "cur.execute('''drop table SUPPLIER''')"
   ]
  },
  {
   "cell_type": "code",
   "execution_count": 68,
   "metadata": {},
   "outputs": [
    {
     "data": {
      "text/plain": [
       "<sqlite3.Cursor at 0x1e66c717ea0>"
      ]
     },
     "execution_count": 68,
     "metadata": {},
     "output_type": "execute_result"
    }
   ],
   "source": [
    "# supplier의 조건은 sno을 primary key, sname은 not null에 값이 지정되지 않으면 'NONAME'\n",
    "cur.execute('''\n",
    "    CREATE TABLE SUPPLIER(\n",
    "    SNO INTEGER PRIMARY KEY,\n",
    "    SNAME TEXT NOT NULL DEFAULT 'NONAME',\n",
    "    CNO INTEGER NOT NULL\n",
    "    )\n",
    "''')"
   ]
  },
  {
   "cell_type": "code",
   "execution_count": 69,
   "metadata": {},
   "outputs": [
    {
     "data": {
      "text/plain": [
       "<sqlite3.Cursor at 0x1e66c717ea0>"
      ]
     },
     "execution_count": 69,
     "metadata": {},
     "output_type": "execute_result"
    }
   ],
   "source": [
    "# 특정 값을 넣는 방법\n",
    "# qmark = ?, named = k:v\n",
    "# 값이 지정되지 않았을 때 ?를 통해 넣는다.\n",
    "sname = 'Smith'\n",
    "cno = 1\n",
    "\n",
    "# 아래 구문은 qmark 스타일에 대입 방법이다. ?는 값을 넣는 것이고, 콤마는 위치를 의미한다.\n",
    "cur.execute('''\n",
    "    INSERT INTO SUPPLIER VALUES(NULL, ?, ?);\n",
    "''', (sname, cno))"
   ]
  },
  {
   "cell_type": "code",
   "execution_count": 70,
   "metadata": {},
   "outputs": [
    {
     "data": {
      "text/plain": [
       "[(1, 'Smith', 1)]"
      ]
     },
     "execution_count": 70,
     "metadata": {},
     "output_type": "execute_result"
    }
   ],
   "source": [
    "cur.execute('SELECT * FROM SUPPLIER')\n",
    "cur.fetchall()"
   ]
  },
  {
   "cell_type": "code",
   "execution_count": 71,
   "metadata": {},
   "outputs": [
    {
     "data": {
      "text/plain": [
       "<sqlite3.Cursor at 0x1e66c717ea0>"
      ]
     },
     "execution_count": 71,
     "metadata": {},
     "output_type": "execute_result"
    }
   ],
   "source": [
    "# 데이터를 넣기 위해서 ?, ?에 값을 대입한다.\n",
    "# 값을 삽입하기 위해 TUPLE에 데이터 PAIR를 만든다.\n",
    "data = (('Jones',2), ('Adams', 1), ('Blake',3))\n",
    "# 여러개의 데이터를 넣기 위해 executemany를 사용함.\n",
    "cur.executemany('''\n",
    "   INSERT INTO SUPPLIER VALUES(NULL, ?, ?);\n",
    "''', data)"
   ]
  },
  {
   "cell_type": "code",
   "execution_count": 72,
   "metadata": {},
   "outputs": [
    {
     "data": {
      "text/plain": [
       "[(1, 'Smith', 1), (2, 'Jones', 2), (3, 'Adams', 1), (4, 'Blake', 3)]"
      ]
     },
     "execution_count": 72,
     "metadata": {},
     "output_type": "execute_result"
    }
   ],
   "source": [
    "cur.execute('SELECT * FROM SUPPLIER')\n",
    "cur.fetchall()"
   ]
  },
  {
   "cell_type": "code",
   "execution_count": 80,
   "metadata": {},
   "outputs": [
    {
     "data": {
      "text/plain": [
       "<sqlite3.Cursor at 0x131e62720a0>"
      ]
     },
     "execution_count": 80,
     "metadata": {},
     "output_type": "execute_result"
    }
   ],
   "source": [
    "cur.execute('''drop table part''')"
   ]
  },
  {
   "cell_type": "code",
   "execution_count": 59,
   "metadata": {},
   "outputs": [
    {
     "data": {
      "text/plain": [
       "<sqlite3.Cursor at 0x1e66c717ea0>"
      ]
     },
     "execution_count": 59,
     "metadata": {},
     "output_type": "execute_result"
    }
   ],
   "source": [
    "cur.execute('''\n",
    "    CREATE TABLE PART(\n",
    "    PNO INTEGER PRIMARY KEY,\n",
    "    PNAME TEXT\n",
    "    )\n",
    "''')"
   ]
  },
  {
   "cell_type": "code",
   "execution_count": 60,
   "metadata": {},
   "outputs": [
    {
     "data": {
      "text/plain": [
       "<sqlite3.Cursor at 0x1e66c717ea0>"
      ]
     },
     "execution_count": 60,
     "metadata": {},
     "output_type": "execute_result"
    }
   ],
   "source": [
    "# named 방식의 데이터 기입 방식이다.\n",
    "cur.execute('''\n",
    "    INSERT INTO PART\n",
    "    VALUES (:pno, :pname)\n",
    "''', {'pno':1, 'pname':'Screw'})"
   ]
  },
  {
   "cell_type": "code",
   "execution_count": 61,
   "metadata": {},
   "outputs": [
    {
     "data": {
      "text/plain": [
       "[(1, 'Screw')]"
      ]
     },
     "execution_count": 61,
     "metadata": {},
     "output_type": "execute_result"
    }
   ],
   "source": [
    "cur.execute('SELECT * FROM PART')\n",
    "cur.fetchall()"
   ]
  },
  {
   "cell_type": "code",
   "execution_count": 62,
   "metadata": {},
   "outputs": [
    {
     "data": {
      "text/plain": [
       "<sqlite3.Cursor at 0x1e66c717ea0>"
      ]
     },
     "execution_count": 62,
     "metadata": {},
     "output_type": "execute_result"
    }
   ],
   "source": [
    "data = [ {'pname':'Nut'},\n",
    "         {'pname':'Bolt'},\n",
    "         {'pname':'Cam'}]\n",
    "\n",
    "cur.executemany('''\n",
    "    INSERT INTO PART\n",
    "    VALUES (Null, :pname)\n",
    "''', data)"
   ]
  },
  {
   "cell_type": "code",
   "execution_count": 63,
   "metadata": {},
   "outputs": [
    {
     "data": {
      "text/plain": [
       "[(1, 'Screw'), (2, 'Nut'), (3, 'Bolt'), (4, 'Cam')]"
      ]
     },
     "execution_count": 63,
     "metadata": {},
     "output_type": "execute_result"
    }
   ],
   "source": [
    "cur.execute('SELECT * FROM PART')\n",
    "cur.fetchall()"
   ]
  },
  {
   "cell_type": "code",
   "execution_count": 64,
   "metadata": {},
   "outputs": [
    {
     "data": {
      "text/plain": [
       "<sqlite3.Cursor at 0x1e66c717ea0>"
      ]
     },
     "execution_count": 64,
     "metadata": {},
     "output_type": "execute_result"
    }
   ],
   "source": [
    "cur.execute('''\n",
    "    CREATE TABLE SELLS(\n",
    "    SNO INTEGER NOT NULL,\n",
    "    PNO INTEGER NOT NULL,\n",
    "    PRICE INTEGER NOT NULL\n",
    "    )\n",
    "''')"
   ]
  },
  {
   "cell_type": "code",
   "execution_count": 73,
   "metadata": {},
   "outputs": [
    {
     "data": {
      "text/plain": [
       "(1, 1)"
      ]
     },
     "execution_count": 73,
     "metadata": {},
     "output_type": "execute_result"
    }
   ],
   "source": [
    "key1 = 'Screw'\n",
    "key2 = 'Smith'\n",
    "pno = 0 \n",
    "sno = 0 \n",
    "\n",
    "cur.execute('SELECT PNO FROM PART WHERE PNAME = ?', [key1])\n",
    "\n",
    "result = cur.fetchone()\n",
    "if result:\n",
    "    # 결과가 있을 때\n",
    "    pno = result[0]\n",
    "\n",
    "cur.execute('SELECT SNO FROM SUPPLIER WHERE SNAME = ?', [key2])\n",
    "\n",
    "result = cur.fetchone()\n",
    "if result:\n",
    "    # 결과가 있을 때\n",
    "    sno = result[0]\n",
    "\n",
    "pno, sno"
   ]
  },
  {
   "cell_type": "code",
   "execution_count": 74,
   "metadata": {},
   "outputs": [
    {
     "data": {
      "text/plain": [
       "<sqlite3.Cursor at 0x1e66c717ea0>"
      ]
     },
     "execution_count": 74,
     "metadata": {},
     "output_type": "execute_result"
    }
   ],
   "source": [
    "data = ['Smith', 'Screw', 10]\n",
    "# 중첩 SQL 나중에 procesure로 만든다.\n",
    "# 여러개가 있을 때 LIMIT문을 이용하여 하나를 가져온다. \n",
    "cur.execute('''\n",
    "    INSERT INTO SELLS\n",
    "    VALUES(\n",
    "          (SELECT SNO FROM SUPPLIER WHERE SNAME = ? LIMIT 0, 1), \n",
    "          (SELECT PNO FROM PART WHERE PNAME = ? LIMIT 0, 1),\n",
    "    ?\n",
    "    )\n",
    "''', data)"
   ]
  },
  {
   "cell_type": "code",
   "execution_count": 75,
   "metadata": {},
   "outputs": [
    {
     "data": {
      "text/plain": [
       "[(1, 1, 10)]"
      ]
     },
     "execution_count": 75,
     "metadata": {},
     "output_type": "execute_result"
    }
   ],
   "source": [
    "cur.execute('SELECT * FROM SELLS')\n",
    "cur.fetchall()"
   ]
  },
  {
   "cell_type": "code",
   "execution_count": 97,
   "metadata": {},
   "outputs": [],
   "source": [
    "CITY = dict()\n",
    "\n",
    "cur.execute('SELECT * FROM CITY')\n",
    "for row in cur.fetchall():\n",
    "    CITY[row[1]] = row[0]"
   ]
  },
  {
   "cell_type": "code",
   "execution_count": 98,
   "metadata": {},
   "outputs": [
    {
     "data": {
      "text/plain": [
       "1"
      ]
     },
     "execution_count": 98,
     "metadata": {},
     "output_type": "execute_result"
    }
   ],
   "source": [
    "CITY['London']"
   ]
  },
  {
   "cell_type": "code",
   "execution_count": 102,
   "metadata": {},
   "outputs": [
    {
     "data": {
      "text/plain": [
       "<sqlite3.Cursor at 0x131e62720a0>"
      ]
     },
     "execution_count": 102,
     "metadata": {},
     "output_type": "execute_result"
    }
   ],
   "source": [
    "data = [(1,2,8),\n",
    "        (2,4,38),\n",
    "        (3,1,11),\n",
    "        (3,3,6),\n",
    "        (4,2,7),\n",
    "        (4,3,4),\n",
    "        (4,4,45)]\n",
    "cur.executemany('INSERT INTO SELLS VALUES(?,?,?)', data)"
   ]
  },
  {
   "cell_type": "code",
   "execution_count": 105,
   "metadata": {},
   "outputs": [
    {
     "data": {
      "text/plain": [
       "[(2, 4, 38), (4, 4, 45)]"
      ]
     },
     "execution_count": 105,
     "metadata": {},
     "output_type": "execute_result"
    }
   ],
   "source": [
    "# DB 73 page 내용\n",
    "cur.execute('SELECT * FROM SELLS WHERE PRICE > 11')\n",
    "cur.fetchall()"
   ]
  },
  {
   "cell_type": "code",
   "execution_count": 109,
   "metadata": {},
   "outputs": [
    {
     "data": {
      "text/plain": [
       "[(1, 'Smith', 1, 1, 'Screw'),\n",
       " (1, 'Smith', 1, 2, 'Nut'),\n",
       " (1, 'Smith', 1, 3, 'Bolt'),\n",
       " (1, 'Smith', 1, 4, 'Cam'),\n",
       " (2, 'Jones', 2, 1, 'Screw'),\n",
       " (2, 'Jones', 2, 2, 'Nut'),\n",
       " (2, 'Jones', 2, 3, 'Bolt'),\n",
       " (2, 'Jones', 2, 4, 'Cam'),\n",
       " (3, 'Adams', 1, 1, 'Screw'),\n",
       " (3, 'Adams', 1, 2, 'Nut'),\n",
       " (3, 'Adams', 1, 3, 'Bolt'),\n",
       " (3, 'Adams', 1, 4, 'Cam'),\n",
       " (4, 'Blake', 3, 1, 'Screw'),\n",
       " (4, 'Blake', 3, 2, 'Nut'),\n",
       " (4, 'Blake', 3, 3, 'Bolt'),\n",
       " (4, 'Blake', 3, 4, 'Cam')]"
      ]
     },
     "execution_count": 109,
     "metadata": {},
     "output_type": "execute_result"
    }
   ],
   "source": [
    "# CROSS JOIN\n",
    "cur.execute('SELECT * FROM SUPPLIER, PART;')\n",
    "cur.fetchall()"
   ]
  },
  {
   "cell_type": "code",
   "execution_count": 112,
   "metadata": {},
   "outputs": [
    {
     "data": {
      "text/plain": [
       "[('London', 'Smith'),\n",
       " ('London', 'Adams'),\n",
       " ('Paris', 'Jones'),\n",
       " ('Rome', 'Blake')]"
      ]
     },
     "execution_count": 112,
     "metadata": {},
     "output_type": "execute_result"
    }
   ],
   "source": [
    "# INNER JOIN\n",
    "# 오름차순은 ASC, 내림차순은 DESC\n",
    "cur.execute('SELECT B.CNAME, A.SNAME FROM SUPPLIER A, CITY B WHERE A.CNO = B.CNO ORDER BY A.CNO ASC;')\n",
    "cur.fetchall()"
   ]
  },
  {
   "cell_type": "code",
   "execution_count": 115,
   "metadata": {},
   "outputs": [
    {
     "data": {
      "text/plain": [
       "[('London', 2), ('Paris', 1), ('Rome', 1)]"
      ]
     },
     "execution_count": 115,
     "metadata": {},
     "output_type": "execute_result"
    }
   ],
   "source": [
    "# '''은 줄바꿈을 사용하기 위해서 사용함. 한줄로 사용할 경우 ' 하나로 가능함.\n",
    "cur.execute('''\n",
    "            SELECT B.CNAME, COUNT(*) \n",
    "            FROM SUPPLIER A, CITY B \n",
    "            WHERE A.CNO = B.CNO \n",
    "            GROUP BY A.CNO \n",
    "            ORDER BY A.CNO ASC;\n",
    "            ''')\n",
    "cur.fetchall()"
   ]
  },
  {
   "cell_type": "code",
   "execution_count": 121,
   "metadata": {},
   "outputs": [
    {
     "data": {
      "text/plain": [
       "[('Jones', 'Cam', 38), ('Adams', 'Screw', 11), ('Smith', 'Screw', 10)]"
      ]
     },
     "execution_count": 121,
     "metadata": {},
     "output_type": "execute_result"
    }
   ],
   "source": [
    "cur.execute('''\n",
    "            SELECT SNAME, PNAME, PRICE --COUNT(*)\n",
    "            FROM SELLS, SUPPLIER, PART -- CROSS JOIN하면 8*4*4개의 값이 나온다.\n",
    "            WHERE SELLS.SNO = SUPPLIER.SNO\n",
    "            AND SELLS.PNO = PART.PNO\n",
    "            ORDER BY PRICE DESC\n",
    "            LIMIT 1,3 ; -- LIMIT는 순서 중 2번째부터 4번째 ROW를 들고옴(0부터 시작)\n",
    "            ''')\n",
    "cur.fetchall()"
   ]
  },
  {
   "cell_type": "code",
   "execution_count": 124,
   "metadata": {},
   "outputs": [
    {
     "data": {
      "text/plain": [
       "[('Cam', 2, 83), ('Screw', 2, 21), ('Nut', 2, 15), ('Bolt', 2, 10)]"
      ]
     },
     "execution_count": 124,
     "metadata": {},
     "output_type": "execute_result"
    }
   ],
   "source": [
    "cur.execute('''\n",
    "            SELECT PNAME, COUNT(*), SUM(PRICE) -- 부품별 거래 이력 및 가격합\n",
    "            FROM SELLS, SUPPLIER, PART -- CROSS JOIN하면 8*4*4개의 값이 나온다.\n",
    "            WHERE SELLS.SNO = SUPPLIER.SNO\n",
    "            AND SELLS.PNO = PART.PNO\n",
    "            GROUP BY PART.PNO\n",
    "            ORDER BY PRICE DESC\n",
    "            --LIMIT 1,3 ; -- LIMIT는 순서 중 2번째부터 4번째 ROW를 들고옴(0부터 시작)\n",
    "            ''')\n",
    "cur.fetchall()"
   ]
  },
  {
   "cell_type": "code",
   "execution_count": 128,
   "metadata": {},
   "outputs": [
    {
     "data": {
      "text/plain": [
       "[('Blake', 3, 56), ('Jones', 1, 38), ('Smith', 2, 18), ('Adams', 2, 17)]"
      ]
     },
     "execution_count": 128,
     "metadata": {},
     "output_type": "execute_result"
    }
   ],
   "source": [
    "cur.execute('''\n",
    "            SELECT SNAME, COUNT(*), SUM(PRICE) -- 부품별 거래 이력 및 가격합\n",
    "            FROM SELLS, SUPPLIER, PART -- CROSS JOIN하면 8*4*4개의 값이 나온다.\n",
    "            WHERE SELLS.SNO = SUPPLIER.SNO\n",
    "            AND SELLS.PNO = PART.PNO\n",
    "            GROUP BY SUPPLIER.SNO\n",
    "            ORDER BY SUM(PRICE) DESC\n",
    "            --LIMIT 1,3 ; -- LIMIT는 순서 중 2번째부터 4번째 ROW를 들고옴(0부터 시작)\n",
    "            ''')\n",
    "cur.fetchall()"
   ]
  },
  {
   "cell_type": "code",
   "execution_count": 172,
   "metadata": {},
   "outputs": [],
   "source": [
    "# 작업이 완료되었을 때 닫는 방법\n",
    "con.close()"
   ]
  },
  {
   "cell_type": "code",
   "execution_count": 3,
   "metadata": {},
   "outputs": [],
   "source": [
    "con = sqlite3.connect(r'C:\\Users\\GyeongJun\\Desktop\\고대_SW교육\\오전\\0905.db')\n",
    "cur = con.cursor()"
   ]
  },
  {
   "cell_type": "code",
   "execution_count": 4,
   "metadata": {},
   "outputs": [
    {
     "data": {
      "text/plain": [
       "<sqlite3.Cursor at 0x1e66c6dcc70>"
      ]
     },
     "execution_count": 4,
     "metadata": {},
     "output_type": "execute_result"
    }
   ],
   "source": [
    "cur.execute('drop table part')"
   ]
  },
  {
   "cell_type": "code",
   "execution_count": 5,
   "metadata": {},
   "outputs": [
    {
     "data": {
      "text/plain": [
       "<sqlite3.Cursor at 0x1e66c6dcc70>"
      ]
     },
     "execution_count": 5,
     "metadata": {},
     "output_type": "execute_result"
    }
   ],
   "source": [
    "cur.executescript('''\n",
    "    CREATE TABLE PART(\n",
    "    PNO INTEGER PRIMARY KEY,\n",
    "    PNAME TEXT\n",
    "    )\n",
    "''')"
   ]
  },
  {
   "cell_type": "code",
   "execution_count": 6,
   "metadata": {},
   "outputs": [
    {
     "data": {
      "text/plain": [
       "<sqlite3.Cursor at 0x1e66c6dcc70>"
      ]
     },
     "execution_count": 6,
     "metadata": {},
     "output_type": "execute_result"
    }
   ],
   "source": [
    "# create 이후 처음의 값이 기존 DB의 값이 된다.\n",
    "cur.executescript('''\n",
    "    INSERT INTO PART VALUES(1, 'Screw');\n",
    "    INSERT INTO PART(PNAME) VALUES('Screw');\n",
    "    INSERT INTO PART VALUES(NULL, 'Nut');\n",
    "    INSERT INTO PART VALUES(4, 'Cam');\n",
    "''')"
   ]
  },
  {
   "cell_type": "code",
   "execution_count": 7,
   "metadata": {},
   "outputs": [
    {
     "data": {
      "text/plain": [
       "<sqlite3.Cursor at 0x1e66c6dcc70>"
      ]
     },
     "execution_count": 7,
     "metadata": {},
     "output_type": "execute_result"
    }
   ],
   "source": [
    "# 이후의 값은 반영할지 안할지 정하지 않음.\n",
    "# DB Lock이 걸리면 vscode(SQLite를 조회하던 프로그램을 껐다가 다시 킨다.)\n",
    "cur.execute('''INSERT INTO PART VALUES(NULL, 'Part1');''')"
   ]
  },
  {
   "cell_type": "code",
   "execution_count": 8,
   "metadata": {},
   "outputs": [
    {
     "data": {
      "text/plain": [
       "[(1, 'Screw'), (2, 'Screw'), (3, 'Nut'), (4, 'Cam'), (5, 'Part1')]"
      ]
     },
     "execution_count": 8,
     "metadata": {},
     "output_type": "execute_result"
    }
   ],
   "source": [
    "cur.execute('SELECT * FROM PART')\n",
    "cur.fetchall()"
   ]
  },
  {
   "cell_type": "code",
   "execution_count": 10,
   "metadata": {},
   "outputs": [],
   "source": [
    "# commit을 해주면 적용이 안되는 insert문이 반영된다.\n",
    "con.commit()"
   ]
  },
  {
   "cell_type": "code",
   "execution_count": 11,
   "metadata": {},
   "outputs": [
    {
     "data": {
      "text/plain": [
       "[(1, 'Screw'), (2, 'Screw'), (3, 'Nut'), (4, 'Cam'), (5, 'Part1')]"
      ]
     },
     "execution_count": 11,
     "metadata": {},
     "output_type": "execute_result"
    }
   ],
   "source": [
    "cur.execute('SELECT * FROM PART')\n",
    "cur.fetchall()"
   ]
  },
  {
   "cell_type": "code",
   "execution_count": 12,
   "metadata": {},
   "outputs": [],
   "source": [
    "con.close()"
   ]
  },
  {
   "cell_type": "code",
   "execution_count": 13,
   "metadata": {},
   "outputs": [
    {
     "data": {
      "text/plain": [
       "[(1, 'Screw'), (2, 'Screw'), (3, 'Nut'), (4, 'Cam'), (5, 'Part1')]"
      ]
     },
     "execution_count": 13,
     "metadata": {},
     "output_type": "execute_result"
    }
   ],
   "source": [
    "# 따라서 값을 저장하는 것을 저장하지 않고 close하지 않고 다시 실행하니 값이 저장되어 있지 않음.\n",
    "con = sqlite3.connect(r'C:\\Users\\GyeongJun\\Desktop\\고대_SW교육\\오전\\0905.db')\n",
    "cur = con.cursor()\n",
    "cur.execute('SELECT * FROM PART')\n",
    "cur.fetchall()"
   ]
  },
  {
   "cell_type": "code",
   "execution_count": 16,
   "metadata": {},
   "outputs": [
    {
     "data": {
      "text/plain": [
       "[(1, '아무거나'), (2, '아무거나'), (3, '아무거나'), (4, '아무거나'), (5, '아무거나')]"
      ]
     },
     "execution_count": 16,
     "metadata": {},
     "output_type": "execute_result"
    }
   ],
   "source": [
    "# UPDATE 구문\n",
    "cur.execute('''\n",
    "   UPDATE PART\n",
    "   SET PNAME = '아무거나'         \n",
    "''')\n",
    "cur.execute('SELECT * FROM PART')\n",
    "cur.fetchall()"
   ]
  },
  {
   "cell_type": "code",
   "execution_count": 18,
   "metadata": {},
   "outputs": [
    {
     "data": {
      "text/plain": [
       "<sqlite3.Cursor at 0x1e66c70b5e0>"
      ]
     },
     "execution_count": 18,
     "metadata": {},
     "output_type": "execute_result"
    }
   ],
   "source": [
    "cur.execute('INSERT INTO PART VALUES(NULL, \"ㅇㅇㅇㅇ\")')"
   ]
  },
  {
   "cell_type": "code",
   "execution_count": 20,
   "metadata": {},
   "outputs": [
    {
     "data": {
      "text/plain": [
       "6"
      ]
     },
     "execution_count": 20,
     "metadata": {},
     "output_type": "execute_result"
    }
   ],
   "source": [
    "cur.lastrowid # 맹신 금지"
   ]
  },
  {
   "cell_type": "code",
   "execution_count": 21,
   "metadata": {},
   "outputs": [
    {
     "data": {
      "text/plain": [
       "(6, 'ㅇㅇㅇㅇ')"
      ]
     },
     "execution_count": 21,
     "metadata": {},
     "output_type": "execute_result"
    }
   ],
   "source": [
    "cur.execute('SELECT * FROM PART')\n",
    "cur.fetchall()[-1]"
   ]
  },
  {
   "cell_type": "code",
   "execution_count": 22,
   "metadata": {},
   "outputs": [],
   "source": [
    "con.close()"
   ]
  },
  {
   "cell_type": "code",
   "execution_count": 23,
   "metadata": {},
   "outputs": [],
   "source": [
    "con = sqlite3.connect(r'C:\\Users\\GyeongJun\\Desktop\\고대_SW교육\\오전\\0905.db')\n",
    "cur = con.cursor()"
   ]
  },
  {
   "cell_type": "code",
   "execution_count": 25,
   "metadata": {},
   "outputs": [
    {
     "data": {
      "text/plain": [
       "<sqlite3.Cursor at 0x1e66c717030>"
      ]
     },
     "execution_count": 25,
     "metadata": {},
     "output_type": "execute_result"
    }
   ],
   "source": [
    "# UNIQUE 조건의 오류\n",
    "cur.executescript('''\n",
    "    DROP TABLE IF EXISTS TEMP; -- IF TEMP문이 존재하면 지우고 테이블 새로 만들기\n",
    "    CREATE TABLE TEMP(\n",
    "    PK INTEGER NOT NULL UNIQUE,\n",
    "    NAME TEXT NOT NULL\n",
    "    );\n",
    "     \n",
    "    INSERT INTO TEMP VALUES(1, '테스트1');\n",
    "    INSERT INTO TEMP VALUES(2, '테스트2');\n",
    "    INSERT INTO TEMP VALUES(3, '테스트3');         \n",
    "''')"
   ]
  },
  {
   "cell_type": "code",
   "execution_count": 26,
   "metadata": {},
   "outputs": [
    {
     "name": "stdout",
     "output_type": "stream",
     "text": [
      "BEGIN TRANSACTION;\n",
      "CREATE TABLE PART(\n",
      "    PNO INTEGER PRIMARY KEY,\n",
      "    PNAME TEXT\n",
      "    );\n",
      "INSERT INTO \"PART\" VALUES(1,'Screw');\n",
      "INSERT INTO \"PART\" VALUES(2,'Screw');\n",
      "INSERT INTO \"PART\" VALUES(3,'Nut');\n",
      "INSERT INTO \"PART\" VALUES(4,'Cam');\n",
      "INSERT INTO \"PART\" VALUES(5,'Part1');\n",
      "CREATE TABLE TEMP(\n",
      "    PK INTEGER NOT NULL UNIQUE,\n",
      "    NAME TEXT NOT NULL\n",
      "    );\n",
      "INSERT INTO \"TEMP\" VALUES(1,'테스트1');\n",
      "INSERT INTO \"TEMP\" VALUES(2,'테스트2');\n",
      "INSERT INTO \"TEMP\" VALUES(3,'테스트3');\n",
      "COMMIT;\n"
     ]
    }
   ],
   "source": [
    "# 제약 조건들을 백업하는 것\n",
    "# dump란 DB상태를 저장하고 불러오는 툴이다.\n",
    "for _ in con.iterdump():\n",
    "    print(_)\n",
    "# Begin Transaction에서 문제가 생기면 초기화된다."
   ]
  },
  {
   "cell_type": "code",
   "execution_count": 27,
   "metadata": {},
   "outputs": [],
   "source": [
    "# ORM 테이블 만들기\n",
    "con = sqlite3.connect(r'C:\\Users\\GyeongJun\\Desktop\\고대_SW교육\\오전\\sns.db')\n",
    "cur = con.cursor()"
   ]
  },
  {
   "cell_type": "code",
   "execution_count": 95,
   "metadata": {},
   "outputs": [
    {
     "data": {
      "text/plain": [
       "<sqlite3.Cursor at 0x1e66c717ea0>"
      ]
     },
     "execution_count": 95,
     "metadata": {},
     "output_type": "execute_result"
    }
   ],
   "source": [
    "cur.executescript('''\n",
    "    DROP TABLE IF EXISTS POST;\n",
    "    CREATE TABLE POST(\n",
    "        PK INTEGER PRIMARY KEY,\n",
    "        CONTENT TEXT\n",
    "    );\n",
    "    DROP TABLE IF EXISTS HASHTAG;\n",
    "    CREATE TABLE HASHTAG(\n",
    "        PK INTEGER PRIMARY KEY,\n",
    "        COUNT INTEGER DEFAULT 0,\n",
    "        NAME TEXT\n",
    "    );\n",
    "    DROP TABLE IF EXISTS POSTTAG;\n",
    "    CREATE TABLE POSTTAG(\n",
    "        PPK INTEGER NOT NULL,\n",
    "        HPK INTEGER NOT NULL\n",
    "    );\n",
    "''')"
   ]
  },
  {
   "cell_type": "code",
   "execution_count": 92,
   "metadata": {},
   "outputs": [
    {
     "data": {
      "text/plain": [
       "1"
      ]
     },
     "execution_count": 92,
     "metadata": {},
     "output_type": "execute_result"
    }
   ],
   "source": [
    "# HASHTAG POOL <= TAG가 있는지 검사하는 모듈 만들기\n",
    "# 있으면, 해당 PK값을 가져오고, 없으면 새롭게 INSERT함\n",
    "data = {'tag':'Python'}\n",
    "\n",
    "# 이부분이 tag 존재 유무 확인\n",
    "cur.execute('''\n",
    "            SELECT COUNT(*) \n",
    "            FROM HASHTAG \n",
    "            WHERE NAME = :tag -- :뒤에 값이 key값이다.\n",
    "            ''', data)\n",
    "# 만약 tag가 없다면 Hashtag table name에 tag값을 넣는다.\n",
    "if cur.fetchone()[0] == 0:\n",
    "    cur.execute('''\n",
    "         INSERT INTO HASHTAG(NAME) VALUES(:tag)\n",
    "                ''', data)\n",
    "    # DB 커밋\n",
    "    con.commit()\n",
    "    \n",
    "cur.execute('''\n",
    "            SELECT PK \n",
    "            FROM HASHTAG \n",
    "            WHERE NAME = :tag \n",
    "            LIMIT 0,1 -- 여러개가 있을 수 있으니 한 개만 추출\n",
    "            ''', data)\n",
    "PK = cur.fetchone()[0]\n",
    "PK"
   ]
  },
  {
   "cell_type": "code",
   "execution_count": 97,
   "metadata": {},
   "outputs": [],
   "source": [
    "# Posting 하는 부분\n",
    "data1 = {'content': '본문1', 'tags':['Python']}\n",
    "\n",
    "cur.execute('INSERT INTO POST(CONTENT) VALUES(:content)', data1)\n",
    "con.commit()\n",
    "PPK = cur.lastrowid \n",
    "\"\"\" PPK = 1 \"\"\"\n",
    "\n",
    "# sns 실제 구동 page 4, ORM\n",
    "for tag in data1['tags']:\n",
    "    data = {'tag':tag}\n",
    "\n",
    "    cur.execute('''\n",
    "                SELECT COUNT(*) \n",
    "                FROM HASHTAG \n",
    "                WHERE NAME = :tag -- :뒤에 값이 key값이다.\n",
    "                ''', data)\n",
    "    if cur.fetchone()[0] == 0:\n",
    "        cur.execute('''\n",
    "             INSERT INTO HASHTAG(NAME) VALUES(:tag)\n",
    "                    ''', data)\n",
    "        con.commit()\n",
    "    cur.execute('''\n",
    "                SELECT PK \n",
    "                FROM HASHTAG \n",
    "                WHERE NAME = :tag \n",
    "                LIMIT 0,1 -- 여러개가 있을 수 있으니 한 개만 추출\n",
    "                ''', data)\n",
    "    TPK = cur.fetchone()[0]\n",
    "    \"\"\" TPK = 1 \"\"\"\n",
    "\n",
    "    # 위에 부분 tag를 넣으면 PK 리턴\n",
    "    cur.execute('INSERT INTO POSTTAG VALUES(?,?)', [PPK, TPK])\n",
    "    cur.execute('''\n",
    "                UPDATE HASHTAG SET COUNT = COUNT + 1\n",
    "                WHERE PK = ?\n",
    "                ''', [TPK])\n",
    "    con.commit()"
   ]
  },
  {
   "cell_type": "code",
   "execution_count": 98,
   "metadata": {},
   "outputs": [
    {
     "data": {
      "text/plain": [
       "[(1, 1, 'Python')]"
      ]
     },
     "execution_count": 98,
     "metadata": {},
     "output_type": "execute_result"
    }
   ],
   "source": [
    "cur.execute('select * from hashtag')\n",
    "cur.fetchall()"
   ]
  },
  {
   "cell_type": "code",
   "execution_count": null,
   "metadata": {},
   "outputs": [],
   "source": [
    "# 숙제: 수정 서비스 로직 구현"
   ]
  },
  {
   "cell_type": "code",
   "execution_count": 36,
   "metadata": {},
   "outputs": [
    {
     "name": "stdout",
     "output_type": "stream",
     "text": [
      "Requirement already satisfied: SQLAlchemy in c:\\users\\gyeongjun\\anaconda3\\lib\\site-packages (1.4.39)\n",
      "Requirement already satisfied: greenlet!=0.4.17 in c:\\users\\gyeongjun\\anaconda3\\lib\\site-packages (from SQLAlchemy) (2.0.1)\n"
     ]
    }
   ],
   "source": [
    "# ORM을 위한 라이브러리 설치\n",
    "! pip install SQLAlchemy"
   ]
  },
  {
   "cell_type": "code",
   "execution_count": 38,
   "metadata": {},
   "outputs": [],
   "source": [
    "# 엔진 만들기\n",
    "from sqlalchemy import create_engine, MetaData\n",
    "from sqlalchemy.schema import Table, Column, ForeignKey\n",
    "from sqlalchemy.types import Integer, Text"
   ]
  },
  {
   "cell_type": "code",
   "execution_count": 40,
   "metadata": {},
   "outputs": [],
   "source": [
    "# echo를 True로 설정하면 log에 SQL이 기록된다.\n",
    "# engine을 만드는 순간 실행된다.\n",
    "engine = create_engine('sqlite:///:memory:', echo = True)"
   ]
  },
  {
   "cell_type": "code",
   "execution_count": 41,
   "metadata": {},
   "outputs": [],
   "source": [
    "# 사후에 엔진을 바인딩 시킬 수 있다.\n",
    "meta = MetaData()"
   ]
  },
  {
   "cell_type": "code",
   "execution_count": 43,
   "metadata": {},
   "outputs": [],
   "source": [
    "# 기존 SQLites와 다르게 테이블을 구성할 테이블 명과 열을 정의하면 간단하게 DB를 만들 수있다.\n",
    "user = Table('USER', meta, \n",
    "             Column('PK', Integer, primary_key = True),\n",
    "             Column('NAME', Text, nullable = True))"
   ]
  },
  {
   "cell_type": "code",
   "execution_count": 44,
   "metadata": {},
   "outputs": [
    {
     "name": "stdout",
     "output_type": "stream",
     "text": [
      "2023-09-05 12:24:40,646 INFO sqlalchemy.engine.Engine BEGIN (implicit)\n",
      "2023-09-05 12:24:40,648 INFO sqlalchemy.engine.Engine PRAGMA main.table_info(\"USER\")\n",
      "2023-09-05 12:24:40,648 INFO sqlalchemy.engine.Engine [raw sql] ()\n",
      "2023-09-05 12:24:40,649 INFO sqlalchemy.engine.Engine PRAGMA temp.table_info(\"USER\")\n",
      "2023-09-05 12:24:40,649 INFO sqlalchemy.engine.Engine [raw sql] ()\n",
      "2023-09-05 12:24:40,650 INFO sqlalchemy.engine.Engine \n",
      "CREATE TABLE \"USER\" (\n",
      "\t\"PK\" INTEGER NOT NULL, \n",
      "\t\"NAME\" TEXT, \n",
      "\tPRIMARY KEY (\"PK\")\n",
      ")\n",
      "\n",
      "\n",
      "2023-09-05 12:24:40,652 INFO sqlalchemy.engine.Engine [no key 0.00049s] ()\n",
      "2023-09-05 12:24:40,653 INFO sqlalchemy.engine.Engine COMMIT\n"
     ]
    }
   ],
   "source": [
    "meta.create_all(engine)"
   ]
  },
  {
   "cell_type": "code",
   "execution_count": 45,
   "metadata": {},
   "outputs": [
    {
     "data": {
      "text/plain": [
       "FacadeDict({'USER': Table('USER', MetaData(), Column('PK', Integer(), table=<USER>, primary_key=True, nullable=False), Column('NAME', Text(), table=<USER>), schema=None)})"
      ]
     },
     "execution_count": 45,
     "metadata": {},
     "output_type": "execute_result"
    }
   ],
   "source": [
    "meta.tables"
   ]
  },
  {
   "cell_type": "code",
   "execution_count": 46,
   "metadata": {},
   "outputs": [],
   "source": [
    "# meta의 자료를 저장하지 않고 clear()를 해버리면 만들어둔 테이블이 날라간다.\n",
    "meta.clear()"
   ]
  },
  {
   "cell_type": "code",
   "execution_count": 47,
   "metadata": {},
   "outputs": [
    {
     "data": {
      "text/plain": [
       "FacadeDict({})"
      ]
     },
     "execution_count": 47,
     "metadata": {},
     "output_type": "execute_result"
    }
   ],
   "source": [
    "meta.tables"
   ]
  },
  {
   "cell_type": "code",
   "execution_count": 48,
   "metadata": {},
   "outputs": [
    {
     "name": "stdout",
     "output_type": "stream",
     "text": [
      "2023-09-05 12:26:19,316 INFO sqlalchemy.engine.Engine BEGIN (implicit)\n",
      "2023-09-05 12:26:19,316 INFO sqlalchemy.engine.Engine COMMIT\n"
     ]
    }
   ],
   "source": [
    "meta.create_all(engine)"
   ]
  },
  {
   "cell_type": "code",
   "execution_count": 49,
   "metadata": {},
   "outputs": [
    {
     "name": "stdout",
     "output_type": "stream",
     "text": [
      "2023-09-05 12:27:15,273 INFO sqlalchemy.engine.Engine SELECT name FROM sqlite_master WHERE type='table' ORDER BY name\n",
      "2023-09-05 12:27:15,274 INFO sqlalchemy.engine.Engine [raw sql] ()\n",
      "2023-09-05 12:27:15,275 INFO sqlalchemy.engine.Engine PRAGMA main.table_xinfo(\"USER\")\n",
      "2023-09-05 12:27:15,276 INFO sqlalchemy.engine.Engine [raw sql] ()\n",
      "2023-09-05 12:27:15,277 INFO sqlalchemy.engine.Engine SELECT sql FROM  (SELECT * FROM sqlite_master UNION ALL   SELECT * FROM sqlite_temp_master) WHERE name = ? AND type = 'table'\n",
      "2023-09-05 12:27:15,278 INFO sqlalchemy.engine.Engine [raw sql] ('USER',)\n",
      "2023-09-05 12:27:15,279 INFO sqlalchemy.engine.Engine PRAGMA main.foreign_key_list(\"USER\")\n",
      "2023-09-05 12:27:15,280 INFO sqlalchemy.engine.Engine [raw sql] ()\n",
      "2023-09-05 12:27:15,281 INFO sqlalchemy.engine.Engine PRAGMA temp.foreign_key_list(\"USER\")\n",
      "2023-09-05 12:27:15,282 INFO sqlalchemy.engine.Engine [raw sql] ()\n",
      "2023-09-05 12:27:15,282 INFO sqlalchemy.engine.Engine SELECT sql FROM  (SELECT * FROM sqlite_master UNION ALL   SELECT * FROM sqlite_temp_master) WHERE name = ? AND type = 'table'\n",
      "2023-09-05 12:27:15,283 INFO sqlalchemy.engine.Engine [raw sql] ('USER',)\n",
      "2023-09-05 12:27:15,285 INFO sqlalchemy.engine.Engine PRAGMA main.index_list(\"USER\")\n",
      "2023-09-05 12:27:15,288 INFO sqlalchemy.engine.Engine [raw sql] ()\n",
      "2023-09-05 12:27:15,289 INFO sqlalchemy.engine.Engine PRAGMA temp.index_list(\"USER\")\n",
      "2023-09-05 12:27:15,289 INFO sqlalchemy.engine.Engine [raw sql] ()\n",
      "2023-09-05 12:27:15,291 INFO sqlalchemy.engine.Engine PRAGMA main.index_list(\"USER\")\n",
      "2023-09-05 12:27:15,292 INFO sqlalchemy.engine.Engine [raw sql] ()\n",
      "2023-09-05 12:27:15,293 INFO sqlalchemy.engine.Engine PRAGMA temp.index_list(\"USER\")\n",
      "2023-09-05 12:27:15,294 INFO sqlalchemy.engine.Engine [raw sql] ()\n",
      "2023-09-05 12:27:15,295 INFO sqlalchemy.engine.Engine SELECT sql FROM  (SELECT * FROM sqlite_master UNION ALL   SELECT * FROM sqlite_temp_master) WHERE name = ? AND type = 'table'\n",
      "2023-09-05 12:27:15,296 INFO sqlalchemy.engine.Engine [raw sql] ('USER',)\n"
     ]
    }
   ],
   "source": [
    "# reflect를 사용하면 방금 다 날린 테이블을 다시 불러온다\n",
    "meta.reflect(engine)"
   ]
  },
  {
   "cell_type": "code",
   "execution_count": 50,
   "metadata": {},
   "outputs": [
    {
     "data": {
      "text/plain": [
       "FacadeDict({'USER': Table('USER', MetaData(), Column('PK', INTEGER(), table=<USER>, primary_key=True, nullable=False), Column('NAME', TEXT(), table=<USER>), schema=None)})"
      ]
     },
     "execution_count": 50,
     "metadata": {},
     "output_type": "execute_result"
    }
   ],
   "source": [
    "meta.tables"
   ]
  },
  {
   "cell_type": "code",
   "execution_count": 51,
   "metadata": {},
   "outputs": [
    {
     "data": {
      "text/plain": [
       "(sqlalchemy.sql.schema.Table,\n",
       " ['__bool__',\n",
       "  '__class__',\n",
       "  '__class_getitem__',\n",
       "  '__delattr__',\n",
       "  '__dict__',\n",
       "  '__dir__',\n",
       "  '__doc__',\n",
       "  '__eq__',\n",
       "  '__format__',\n",
       "  '__ge__',\n",
       "  '__getattribute__',\n",
       "  '__getstate__',\n",
       "  '__gt__',\n",
       "  '__hash__',\n",
       "  '__init__',\n",
       "  '__init_subclass__',\n",
       "  '__invert__',\n",
       "  '__le__',\n",
       "  '__lt__',\n",
       "  '__module__',\n",
       "  '__ne__',\n",
       "  '__new__',\n",
       "  '__nonzero__',\n",
       "  '__reduce__',\n",
       "  '__reduce_ex__',\n",
       "  '__repr__',\n",
       "  '__setattr__',\n",
       "  '__sizeof__',\n",
       "  '__slots__',\n",
       "  '__str__',\n",
       "  '__subclasshook__',\n",
       "  '__visit_name__',\n",
       "  '__weakref__',\n",
       "  '_all_selected_columns',\n",
       "  '_annotate',\n",
       "  '_annotations',\n",
       "  '_annotations_cache_key',\n",
       "  '_anonymous_fromclause',\n",
       "  '_assert_no_memoizations',\n",
       "  '_autoincrement_column',\n",
       "  '_autoload',\n",
       "  '_cache_key_traversal',\n",
       "  '_clone',\n",
       "  '_cloned_set',\n",
       "  '_cols_populated',\n",
       "  '_columns',\n",
       "  '_compile_w_cache',\n",
       "  '_compiler',\n",
       "  '_compiler_dispatch',\n",
       "  '_constructor',\n",
       "  '_copy_internals',\n",
       "  '_deannotate',\n",
       "  '_dialect_kwargs_traverse_internals',\n",
       "  '_execute_on_connection',\n",
       "  '_extra_dependencies',\n",
       "  '_extra_kwargs',\n",
       "  '_from_objects',\n",
       "  '_gen_cache_key',\n",
       "  '_generate_cache_attrs',\n",
       "  '_generate_cache_key',\n",
       "  '_generate_cache_key_for_object',\n",
       "  '_generate_fromclause_column_proxies',\n",
       "  '_hide_froms',\n",
       "  '_hierarchy_supports_caching',\n",
       "  '_init',\n",
       "  '_init_collections',\n",
       "  '_init_existing',\n",
       "  '_init_items',\n",
       "  '_is_bind_parameter',\n",
       "  '_is_clause_list',\n",
       "  '_is_clone_of',\n",
       "  '_is_from_clause',\n",
       "  '_is_from_container',\n",
       "  '_is_has_cache_key',\n",
       "  '_is_immutable',\n",
       "  '_is_join',\n",
       "  '_is_lambda_element',\n",
       "  '_is_lateral',\n",
       "  '_is_lexical_equivalent',\n",
       "  '_is_returns_rows',\n",
       "  '_is_select_container',\n",
       "  '_is_select_statement',\n",
       "  '_is_singleton_constant',\n",
       "  '_is_subquery',\n",
       "  '_is_text_clause',\n",
       "  '_is_textual',\n",
       "  '_kw_reg_for_dialect_cls',\n",
       "  '_kw_registry',\n",
       "  '_memoized_keys',\n",
       "  '_negate',\n",
       "  '_negate_in_binary',\n",
       "  '_order_by_label_element',\n",
       "  '_original_compiler_dispatch',\n",
       "  '_populate_column_collection',\n",
       "  '_post_inspect',\n",
       "  '_prefixes',\n",
       "  '_propagate_attrs',\n",
       "  '_refresh_for_new_column',\n",
       "  '_replace_params',\n",
       "  '_reset_column_collection',\n",
       "  '_reset_exported',\n",
       "  '_reset_memoizations',\n",
       "  '_role_name',\n",
       "  '_schema_item_copy',\n",
       "  '_select_iterable',\n",
       "  '_set_memoized_attribute',\n",
       "  '_set_parent',\n",
       "  '_set_parent_with_dispatch',\n",
       "  '_set_propagate_attrs',\n",
       "  '_sorted_constraints',\n",
       "  '_traverse_internals',\n",
       "  '_ungroup',\n",
       "  '_use_schema_map',\n",
       "  '_validate_dialect_kwargs',\n",
       "  '_with_annotations',\n",
       "  '_with_binary_element_type',\n",
       "  'add_is_dependent_on',\n",
       "  'alias',\n",
       "  'allows_lambda',\n",
       "  'append_column',\n",
       "  'append_constraint',\n",
       "  'argument_for',\n",
       "  'bind',\n",
       "  'c',\n",
       "  'columns',\n",
       "  'comment',\n",
       "  'compare',\n",
       "  'compile',\n",
       "  'constraints',\n",
       "  'corresponding_column',\n",
       "  'create',\n",
       "  'create_drop_stringify_dialect',\n",
       "  'delete',\n",
       "  'description',\n",
       "  'dialect_kwargs',\n",
       "  'dialect_options',\n",
       "  'dispatch',\n",
       "  'drop',\n",
       "  'entity_namespace',\n",
       "  'exists',\n",
       "  'exported_columns',\n",
       "  'foreign_key_constraints',\n",
       "  'foreign_keys',\n",
       "  'fullname',\n",
       "  'get_children',\n",
       "  'implicit_returning',\n",
       "  'indexes',\n",
       "  'info',\n",
       "  'inherit_cache',\n",
       "  'insert',\n",
       "  'is_clause_element',\n",
       "  'is_derived_from',\n",
       "  'is_selectable',\n",
       "  'join',\n",
       "  'key',\n",
       "  'kwargs',\n",
       "  'lateral',\n",
       "  'memoized_attribute',\n",
       "  'memoized_instancemethod',\n",
       "  'metadata',\n",
       "  'name',\n",
       "  'named_with_column',\n",
       "  'outerjoin',\n",
       "  'params',\n",
       "  'primary_key',\n",
       "  'replace_selectable',\n",
       "  'schema',\n",
       "  'select',\n",
       "  'selectable',\n",
       "  'self_group',\n",
       "  'stringify_dialect',\n",
       "  'supports_execution',\n",
       "  'table_valued',\n",
       "  'tablesample',\n",
       "  'to_metadata',\n",
       "  'tometadata',\n",
       "  'unique_params',\n",
       "  'update',\n",
       "  'uses_inspection'])"
      ]
     },
     "execution_count": 51,
     "metadata": {},
     "output_type": "execute_result"
    }
   ],
   "source": [
    "type(user), dir(user)"
   ]
  },
  {
   "cell_type": "code",
   "execution_count": 52,
   "metadata": {},
   "outputs": [],
   "source": [
    "# SQLites와 비슷하게 insert 구문을 통해 데이터를 넣는데, \n",
    "# 객체를 만들었기 때문에 양식에 맞춰서 넣기만 하면 된다.\n",
    "user1 = user.insert().values(NAME = '아무개')"
   ]
  },
  {
   "cell_type": "code",
   "execution_count": 57,
   "metadata": {},
   "outputs": [
    {
     "name": "stdout",
     "output_type": "stream",
     "text": [
      "INSERT INTO \"USER\" (\"NAME\") VALUES (:NAME) {'NAME': '아무개'}\n"
     ]
    }
   ],
   "source": [
    "# 실행된 결과가 어떻게 컴파일된건지 알기위해서 compile()을 사용한다.\n",
    "print(user1.compile(), user1.compile().params)"
   ]
  }
 ],
 "metadata": {
  "kernelspec": {
   "display_name": "base",
   "language": "python",
   "name": "python3"
  },
  "language_info": {
   "codemirror_mode": {
    "name": "ipython",
    "version": 3
   },
   "file_extension": ".py",
   "mimetype": "text/x-python",
   "name": "python",
   "nbconvert_exporter": "python",
   "pygments_lexer": "ipython3",
   "version": "3.9.13"
  },
  "orig_nbformat": 4
 },
 "nbformat": 4,
 "nbformat_minor": 2
}
