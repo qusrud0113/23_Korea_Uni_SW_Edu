{
 "cells": [
  {
   "cell_type": "code",
   "execution_count": 1,
   "metadata": {},
   "outputs": [],
   "source": [
    "from bs4 import BeautifulSoup"
   ]
  },
  {
   "cell_type": "code",
   "execution_count": 6,
   "metadata": {},
   "outputs": [],
   "source": [
    "# XML은 열고 닫는 태그가 항상 있어야함.\n",
    "# XML 내에서 태그의 글자형태(대문자, 소문자)는 항상 같아야함\n",
    "# 부모 - 자식의 관계가 중첩되면 안됨\n",
    "# 하지만 html은 이러한 형식을 무시하고 사용 가능하다. > Not Well-formed\n",
    "# parser가 자동으로 지원함.\n",
    "html = '''\n",
    "<html>\n",
    "    <head></head>\n",
    "    <body>\n",
    "        <div>\n",
    "            <p>\n",
    "                <a = href = \"/link1\">링크1</a>\n",
    "            </p>\n",
    "        </div>\n",
    "    </body>\n",
    "</html>\n",
    "'''\n",
    "\n",
    "dom = BeautifulSoup(html, 'html.parser') # (markup, parser)"
   ]
  },
  {
   "cell_type": "code",
   "execution_count": 7,
   "metadata": {},
   "outputs": [
    {
     "data": {
      "text/plain": [
       "\n",
       "<html>\n",
       "<head></head>\n",
       "<body>\n",
       "<div>\n",
       "<p>\n",
       "<a ==\"\" href=\"/link1\">링크1</a>\n",
       "</p>\n",
       "</div>\n",
       "</body>\n",
       "</html>"
      ]
     },
     "execution_count": 7,
     "metadata": {},
     "output_type": "execute_result"
    }
   ],
   "source": [
    "dom # 그냥 객체임 텍스트 x"
   ]
  },
  {
   "cell_type": "code",
   "execution_count": 8,
   "metadata": {},
   "outputs": [
    {
     "data": {
      "text/plain": [
       "<html>\n",
       "<head></head>\n",
       "<body>\n",
       "<div>\n",
       "<p>\n",
       "<a ==\"\" href=\"/link1\">링크1</a>\n",
       "</p>\n",
       "</div>\n",
       "</body>\n",
       "</html>"
      ]
     },
     "execution_count": 8,
     "metadata": {},
     "output_type": "execute_result"
    }
   ],
   "source": [
    "dom.html # 자식 node를 확인하는 법"
   ]
  },
  {
   "cell_type": "code",
   "execution_count": 11,
   "metadata": {},
   "outputs": [
    {
     "data": {
      "text/plain": [
       "(bs4.element.Tag,\n",
       " <div>\n",
       " <p>\n",
       " <a ==\"\" href=\"/link1\">링크1</a>\n",
       " </p>\n",
       " </div>,\n",
       " <div>\n",
       " <p>\n",
       " <a ==\"\" href=\"/link1\">링크1</a>\n",
       " </p>\n",
       " </div>)"
      ]
     },
     "execution_count": 11,
     "metadata": {},
     "output_type": "execute_result"
    }
   ],
   "source": [
    "type(dom.html), dom.html.body.div, dom.div "
   ]
  },
  {
   "cell_type": "code",
   "execution_count": 12,
   "metadata": {},
   "outputs": [
    {
     "data": {
      "text/plain": [
       "True"
      ]
     },
     "execution_count": 12,
     "metadata": {},
     "output_type": "execute_result"
    }
   ],
   "source": [
    "dom.html.body.div is dom.div # node를 타고 내려온 같은 객체다"
   ]
  },
  {
   "cell_type": "code",
   "execution_count": 15,
   "metadata": {},
   "outputs": [
    {
     "data": {
      "text/plain": [
       "'/link1'"
      ]
     },
     "execution_count": 15,
     "metadata": {},
     "output_type": "execute_result"
    }
   ],
   "source": [
    "dom.a.attrs['href'] # attrs로 key values을 얻을 수 있다."
   ]
  },
  {
   "cell_type": "code",
   "execution_count": 19,
   "metadata": {},
   "outputs": [],
   "source": [
    "dom.div.attrs['href'] if dom.div.has_attr('href') else None # 키 값이 있는지 확인"
   ]
  },
  {
   "cell_type": "code",
   "execution_count": 20,
   "metadata": {},
   "outputs": [
    {
     "data": {
      "text/plain": [
       "(True, True)"
      ]
     },
     "execution_count": 20,
     "metadata": {},
     "output_type": "execute_result"
    }
   ],
   "source": [
    "dom.a is dom.p.a, dom.div.a is dom.body.a"
   ]
  },
  {
   "cell_type": "code",
   "execution_count": 22,
   "metadata": {},
   "outputs": [
    {
     "data": {
      "text/plain": [
       "(None, NoneType)"
      ]
     },
     "execution_count": 22,
     "metadata": {},
     "output_type": "execute_result"
    }
   ],
   "source": [
    "dom.a.span, type(dom.a.span) # span은 없는데, return 된게 none type이라그렇다."
   ]
  },
  {
   "cell_type": "code",
   "execution_count": 25,
   "metadata": {},
   "outputs": [
    {
     "ename": "AttributeError",
     "evalue": "'NoneType' object has no attribute 'attrs'",
     "output_type": "error",
     "traceback": [
      "\u001b[1;31m---------------------------------------------------------------------------\u001b[0m",
      "\u001b[1;31mAttributeError\u001b[0m                            Traceback (most recent call last)",
      "\u001b[1;32m~\\AppData\\Local\\Temp\\ipykernel_18808\\911751008.py\u001b[0m in \u001b[0;36m<module>\u001b[1;34m\u001b[0m\n\u001b[0;32m      4\u001b[0m \u001b[1;31m# 3. 속성을 확인하고 attrs를 가져온다.\u001b[0m\u001b[1;33m\u001b[0m\u001b[1;33m\u001b[0m\u001b[0m\n\u001b[0;32m      5\u001b[0m \u001b[1;31m# dom.a.img.has_attr('src')\u001b[0m\u001b[1;33m\u001b[0m\u001b[1;33m\u001b[0m\u001b[0m\n\u001b[1;32m----> 6\u001b[1;33m \u001b[0mdom\u001b[0m\u001b[1;33m.\u001b[0m\u001b[0ma\u001b[0m\u001b[1;33m.\u001b[0m\u001b[0mimg\u001b[0m\u001b[1;33m.\u001b[0m\u001b[0mattrs\u001b[0m\u001b[1;33m[\u001b[0m\u001b[1;34m'src'\u001b[0m\u001b[1;33m]\u001b[0m\u001b[1;33m\u001b[0m\u001b[1;33m\u001b[0m\u001b[0m\n\u001b[0m",
      "\u001b[1;31mAttributeError\u001b[0m: 'NoneType' object has no attribute 'attrs'"
     ]
    }
   ],
   "source": [
    "# img를 찾으려면 \n",
    "# 1. None인지 확인하고\n",
    "# 2. has_attr['src']가 있는지 확인\n",
    "# 3. 속성을 확인하고 attrs를 가져온다.\n",
    "dom.a.img.has_attr('src')\n",
    "dom.a.img.attrs['src']"
   ]
  },
  {
   "cell_type": "code",
   "execution_count": 22,
   "metadata": {},
   "outputs": [],
   "source": [
    "html = '''\n",
    "        <div id ='result'>\n",
    "            <p class='row'>\n",
    "                <a class=\"red\" href = \"/link1\">링크1</a>\n",
    "                <a class=\"blue\" href = \"/link2\">링크2</a>\n",
    "            </p>\n",
    "        </div>\n",
    "'''\n",
    "# 확인해야할 것\n",
    "# 1. 완벽하게 구조화되지 않아도 문제 없음 \n",
    "# 2. attributes는 key value(k = v)로 이루워짐.\n",
    "dom = BeautifulSoup(html, 'html5lib') \n",
    "# 1. html.parser > 주어진 html을 해석 (작성한거 그대로 나옴)\n",
    "# 2. lxml > 바디와 html이 추가됨 (html-body)\n",
    "# 3. html5lib > 완전한 구조로 나옴 (html -head, body)"
   ]
  },
  {
   "cell_type": "code",
   "execution_count": 15,
   "metadata": {},
   "outputs": [
    {
     "data": {
      "text/plain": [
       "<html><head></head><body><div id=\"result\">\n",
       "            <p class=\"row\">\n",
       "                <a class=\"red\" href=\"/link1\">링크1</a>\n",
       "                <a class=\"blue\" href=\"/link2\">링크2</a>\n",
       "            </p>\n",
       "        </div>\n",
       "</body></html>"
      ]
     },
     "execution_count": 15,
     "metadata": {},
     "output_type": "execute_result"
    }
   ],
   "source": [
    "dom"
   ]
  },
  {
   "cell_type": "code",
   "execution_count": 16,
   "metadata": {},
   "outputs": [
    {
     "data": {
      "text/plain": [
       "['\\n                ',\n",
       " <a class=\"red\" href=\"/link1\">링크1</a>,\n",
       " '\\n                ',\n",
       " <a class=\"blue\" href=\"/link2\">링크2</a>,\n",
       " '\\n            ']"
      ]
     },
     "execution_count": 16,
     "metadata": {},
     "output_type": "execute_result"
    }
   ],
   "source": [
    "dom.p.contents # a의 두번째를 공식적으로 찾을 수 없다.\n",
    "               # contents를 보면 확인할 수 있다."
   ]
  },
  {
   "cell_type": "code",
   "execution_count": 17,
   "metadata": {},
   "outputs": [
    {
     "data": {
      "text/plain": [
       "[bs4.element.NavigableString,\n",
       " bs4.element.Tag,\n",
       " bs4.element.NavigableString,\n",
       " bs4.element.Tag,\n",
       " bs4.element.NavigableString]"
      ]
     },
     "execution_count": 17,
     "metadata": {},
     "output_type": "execute_result"
    }
   ],
   "source": [
    "# .은 자손을 의미한다 > 첫번째 매칭되는 자손을 찾아준다\n",
    "# 그렇다면 두번째 자손을 어떻게 찾는가?\n",
    "# 방법1: [_ for _ in dom.p.children]\n",
    "[type(_) for _ in dom.p.contents if type(_) ] # tag개체들만 가져와야 한다. > 지금은 못가져옴"
   ]
  },
  {
   "cell_type": "code",
   "execution_count": 19,
   "metadata": {},
   "outputs": [
    {
     "data": {
      "text/plain": [
       "({'id': 'result'}, {'class': ['red'], 'href': '/link1'})"
      ]
     },
     "execution_count": 19,
     "metadata": {},
     "output_type": "execute_result"
    }
   ],
   "source": [
    "# html markup tag로 감싸져있고, dom 입장 node (tag로 감싸져있다)\n",
    "# id(고유한 속성), class(공통된 속성을 만듬 > 다중 상속 가능), form-data[name]\n",
    "dom.div.attrs, dom.a.attrs"
   ]
  },
  {
   "cell_type": "code",
   "execution_count": 26,
   "metadata": {},
   "outputs": [],
   "source": [
    "html = '''\n",
    "        <div id ='result1'>\n",
    "            <p class='row'>\n",
    "                <a class=\"red\" href = \"/link1\">링크1</a>\n",
    "                <a class=\"blue\" href = \"/link2\">링크2</a>\n",
    "            </p>\n",
    "            \n",
    "            <p class='row'>\n",
    "                <a class=\"red\" href = \"/link1\">링크1</a>\n",
    "                <a class=\"blue\" href = \"/link2\">링크2</a>\n",
    "            </p>\n",
    "        </div>\n",
    "        <div id ='result2'>\n",
    "            <p class='row'>\n",
    "                <a class=\"red\" href = \"/link1\">링크1</a>\n",
    "                <a class=\"blue\" href = \"/link2\">링크2</a>\n",
    "            </p>\n",
    "            \n",
    "            <p class='row'>\n",
    "                <a class=\"red\" href = \"/link1\">링크1</a>\n",
    "                <a class=\"blue\" href = \"/link2\">링크2</a>\n",
    "            </p>\n",
    "        </div>        \n",
    "'''\n",
    "# 이렇게 공통된 class가 있는 경우, 속성과 구조를 이용해야한다.\n",
    "dom = BeautifulSoup(html, 'html.parser') "
   ]
  },
  {
   "cell_type": "code",
   "execution_count": null,
   "metadata": {},
   "outputs": [],
   "source": [
    "# find를 사용하면 찾을 수 있다.\n",
    "dom.find_ # previous(첫번째), next(다음)"
   ]
  },
  {
   "cell_type": "code",
   "execution_count": 29,
   "metadata": {},
   "outputs": [
    {
     "data": {
      "text/plain": [
       "(<div id=\"result1\">\n",
       " <p class=\"row\">\n",
       " <a class=\"red\" href=\"/link1\">링크1</a>\n",
       " <a class=\"blue\" href=\"/link2\">링크2</a>\n",
       " </p>\n",
       " <p class=\"row\">\n",
       " <a class=\"red\" href=\"/link1\">링크1</a>\n",
       " <a class=\"blue\" href=\"/link2\">링크2</a>\n",
       " </p>\n",
       " </div>,\n",
       " [<div id=\"result1\">\n",
       "  <p class=\"row\">\n",
       "  <a class=\"red\" href=\"/link1\">링크1</a>\n",
       "  <a class=\"blue\" href=\"/link2\">링크2</a>\n",
       "  </p>\n",
       "  <p class=\"row\">\n",
       "  <a class=\"red\" href=\"/link1\">링크1</a>\n",
       "  <a class=\"blue\" href=\"/link2\">링크2</a>\n",
       "  </p>\n",
       "  </div>,\n",
       "  <p class=\"row\">\n",
       "  <a class=\"red\" href=\"/link1\">링크1</a>\n",
       "  <a class=\"blue\" href=\"/link2\">링크2</a>\n",
       "  </p>,\n",
       "  <a class=\"red\" href=\"/link1\">링크1</a>,\n",
       "  <a class=\"blue\" href=\"/link2\">링크2</a>,\n",
       "  <p class=\"row\">\n",
       "  <a class=\"red\" href=\"/link1\">링크1</a>\n",
       "  <a class=\"blue\" href=\"/link2\">링크2</a>\n",
       "  </p>,\n",
       "  <a class=\"red\" href=\"/link1\">링크1</a>,\n",
       "  <a class=\"blue\" href=\"/link2\">링크2</a>,\n",
       "  <div id=\"result2\">\n",
       "  <p class=\"row\">\n",
       "  <a class=\"red\" href=\"/link1\">링크1</a>\n",
       "  <a class=\"blue\" href=\"/link2\">링크2</a>\n",
       "  </p>\n",
       "  <p class=\"row\">\n",
       "  <a class=\"red\" href=\"/link1\">링크1</a>\n",
       "  <a class=\"blue\" href=\"/link2\">링크2</a>\n",
       "  </p>\n",
       "  </div>,\n",
       "  <p class=\"row\">\n",
       "  <a class=\"red\" href=\"/link1\">링크1</a>\n",
       "  <a class=\"blue\" href=\"/link2\">링크2</a>\n",
       "  </p>,\n",
       "  <a class=\"red\" href=\"/link1\">링크1</a>,\n",
       "  <a class=\"blue\" href=\"/link2\">링크2</a>,\n",
       "  <p class=\"row\">\n",
       "  <a class=\"red\" href=\"/link1\">링크1</a>\n",
       "  <a class=\"blue\" href=\"/link2\">링크2</a>\n",
       "  </p>,\n",
       "  <a class=\"red\" href=\"/link1\">링크1</a>,\n",
       "  <a class=\"blue\" href=\"/link2\">링크2</a>])"
      ]
     },
     "execution_count": 29,
     "metadata": {},
     "output_type": "execute_result"
    }
   ],
   "source": [
    "dom.find(), dom.find_all() # 둘 다 칠드런을 찾는것이다(_all을 붙히면 여러개를 찾음.)"
   ]
  },
  {
   "cell_type": "code",
   "execution_count": 27,
   "metadata": {},
   "outputs": [
    {
     "data": {
      "text/plain": [
       "True"
      ]
     },
     "execution_count": 27,
     "metadata": {},
     "output_type": "execute_result"
    }
   ],
   "source": [
    "dom.find('a') is dom.a # 내부적으로 가지고 있는 것을 함수로 끌고옴"
   ]
  },
  {
   "cell_type": "code",
   "execution_count": 30,
   "metadata": {},
   "outputs": [
    {
     "data": {
      "text/plain": [
       "True"
      ]
     },
     "execution_count": 30,
     "metadata": {},
     "output_type": "execute_result"
    }
   ],
   "source": [
    "dom.find(attrs = {'id': 'result1'}) is dom.div"
   ]
  },
  {
   "cell_type": "code",
   "execution_count": 32,
   "metadata": {},
   "outputs": [
    {
     "data": {
      "text/plain": [
       "False"
      ]
     },
     "execution_count": 32,
     "metadata": {},
     "output_type": "execute_result"
    }
   ],
   "source": [
    "# 좌변은 두번째 div에서의 a, 우변은 첫번째 div에서의 a (구조적 문제)\n",
    "dom.find(attrs={'id': 'result2'}).a is dom.a "
   ]
  },
  {
   "cell_type": "code",
   "execution_count": 34,
   "metadata": {},
   "outputs": [],
   "source": [
    "dom.find('a', recursive=False) # 결과가 None이 나온다."
   ]
  },
  {
   "cell_type": "code",
   "execution_count": 35,
   "metadata": {},
   "outputs": [
    {
     "data": {
      "text/plain": [
       "<a class=\"red\" href=\"/link1\">링크1</a>"
      ]
     },
     "execution_count": 35,
     "metadata": {},
     "output_type": "execute_result"
    }
   ],
   "source": [
    "dom.find('a', recursive=True) # recursive > 구조를 가지고 찾을 때 탐색하는 범위다.\n",
    "                              # 여기서는 자식을 찾을 지를 확인한다.\n",
    "                              # a는 자식을 갖지 않고 있기 때문에 None이 나온다."
   ]
  },
  {
   "cell_type": "code",
   "execution_count": 36,
   "metadata": {},
   "outputs": [
    {
     "data": {
      "text/plain": [
       "<div id=\"result1\">\n",
       "<p class=\"row\">\n",
       "<a class=\"red\" href=\"/link1\">링크1</a>\n",
       "<a class=\"blue\" href=\"/link2\">링크2</a>\n",
       "</p>\n",
       "<p class=\"row\">\n",
       "<a class=\"red\" href=\"/link1\">링크1</a>\n",
       "<a class=\"blue\" href=\"/link2\">링크2</a>\n",
       "</p>\n",
       "</div>"
      ]
     },
     "execution_count": 36,
     "metadata": {},
     "output_type": "execute_result"
    }
   ],
   "source": [
    "# 만약 parser가 lxml, html5lib인 경우, div > html로 바꾼다.\n",
    "dom.find('div', recursive=False) "
   ]
  },
  {
   "cell_type": "code",
   "execution_count": 41,
   "metadata": {},
   "outputs": [
    {
     "data": {
      "text/plain": [
       "[<a class=\"red\" href=\"/link1\">링크1</a>, <a class=\"blue\" href=\"/link2\">링크2</a>]"
      ]
     },
     "execution_count": 41,
     "metadata": {},
     "output_type": "execute_result"
    }
   ],
   "source": [
    "dom.div.p.find_all(recursive=False) # recursive=False로 두면 자식 노드들만 찾음"
   ]
  },
  {
   "cell_type": "code",
   "execution_count": 43,
   "metadata": {},
   "outputs": [
    {
     "data": {
      "text/plain": [
       "True"
      ]
     },
     "execution_count": 43,
     "metadata": {},
     "output_type": "execute_result"
    }
   ],
   "source": [
    "dom.div.p.find_all(recursive=False)[0] is dom.a # 첫번째 자식"
   ]
  },
  {
   "cell_type": "code",
   "execution_count": 44,
   "metadata": {},
   "outputs": [
    {
     "data": {
      "text/plain": [
       "<a class=\"blue\" href=\"/link2\">링크2</a>"
      ]
     },
     "execution_count": 44,
     "metadata": {},
     "output_type": "execute_result"
    }
   ],
   "source": [
    "dom.div.p.find_all(recursive=False)[1] # 두번째 자식"
   ]
  },
  {
   "cell_type": "code",
   "execution_count": 48,
   "metadata": {},
   "outputs": [
    {
     "data": {
      "text/plain": [
       "True"
      ]
     },
     "execution_count": 48,
     "metadata": {},
     "output_type": "execute_result"
    }
   ],
   "source": [
    "dom.find(string = '링크1').find_parent() is dom.a # find_parent는 string = '링크1'을 가지는 부모 노드"
   ]
  },
  {
   "cell_type": "code",
   "execution_count": 51,
   "metadata": {},
   "outputs": [
    {
     "data": {
      "text/plain": [
       "True"
      ]
     },
     "execution_count": 51,
     "metadata": {},
     "output_type": "execute_result"
    }
   ],
   "source": [
    "dom.find_all(recursive= False, limit = 1)[0] is dom.div # limit는 자식 node의 개수를 한정한다."
   ]
  },
  {
   "cell_type": "code",
   "execution_count": 53,
   "metadata": {},
   "outputs": [
    {
     "data": {
      "text/plain": [
       "True"
      ]
     },
     "execution_count": 53,
     "metadata": {},
     "output_type": "execute_result"
    }
   ],
   "source": [
    "dom.find_all(recursive=False, limit = 1)[0] is dom.find(recursive=False) # find는 한개만 들고오므로 같다."
   ]
  },
  {
   "cell_type": "code",
   "execution_count": 54,
   "metadata": {},
   "outputs": [],
   "source": [
    "import re"
   ]
  },
  {
   "cell_type": "code",
   "execution_count": 56,
   "metadata": {},
   "outputs": [
    {
     "data": {
      "text/plain": [
       "True"
      ]
     },
     "execution_count": 56,
     "metadata": {},
     "output_type": "execute_result"
    }
   ],
   "source": [
    "dom.find(text=re.compile('1$')) is dom.find(string = '링크1') # 1로 끝나는 text찾기"
   ]
  },
  {
   "cell_type": "code",
   "execution_count": 57,
   "metadata": {},
   "outputs": [
    {
     "data": {
      "text/plain": [
       "True"
      ]
     },
     "execution_count": 57,
     "metadata": {},
     "output_type": "execute_result"
    }
   ],
   "source": [
    "dom.find(attrs={'id': re.compile('1$')}) is dom.find(attrs={'id':'result1'}) # attribute가 1로 끝나는 id 찾기"
   ]
  },
  {
   "cell_type": "code",
   "execution_count": 66,
   "metadata": {},
   "outputs": [
    {
     "data": {
      "text/plain": [
       "True"
      ]
     },
     "execution_count": 66,
     "metadata": {},
     "output_type": "execute_result"
    }
   ],
   "source": [
    "# 첫번째 div 첫번째 a의 부모 노드를 찾는 방식(다 같음)\n",
    "dom.a.find_parent() is dom.p\n",
    "dom.p is dom.find('p')\n",
    "dom.find('p') is dom.find(attrs={'class':'row'})\n",
    "dom.find('p').find_all('a')[1].find_parent() is dom.p"
   ]
  },
  {
   "cell_type": "code",
   "execution_count": 69,
   "metadata": {},
   "outputs": [
    {
     "data": {
      "text/plain": [
       "<div id=\"result1\">\n",
       "<p class=\"row\">\n",
       "<a class=\"red\" href=\"/link1\">링크1</a>\n",
       "<a class=\"blue\" href=\"/link2\">링크2</a>\n",
       "</p>\n",
       "<p class=\"row\">\n",
       "<a class=\"red\" href=\"/link1\">링크1</a>\n",
       "<a class=\"blue\" href=\"/link2\">링크2</a>\n",
       "</p>\n",
       "</div>"
      ]
     },
     "execution_count": 69,
     "metadata": {},
     "output_type": "execute_result"
    }
   ],
   "source": [
    "dom.a.find_parent('div') # 가장 가까운 부모의 부모(div)를 찾음."
   ]
  },
  {
   "cell_type": "code",
   "execution_count": 76,
   "metadata": {},
   "outputs": [
    {
     "name": "stdout",
     "output_type": "stream",
     "text": [
      "p\n",
      "div\n",
      "[document]\n"
     ]
    }
   ],
   "source": [
    "for _ in dom.a.find_parents(limit = 3): # limit가 1이면 부모, 2면 부모, 부모, 3면 부모 부모 부모\n",
    "    print(_.name) # 노드의 tag이름"
   ]
  },
  {
   "cell_type": "code",
   "execution_count": 82,
   "metadata": {},
   "outputs": [
    {
     "name": "stdout",
     "output_type": "stream",
     "text": [
      "<p class=\"row\">\n",
      "<a class=\"red\" href=\"/link1\">링크1</a>\n",
      "<a class=\"blue\" href=\"/link2\">링크2</a>\n",
      "</p>\n"
     ]
    }
   ],
   "source": [
    "for _ in dom.p.find_next_siblings(): # 다음의 형제 노드들\n",
    "    print(_)"
   ]
  },
  {
   "cell_type": "code",
   "execution_count": 83,
   "metadata": {},
   "outputs": [
    {
     "data": {
      "text/plain": [
       "[<p class=\"row\">\n",
       " <a class=\"red\" href=\"/link1\">링크1</a>\n",
       " <a class=\"blue\" href=\"/link2\">링크2</a>\n",
       " </p>,\n",
       " <a class=\"red\" href=\"/link1\">링크1</a>,\n",
       " <a class=\"blue\" href=\"/link2\">링크2</a>,\n",
       " <p class=\"row\">\n",
       " <a class=\"red\" href=\"/link1\">링크1</a>\n",
       " <a class=\"blue\" href=\"/link2\">링크2</a>\n",
       " </p>,\n",
       " <a class=\"red\" href=\"/link1\">링크1</a>,\n",
       " <a class=\"blue\" href=\"/link2\">링크2</a>,\n",
       " <p class=\"row\">\n",
       " <a class=\"red\" href=\"/link1\">링크1</a>\n",
       " <a class=\"blue\" href=\"/link2\">링크2</a>\n",
       " </p>,\n",
       " <a class=\"red\" href=\"/link1\">링크1</a>,\n",
       " <a class=\"blue\" href=\"/link2\">링크2</a>,\n",
       " <p class=\"row\">\n",
       " <a class=\"red\" href=\"/link1\">링크1</a>\n",
       " <a class=\"blue\" href=\"/link2\">링크2</a>\n",
       " </p>,\n",
       " <a class=\"red\" href=\"/link1\">링크1</a>,\n",
       " <a class=\"blue\" href=\"/link2\">링크2</a>]"
      ]
     },
     "execution_count": 83,
     "metadata": {},
     "output_type": "execute_result"
    }
   ],
   "source": [
    "dom.find_all(['a','p']) # 여러개를 찾고 싶을 때 []로 묶어줌"
   ]
  },
  {
   "cell_type": "code",
   "execution_count": 84,
   "metadata": {},
   "outputs": [],
   "source": [
    "from requests import get\n",
    "url = 'http://pythonscraping.com/pages/page3.html'\n",
    "\n",
    "resp = get(url)"
   ]
  },
  {
   "cell_type": "code",
   "execution_count": 86,
   "metadata": {},
   "outputs": [
    {
     "data": {
      "text/plain": [
       "(200, 'text/html')"
      ]
     },
     "execution_count": 86,
     "metadata": {},
     "output_type": "execute_result"
    }
   ],
   "source": [
    "resp.status_code, resp.headers['content-type']"
   ]
  },
  {
   "cell_type": "code",
   "execution_count": 87,
   "metadata": {},
   "outputs": [],
   "source": [
    "dom = BeautifulSoup(resp.content, 'html.parser')"
   ]
  },
  {
   "cell_type": "code",
   "execution_count": 88,
   "metadata": {},
   "outputs": [
    {
     "data": {
      "text/plain": [
       "['html']"
      ]
     },
     "execution_count": 88,
     "metadata": {},
     "output_type": "execute_result"
    }
   ],
   "source": [
    "[_.name for _ in dom.find_all(recursive=False)] # 각각 어떤 자식요소가 있는지 확인"
   ]
  },
  {
   "cell_type": "code",
   "execution_count": null,
   "metadata": {},
   "outputs": [],
   "source": [
    "# parser = html.parser\n",
    "# DOM\n",
    "html # 단 하나만 있음.\n",
    "head      body\n",
    "          div\n",
    "         img, h1, div, table, div"
   ]
  },
  {
   "cell_type": "code",
   "execution_count": 97,
   "metadata": {},
   "outputs": [
    {
     "data": {
      "text/plain": [
       "{'id': 'footer'}"
      ]
     },
     "execution_count": 97,
     "metadata": {},
     "output_type": "execute_result"
    }
   ],
   "source": [
    "[_ for _ in dom.div.find_all(recursive=False)][-1].attrs"
   ]
  },
  {
   "cell_type": "code",
   "execution_count": 98,
   "metadata": {},
   "outputs": [],
   "source": [
    "dom = BeautifulSoup(resp.content, 'html5lib')"
   ]
  },
  {
   "cell_type": "code",
   "execution_count": null,
   "metadata": {},
   "outputs": [],
   "source": [
    "# parser = html5lib\n",
    "# DOM\n",
    "html # 단 하나만 있음.\n",
    "head      body\n",
    "          div\n",
    "         img, h1, div, table, p, div"
   ]
  },
  {
   "cell_type": "code",
   "execution_count": 100,
   "metadata": {},
   "outputs": [
    {
     "data": {
      "text/plain": [
       "['img', 'h1', 'div', 'table', 'p', 'div']"
      ]
     },
     "execution_count": 100,
     "metadata": {},
     "output_type": "execute_result"
    }
   ],
   "source": [
    "[_.name for _ in dom.div.find_all(recursive=False)]"
   ]
  },
  {
   "cell_type": "code",
   "execution_count": 101,
   "metadata": {},
   "outputs": [],
   "source": [
    "dom = BeautifulSoup(resp.content, 'lxml')"
   ]
  },
  {
   "cell_type": "code",
   "execution_count": null,
   "metadata": {},
   "outputs": [],
   "source": [
    "# parser = lxml\n",
    "# DOM\n",
    "html # 단 하나만 있음.\n",
    "head      body\n",
    "          div\n",
    "         img, h1, div, table, p, div"
   ]
  },
  {
   "cell_type": "code",
   "execution_count": 102,
   "metadata": {},
   "outputs": [
    {
     "data": {
      "text/plain": [
       "['img', 'h1', 'div', 'table', 'div']"
      ]
     },
     "execution_count": 102,
     "metadata": {},
     "output_type": "execute_result"
    }
   ],
   "source": [
    "[_.name for _ in dom.div.find_all(recursive=False)]"
   ]
  },
  {
   "cell_type": "code",
   "execution_count": 107,
   "metadata": {},
   "outputs": [],
   "source": [
    "# 동일한 html을 받았음에도 parser를 바꿨을 때 dom이 만들어지는 형태가 조금씩 달라짐\n",
    "dom = BeautifulSoup(resp.content, 'html.parser')"
   ]
  },
  {
   "cell_type": "code",
   "execution_count": 116,
   "metadata": {},
   "outputs": [],
   "source": [
    "base = dom.find(attrs = {'id':'footer'})# ,recursive=False) # recursive옵션을 False로 두면 자식에서만 찾는다."
   ]
  },
  {
   "cell_type": "code",
   "execution_count": 122,
   "metadata": {},
   "outputs": [
    {
     "data": {
      "text/plain": [
       "<img src=\"../img/gifts/logo.jpg\" style=\"float:left;\"/>"
      ]
     },
     "execution_count": 122,
     "metadata": {},
     "output_type": "execute_result"
    }
   ],
   "source": [
    "base.find_parent().find()"
   ]
  },
  {
   "cell_type": "code",
   "execution_count": 119,
   "metadata": {},
   "outputs": [
    {
     "data": {
      "text/plain": [
       "True"
      ]
     },
     "execution_count": 119,
     "metadata": {},
     "output_type": "execute_result"
    }
   ],
   "source": [
    "# 형제노드 중 가장 첫번째 = 부모의 첫번째 자식\n",
    "base.find_previous_siblings()[-1] is base.find_parent().find()"
   ]
  },
  {
   "cell_type": "code",
   "execution_count": 124,
   "metadata": {},
   "outputs": [],
   "source": [
    "table = base.find_previous_sibling()"
   ]
  },
  {
   "cell_type": "code",
   "execution_count": 126,
   "metadata": {},
   "outputs": [
    {
     "data": {
      "text/plain": [
       "6"
      ]
     },
     "execution_count": 126,
     "metadata": {},
     "output_type": "execute_result"
    }
   ],
   "source": [
    "len(table.find_all(recursive=False)) # 행들"
   ]
  },
  {
   "cell_type": "code",
   "execution_count": 127,
   "metadata": {},
   "outputs": [
    {
     "data": {
      "text/plain": [
       "<td>\n",
       "<img src=\"../img/gifts/img6.jpg\"/>\n",
       "</td>"
      ]
     },
     "execution_count": 127,
     "metadata": {},
     "output_type": "execute_result"
    }
   ],
   "source": [
    "table.find_all(recursive=False)[-1].find_all(recursive = False)[-1] # 행 내에 열을 찾고 그 행에서 마지막 행의 마지막 이미지가 나온다."
   ]
  },
  {
   "cell_type": "code",
   "execution_count": 130,
   "metadata": {},
   "outputs": [
    {
     "name": "stdout",
     "output_type": "stream",
     "text": [
      "../img/gifts/img1.jpg\n",
      "../img/gifts/img2.jpg\n",
      "../img/gifts/img3.jpg\n",
      "../img/gifts/img4.jpg\n",
      "../img/gifts/img6.jpg\n"
     ]
    }
   ],
   "source": [
    "for tr in table.find_all(recursive=False)[1:]:\n",
    "    td = tr.find_all(recursive = False)[-1] # 테이블 내 마지막열의 사진들\n",
    "    print(td.find('img').attrs['src'])"
   ]
  },
  {
   "cell_type": "code",
   "execution_count": 135,
   "metadata": {},
   "outputs": [
    {
     "name": "stdout",
     "output_type": "stream",
     "text": [
      "$15.00\n",
      "$10,000.52\n",
      "$10,005.00\n",
      "$0.50\n",
      "$1.50\n"
     ]
    }
   ],
   "source": [
    "# 가격을 뽑으려면?\n",
    "for tr in table.find_all(recursive=False)[1:]:\n",
    "    td = tr.find_all(recursive = False)[-2] # 테이블 내 뒤에서 두번째 열\n",
    "    print(re.sub(r'\\s+','', td.text)) # \\s가 1번 이상 사용된 건 ''로 변환 "
   ]
  },
  {
   "cell_type": "code",
   "execution_count": 138,
   "metadata": {},
   "outputs": [
    {
     "data": {
      "text/plain": [
       "[<img src=\"../img/gifts/img1.jpg\"/>,\n",
       " <img src=\"../img/gifts/img2.jpg\"/>,\n",
       " <img src=\"../img/gifts/img3.jpg\"/>,\n",
       " <img src=\"../img/gifts/img4.jpg\"/>,\n",
       " <img src=\"../img/gifts/img6.jpg\"/>]"
      ]
     },
     "execution_count": 138,
     "metadata": {},
     "output_type": "execute_result"
    }
   ],
   "source": [
    "table.find_all('img', attrs={'src': re.compile('jpg$')})"
   ]
  },
  {
   "cell_type": "code",
   "execution_count": 139,
   "metadata": {},
   "outputs": [
    {
     "data": {
      "text/plain": [
       "[<img src=\"../img/gifts/img1.jpg\"/>,\n",
       " <img src=\"../img/gifts/img2.jpg\"/>,\n",
       " <img src=\"../img/gifts/img3.jpg\"/>,\n",
       " <img src=\"../img/gifts/img4.jpg\"/>,\n",
       " <img src=\"../img/gifts/img6.jpg\"/>]"
      ]
     },
     "execution_count": 139,
     "metadata": {},
     "output_type": "execute_result"
    }
   ],
   "source": [
    "table.find_all(attrs={'src': re.compile('jpg$')})"
   ]
  },
  {
   "cell_type": "code",
   "execution_count": 141,
   "metadata": {},
   "outputs": [
    {
     "data": {
      "text/plain": [
       "['$15.00', '$10,000.52', '$10,005.00', '$0.50', '$1.50']"
      ]
     },
     "execution_count": 141,
     "metadata": {},
     "output_type": "execute_result"
    }
   ],
   "source": [
    "[re.sub('\\s+','',_) for _ in table.find_all(text= re.compile('\\$[0-9,.]+'))]"
   ]
  },
  {
   "cell_type": "code",
   "execution_count": 142,
   "metadata": {},
   "outputs": [
    {
     "data": {
      "text/plain": [
       "[<td>\n",
       " $15.00\n",
       " </td>,\n",
       " <td>\n",
       " $10,000.52\n",
       " </td>,\n",
       " <td>\n",
       " $10,005.00\n",
       " </td>,\n",
       " <td>\n",
       " $0.50\n",
       " </td>,\n",
       " <td>\n",
       " $1.50\n",
       " </td>]"
      ]
     },
     "execution_count": 142,
     "metadata": {},
     "output_type": "execute_result"
    }
   ],
   "source": [
    "[_.find_parent() for _ in table.find_all(text= re.compile('\\$[0-9,.]+'))]"
   ]
  },
  {
   "cell_type": "code",
   "execution_count": 145,
   "metadata": {},
   "outputs": [
    {
     "name": "stdout",
     "output_type": "stream",
     "text": [
      "../img/gifts/logo.jpg\n",
      "https://pythonscraping.com/img/gifts/logo.jpg\n",
      "../img/gifts/img1.jpg\n",
      "https://pythonscraping.com/img/gifts/img1.jpg\n",
      "../img/gifts/img2.jpg\n",
      "https://pythonscraping.com/img/gifts/img2.jpg\n",
      "../img/gifts/img3.jpg\n",
      "https://pythonscraping.com/img/gifts/img3.jpg\n",
      "../img/gifts/img4.jpg\n",
      "https://pythonscraping.com/img/gifts/img4.jpg\n",
      "../img/gifts/img6.jpg\n",
      "https://pythonscraping.com/img/gifts/img6.jpg\n"
     ]
    }
   ],
   "source": [
    "from requests.compat import urljoin\n",
    "for _ in dom.find_all('img', attrs = {'src':re.compile(r'jpg$')}):\n",
    "    print(_.attrs['src']) # 상대 경로\n",
    "    print(urljoin(resp.request.url, _.attrs['src'])) # 절대 경로"
   ]
  },
  {
   "cell_type": "code",
   "execution_count": 146,
   "metadata": {},
   "outputs": [],
   "source": [
    "url_img = 'https://pythonscraping.com/img/gifts/img2.jpg'\n",
    "resp = get(url_img)"
   ]
  },
  {
   "cell_type": "code",
   "execution_count": 149,
   "metadata": {},
   "outputs": [
    {
     "name": "stdout",
     "output_type": "stream",
     "text": [
      "image/jpeg\n"
     ]
    }
   ],
   "source": [
    "print(resp.headers['content-type']) # content-type = imag/jpeg"
   ]
  },
  {
   "cell_type": "code",
   "execution_count": 151,
   "metadata": {},
   "outputs": [
    {
     "data": {
      "text/plain": [
       "58424"
      ]
     },
     "execution_count": 151,
     "metadata": {},
     "output_type": "execute_result"
    }
   ],
   "source": [
    "resp.content # text로 읽으면 안됨 > 이미지라서\n",
    "len(resp.content)"
   ]
  },
  {
   "cell_type": "code",
   "execution_count": 152,
   "metadata": {},
   "outputs": [],
   "source": [
    "# 'img2.jpg' open\n",
    "with open(resp.request.url.split('/')[-1], 'wb') as fp:\n",
    "    fp.write(resp.content)"
   ]
  },
  {
   "cell_type": "code",
   "execution_count": 159,
   "metadata": {},
   "outputs": [
    {
     "name": "stdout",
     "output_type": "stream",
     "text": [
      " C ����̺��� �������� �̸��� �����ϴ�.\n",
      " ���� �Ϸ� ��ȣ: 309E-5D87\n",
      "\n",
      " c:\\Users\\GyeongJun\\Desktop\\����_SW����\\Code\\���� ���͸�\n",
      "\n",
      "2023-09-13  ���� 11:28            58,424 img2.jpg\n",
      "               1�� ����              58,424 ����Ʈ\n",
      "               0�� ���͸�  163,242,549,248 ����Ʈ ����\n"
     ]
    }
   ],
   "source": [
    "!dir *.jpg"
   ]
  },
  {
   "cell_type": "code",
   "execution_count": 160,
   "metadata": {},
   "outputs": [],
   "source": [
    "from requests import request, get, post\n",
    "from requests.exceptions import HTTPError\n",
    "from time import sleep\n",
    "\n",
    "def download(url, params = {}, method = 'GET', retrieds = 3):\n",
    "    try:\n",
    "        # params와 data를 method에 따라 정의함.\n",
    "        resp = request(method, \n",
    "                       url, \n",
    "                       # get은 URL에 모든 매개변수를 배치한다\n",
    "                       params= params if method == 'GET' else {} ,\n",
    "                       # post는 모든 매개변수를 본문에 배치한다\n",
    "                       data = params if method == 'POST' else {},\n",
    "                       headers = {'user-agent': \"Mozilla/5.0 (Windows NT 10.0; Win64; x64; rv:109.0) Gecko/20100101 Firefox/117.0\"}\n",
    "                      )\n",
    "        # raise_for_status는 요청/응답 코드가 200이 아니면 예외를 발생              \n",
    "        resp.raise_for_status()\n",
    "        # robots.txt => 잘 안돌아감\n",
    "    except HTTPError as e:\n",
    "        # 아니면,\n",
    "        # if resp.status_code != 200:\n",
    "        if 500 <= e.response.status_code:\n",
    "            if retrieds > 0:\n",
    "                sleep(3)\n",
    "                download(url, method = method, params = params, retrieds = retrieds-1)\n",
    "            else:\n",
    "                print('재방문 횟수 초과')\n",
    "        else:\n",
    "            print('Request', resp.request.headers)\n",
    "            print('Respones', e.response.headers)\n",
    "    return resp\n"
   ]
  },
  {
   "cell_type": "code",
   "execution_count": 258,
   "metadata": {},
   "outputs": [],
   "source": [
    "resp = download('https://www.google.com/search', {'q':'카리나'})"
   ]
  },
  {
   "cell_type": "code",
   "execution_count": 259,
   "metadata": {},
   "outputs": [
    {
     "data": {
      "text/plain": [
       "(200, 'text/html; charset=UTF-8')"
      ]
     },
     "execution_count": 259,
     "metadata": {},
     "output_type": "execute_result"
    }
   ],
   "source": [
    "resp.status_code, resp.headers['Content-Type']"
   ]
  },
  {
   "cell_type": "code",
   "execution_count": 260,
   "metadata": {},
   "outputs": [],
   "source": [
    "dom = BeautifulSoup(resp.text, 'html.parser')"
   ]
  },
  {
   "cell_type": "code",
   "execution_count": 170,
   "metadata": {},
   "outputs": [
    {
     "data": {
      "text/plain": [
       "{'jsname': 'UWckNb',\n",
       " 'href': 'https://namu.wiki/w/%EC%B9%B4%EB%A6%AC%EB%82%98(aespa)',\n",
       " 'data-jsarwt': '1',\n",
       " 'data-usg': 'AOvVaw0AVyeVNjJkBjN3IUmzE7jM',\n",
       " 'data-ved': '2ahUKEwjG6P-WxqaBAxUZWUEAHQmxAREQFnoECCwQAQ'}"
      ]
     },
     "execution_count": 170,
     "metadata": {},
     "output_type": "execute_result"
    }
   ],
   "source": [
    "dom.find(text = re.compile('나무위키')).find_parent().find_parent().attrs # text를 이용해서 나무위키가 있는 노드를 찾음"
   ]
  },
  {
   "cell_type": "code",
   "execution_count": 176,
   "metadata": {},
   "outputs": [
    {
     "data": {
      "text/plain": [
       "[<a data-jsarwt=\"1\" data-usg=\"AOvVaw0AVyeVNjJkBjN3IUmzE7jM\" data-ved=\"2ahUKEwjG6P-WxqaBAxUZWUEAHQmxAREQFnoECCwQAQ\" href=\"https://namu.wiki/w/%EC%B9%B4%EB%A6%AC%EB%82%98(aespa)\" jsname=\"UWckNb\"><br/><h3 class=\"LC20lb MBeuO DKV0Md\">카리나(aespa) - 나무위키</h3><div class=\"notranslate TbwUpd NJjxre iUh30 ojE3Fb\"><span class=\"DDKf1c\"><div aria-hidden=\"true\" class=\"eqA2re UnOTSe Vwoesf\"><img alt=\"\" class=\"XNo5Ab\" src=\"data:image/png;base64,iVBORw0KGgoAAAANSUhEUgAAABwAAAAcCAMAAABF0y+mAAAAq1BMVEUBp5oDp5kEp5gFqJYGqJUJqZMKqZEOq40PrIwRrIoTrYgUrYcWroUXroMYr4Iar4AcsH8dsH4esXwfsXoisngisncks3Uls3QntHMAo4kApodqwrPx+vmLz78nsJ3////J5+Gw3s9UvKUApoMApWeV0cN3yLPg8u4+tp284tuR0rpLuKfV7eil2chZwJaAzat7ybhIupew3sY9uYEAone44s0Nr21pxKig1s+V4eOvAAAA5klEQVR4AdXRRQLCMBAFUNzdEwZ+DHfn/hfDqbdr2OZlPBaLJ5KpdCaTzebyhWKpXKnW6o1mq93p9no/ihnGeSj2iQY8BIcQEiqvH+bHPtIGIz0GZNWfFhOBaQ6zOcbVJ7baDlwsMdMKQ4PVE1vrTbtrj8K24Jpogt0DG3sAB8ecDAOdndHk+KyJURWnswMlaX3cYfcI3DyQbMwwloVS4tnunLB0pZ2R5BNAqAuAVd2sN61vQ6kZ5PMxVyyWSTbqrlFSuB73j5KP9ZVXqLuXkBJYYfbebWnl25CA+J6s6kPGWOSx/wLvEPY0IwyYaiYAAAAASUVORK5CYII=\" style=\"height:26px;width:26px\"/></div></span><div><span class=\"VuuXrf\">나무위키</span><div class=\"byrV5b\"><cite class=\"qLRx3b tjvcx GvPZzd cHaqb\" role=\"text\">https://namu.wiki<span class=\"dyjrff ob9lvb\" role=\"text\"> › 카리나(aespa)</span></cite></div></div></div></a>,\n",
       " <a data-jsarwt=\"1\" data-usg=\"AOvVaw3PVtOUVBOHIfovByRQYoqM\" data-ved=\"2ahUKEwjG6P-WxqaBAxUZWUEAHQmxAREQFnoECCcQAQ\" href=\"https://ko.wikipedia.org/wiki/%EC%B9%B4%EB%A6%AC%EB%82%98_(%EA%B0%80%EC%88%98)\" jsname=\"UWckNb\"><br/><h3 class=\"LC20lb MBeuO DKV0Md\">카리나 (가수) - 위키백과, 우리 모두의 백과사전</h3><div class=\"notranslate TbwUpd NJjxre iUh30 ojE3Fb\"><span class=\"DDKf1c\"><div aria-hidden=\"true\" class=\"eqA2re UnOTSe Vwoesf\"><img alt=\"\" class=\"XNo5Ab\" src=\"data:image/png;base64,iVBORw0KGgoAAAANSUhEUgAAABwAAAAcCAAAAABXZoBIAAAAnklEQVR4AeTNIQiDQABG4b+u17X1aF6PK3YEO9iMJqPVau82y4FgMezS0oVLhqsHtrcqeqzDXv3CEz/6L4yTtZM3dnHmPTtjzXZAXKYVo4agkU2GI2Lloc6JDez1+flswMu1EQZ3xlE7lK8eKDkjtwE+crBMV+wesKmCiisGGepZIfQJpMj9SNb2MYWrChjVkULuCyCfRvsdmBieyQQAsoDk/9ryhFMAAAAASUVORK5CYII=\" style=\"height:26px;width:26px\"/></div></span><div><span class=\"VuuXrf\">Wikipedia</span><div class=\"byrV5b\"><cite class=\"qLRx3b tjvcx GvPZzd cHaqb\" role=\"text\">https://ko.wikipedia.org<span class=\"dyjrff ob9lvb\" role=\"text\"> › wiki › 카리나_(가수)</span></cite></div></div></div></a>,\n",
       " <a data-jsarwt=\"1\" data-usg=\"AOvVaw3K1d_QjjGST-a8sc5WRGoH\" data-ved=\"2ahUKEwjG6P-WxqaBAxUZWUEAHQmxAREQFnoECC4QAQ\" href=\"https://www.instagram.com/karina_aespas_/\" jsname=\"UWckNb\"><br/><h3 class=\"LC20lb MBeuO DKV0Md\">AESPA KARINA 카리나 (@karina_aespas_)</h3><div class=\"notranslate TbwUpd NJjxre iUh30 ojE3Fb\"><span class=\"DDKf1c\"><div aria-hidden=\"true\" class=\"eqA2re UnOTSe Vwoesf\"><img alt=\"\" class=\"XNo5Ab\" src=\"data:image/png;base64,iVBORw0KGgoAAAANSUhEUgAAABwAAAAcCAMAAABF0y+mAAABU1BMVEVHcExIETGJE378lA3tD6r+gAP9mQd3Fv3+bwTtBLF3F/z8HYb2AZ39EoX9egv9tgn7Q0n9O1rbBMz9UzH////+AmT+IHf+wAP+A3D/9vX+ygD+A73+swD+BrH+CoeUFv3+LkiBE/r+PkX+jQD/17T/Y53+AY9zFP3+ogH+dBn+LVf+AFn+AH3/scjlANX9A6X/8vv+fgD+LGasAuPYANb+QzTuYuD+weP+Ui/+VwT+Zx3AAd7+Phr+3PT9GZjxCMz+ruj+AJj+ZQHyAMD+gxHNAdv+VBnSGvP/wMj+yWf+ttfyALH+W8L+G2STB+qhAff+Zi7+GlL/0cj+KjL3vPD7I7vkAMj+lwOuGPz/6uP+AEL/y9b/vrn+foH7dtHYXuj+Yoe+DvP+rGLiOuTpF+P+fp/+Wzf+lXv+fSXzHdT+woH+mjj+XFnWgvj+gl7+jwv+xlD0p65GAAAAFHRSTlMAAQFcXPLZzv7SXM/948TEXNjEw5VwnIwAAAI4SURBVCiRTdLZV5tAFMDhqXqM22lrexmhGiREaUJQCBZJIpBmNc2+m8XGfV/a//+pd0js8fcwD3zMsJxLCCErge9YKFSv1w8ODo6OjgqFH18WCPlAyFzAl9BMCiis/jJuIwFG29sNX/DqPqvf7+dQV0I+NS7Ozs4Opz2k0+lcrlJZIIFtrPFiwLuMCbPKMkEaNLoAbrf7c1rXBbCDQX1tjQwGg4sXMK7207nNt3oGTHQ9o5Dj4+MLA9A2N4MYUtWt9sDIZBSR4RW4aHhQsFpFd8HNuOApokaur68PoZvrBXXdZi9j67gzY8OupvHk4SE9wSue5xlglMu46HhiGZHnSa+nT6AsitoYbE1UFBtsRRH3YJfnOeJ54g3s8ZSCwVMRMwCfhshxHKG0hthSz6HEUUpFzT9xhqoq/YbTDi6llmlSyiPyHGIMUZI7DC0ZBEk1TZMzgHKxGVqWg+gknDaMJUlqjWEcq/1Hx3mF02QxcSuAUCrhoqqt0R6cxzieFIvJV2gnU6lUs81+QlvG/aPSFJPJbBSG2SiWbd7d3VqWLEujIZgcr5FkdikrwFM8n8/f30dTzeZtwuo8gzCq8SLJLsXjjyA8hVnx+FKqWHSeBbhp1ahC0MLhHYDhzlvtIUCpo9aoRz7GwyeRyKPwfkyEO0dWTbpK5pltbW1t/P3ld3l5eY8fJssmxdFdZLYxDW+KnITz0VTCktVVnNu5RWbf/BhHThCbCXmd+DM//2lmM/2Tjza/fkb7B9sPjRNHjz//AAAAAElFTkSuQmCC\" style=\"height:26px;width:26px\"/></div></span><div><span class=\"VuuXrf\">Instagram</span><div class=\"byrV5b\"><cite class=\"qLRx3b tjvcx GvPZzd cHaqb\" role=\"text\">https://www.instagram.com<span class=\"dyjrff ob9lvb\" role=\"text\"> › karina_aespas_</span></cite></div></div></div></a>,\n",
       " <a data-jsarwt=\"1\" data-usg=\"AOvVaw36TjxjPqZf5bu_EP2J0_Lc\" data-ved=\"2ahUKEwjG6P-WxqaBAxUZWUEAHQmxAREQFnoECE0QAQ\" href=\"https://www.youtube.com/watch?v=sXeYkw4VE24\" jsname=\"UWckNb\"><br/><h3 class=\"LC20lb MBeuO DKV0Md\">[입덕직캠] 에스파 카리나 직캠 4K 'Salty &amp; Sweet' (aespa ...</h3><div class=\"notranslate TbwUpd NJjxre iUh30 ojE3Fb\"><span class=\"DDKf1c\"><div aria-hidden=\"true\" class=\"eqA2re UnOTSe Vwoesf\"><img alt=\"\" class=\"XNo5Ab\" src=\"data:image/png;base64,iVBORw0KGgoAAAANSUhEUgAAABwAAAAcCAYAAAByDd+UAAAAwklEQVR4AWNwL/ChKx6GFo5a+J+BQRmIfYE4HYgrgLgLiOdA8VqsGCHfBdWTDjVDGaeFQElmIL4CxP+pjK/gsnA7SAGN8FpsFv6nJUaxECggSmsLQXYgW2hOlKbs7P//7ezItVAf2UJfojTNnv0fDNauJcdCX2QLo0iwEAHa2si2MJ1ECxHg1StIUBPWH0V3C+kepOQnmi1byE809M8W9M/49C/a6F940796wqyAo/BUvtuRMZ5KOApk1mibhmI8aiEAWJrZd6IgmiUAAAAASUVORK5CYII=\" style=\"height:26px;width:26px\"/></div></span><div><span class=\"VuuXrf\">YouTube</span><div class=\"byrV5b\"><cite class=\"qLRx3b tjvcx GvPZzd cHaqb\" role=\"text\">https://www.youtube.com<span class=\"dyjrff ob9lvb\" role=\"text\"> › watch</span></cite></div></div></div></a>,\n",
       " <a data-jsarwt=\"1\" data-usg=\"AOvVaw3uQOkqAi0KRyihUa1DVehO\" data-ved=\"2ahUKEwjG6P-WxqaBAxUZWUEAHQmxAREQFnoECCoQAQ\" href=\"https://www.youtube.com/watch?v=TqBXWlVKXrs\" jsname=\"UWckNb\"><br/><h3 class=\"LC20lb MBeuO DKV0Md\">[얼빡직캠 4K] 에스파 카리나 'Spicy' (aespa KARINA ...</h3><div class=\"notranslate TbwUpd NJjxre iUh30 ojE3Fb\"><span class=\"DDKf1c\"><div aria-hidden=\"true\" class=\"eqA2re UnOTSe Vwoesf\"><img alt=\"\" class=\"XNo5Ab\" src=\"data:image/png;base64,iVBORw0KGgoAAAANSUhEUgAAABwAAAAcCAYAAAByDd+UAAAAwklEQVR4AWNwL/ChKx6GFo5a+J+BQRmIfYE4HYgrgLgLiOdA8VqsGCHfBdWTDjVDGaeFQElmIL4CxP+pjK/gsnA7SAGN8FpsFv6nJUaxECggSmsLQXYgW2hOlKbs7P//7ezItVAf2UJfojTNnv0fDNauJcdCX2QLo0iwEAHa2si2MJ1ECxHg1StIUBPWH0V3C+kepOQnmi1byE809M8W9M/49C/a6F940796wqyAo/BUvtuRMZ5KOApk1mibhmI8aiEAWJrZd6IgmiUAAAAASUVORK5CYII=\" style=\"height:26px;width:26px\"/></div></span><div><span class=\"VuuXrf\">YouTube</span><div class=\"byrV5b\"><cite class=\"qLRx3b tjvcx GvPZzd cHaqb\" role=\"text\">https://www.youtube.com<span class=\"dyjrff ob9lvb\" role=\"text\"> › watch</span></cite></div></div></div></a>,\n",
       " <a data-jsarwt=\"1\" data-usg=\"AOvVaw3ox_1DhkZfLxztX3-BSmrY\" data-ved=\"2ahUKEwjG6P-WxqaBAxUZWUEAHQmxAREQFnoECEwQAQ\" href=\"https://www.youtube.com/watch?v=gO_ONOnzH-s\" jsname=\"UWckNb\"><br/><h3 class=\"LC20lb MBeuO DKV0Md\">#PictureChallenge 📸✌ with #KARINA #GISELLE #HYO ...</h3><div class=\"notranslate TbwUpd NJjxre iUh30 ojE3Fb\"><span class=\"DDKf1c\"><div aria-hidden=\"true\" class=\"eqA2re UnOTSe Vwoesf\"><img alt=\"\" class=\"XNo5Ab\" src=\"data:image/png;base64,iVBORw0KGgoAAAANSUhEUgAAABwAAAAcCAYAAAByDd+UAAAAwklEQVR4AWNwL/ChKx6GFo5a+J+BQRmIfYE4HYgrgLgLiOdA8VqsGCHfBdWTDjVDGaeFQElmIL4CxP+pjK/gsnA7SAGN8FpsFv6nJUaxECggSmsLQXYgW2hOlKbs7P//7ezItVAf2UJfojTNnv0fDNauJcdCX2QLo0iwEAHa2si2MJ1ECxHg1StIUBPWH0V3C+kepOQnmi1byE809M8W9M/49C/a6F940796wqyAo/BUvtuRMZ5KOApk1mibhmI8aiEAWJrZd6IgmiUAAAAASUVORK5CYII=\" style=\"height:26px;width:26px\"/></div></span><div><span class=\"VuuXrf\">YouTube</span><div class=\"byrV5b\"><cite class=\"qLRx3b tjvcx GvPZzd cHaqb\" role=\"text\">https://www.youtube.com<span class=\"dyjrff ob9lvb\" role=\"text\"> › watch</span></cite></div></div></div></a>,\n",
       " <a data-jsarwt=\"1\" data-usg=\"AOvVaw0FrNMkKE-AgblyocHKXZfu\" data-ved=\"2ahUKEwjG6P-WxqaBAxUZWUEAHQmxAREQFnoECE4QAQ\" href=\"https://www.youtube.com/shorts/Dul1Q0SK0n4\" jsname=\"UWckNb\"><br/><h3 class=\"LC20lb MBeuO DKV0Md\">🎺🫧✨ #Chicago #pinkchampagne #aespa #æspa #에스파 ...</h3><div class=\"notranslate TbwUpd NJjxre iUh30 ojE3Fb\"><span class=\"DDKf1c\"><div aria-hidden=\"true\" class=\"eqA2re UnOTSe Vwoesf\"><img alt=\"\" class=\"XNo5Ab\" src=\"data:image/png;base64,iVBORw0KGgoAAAANSUhEUgAAABwAAAAcCAYAAAByDd+UAAAAwklEQVR4AWNwL/ChKx6GFo5a+J+BQRmIfYE4HYgrgLgLiOdA8VqsGCHfBdWTDjVDGaeFQElmIL4CxP+pjK/gsnA7SAGN8FpsFv6nJUaxECggSmsLQXYgW2hOlKbs7P//7ezItVAf2UJfojTNnv0fDNauJcdCX2QLo0iwEAHa2si2MJ1ECxHg1StIUBPWH0V3C+kepOQnmi1byE809M8W9M/49C/a6F940796wqyAo/BUvtuRMZ5KOApk1mibhmI8aiEAWJrZd6IgmiUAAAAASUVORK5CYII=\" style=\"height:26px;width:26px\"/></div></span><div><span class=\"VuuXrf\">YouTube</span><div class=\"byrV5b\"><cite class=\"qLRx3b tjvcx GvPZzd cHaqb\" role=\"text\">https://www.youtube.com<span class=\"dyjrff ob9lvb\" role=\"text\"> › shorts</span></cite></div></div></div></a>,\n",
       " <a data-jsarwt=\"1\" data-usg=\"AOvVaw3XXVVYzWys30-QORlEuGm2\" data-ved=\"2ahUKEwjG6P-WxqaBAxUZWUEAHQmxAREQFnoECCsQAQ\" href=\"https://namu.wiki/w/%EC%B9%B4%EB%A6%AC%EB%82%98(aespa)?rev=3170\" jsname=\"UWckNb\"><br/><h3 class=\"LC20lb MBeuO DKV0Md\">카리나(aespa) (r3170 판)</h3><div class=\"notranslate TbwUpd NJjxre iUh30 ojE3Fb\"><span class=\"DDKf1c\"><div aria-hidden=\"true\" class=\"eqA2re UnOTSe Vwoesf\"><img alt=\"\" class=\"XNo5Ab\" src=\"data:image/png;base64,iVBORw0KGgoAAAANSUhEUgAAABwAAAAcCAMAAABF0y+mAAAAq1BMVEUBp5oDp5kEp5gFqJYGqJUJqZMKqZEOq40PrIwRrIoTrYgUrYcWroUXroMYr4Iar4AcsH8dsH4esXwfsXoisngisncks3Uls3QntHMAo4kApodqwrPx+vmLz78nsJ3////J5+Gw3s9UvKUApoMApWeV0cN3yLPg8u4+tp284tuR0rpLuKfV7eil2chZwJaAzat7ybhIupew3sY9uYEAone44s0Nr21pxKig1s+V4eOvAAAA5klEQVR4AdXRRQLCMBAFUNzdEwZ+DHfn/hfDqbdr2OZlPBaLJ5KpdCaTzebyhWKpXKnW6o1mq93p9no/ihnGeSj2iQY8BIcQEiqvH+bHPtIGIz0GZNWfFhOBaQ6zOcbVJ7baDlwsMdMKQ4PVE1vrTbtrj8K24Jpogt0DG3sAB8ecDAOdndHk+KyJURWnswMlaX3cYfcI3DyQbMwwloVS4tnunLB0pZ2R5BNAqAuAVd2sN61vQ6kZ5PMxVyyWSTbqrlFSuB73j5KP9ZVXqLuXkBJYYfbebWnl25CA+J6s6kPGWOSx/wLvEPY0IwyYaiYAAAAASUVORK5CYII=\" style=\"height:26px;width:26px\"/></div></span><div><span class=\"VuuXrf\">나무위키</span><div class=\"byrV5b\"><cite class=\"qLRx3b tjvcx GvPZzd cHaqb\" role=\"text\">https://namu.wiki<span class=\"dyjrff ob9lvb\" role=\"text\"> › 카리나(aespa)</span></cite></div></div></div></a>,\n",
       " <a data-jsarwt=\"1\" data-usg=\"AOvVaw0w5Ebic0J-BM04SFZ7uDxl\" data-ved=\"2ahUKEwjG6P-WxqaBAxUZWUEAHQmxAREQFnoECCgQAQ\" href=\"https://www.youtube.com/watch?v=v63rTR68TdA\" jsname=\"UWckNb\"><br/><h3 class=\"LC20lb MBeuO DKV0Md\">230625 aespa(에스파) 'Next Level' 카리나 KARINA 4K ...</h3><div class=\"notranslate TbwUpd NJjxre iUh30 ojE3Fb\"><span class=\"DDKf1c\"><div aria-hidden=\"true\" class=\"eqA2re UnOTSe Vwoesf\"><img alt=\"\" class=\"XNo5Ab\" src=\"data:image/png;base64,iVBORw0KGgoAAAANSUhEUgAAABwAAAAcCAYAAAByDd+UAAAAwklEQVR4AWNwL/ChKx6GFo5a+J+BQRmIfYE4HYgrgLgLiOdA8VqsGCHfBdWTDjVDGaeFQElmIL4CxP+pjK/gsnA7SAGN8FpsFv6nJUaxECggSmsLQXYgW2hOlKbs7P//7ezItVAf2UJfojTNnv0fDNauJcdCX2QLo0iwEAHa2si2MJ1ECxHg1StIUBPWH0V3C+kepOQnmi1byE809M8W9M/49C/a6F940796wqyAo/BUvtuRMZ5KOApk1mibhmI8aiEAWJrZd6IgmiUAAAAASUVORK5CYII=\" style=\"height:26px;width:26px\"/></div></span><div><span class=\"VuuXrf\">YouTube</span><div class=\"byrV5b\"><cite class=\"qLRx3b tjvcx GvPZzd cHaqb\" role=\"text\">https://www.youtube.com<span class=\"dyjrff ob9lvb\" role=\"text\"> › watch</span></cite></div></div></div></a>,\n",
       " <a data-jsarwt=\"1\" data-usg=\"AOvVaw1Gz1z8T3uGHfOEnV0NgDdn\" data-ved=\"2ahUKEwjG6P-WxqaBAxUZWUEAHQmxAREQFnoECCkQAQ\" href=\"https://www.youtube.com/watch?v=prSFnMkjtlI\" jsname=\"UWckNb\"><br/><h3 class=\"LC20lb MBeuO DKV0Md\">KARINA big girl making money 💸 ...</h3><div class=\"notranslate TbwUpd NJjxre iUh30 ojE3Fb\"><span class=\"DDKf1c\"><div aria-hidden=\"true\" class=\"eqA2re UnOTSe Vwoesf\"><img alt=\"\" class=\"XNo5Ab\" src=\"data:image/png;base64,iVBORw0KGgoAAAANSUhEUgAAABwAAAAcCAYAAAByDd+UAAAAwklEQVR4AWNwL/ChKx6GFo5a+J+BQRmIfYE4HYgrgLgLiOdA8VqsGCHfBdWTDjVDGaeFQElmIL4CxP+pjK/gsnA7SAGN8FpsFv6nJUaxECggSmsLQXYgW2hOlKbs7P//7ezItVAf2UJfojTNnv0fDNauJcdCX2QLo0iwEAHa2si2MJ1ECxHg1StIUBPWH0V3C+kepOQnmi1byE809M8W9M/49C/a6F940796wqyAo/BUvtuRMZ5KOApk1mibhmI8aiEAWJrZd6IgmiUAAAAASUVORK5CYII=\" style=\"height:26px;width:26px\"/></div></span><div><span class=\"VuuXrf\">YouTube</span><div class=\"byrV5b\"><cite class=\"qLRx3b tjvcx GvPZzd cHaqb\" role=\"text\">https://www.youtube.com<span class=\"dyjrff ob9lvb\" role=\"text\"> › watch</span></cite></div></div></div></a>]"
      ]
     },
     "execution_count": 176,
     "metadata": {},
     "output_type": "execute_result"
    }
   ],
   "source": [
    "dom.find_all(attrs={'jsname': 'UWckNb'})"
   ]
  },
  {
   "cell_type": "code",
   "execution_count": 178,
   "metadata": {},
   "outputs": [
    {
     "name": "stdout",
     "output_type": "stream",
     "text": [
      "카리나(aespa) - 나무위키나무위키https://namu.wiki › 카리나(aespa)\n",
      "https://namu.wiki/w/%EC%B9%B4%EB%A6%AC%EB%82%98(aespa)\n",
      "카리나 (가수) - 위키백과, 우리 모두의 백과사전Wikipediahttps://ko.wikipedia.org › wiki › 카리나_(가수)\n",
      "https://ko.wikipedia.org/wiki/%EC%B9%B4%EB%A6%AC%EB%82%98_(%EA%B0%80%EC%88%98)\n",
      "AESPA KARINA 카리나 (@karina_aespas_)Instagramhttps://www.instagram.com › karina_aespas_\n",
      "https://www.instagram.com/karina_aespas_/\n",
      "[입덕직캠] 에스파 카리나 직캠 4K 'Salty & Sweet' (aespa ...YouTubehttps://www.youtube.com › watch\n",
      "https://www.youtube.com/watch?v=sXeYkw4VE24\n",
      "[얼빡직캠 4K] 에스파 카리나 'Spicy' (aespa KARINA ...YouTubehttps://www.youtube.com › watch\n",
      "https://www.youtube.com/watch?v=TqBXWlVKXrs\n",
      "#PictureChallenge 📸✌ with #KARINA #GISELLE #HYO ...YouTubehttps://www.youtube.com › watch\n",
      "https://www.youtube.com/watch?v=gO_ONOnzH-s\n",
      "🎺🫧✨ #Chicago #pinkchampagne #aespa #æspa #에스파 ...YouTubehttps://www.youtube.com › shorts\n",
      "https://www.youtube.com/shorts/Dul1Q0SK0n4\n",
      "카리나(aespa) (r3170 판)나무위키https://namu.wiki › 카리나(aespa)\n",
      "https://namu.wiki/w/%EC%B9%B4%EB%A6%AC%EB%82%98(aespa)?rev=3170\n",
      "230625 aespa(에스파) 'Next Level' 카리나 KARINA 4K ...YouTubehttps://www.youtube.com › watch\n",
      "https://www.youtube.com/watch?v=v63rTR68TdA\n",
      "KARINA big girl making money 💸 ...YouTubehttps://www.youtube.com › watch\n",
      "https://www.youtube.com/watch?v=prSFnMkjtlI\n"
     ]
    }
   ],
   "source": [
    "for _ in dom.find_all(attrs={'jsname': 'UWckNb'}):\n",
    "    print(_.text.strip()) # 검색결과\n",
    "    print(_.attrs['href']) # 사이트 주소"
   ]
  },
  {
   "cell_type": "code",
   "execution_count": 185,
   "metadata": {},
   "outputs": [
    {
     "name": "stdout",
     "output_type": "stream",
     "text": [
      "카리나(aespa) - 나무위키\n",
      "https://namu.wiki/w/%EC%B9%B4%EB%A6%AC%EB%82%98(aespa)\n",
      "카리나 (가수) - 위키백과, 우리 모두의 백과사전\n",
      "https://ko.wikipedia.org/wiki/%EC%B9%B4%EB%A6%AC%EB%82%98_(%EA%B0%80%EC%88%98)\n",
      "AESPA KARINA 카리나 (@karina_aespas_)\n",
      "https://www.instagram.com/karina_aespas_/\n",
      "[입덕직캠] 에스파 카리나 직캠 4K 'Salty & Sweet' (aespa ...\n",
      "https://www.youtube.com/watch?v=sXeYkw4VE24\n",
      "[얼빡직캠 4K] 에스파 카리나 'Spicy' (aespa KARINA ...\n",
      "https://www.youtube.com/watch?v=TqBXWlVKXrs\n",
      "#PictureChallenge 📸✌ with #KARINA #GISELLE #HYO ...\n",
      "https://www.youtube.com/watch?v=gO_ONOnzH-s\n",
      "🎺🫧✨ #Chicago #pinkchampagne #aespa #æspa #에스파 ...\n",
      "https://www.youtube.com/shorts/Dul1Q0SK0n4\n",
      "카리나(aespa) (r3170 판)\n",
      "https://namu.wiki/w/%EC%B9%B4%EB%A6%AC%EB%82%98(aespa)?rev=3170\n",
      "230625 aespa(에스파) 'Next Level' 카리나 KARINA 4K ...\n",
      "https://www.youtube.com/watch?v=v63rTR68TdA\n",
      "KARINA big girl making money 💸 ...\n",
      "https://www.youtube.com/watch?v=prSFnMkjtlI\n"
     ]
    }
   ],
   "source": [
    "for _ in dom.find_all('h3', attrs={'class':'LC20lb MBeuO DKV0Md'}):\n",
    "    print(_.text.strip())\n",
    "    print(_.find_parent().attrs['href'])"
   ]
  },
  {
   "cell_type": "code",
   "execution_count": 193,
   "metadata": {},
   "outputs": [
    {
     "data": {
      "text/plain": [
       "[]"
      ]
     },
     "execution_count": 193,
     "metadata": {},
     "output_type": "execute_result"
    }
   ],
   "source": [
    "dom.find_all(attrs={'data_lpage':re.compile('youtube.com')})"
   ]
  },
  {
   "cell_type": "code",
   "execution_count": 263,
   "metadata": {},
   "outputs": [
    {
     "name": "stdout",
     "output_type": "stream",
     "text": [
      "https://www.youtube.com/watch?v=TqBXWlVKXrs\n",
      "https://www.youtube.com/watch?v=693lIQ4ZwoM\n"
     ]
    }
   ],
   "source": [
    "for _ in dom.find_all(attrs={'data-lpage':re.compile('youtube.com')}):\n",
    "    print(_.attrs['data-lpage'])"
   ]
  },
  {
   "cell_type": "code",
   "execution_count": 264,
   "metadata": {},
   "outputs": [
    {
     "name": "stdout",
     "output_type": "stream",
     "text": [
      "https://www.google.com/images/branding/googlelogo/2x/googlelogo_color_92x30dp.png\n",
      "https://www.google.com/tia/tia.png\n"
     ]
    }
   ],
   "source": [
    "for _ in dom.find_all('img', attrs={'src':re.compile('(?:png|gif|bmp|jpg|jpeg)$')}):\n",
    "    print(urljoin(resp.request.url, _.attrs['src']))"
   ]
  },
  {
   "cell_type": "code",
   "execution_count": 203,
   "metadata": {},
   "outputs": [],
   "source": [
    "# 네이버로 찾기\n",
    "resp = download('https://search.naver.com/search.naver', {'query':'카리나'})"
   ]
  },
  {
   "cell_type": "code",
   "execution_count": 204,
   "metadata": {},
   "outputs": [
    {
     "data": {
      "text/plain": [
       "(200, 'text/html; charset=UTF-8')"
      ]
     },
     "execution_count": 204,
     "metadata": {},
     "output_type": "execute_result"
    }
   ],
   "source": [
    "resp.status_code, resp.headers['Content-Type']"
   ]
  },
  {
   "cell_type": "code",
   "execution_count": 205,
   "metadata": {},
   "outputs": [],
   "source": [
    "dom = BeautifulSoup(resp.text, 'html.parser')"
   ]
  },
  {
   "cell_type": "code",
   "execution_count": 211,
   "metadata": {},
   "outputs": [
    {
     "data": {
      "text/plain": [
       "{'target': '_blank',\n",
       " 'href': 'https://namu.wiki/w/%EC%B9%B4%EB%A6%AC%EB%82%98%28aespa%29',\n",
       " 'class': ['link_tit'],\n",
       " 'onclick': 'goOtherCR(this,\"a=sit_4po*e.link&r=0&i=a00000fa_1812d28439987fd2beb5be99&u=\"+urlencode(this.href))'}"
      ]
     },
     "execution_count": 211,
     "metadata": {},
     "output_type": "execute_result"
    }
   ],
   "source": [
    "dom.find(text = re.compile('나무위키')).find_parent().attrs # text를 이용해서 나무위키가 있는 노드를 찾음"
   ]
  },
  {
   "cell_type": "code",
   "execution_count": 214,
   "metadata": {},
   "outputs": [
    {
     "data": {
      "text/plain": [
       "{'href': 'http://sports.khan.co.kr/news/sk_index.html?art_id=202309121448013&sec_id=540201&pt=nv',\n",
       " 'class': ['api_txt_lines', 'dsc_txt_wrap'],\n",
       " 'target': '_blank',\n",
       " 'onclick': \"return goOtherCR(this, 'a=nws_all*a.body&r=1&i=8800006D_000000000000000000912496&g=144.0000912496&u='+urlencode(this.href));\"}"
      ]
     },
     "execution_count": 214,
     "metadata": {},
     "output_type": "execute_result"
    }
   ],
   "source": [
    "dom.find(text = re.compile('원정대')).find_parent().attrs"
   ]
  },
  {
   "cell_type": "code",
   "execution_count": 237,
   "metadata": {},
   "outputs": [
    {
     "name": "stdout",
     "output_type": "stream",
     "text": [
      "카리나(aespa) - 나무위키\n",
      "https://namu.wiki/w/%EC%B9%B4%EB%A6%AC%EB%82%98%28aespa%29\n",
      "香里奈 | TEN CARAT\n",
      "https://tencarat.co.jp/karina/\n",
      "“카리나 원해” 황민호, 大실망한 이유는?\n",
      "http://sports.khan.co.kr/news/sk_index.html?art_id=202309121448013&sec_id=540201&pt=nv\n",
      "트로트 가수 황민호가 에스파 멤버 카리나에 대한 애정을 표했다. 11일 TV 조선 예능 ‘귀염 뽕짝 원정대’... “누가 왔으면 좋겠어?”라는 질문에 황민호는 ‘에스파’의 카리나, 조승원은 ‘뉴진스’의 민지를 뽑았다....\n",
      "http://sports.khan.co.kr/news/sk_index.html?art_id=202309121448013&sec_id=540201&pt=nv\n",
      "카리나, 중단발 사진 공개…단발 욕구↑\n",
      "http://sports.khan.co.kr/news/sk_index.html?art_id=202309111724003&sec_id=540101&pt=nv\n",
      "그룹 에스파(aespa)의 멤버 카리나가 중단발 모습을 공개했다. 카리나는 11일 자신의 사회관계망서비스(SNS) 채널을 통해 사진 여러 장과 함께 “NYC(뉴욕시)”라는 멘트를 올렸다. 공개된 사진에서 카리나는...\n",
      "http://sports.khan.co.kr/news/sk_index.html?art_id=202309111724003&sec_id=540101&pt=nv\n",
      "카리나, 모자 커 보이는 착시효과..뉴욕시 '천사 강림' [스타IN★]\n",
      "https://www.starnewskorea.com/stview.php?no=2023091118032779966\n",
      "그룹 에스파 카리나가 미국 뉴욕에서 촬영한 사진을 공개했다. 11일 카리나는 자신의 인스타그램에 \"NYC\"라는 글과 함께 여러 장의 사진을 게재했다. 공개된 사진 속 카리나는 흰색 모자와 링 귀걸이, 분홍색 민소매...\n",
      "https://www.starnewskorea.com/stview.php?no=2023091118032779966\n",
      "내년 '워터밤'에서 보고 싶은★…1위 권은비·2위 카리나, 전소미는 몇위?\n",
      "http://sports.chosun.com/news/ntype.htm?id=202309110100082270009731&servicedate=20230911\n",
      "네티즌들이 내년 워터밤에서 보고 싶은 스타로 권은비, 카리나, 박재범을 뽑았다. 커뮤니티 포털사이트... 2위는 3,072(14%)표로 카리나가 차지했다. 걸그룹 에스파의 리더이자 비주얼 센터를 맡고 있는 카리나는 인형...\n",
      "http://sports.chosun.com/news/ntype.htm?id=202309110100082270009731&servicedate=20230911\n",
      "에스파 카리나 나이 본명 과사 몸매 담아봤어요 - 하준샵1469\n",
      "https://hajuns1469-upandgo.com/337\n",
      "카리나 (가수) - 위키백과 한국\n",
      "https://ko.wikipedia.org/wiki/%EC%B9%B4%EB%A6%AC%EB%82%98_%28%EA%B0%80%EC%88%98%29\n",
      "aespa 에스파(@aespa_official) • Instagram 사진 및 동영상\n",
      "https://www.instagram.com/AESPA_OFFICIAL/\n",
      "루이비통 목걸이 착용한 카리나 사복패션 살펴보기\n",
      "https://in.naver.com/hoho_fashion/contents/internal/605570148771808?areacode=ink*A&query=%EC%B9%B4%EB%A6%AC%EB%82%98\n",
      "카리나 미국에서 일상룩 루이비통 목걸이 가격은?\n",
      "https://in.naver.com/cocochanel/contents/internal/604123790493120?areacode=ink*A&query=%EC%B9%B4%EB%A6%AC%EB%82%98\n",
      "루이비통 목걸이 샤넬 가방 선글라스 카리나 보스턴 착장 정보\n",
      "https://in.naver.com/heybin/contents/internal/604583566111712?areacode=ink*A&query=%EC%B9%B4%EB%A6%AC%EB%82%98\n",
      "(230911) (귀염뽕짝 원정대) (신동) 카리나 아닌 칼집삼겹살 기상요정/못하는게 없는 만능캐/\n",
      "https://blog.naver.com/mimyo_sj/223209826730\n",
      "[귀염뽕짝 원정대] 새 기상 요정이 '에스파' 카리나?! 황민호 '기절초풍'! 오늘(월) 밤 10시 방송\n",
      "https://blog.naver.com/tv_chosun/223208125040\n",
      "에스파 카리나 무보정 클라스\n",
      "https://blog.naver.com/secretinto/223186333400\n",
      "에스파 카리나 패션, 사복패션, 의상, 코디\n",
      "https://blog.naver.com/23sksmssk/223210055924\n",
      "갑자기 단발로 확 자르고 좋아요 폭발한 카리나 이 스타일링!\n",
      "https://post.naver.com/viewer/postView.naver?volumeNo=36357198&memberNo=34005890&vType=VERTICAL\n",
      "제2의 카리나로 불리는 하이브 연습생 노윤아 (알유넥스트)\n",
      "https://blog.naver.com/nadiatear0/223166858457\n",
      "에스파 카리나 데뷔부터 나의 여돌 최애 >_<\n",
      "https://blog.naver.com/nyang9523/223204965033\n"
     ]
    }
   ],
   "source": [
    "for _ in dom.find_all(attrs={'target': '_blank', 'class': re.compile('(?:link_tit|api_txt_lines|news_tit|dsc_txt_wrap|name_link _cross_trigger _foryou_trigger)$')}):\n",
    "    print(_.text.strip()) # 검색결과\n",
    "    print(_.attrs['href']) # 사이트 주소"
   ]
  },
  {
   "cell_type": "code",
   "execution_count": 256,
   "metadata": {},
   "outputs": [
    {
     "name": "stdout",
     "output_type": "stream",
     "text": [
      "data:image/gif;base64,R0lGODlhAQABAIAAAAAAAP///yH5BAEAAAAALAAAAAABAAEAAAIBRAA7\n",
      "data:image/gif;base64,R0lGODlhAQABAIAAAAAAAP///yH5BAEAAAAALAAAAAABAAEAAAIBRAA7\n",
      "data:image/gif;base64,R0lGODlhAQABAIAAAAAAAP///yH5BAEAAAAALAAAAAABAAEAAAIBRAA7\n",
      "data:image/gif;base64,R0lGODlhAQABAIAAAAAAAP///yH5BAEAAAAALAAAAAABAAEAAAIBRAA7\n",
      "data:image/gif;base64,R0lGODlhAQABAIAAAAAAAP///yH5BAEAAAAALAAAAAABAAEAAAIBRAA7\n",
      "data:image/gif;base64,R0lGODlhAQABAIAAAAAAAP///yH5BAEAAAAALAAAAAABAAEAAAIBRAA7\n",
      "data:image/gif;base64,R0lGODlhAQABAIAAAAAAAP///yH5BAEAAAAALAAAAAABAAEAAAIBRAA7\n",
      "data:image/gif;base64,R0lGODlhAQABAIAAAAAAAP///yH5BAEAAAAALAAAAAABAAEAAAIBRAA7\n"
     ]
    }
   ],
   "source": [
    "# 이미지\n",
    "base = dom.find(attrs = {'class':'group_news'})\n",
    "\n",
    "for _ in base.find_all('img'):\n",
    "    if _.has_attr('src'):\n",
    "        print(urljoin(resp.request.url, _.attrs['src'])) # data64 to jpg search"
   ]
  },
  {
   "cell_type": "code",
   "execution_count": 265,
   "metadata": {},
   "outputs": [],
   "source": [
    "# 다음 검색창\n",
    "# 실습해보기 !! 검색내용, 주소, 이미지\n",
    "resp = download('https://search.daum.net/search', {'w':'tot', 'q':'카리나'})"
   ]
  },
  {
   "cell_type": "code",
   "execution_count": 266,
   "metadata": {},
   "outputs": [
    {
     "data": {
      "text/plain": [
       "('https://search.daum.net/search?w=tot&q=%EC%B9%B4%EB%A6%AC%EB%82%98',\n",
       " 200,\n",
       " 'text/html; charset=utf-8')"
      ]
     },
     "execution_count": 266,
     "metadata": {},
     "output_type": "execute_result"
    }
   ],
   "source": [
    "resp.url, resp.status_code, resp.headers['Content-Type']"
   ]
  },
  {
   "cell_type": "code",
   "execution_count": 267,
   "metadata": {},
   "outputs": [],
   "source": [
    "dom = BeautifulSoup(resp.text, 'html.parser')"
   ]
  },
  {
   "cell_type": "code",
   "execution_count": 272,
   "metadata": {},
   "outputs": [
    {
     "data": {
      "text/plain": [
       "{'slot': 'title',\n",
       " 'data-target': '_blank',\n",
       " 'data-href': 'https://namu.wiki/w/%EC%B9%B4%EB%A6%AC%EB%82%98(%EA%B0%80%EB%94%94%EC%96%B8%20%ED%85%8C%EC%9D%BC%EC%A6%88)',\n",
       " 'data-log': 'dc=TWA&at=link&p=99&r=2&d=373a1326f3f5a63f38a0e016b2adc2abec4ea52d&gd=web-namu-NzoTJvP1pj84oOAW&sc=WSA&bfdc=false',\n",
       " 'data-extra-log': '{\"twa\":{\"e2\":\"\",\"rank\":2,\"topic\":{}}}'}"
      ]
     },
     "execution_count": 272,
     "metadata": {},
     "output_type": "execute_result"
    }
   ],
   "source": [
    "dom.find(text = re.compile('나무위키')).find_parent().attrs # text를 이용해서 나무위키가 있는 노드를 찾음"
   ]
  },
  {
   "cell_type": "code",
   "execution_count": 314,
   "metadata": {},
   "outputs": [
    {
     "name": "stdout",
     "output_type": "stream",
     "text": [
      "카리나 (배우)\n",
      "https://ko.wikipedia.org/wiki/%EC%B9%B4%EB%A6%AC%EB%82%98%20%28%EB%B0%B0%EC%9A%B0%29\n",
      "카리나(가디언 테일즈) - 나무위키\n",
      "https://namu.wiki/w/%EC%B9%B4%EB%A6%AC%EB%82%98(%EA%B0%80%EB%94%94%EC%96%B8%20%ED%85%8C%EC%9D%BC%EC%A6%88)\n",
      "고윤정 vs 카리나\n",
      "https://cafe.daum.net/ssaumjil/LnOm/3029160?q=%EC%B9%B4%EB%A6%AC%EB%82%98&re=1\n",
      "카리나 달글 10 🩵🫧 We go better things 🪸💙\n",
      "https://cafe.daum.net/Duckgu/D2nu/41713?q=%EC%B9%B4%EB%A6%AC%EB%82%98&re=1\n",
      "에스파 카리나의 평소 식사량\n",
      "https://cafe.daum.net/subdued20club/ReHf/4409073?q=%EC%B9%B4%EB%A6%AC%EB%82%98&re=1\n",
      "현재 리틧타고있는 카리나 버블\n",
      "https://table.cafe.daum.net/p/1000055110/183711502795854080\n",
      "카리나 닮은 여자. 사귄다 vs 안사귄다\n",
      "https://cafe.daum.net/dotax/Elgq/4205089?q=%EC%B9%B4%EB%A6%AC%EB%82%98&re=1\n",
      "에스파 카리나, 유노윤호 새 앨범 지원 사격 [공식]\n",
      "https://cafe.daum.net/SoulDresser/FLTB/752076?q=%EC%B9%B4%EB%A6%AC%EB%82%98&re=1\n",
      "최근 화제가 되고 있는 에스파 카리나 다이어트와 다이어트 식단\n",
      "https://nizniz.tistory.com/149\n",
      "시에나를 제대로 즐기는 방법 - 만지아의 탑, 캄포광장,시에나 대성당, 카타리나 그리고 카리나\n",
      "https://brunch.co.kr/@gle-bay/204\n",
      "원샷 카리나 - 카카오스토리\n",
      "http://story.kakao.com/_cOgo99/jKqXPaREfBa\n"
     ]
    }
   ],
   "source": [
    "for _ in dom.find_all('c-menu-share'):\n",
    "    if _.has_attr('data-link'):\n",
    "        print(_.attrs['data-title']) # 검색결과\n",
    "        print(_.attrs['data-link']) # 사이트 주소"
   ]
  },
  {
   "cell_type": "markdown",
   "metadata": {},
   "source": [
    "CSS Selector (선택자; 가상선택자) <br>\n",
    "선택자 {화면 표현 속성(color, fontsize,...)}<br>\n",
    "selector에 들어가는 것 > tagname, 속성<br>\n",
    "속성은 HTML TAG의 Attributes이다 > id=value, class=values,...(공백)<br>\n",
    "id는 한개의 value라서 앞으로 #로 표현한다. (#value: 아이디를 찾는법)<br>\n",
    "class는 여러개의 value라서 앞에 .로 표현한다. (.value1.value2.value3...)<br>\n",
    "cls1.cls2.cls3 in .cls1|.cls2|.cls3<br>\n",
    "Attribute는 {key:value}로 구성<br>\n",
    "> [key = value]<br>\n",
    "\n",
    "class = \"link_tit|news_tit|name_link|totoal_tit\"<br>\n",
    ".link_tit, [class = link_tit] (class인 경우), #link_tit, [id = link_tit] (id인 경우)<br>\n",
    "selector의 특징은 구조와 속성을 모두 가지고 있을 수 있다. (구조 + 속성을 한번에 가져올 수 있다)<br>"
   ]
  }
 ],
 "metadata": {
  "kernelspec": {
   "display_name": "base",
   "language": "python",
   "name": "python3"
  },
  "language_info": {
   "codemirror_mode": {
    "name": "ipython",
    "version": 3
   },
   "file_extension": ".py",
   "mimetype": "text/x-python",
   "name": "python",
   "nbconvert_exporter": "python",
   "pygments_lexer": "ipython3",
   "version": "3.9.13"
  },
  "orig_nbformat": 4
 },
 "nbformat": 4,
 "nbformat_minor": 2
}
