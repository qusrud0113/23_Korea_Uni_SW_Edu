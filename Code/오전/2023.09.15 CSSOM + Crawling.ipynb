{
 "cells": [
  {
   "cell_type": "markdown",
   "metadata": {},
   "source": [
    "CSS Selector (선택자; 가상선택자) <br>\n",
    "선택자 {화면 표현 속성(color, fontsize,...)}<br>\n",
    "selector에 들어가는 것 > tagname, 속성<br>\n",
    "속성은 HTML TAG의 Attributes이다 > id=value, class=values,...(공백)<br>\n",
    "id는 한개의 value라서 앞으로 #로 표현한다. (#value: 아이디를 찾는법)<br>\n",
    "class는 여러개의 value라서 앞에 .로 표현한다. (.value1.value2.value3...)<br>\n",
    "cls1.cls2.cls3 in .cls1|.cls2|.cls3<br>\n",
    "Attribute는 {key:value}로 구성<br>\n",
    "> [key = value]<br>\n",
    "\n",
    "class = \"link_tit|news_tit|name_link|totoal_tit\"<br>\n",
    ".link_tit, [class = link_tit] (class인 경우), #link_tit, [id = link_tit] (id인 경우)<br>\n",
    "selector의 특징은 구조와 속성을 모두 가지고 있을 수 있다. (구조 + 속성을 한번에 가져올 수 있다)<br>"
   ]
  },
  {
   "cell_type": "code",
   "execution_count": 1,
   "metadata": {},
   "outputs": [],
   "source": [
    "html = '''\n",
    "        <div id ='result1'>\n",
    "            <p class='row'>\n",
    "                <a class=\"red\" href = \"/link1\">링크1</a>\n",
    "                <a class=\"blue\" href = \"/link2\">링크2</a>\n",
    "            </p>\n",
    "            \n",
    "            <p class='row'>\n",
    "                <a class=\"red\" href = \"/link1\">링크1</a>\n",
    "                <a class=\"blue\" href = \"/link2\">링크2</a>\n",
    "            </p>\n",
    "        </div>\n",
    "        <div id ='result2'>\n",
    "            <p class='row'>\n",
    "                <a class=\"red\" href = \"/link1\">링크1</a>\n",
    "                <a class=\"blue\" href = \"/link2\">링크2</a>\n",
    "            </p>\n",
    "            \n",
    "            <p class='row'>\n",
    "                <a class=\"red\" href = \"/link1\">링크1</a>\n",
    "                <a class=\"blue\" href = \"/link2\">링크2</a>\n",
    "            </p>\n",
    "        </div>        \n",
    "'''\n",
    "from bs4 import BeautifulSoup\n",
    "\n",
    "dom = BeautifulSoup(html, 'html5lib') "
   ]
  },
  {
   "cell_type": "code",
   "execution_count": 2,
   "metadata": {},
   "outputs": [
    {
     "data": {
      "text/plain": [
       "<html><head></head><body><div id=\"result1\">\n",
       "            <p class=\"row\">\n",
       "                <a class=\"red\" href=\"/link1\">링크1</a>\n",
       "                <a class=\"blue\" href=\"/link2\">링크2</a>\n",
       "            </p>\n",
       "            \n",
       "            <p class=\"row\">\n",
       "                <a class=\"red\" href=\"/link1\">링크1</a>\n",
       "                <a class=\"blue\" href=\"/link2\">링크2</a>\n",
       "            </p>\n",
       "        </div>\n",
       "        <div id=\"result2\">\n",
       "            <p class=\"row\">\n",
       "                <a class=\"red\" href=\"/link1\">링크1</a>\n",
       "                <a class=\"blue\" href=\"/link2\">링크2</a>\n",
       "            </p>\n",
       "            \n",
       "            <p class=\"row\">\n",
       "                <a class=\"red\" href=\"/link1\">링크1</a>\n",
       "                <a class=\"blue\" href=\"/link2\">링크2</a>\n",
       "            </p>\n",
       "        </div>        \n",
       "</body></html>"
      ]
     },
     "execution_count": 2,
     "metadata": {},
     "output_type": "execute_result"
    }
   ],
   "source": [
    "dom"
   ]
  },
  {
   "cell_type": "code",
   "execution_count": 3,
   "metadata": {},
   "outputs": [
    {
     "data": {
      "text/plain": [
       "[<a class=\"red\" href=\"/link1\">링크1</a>,\n",
       " <a class=\"blue\" href=\"/link2\">링크2</a>,\n",
       " <a class=\"red\" href=\"/link1\">링크1</a>,\n",
       " <a class=\"blue\" href=\"/link2\">링크2</a>,\n",
       " <a class=\"red\" href=\"/link1\">링크1</a>,\n",
       " <a class=\"blue\" href=\"/link2\">링크2</a>,\n",
       " <a class=\"red\" href=\"/link1\">링크1</a>,\n",
       " <a class=\"blue\" href=\"/link2\">링크2</a>]"
      ]
     },
     "execution_count": 3,
     "metadata": {},
     "output_type": "execute_result"
    }
   ],
   "source": [
    "dom.find_all('a')"
   ]
  },
  {
   "cell_type": "code",
   "execution_count": 4,
   "metadata": {},
   "outputs": [
    {
     "data": {
      "text/plain": [
       "[<a class=\"red\" href=\"/link1\">링크1</a>, <a class=\"blue\" href=\"/link2\">링크2</a>]"
      ]
     },
     "execution_count": 4,
     "metadata": {},
     "output_type": "execute_result"
    }
   ],
   "source": [
    "# 구조를 따라가며 링크 찾는 법\n",
    "# id가 result1이며 p의 자식 중에 a\n",
    "div = dom.find(attrs = {'id':'result1'})#.find(recursive=False).find_all(recursive=False) # 자식하나 찾기\n",
    "p = div.find(recursive=False)\n",
    "p.find_all(recursive=False)"
   ]
  },
  {
   "cell_type": "code",
   "execution_count": 5,
   "metadata": {},
   "outputs": [
    {
     "data": {
      "text/plain": [
       "[<a class=\"red\" href=\"/link1\">링크1</a>, <a class=\"blue\" href=\"/link2\">링크2</a>]"
      ]
     },
     "execution_count": 5,
     "metadata": {},
     "output_type": "execute_result"
    }
   ],
   "source": [
    "div=dom.select_one('#result1') # id 하나만 추출\n",
    "p = div.select_one('p')\n",
    "p.select('a')"
   ]
  },
  {
   "cell_type": "code",
   "execution_count": 6,
   "metadata": {},
   "outputs": [
    {
     "data": {
      "text/plain": [
       "[<a class=\"red\" href=\"/link1\">링크1</a>, <a class=\"blue\" href=\"/link2\">링크2</a>]"
      ]
     },
     "execution_count": 6,
     "metadata": {},
     "output_type": "execute_result"
    }
   ],
   "source": [
    "# 구조와 속성을 갖지 않고 추출하는 법\n",
    "# id = result1이면서 p를 추출 > 지금 p가 2개라서 하나만 추출하려면\n",
    "# <p> 자식\n",
    "#  <a></a>\n",
    "#  <a></a>\n",
    "# </p>\n",
    "# <p> 자식\n",
    "#  <a></a>\n",
    "#  <a></a>\n",
    "# </p>\n",
    "dom.select('#result1 > p > a') \n",
    "# 조건을 주면 하나만 추출가능하다\n",
    "dom.select('#result1 > p:first-child > a') \n",
    "dom.select('#result1 > p:nth-child(1) > a') "
   ]
  },
  {
   "cell_type": "code",
   "execution_count": 16,
   "metadata": {},
   "outputs": [
    {
     "data": {
      "text/plain": [
       "[<a class=\"red\" href=\"/link1\">링크1</a>, <a class=\"blue\" href=\"/link2\">링크2</a>]"
      ]
     },
     "execution_count": 16,
     "metadata": {},
     "output_type": "execute_result"
    }
   ],
   "source": [
    "# 구조로 찾는법\n",
    "# +는 next_sibling이다\n",
    "# + 기법은 바로 이웃한 p가 없으면 가져오지 않는다.\n",
    "# :has(+ p); p의 바로 이웃 중에 p를 가지고 있는 얘를 들고온다 => 가상선택자(pseudo selector)\n",
    "dom.select('#result1 > p:has(+ p) > a')"
   ]
  },
  {
   "cell_type": "code",
   "execution_count": 17,
   "metadata": {},
   "outputs": [
    {
     "data": {
      "text/plain": [
       "[<a class=\"red\" href=\"/link1\">링크1</a>, <a class=\"blue\" href=\"/link2\">링크2</a>]"
      ]
     },
     "execution_count": 17,
     "metadata": {},
     "output_type": "execute_result"
    }
   ],
   "source": [
    "dom.select('#result1 > p + p > a')"
   ]
  },
  {
   "cell_type": "code",
   "execution_count": 18,
   "metadata": {},
   "outputs": [
    {
     "ename": "AttributeError",
     "evalue": "'NoneType' object has no attribute 'find_all'",
     "output_type": "error",
     "traceback": [
      "\u001b[1;31m---------------------------------------------------------------------------\u001b[0m",
      "\u001b[1;31mAttributeError\u001b[0m                            Traceback (most recent call last)",
      "\u001b[1;32m~\\AppData\\Local\\Temp\\ipykernel_9700\\2544712250.py\u001b[0m in \u001b[0;36m<module>\u001b[1;34m\u001b[0m\n\u001b[1;32m----> 1\u001b[1;33m \u001b[0mdom\u001b[0m\u001b[1;33m.\u001b[0m\u001b[0mfind\u001b[0m\u001b[1;33m(\u001b[0m\u001b[1;34m'article'\u001b[0m\u001b[1;33m)\u001b[0m\u001b[1;33m.\u001b[0m\u001b[0mfind_all\u001b[0m\u001b[1;33m(\u001b[0m\u001b[1;34m'a'\u001b[0m\u001b[1;33m)\u001b[0m \u001b[1;31m# 없는 태그를 물고오면 none type이라 오류 발생\u001b[0m\u001b[1;33m\u001b[0m\u001b[1;33m\u001b[0m\u001b[0m\n\u001b[0m",
      "\u001b[1;31mAttributeError\u001b[0m: 'NoneType' object has no attribute 'find_all'"
     ]
    }
   ],
   "source": [
    "dom.find('article').find_all('a') # 없는 태그를 물고오면 none type이라 오류 발생"
   ]
  },
  {
   "cell_type": "code",
   "execution_count": 19,
   "metadata": {},
   "outputs": [
    {
     "data": {
      "text/plain": [
       "[]"
      ]
     },
     "execution_count": 19,
     "metadata": {},
     "output_type": "execute_result"
    }
   ],
   "source": [
    "dom.select('article a') # 하지만 css는 nonetype은 오류가 발생하지 않는다."
   ]
  },
  {
   "cell_type": "code",
   "execution_count": 14,
   "metadata": {},
   "outputs": [],
   "source": [
    "from requests import request, get, post\n",
    "from requests.exceptions import HTTPError\n",
    "from time import sleep\n",
    "\n",
    "def download(url, params = {}, method = 'GET', retrieds = 3):\n",
    "    try:\n",
    "        # params와 data를 method에 따라 정의함.\n",
    "        resp = request(method, \n",
    "                       url, \n",
    "                       # get은 URL에 모든 매개변수를 배치한다\n",
    "                       params= params if method == 'GET' else {} ,\n",
    "                       # post는 모든 매개변수를 본문에 배치한다\n",
    "                       data = params if method == 'POST' else {},\n",
    "                       headers = {'user-agent': \"Mozilla/5.0 (Windows NT 10.0; Win64; x64; rv:109.0) Gecko/20100101 Firefox/117.0\"}\n",
    "                      )\n",
    "        # raise_for_status는 요청/응답 코드가 200이 아니면 예외를 발생              \n",
    "        resp.raise_for_status()\n",
    "        # robots.txt => 잘 안돌아감\n",
    "    except HTTPError as e:\n",
    "        # 아니면,\n",
    "        # if resp.status_code != 200:\n",
    "        if 500 <= e.response.status_code:\n",
    "            if retrieds > 0:\n",
    "                sleep(3)\n",
    "                download(url, method = method, params = params, retrieds = retrieds-1)\n",
    "            else:\n",
    "                print('재방문 횟수 초과')\n",
    "        else:\n",
    "            print('Request', resp.request.headers)\n",
    "            print('Respones', e.response.headers)\n",
    "    return resp\n"
   ]
  },
  {
   "cell_type": "code",
   "execution_count": 15,
   "metadata": {},
   "outputs": [],
   "source": [
    "url_img = 'http://pythonscraping.com/pages/page3.html'\n",
    "resp = download(url_img)"
   ]
  },
  {
   "cell_type": "code",
   "execution_count": 16,
   "metadata": {},
   "outputs": [],
   "source": [
    "dom = BeautifulSoup(resp.text, 'html5lib')"
   ]
  },
  {
   "cell_type": "code",
   "execution_count": 17,
   "metadata": {},
   "outputs": [
    {
     "data": {
      "text/plain": [
       "'<html>\\n<head>\\n<style>\\nimg{\\n\\twidth:75px;\\n}\\ntable{\\n\\twidth:50%;\\n}\\ntd{\\n\\tmargin:10px;\\n\\tpadding:10px;\\n}\\n.wrapper{\\n\\twidth:800px;\\n}\\n.excitingNote{\\n\\tfont-style:italic;\\n\\tfont-weight:bold;\\n}\\n</style>\\n</head>\\n<body>\\n<div id=\"wrapper\">\\n<img src=\"../img/gifts/logo.jpg\" style=\"float:left;\">\\n<h1>Totally Normal Gifts</h1>\\n<div id=\"content\">Here is a collection of totally normal, totally reasonable gifts that your friends are sure to love! Our collection is\\nhand-curated by well-paid, free-range Tibetan monks.<p>\\nWe haven\\'t figured out how to make online shopping carts yet, but you can send us a check to:<br>\\n123 Main St.<br>\\nAbuja, Nigeria\\n</br>We will then send your totally amazing gift, pronto! Please include an extra $5.00 for gift wrapping.</div>\\n<table id=\"giftList\">\\n<tr><th>\\nItem Title\\n</th><th>\\nDescription\\n</th><th>\\nCost\\n</th><th>\\nImage\\n</th></tr>\\n\\n<tr id=\"gift1\" class=\"gift\"><td>\\nVegetable Basket\\n</td><td>\\nThis vegetable basket is the perfect gift for your health conscious (or overweight) friends!\\n<span class=\"excitingNote\">Now with super-colorful bell peppers!</span>\\n</td><td>\\n$15.00\\n</td><td>\\n<img src=\"../img/gifts/img1.jpg\">\\n</td></tr>\\n\\n<tr id=\"gift2\" class=\"gift\"><td>\\nRussian Nesting Dolls\\n</td><td>\\nHand-painted by trained monkeys, these exquisite dolls are priceless! And by \"priceless,\" we mean \"extremely expensive\"! <span class=\"excitingNote\">8 entire dolls per set! Octuple the presents!</span>\\n</td><td>\\n$10,000.52\\n</td><td>\\n<img src=\"../img/gifts/img2.jpg\">\\n</td></tr>\\n\\n<tr id=\"gift3\" class=\"gift\"><td>\\nFish Painting\\n</td><td>\\nIf something seems fishy about this painting, it\\'s because it\\'s a fish! <span class=\"excitingNote\">Also hand-painted by trained monkeys!</span>\\n</td><td>\\n$10,005.00\\n</td><td>\\n<img src=\"../img/gifts/img3.jpg\">\\n</td></tr>\\n\\n<tr id=\"gift4\" class=\"gift\"><td>\\nDead Parrot\\n</td><td>\\nThis is an ex-parrot! <span class=\"excitingNote\">Or maybe he\\'s only resting?</span>\\n</td><td>\\n$0.50\\n</td><td>\\n<img src=\"../img/gifts/img4.jpg\">\\n</td></tr>\\n\\n<tr id=\"gift5\" class=\"gift\"><td>\\nMystery Box\\n</td><td>\\nIf you love suprises, this mystery box is for you! Do not place on light-colored surfaces. May cause oil staining. <span class=\"excitingNote\">Keep your friends guessing!</span>\\n</td><td>\\n$1.50\\n</td><td>\\n<img src=\"../img/gifts/img6.jpg\">\\n</td></tr>\\n</table>\\n</p>\\n<div id=\"footer\">\\n&copy; Totally Normal Gifts, Inc. <br>\\n+234 (617) 863-0736\\n</div>\\n\\n</div>\\n</body>\\n</html>\\n'"
      ]
     },
     "execution_count": 17,
     "metadata": {},
     "output_type": "execute_result"
    }
   ],
   "source": [
    "resp.text"
   ]
  },
  {
   "cell_type": "code",
   "execution_count": 18,
   "metadata": {},
   "outputs": [
    {
     "name": "stdout",
     "output_type": "stream",
     "text": [
      "<class 'bs4.element.Tag'>\n",
      "<th>\n",
      "Image\n",
      "</th>\n",
      "<class 'bs4.element.Tag'>\n",
      "<td>\n",
      "<img src=\"../img/gifts/img1.jpg\"/>\n",
      "</td>\n",
      "<class 'bs4.element.Tag'>\n",
      "<td>\n",
      "<img src=\"../img/gifts/img2.jpg\"/>\n",
      "</td>\n",
      "<class 'bs4.element.Tag'>\n",
      "<td>\n",
      "<img src=\"../img/gifts/img3.jpg\"/>\n",
      "</td>\n",
      "<class 'bs4.element.Tag'>\n",
      "<td>\n",
      "<img src=\"../img/gifts/img4.jpg\"/>\n",
      "</td>\n",
      "<class 'bs4.element.Tag'>\n",
      "<td>\n",
      "<img src=\"../img/gifts/img6.jpg\"/>\n",
      "</td>\n"
     ]
    }
   ],
   "source": [
    "table = dom.find('table') # html5lib때문에 tbody가 생김\n",
    "tbody = table.find('tbody')\n",
    "for tr in tbody.find_all('tr'):\n",
    "    print(type(tr.find_all(recursive=False)[-1]))\n",
    "    print(tr.find_all(recursive=False)[-1]) # 자식 중 이미지만 추출"
   ]
  },
  {
   "cell_type": "code",
   "execution_count": 19,
   "metadata": {},
   "outputs": [
    {
     "name": "stdout",
     "output_type": "stream",
     "text": [
      "<class 'bs4.element.Tag'>\n"
     ]
    },
    {
     "data": {
      "text/plain": [
       "[<img src=\"../img/gifts/img1.jpg\"/>,\n",
       " <img src=\"../img/gifts/img2.jpg\"/>,\n",
       " <img src=\"../img/gifts/img3.jpg\"/>,\n",
       " <img src=\"../img/gifts/img4.jpg\"/>,\n",
       " <img src=\"../img/gifts/img6.jpg\"/>]"
      ]
     },
     "execution_count": 19,
     "metadata": {},
     "output_type": "execute_result"
    }
   ],
   "source": [
    "# css selector 사용\n",
    "print(type(dom.select('table > tbody > tr > td > img')[0]))\n",
    "dom.select('table > tbody > tr > td > img') # 한줄로 간단하게 뽑아온다"
   ]
  },
  {
   "cell_type": "code",
   "execution_count": 28,
   "metadata": {},
   "outputs": [
    {
     "data": {
      "text/plain": [
       "[<td>\n",
       " <img src=\"../img/gifts/img1.jpg\"/>\n",
       " </td>]"
      ]
     },
     "execution_count": 28,
     "metadata": {},
     "output_type": "execute_result"
    }
   ],
   "source": [
    "dom.select('table > tbody > tr > td > img') [0].find_parent()\n",
    "dom.select('table > tbody > tr > td > img') [0].find_parents(limit=1)"
   ]
  },
  {
   "cell_type": "code",
   "execution_count": 27,
   "metadata": {},
   "outputs": [
    {
     "data": {
      "text/plain": [
       "[<img src=\"../img/gifts/logo.jpg\" style=\"float:left;\"/>,\n",
       " <img src=\"../img/gifts/img1.jpg\"/>,\n",
       " <img src=\"../img/gifts/img2.jpg\"/>,\n",
       " <img src=\"../img/gifts/img3.jpg\"/>,\n",
       " <img src=\"../img/gifts/img4.jpg\"/>,\n",
       " <img src=\"../img/gifts/img6.jpg\"/>]"
      ]
     },
     "execution_count": 27,
     "metadata": {},
     "output_type": "execute_result"
    }
   ],
   "source": [
    "dom.select('img[src$=jpg]') # 이미지의 이름이 jpg로 끝나는 것들"
   ]
  },
  {
   "cell_type": "code",
   "execution_count": 28,
   "metadata": {},
   "outputs": [
    {
     "data": {
      "text/plain": [
       "[<td>\n",
       " <img src=\"../img/gifts/img1.jpg\"/>\n",
       " </td>,\n",
       " <td>\n",
       " <img src=\"../img/gifts/img2.jpg\"/>\n",
       " </td>,\n",
       " <td>\n",
       " <img src=\"../img/gifts/img3.jpg\"/>\n",
       " </td>,\n",
       " <td>\n",
       " <img src=\"../img/gifts/img4.jpg\"/>\n",
       " </td>,\n",
       " <td>\n",
       " <img src=\"../img/gifts/img6.jpg\"/>\n",
       " </td>]"
      ]
     },
     "execution_count": 28,
     "metadata": {},
     "output_type": "execute_result"
    }
   ],
   "source": [
    "dom.select('td:has(> img[src$=jpg])') # td 아래서 jpg로 끝나는 이미지들"
   ]
  },
  {
   "cell_type": "code",
   "execution_count": 29,
   "metadata": {},
   "outputs": [
    {
     "data": {
      "text/plain": [
       "[<tr class=\"gift\" id=\"gift1\"><td>\n",
       " Vegetable Basket\n",
       " </td><td>\n",
       " This vegetable basket is the perfect gift for your health conscious (or overweight) friends!\n",
       " <span class=\"excitingNote\">Now with super-colorful bell peppers!</span>\n",
       " </td><td>\n",
       " $15.00\n",
       " </td><td>\n",
       " <img src=\"../img/gifts/img1.jpg\"/>\n",
       " </td></tr>,\n",
       " <tr class=\"gift\" id=\"gift2\"><td>\n",
       " Russian Nesting Dolls\n",
       " </td><td>\n",
       " Hand-painted by trained monkeys, these exquisite dolls are priceless! And by \"priceless,\" we mean \"extremely expensive\"! <span class=\"excitingNote\">8 entire dolls per set! Octuple the presents!</span>\n",
       " </td><td>\n",
       " $10,000.52\n",
       " </td><td>\n",
       " <img src=\"../img/gifts/img2.jpg\"/>\n",
       " </td></tr>,\n",
       " <tr class=\"gift\" id=\"gift3\"><td>\n",
       " Fish Painting\n",
       " </td><td>\n",
       " If something seems fishy about this painting, it's because it's a fish! <span class=\"excitingNote\">Also hand-painted by trained monkeys!</span>\n",
       " </td><td>\n",
       " $10,005.00\n",
       " </td><td>\n",
       " <img src=\"../img/gifts/img3.jpg\"/>\n",
       " </td></tr>,\n",
       " <tr class=\"gift\" id=\"gift4\"><td>\n",
       " Dead Parrot\n",
       " </td><td>\n",
       " This is an ex-parrot! <span class=\"excitingNote\">Or maybe he's only resting?</span>\n",
       " </td><td>\n",
       " $0.50\n",
       " </td><td>\n",
       " <img src=\"../img/gifts/img4.jpg\"/>\n",
       " </td></tr>,\n",
       " <tr class=\"gift\" id=\"gift5\"><td>\n",
       " Mystery Box\n",
       " </td><td>\n",
       " If you love suprises, this mystery box is for you! Do not place on light-colored surfaces. May cause oil staining. <span class=\"excitingNote\">Keep your friends guessing!</span>\n",
       " </td><td>\n",
       " $1.50\n",
       " </td><td>\n",
       " <img src=\"../img/gifts/img6.jpg\"/>\n",
       " </td></tr>]"
      ]
     },
     "execution_count": 29,
     "metadata": {},
     "output_type": "execute_result"
    }
   ],
   "source": [
    "dom.select('tr:has(td:has(> img[src$=jpg]))') "
   ]
  },
  {
   "cell_type": "code",
   "execution_count": 30,
   "metadata": {},
   "outputs": [
    {
     "name": "stdout",
     "output_type": "stream",
     "text": [
      "<class 'bs4.element.Tag'>\n",
      "<th>\n",
      "Image\n",
      "</th>\n",
      "<class 'bs4.element.Tag'>\n",
      "<td>\n",
      "<img src=\"../img/gifts/img1.jpg\"/>\n",
      "</td>\n",
      "<class 'bs4.element.Tag'>\n",
      "<td>\n",
      "<img src=\"../img/gifts/img2.jpg\"/>\n",
      "</td>\n",
      "<class 'bs4.element.Tag'>\n",
      "<td>\n",
      "<img src=\"../img/gifts/img3.jpg\"/>\n",
      "</td>\n",
      "<class 'bs4.element.Tag'>\n",
      "<td>\n",
      "<img src=\"../img/gifts/img4.jpg\"/>\n",
      "</td>\n",
      "<class 'bs4.element.Tag'>\n",
      "<td>\n",
      "<img src=\"../img/gifts/img6.jpg\"/>\n",
      "</td>\n"
     ]
    }
   ],
   "source": [
    "# 홀수행/짝수행을 찾고 싶다면\n",
    "table = dom.find('table') # html5lib때문에 tbody가 생김\n",
    "tbody = table.find('tbody')\n",
    "for tr in tbody.find_all('tr'):\n",
    "    # 이 앞에 처리하는 조건문이 필요하다\n",
    "    print(type(tr.find_all(recursive=False)[-1]))\n",
    "    print(tr.find_all(recursive=False)[-1]) # 자식 중 이미지만 추출"
   ]
  },
  {
   "cell_type": "code",
   "execution_count": 31,
   "metadata": {},
   "outputs": [
    {
     "data": {
      "text/plain": [
       "[<tr><th>\n",
       " Item Title\n",
       " </th><th>\n",
       " Description\n",
       " </th><th>\n",
       " Cost\n",
       " </th><th>\n",
       " Image\n",
       " </th></tr>,\n",
       " <tr class=\"gift\" id=\"gift2\"><td>\n",
       " Russian Nesting Dolls\n",
       " </td><td>\n",
       " Hand-painted by trained monkeys, these exquisite dolls are priceless! And by \"priceless,\" we mean \"extremely expensive\"! <span class=\"excitingNote\">8 entire dolls per set! Octuple the presents!</span>\n",
       " </td><td>\n",
       " $10,000.52\n",
       " </td><td>\n",
       " <img src=\"../img/gifts/img2.jpg\"/>\n",
       " </td></tr>,\n",
       " <tr class=\"gift\" id=\"gift4\"><td>\n",
       " Dead Parrot\n",
       " </td><td>\n",
       " This is an ex-parrot! <span class=\"excitingNote\">Or maybe he's only resting?</span>\n",
       " </td><td>\n",
       " $0.50\n",
       " </td><td>\n",
       " <img src=\"../img/gifts/img4.jpg\"/>\n",
       " </td></tr>]"
      ]
     },
     "execution_count": 31,
     "metadata": {},
     "output_type": "execute_result"
    }
   ],
   "source": [
    "dom.select('tbody > tr:nth-child(n)') # 모든 자식들\n",
    "dom.select('tbody > tr:nth-child(even)') # 짝수행 자식들 or (2n)\n",
    "dom.select('tbody > tr:nth-child(odd)') # 홀수행 자식들 or (2n-1)"
   ]
  },
  {
   "cell_type": "code",
   "execution_count": 32,
   "metadata": {},
   "outputs": [],
   "source": [
    "resp = download('https://www.google.com/search', {'q':'카리나'})"
   ]
  },
  {
   "cell_type": "code",
   "execution_count": 33,
   "metadata": {},
   "outputs": [
    {
     "data": {
      "text/plain": [
       "(200, 'text/html; charset=UTF-8')"
      ]
     },
     "execution_count": 33,
     "metadata": {},
     "output_type": "execute_result"
    }
   ],
   "source": [
    "resp.status_code, resp.headers['content-type']"
   ]
  },
  {
   "cell_type": "code",
   "execution_count": 34,
   "metadata": {},
   "outputs": [],
   "source": [
    "dom = BeautifulSoup(resp.text, 'html5lib')"
   ]
  },
  {
   "cell_type": "code",
   "execution_count": 35,
   "metadata": {},
   "outputs": [
    {
     "data": {
      "text/plain": [
       "<a data-jsarwt=\"1\" data-usg=\"AOvVaw0AVyeVNjJkBjN3IUmzE7jM\" data-ved=\"2ahUKEwjasMuXzauBAxUSh_0HHbcUBSQQFnoECCkQAQ\" href=\"https://namu.wiki/w/%EC%B9%B4%EB%A6%AC%EB%82%98(aespa)\" jsname=\"UWckNb\"><br/><h3 class=\"LC20lb MBeuO DKV0Md\">카리나(aespa)</h3><div class=\"notranslate TbwUpd NJjxre iUh30 ojE3Fb\"><span class=\"H9lube\"><div aria-hidden=\"true\" class=\"eqA2re NjwKYd Vwoesf\"><img alt=\"\" class=\"XNo5Ab\" src=\"data:image/png;base64,iVBORw0KGgoAAAANSUhEUgAAACAAAAAgCAMAAABEpIrGAAAAwFBMVEUBp5oCp5oDp5kFqJcGqJYHqZQKqpAOq40QrIsRrIoTrYgUrYcVroYXroMYr4MZr4Ebr4AcsH8dsH4esXsfsXohsnkisncjs3Yks3Ums3QntHMAn4YApYV6yLvp9vP0/Pue1spdvq/////b8OmR0cK34doApGdewKfS7OQAqns7uI4+tp3E5t4ArnOo3MWX1L4ArmuDzLhPvJpawJkAn2614cwAoXoytJVyx6uM0bau3NWl2sfE5+FCtaZPu6Rkv7KC2ANCAAABE0lEQVR4AdyRU4IDQQBEY9vJ9Oj1mLFx/1OtrQPsf7kymWwuXygWS6VSuVyp1uqNZqvd6fb6g+FoPJnOZv8LoIjynwBV0w3xB8BEk1iiUq03mz8BijaKo0lRdT3P9X9SMDADPOECuO2fMuhAKCKUGM9/AsRxPPrYwpK6EBGlPtETIE68dP5ph5CFCAGWjxaxRCeafwQIqYlqaGv6Y8jeCmu9YfxpSZWwWt3u2Lfbfnz4ASCItjsb5Lqb6vDZQlGPprDw4JRiQ7R6CJl8CHkGbB1t0Wj4cGoNPtcsXDg2PaLrtlarN0/4X4cq3LitE0Tl6awGB/8roAge8vXNfev71KHUo/vB0wPWuJCWZsORYEZIxgEAuatI9jt5CO8AAAAASUVORK5CYII=\" style=\"height:18px;width:18px\"/></div></span><div><span class=\"VuuXrf\">나무위키</span><div class=\"byrV5b\"><cite class=\"qLRx3b tjvcx GvPZzd cHaqb\" role=\"text\">https://namu.wiki<span class=\"dyjrff ob9lvb\" role=\"text\"> › 카리나(aespa)</span></cite></div></div></div></a>"
      ]
     },
     "execution_count": 35,
     "metadata": {},
     "output_type": "execute_result"
    }
   ],
   "source": [
    "# 링크를 찾으려면...\n",
    "import re\n",
    "dom.find(text=re.compile('나무위키')).find_parent().find_parent().find_parent().find_parent()"
   ]
  },
  {
   "cell_type": "code",
   "execution_count": 36,
   "metadata": {},
   "outputs": [
    {
     "data": {
      "text/plain": [
       "[<h3 class=\"LC20lb MBeuO DKV0Md\">카리나(aespa)</h3>,\n",
       " <h3 class=\"LC20lb MBeuO DKV0Md\">AESPA KARINA 카리나 (@karina_aespas_)</h3>,\n",
       " <h3 class=\"LC20lb MBeuO DKV0Md\">카리나(aespa) (r3170 판)</h3>,\n",
       " <h3 class=\"LC20lb MBeuO DKV0Md\">카리나 (가수) - 위키백과, 우리 모두의 백과사전</h3>,\n",
       " <h3 class=\"LC20lb MBeuO DKV0Md\">#PictureChallenge with #KARINA #GISELLE #HYO #효연 ...</h3>,\n",
       " <h3 class=\"LC20lb MBeuO DKV0Md\">230625 aespa(에스파) 'Next Level' 카리나 KARINA 4K Cam ...</h3>,\n",
       " <h3 class=\"LC20lb MBeuO DKV0Md\">#KARINA big girl making money #BetterThingsChallenge ...</h3>,\n",
       " <h3 class=\"LC20lb MBeuO DKV0Md\">Chicago #pinkchampagne #aespa #æspa #에스파 ... - YouTube</h3>]"
      ]
     },
     "execution_count": 36,
     "metadata": {},
     "output_type": "execute_result"
    }
   ],
   "source": [
    "# 링크의 title을 찾는다\n",
    "dom.select('h3')\n",
    "# 동일한 표현들\n",
    "dom.select('.LC20lb.MBeuO.DKV0Md')\n",
    "dom.select('.LC20lb')\n",
    "dom.select('h3.LC20lb')\n",
    "dom.select('h3.LC20lb.MBeuO.DKV0Md')"
   ]
  },
  {
   "cell_type": "code",
   "execution_count": 37,
   "metadata": {},
   "outputs": [
    {
     "data": {
      "text/plain": [
       "[<h3 class=\"LC20lb MBeuO DKV0Md\">카리나(aespa)</h3>,\n",
       " <h3 class=\"LC20lb MBeuO DKV0Md\">AESPA KARINA 카리나 (@karina_aespas_)</h3>,\n",
       " <h3 class=\"LC20lb MBeuO DKV0Md\">카리나(aespa) (r3170 판)</h3>,\n",
       " <h3 class=\"LC20lb MBeuO DKV0Md\">카리나 (가수) - 위키백과, 우리 모두의 백과사전</h3>,\n",
       " <h3 class=\"LC20lb MBeuO DKV0Md\">#PictureChallenge with #KARINA #GISELLE #HYO #효연 ...</h3>,\n",
       " <h3 class=\"LC20lb MBeuO DKV0Md\">230625 aespa(에스파) 'Next Level' 카리나 KARINA 4K Cam ...</h3>,\n",
       " <h3 class=\"LC20lb MBeuO DKV0Md\">#KARINA big girl making money #BetterThingsChallenge ...</h3>,\n",
       " <h3 class=\"LC20lb MBeuO DKV0Md\">Chicago #pinkchampagne #aespa #æspa #에스파 ... - YouTube</h3>]"
      ]
     },
     "execution_count": 37,
     "metadata": {},
     "output_type": "execute_result"
    }
   ],
   "source": [
    "dom.select('a > h3.LC20lb') \n",
    "dom.select('a[jsname=\"UWckNb\"] > h3.LC20lb') "
   ]
  },
  {
   "cell_type": "code",
   "execution_count": 38,
   "metadata": {},
   "outputs": [
    {
     "data": {
      "text/plain": [
       "[<a data-jsarwt=\"1\" data-usg=\"AOvVaw0AVyeVNjJkBjN3IUmzE7jM\" data-ved=\"2ahUKEwjasMuXzauBAxUSh_0HHbcUBSQQFnoECCkQAQ\" href=\"https://namu.wiki/w/%EC%B9%B4%EB%A6%AC%EB%82%98(aespa)\" jsname=\"UWckNb\"><br/><h3 class=\"LC20lb MBeuO DKV0Md\">카리나(aespa)</h3><div class=\"notranslate TbwUpd NJjxre iUh30 ojE3Fb\"><span class=\"H9lube\"><div aria-hidden=\"true\" class=\"eqA2re NjwKYd Vwoesf\"><img alt=\"\" class=\"XNo5Ab\" src=\"data:image/png;base64,iVBORw0KGgoAAAANSUhEUgAAACAAAAAgCAMAAABEpIrGAAAAwFBMVEUBp5oCp5oDp5kFqJcGqJYHqZQKqpAOq40QrIsRrIoTrYgUrYcVroYXroMYr4MZr4Ebr4AcsH8dsH4esXsfsXohsnkisncjs3Yks3Ums3QntHMAn4YApYV6yLvp9vP0/Pue1spdvq/////b8OmR0cK34doApGdewKfS7OQAqns7uI4+tp3E5t4ArnOo3MWX1L4ArmuDzLhPvJpawJkAn2614cwAoXoytJVyx6uM0bau3NWl2sfE5+FCtaZPu6Rkv7KC2ANCAAABE0lEQVR4AdyRU4IDQQBEY9vJ9Oj1mLFx/1OtrQPsf7kymWwuXygWS6VSuVyp1uqNZqvd6fb6g+FoPJnOZv8LoIjynwBV0w3xB8BEk1iiUq03mz8BijaKo0lRdT3P9X9SMDADPOECuO2fMuhAKCKUGM9/AsRxPPrYwpK6EBGlPtETIE68dP5ph5CFCAGWjxaxRCeafwQIqYlqaGv6Y8jeCmu9YfxpSZWwWt3u2Lfbfnz4ASCItjsb5Lqb6vDZQlGPprDw4JRiQ7R6CJl8CHkGbB1t0Wj4cGoNPtcsXDg2PaLrtlarN0/4X4cq3LitE0Tl6awGB/8roAge8vXNfev71KHUo/vB0wPWuJCWZsORYEZIxgEAuatI9jt5CO8AAAAASUVORK5CYII=\" style=\"height:18px;width:18px\"/></div></span><div><span class=\"VuuXrf\">나무위키</span><div class=\"byrV5b\"><cite class=\"qLRx3b tjvcx GvPZzd cHaqb\" role=\"text\">https://namu.wiki<span class=\"dyjrff ob9lvb\" role=\"text\"> › 카리나(aespa)</span></cite></div></div></div></a>,\n",
       " <a data-jsarwt=\"1\" data-usg=\"AOvVaw3K1d_QjjGST-a8sc5WRGoH\" data-ved=\"2ahUKEwjasMuXzauBAxUSh_0HHbcUBSQQFnoECCoQAQ\" href=\"https://www.instagram.com/karina_aespas_/\" jsname=\"UWckNb\"><br/><h3 class=\"LC20lb MBeuO DKV0Md\">AESPA KARINA 카리나 (@karina_aespas_)</h3><div class=\"notranslate TbwUpd NJjxre iUh30 ojE3Fb\"><span class=\"H9lube\"><div aria-hidden=\"true\" class=\"eqA2re NjwKYd Vwoesf\"><img alt=\"\" class=\"XNo5Ab\" src=\"data:image/png;base64,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\" style=\"height:18px;width:18px\"/></div></span><div><span class=\"VuuXrf\">Instagram</span><div class=\"byrV5b\"><cite class=\"qLRx3b tjvcx GvPZzd cHaqb\" role=\"text\">https://www.instagram.com<span class=\"dyjrff ob9lvb\" role=\"text\"> › karina_aespas_</span></cite></div></div></div></a>,\n",
       " <a data-jsarwt=\"1\" data-usg=\"AOvVaw3XXVVYzWys30-QORlEuGm2\" data-ved=\"2ahUKEwjasMuXzauBAxUSh_0HHbcUBSQQFnoECEgQAQ\" href=\"https://namu.wiki/w/%EC%B9%B4%EB%A6%AC%EB%82%98(aespa)?rev=3170\" jsname=\"UWckNb\"><br/><h3 class=\"LC20lb MBeuO DKV0Md\">카리나(aespa) (r3170 판)</h3><div class=\"notranslate TbwUpd NJjxre iUh30 ojE3Fb\"><span class=\"H9lube\"><div aria-hidden=\"true\" class=\"eqA2re NjwKYd Vwoesf\"><img alt=\"\" class=\"XNo5Ab\" src=\"data:image/png;base64,iVBORw0KGgoAAAANSUhEUgAAACAAAAAgCAMAAABEpIrGAAAAwFBMVEUBp5oCp5oDp5kFqJcGqJYHqZQKqpAOq40QrIsRrIoTrYgUrYcVroYXroMYr4MZr4Ebr4AcsH8dsH4esXsfsXohsnkisncjs3Yks3Ums3QntHMAn4YApYV6yLvp9vP0/Pue1spdvq/////b8OmR0cK34doApGdewKfS7OQAqns7uI4+tp3E5t4ArnOo3MWX1L4ArmuDzLhPvJpawJkAn2614cwAoXoytJVyx6uM0bau3NWl2sfE5+FCtaZPu6Rkv7KC2ANCAAABE0lEQVR4AdyRU4IDQQBEY9vJ9Oj1mLFx/1OtrQPsf7kymWwuXygWS6VSuVyp1uqNZqvd6fb6g+FoPJnOZv8LoIjynwBV0w3xB8BEk1iiUq03mz8BijaKo0lRdT3P9X9SMDADPOECuO2fMuhAKCKUGM9/AsRxPPrYwpK6EBGlPtETIE68dP5ph5CFCAGWjxaxRCeafwQIqYlqaGv6Y8jeCmu9YfxpSZWwWt3u2Lfbfnz4ASCItjsb5Lqb6vDZQlGPprDw4JRiQ7R6CJl8CHkGbB1t0Wj4cGoNPtcsXDg2PaLrtlarN0/4X4cq3LitE0Tl6awGB/8roAge8vXNfev71KHUo/vB0wPWuJCWZsORYEZIxgEAuatI9jt5CO8AAAAASUVORK5CYII=\" style=\"height:18px;width:18px\"/></div></span><div><span class=\"VuuXrf\">나무위키</span><div class=\"byrV5b\"><cite class=\"qLRx3b tjvcx GvPZzd cHaqb\" role=\"text\">https://namu.wiki<span class=\"dyjrff ob9lvb\" role=\"text\"> › 카리나(aespa)</span></cite></div></div></div></a>,\n",
       " <a data-jsarwt=\"1\" data-usg=\"AOvVaw3PVtOUVBOHIfovByRQYoqM\" data-ved=\"2ahUKEwjasMuXzauBAxUSh_0HHbcUBSQQFnoECEcQAQ\" href=\"https://ko.wikipedia.org/wiki/%EC%B9%B4%EB%A6%AC%EB%82%98_(%EA%B0%80%EC%88%98)\" jsname=\"UWckNb\"><br/><h3 class=\"LC20lb MBeuO DKV0Md\">카리나 (가수) - 위키백과, 우리 모두의 백과사전</h3><div class=\"notranslate TbwUpd NJjxre iUh30 ojE3Fb\"><span class=\"H9lube\"><div aria-hidden=\"true\" class=\"eqA2re NjwKYd Vwoesf\"><img alt=\"\" class=\"XNo5Ab\" src=\"data:image/png;base64,iVBORw0KGgoAAAANSUhEUgAAACAAAAAgCAMAAABEpIrGAAAAM1BMVEUAAAD+/v41NTUBAQEAAABZWVknJycWFhaZmZmIiIjp6ellZWXMzMzX19eurq54eHhHR0dExXFyAAAAAXRSTlMAQObYZgAAAPtJREFUeAG8kAWOBDAMA9d1Sin+/7XXbpZZdBaURlMrhx28ycGCD/n0bvkBwJf8C+AoIvRAWGtMyHGtCWkfxW+DRopuuIjUtTQJDStevNoXWaRjRSllLd1O8FFhgEZx2BmkAmHC8HwpOUyxSA50VqOjXgAl50URvNWPBRcAnmwnhbcduthqQCO9KYTFBG7eDWoK1T47AZX9DuiUYT/TuhX3MGpnD51kPprSA9Dl+BCKl7jWHHEHmHsLWhNZZMxPQCLTEuy+cYF6D9i8Q5e2Lcyz4AGwKdJbX0p7AegC2qnvxAsAxQRAYH8J6Dg1a/lvpKRJinMW4cxLMPsDAJjSCaG8cPmnAAAAAElFTkSuQmCC\" style=\"height:18px;width:18px\"/></div></span><div><span class=\"VuuXrf\">Wikipedia</span><div class=\"byrV5b\"><cite class=\"qLRx3b tjvcx GvPZzd cHaqb\" role=\"text\">https://ko.wikipedia.org<span class=\"dyjrff ob9lvb\" role=\"text\"> › wiki › 카리나_(가수)</span></cite></div></div></div></a>,\n",
       " <a data-jsarwt=\"1\" data-usg=\"AOvVaw3ox_1DhkZfLxztX3-BSmrY\" data-ved=\"2ahUKEwjasMuXzauBAxUSh_0HHbcUBSQQtwJ6BAgnEAI\" href=\"https://www.youtube.com/watch?v=gO_ONOnzH-s\" jsname=\"UWckNb\"><br/><h3 class=\"LC20lb MBeuO DKV0Md\">#PictureChallenge with #KARINA #GISELLE #HYO #효연 ...</h3><div class=\"notranslate TbwUpd NJjxre iUh30 ojE3Fb\"><span class=\"H9lube\"><div aria-hidden=\"true\" class=\"eqA2re NjwKYd Vwoesf\"><img alt=\"\" class=\"XNo5Ab\" src=\"data:image/png;base64,iVBORw0KGgoAAAANSUhEUgAAACAAAAAgCAYAAABzenr0AAAA3ElEQVR4Ae2WIQzDIBBFEdPV6Ip6L2Y3Me9NMzuB98GbWrysqHf1otWYismm+vYFTRCEhXXjJrjkmSslLwHgi8vjxkoRKAL/J0BCSHAHGhjQgxHMwIKnY/Px+taNHd2/Bmg3p4wKuIH0Y1RQAB+ugDJxDgn0GQVMSMBmFJhDApSTYwLLQtR13xNAo0oWINS6ErXtpxInX0CmC3g1TURNkypQ+QL1IYG9hiFFRPIL8C8B/ybkO4bsFxH7Vcz+GLE/x5yBRL+LZDVQkTi2Ochn70dimQpFspKKi0AReAF/IVUTZ3/BGQAAAABJRU5ErkJggg==\" style=\"height:18px;width:18px\"/></div></span><div><span class=\"VuuXrf\">YouTube</span><div class=\"byrV5b\"><cite class=\"qLRx3b tjvcx GvPZzd cHaqb\" role=\"text\">https://www.youtube.com<span class=\"dyjrff ob9lvb\" role=\"text\"> › watch</span></cite></div></div></div></a>,\n",
       " <a data-jsarwt=\"1\" data-usg=\"AOvVaw0w5Ebic0J-BM04SFZ7uDxl\" data-ved=\"2ahUKEwjasMuXzauBAxUSh_0HHbcUBSQQtwJ6BAgoEAI\" href=\"https://www.youtube.com/watch?v=v63rTR68TdA\" jsname=\"UWckNb\"><br/><h3 class=\"LC20lb MBeuO DKV0Md\">230625 aespa(에스파) 'Next Level' 카리나 KARINA 4K Cam ...</h3><div class=\"notranslate TbwUpd NJjxre iUh30 ojE3Fb\"><span class=\"H9lube\"><div aria-hidden=\"true\" class=\"eqA2re NjwKYd Vwoesf\"><img alt=\"\" class=\"XNo5Ab\" src=\"data:image/png;base64,iVBORw0KGgoAAAANSUhEUgAAACAAAAAgCAYAAABzenr0AAAA3ElEQVR4Ae2WIQzDIBBFEdPV6Ip6L2Y3Me9NMzuB98GbWrysqHf1otWYismm+vYFTRCEhXXjJrjkmSslLwHgi8vjxkoRKAL/J0BCSHAHGhjQgxHMwIKnY/Px+taNHd2/Bmg3p4wKuIH0Y1RQAB+ugDJxDgn0GQVMSMBmFJhDApSTYwLLQtR13xNAo0oWINS6ErXtpxInX0CmC3g1TURNkypQ+QL1IYG9hiFFRPIL8C8B/ybkO4bsFxH7Vcz+GLE/x5yBRL+LZDVQkTi2Ochn70dimQpFspKKi0AReAF/IVUTZ3/BGQAAAABJRU5ErkJggg==\" style=\"height:18px;width:18px\"/></div></span><div><span class=\"VuuXrf\">YouTube</span><div class=\"byrV5b\"><cite class=\"qLRx3b tjvcx GvPZzd cHaqb\" role=\"text\">https://www.youtube.com<span class=\"dyjrff ob9lvb\" role=\"text\"> › watch</span></cite></div></div></div></a>,\n",
       " <a data-jsarwt=\"1\" data-usg=\"AOvVaw1Gz1z8T3uGHfOEnV0NgDdn\" data-ved=\"2ahUKEwjasMuXzauBAxUSh_0HHbcUBSQQtwJ6BAhFEAI\" href=\"https://www.youtube.com/watch?v=prSFnMkjtlI\" jsname=\"UWckNb\"><br/><h3 class=\"LC20lb MBeuO DKV0Md\">#KARINA big girl making money #BetterThingsChallenge ...</h3><div class=\"notranslate TbwUpd NJjxre iUh30 ojE3Fb\"><span class=\"H9lube\"><div aria-hidden=\"true\" class=\"eqA2re NjwKYd Vwoesf\"><img alt=\"\" class=\"XNo5Ab\" src=\"data:image/png;base64,iVBORw0KGgoAAAANSUhEUgAAACAAAAAgCAYAAABzenr0AAAA3ElEQVR4Ae2WIQzDIBBFEdPV6Ip6L2Y3Me9NMzuB98GbWrysqHf1otWYismm+vYFTRCEhXXjJrjkmSslLwHgi8vjxkoRKAL/J0BCSHAHGhjQgxHMwIKnY/Px+taNHd2/Bmg3p4wKuIH0Y1RQAB+ugDJxDgn0GQVMSMBmFJhDApSTYwLLQtR13xNAo0oWINS6ErXtpxInX0CmC3g1TURNkypQ+QL1IYG9hiFFRPIL8C8B/ybkO4bsFxH7Vcz+GLE/x5yBRL+LZDVQkTi2Ochn70dimQpFspKKi0AReAF/IVUTZ3/BGQAAAABJRU5ErkJggg==\" style=\"height:18px;width:18px\"/></div></span><div><span class=\"VuuXrf\">YouTube</span><div class=\"byrV5b\"><cite class=\"qLRx3b tjvcx GvPZzd cHaqb\" role=\"text\">https://www.youtube.com<span class=\"dyjrff ob9lvb\" role=\"text\"> › watch</span></cite></div></div></div></a>,\n",
       " <a data-jsarwt=\"1\" data-usg=\"AOvVaw0FrNMkKE-AgblyocHKXZfu\" data-ved=\"2ahUKEwjasMuXzauBAxUSh_0HHbcUBSQQtwJ6BAg4EAI\" href=\"https://www.youtube.com/shorts/Dul1Q0SK0n4\" jsname=\"UWckNb\"><br/><h3 class=\"LC20lb MBeuO DKV0Md\">Chicago #pinkchampagne #aespa #æspa #에스파 ... - YouTube</h3><div class=\"notranslate TbwUpd NJjxre iUh30 ojE3Fb\"><span class=\"H9lube\"><div aria-hidden=\"true\" class=\"eqA2re NjwKYd Vwoesf\"><img alt=\"\" class=\"XNo5Ab\" src=\"data:image/png;base64,iVBORw0KGgoAAAANSUhEUgAAACAAAAAgCAYAAABzenr0AAAA3ElEQVR4Ae2WIQzDIBBFEdPV6Ip6L2Y3Me9NMzuB98GbWrysqHf1otWYismm+vYFTRCEhXXjJrjkmSslLwHgi8vjxkoRKAL/J0BCSHAHGhjQgxHMwIKnY/Px+taNHd2/Bmg3p4wKuIH0Y1RQAB+ugDJxDgn0GQVMSMBmFJhDApSTYwLLQtR13xNAo0oWINS6ErXtpxInX0CmC3g1TURNkypQ+QL1IYG9hiFFRPIL8C8B/ybkO4bsFxH7Vcz+GLE/x5yBRL+LZDVQkTi2Ochn70dimQpFspKKi0AReAF/IVUTZ3/BGQAAAABJRU5ErkJggg==\" style=\"height:18px;width:18px\"/></div></span><div><span class=\"VuuXrf\">YouTube</span><div class=\"byrV5b\"><cite class=\"qLRx3b tjvcx GvPZzd cHaqb\" role=\"text\">https://www.youtube.com<span class=\"dyjrff ob9lvb\" role=\"text\"> › shorts</span></cite></div></div></div></a>]"
      ]
     },
     "execution_count": 38,
     "metadata": {},
     "output_type": "execute_result"
    }
   ],
   "source": [
    "# A(자식으로 H3를 갖고 있는)\n",
    "dom.select('a[jsname=\"UWckNb\"]:has(> h3)')\n",
    "dom.select('a:has(> h3.LC20lb)')\n",
    "dom.select('a:has(> h3.LC20lb.MBeuO.DKV0Md)')"
   ]
  },
  {
   "cell_type": "code",
   "execution_count": 39,
   "metadata": {},
   "outputs": [
    {
     "name": "stdout",
     "output_type": "stream",
     "text": [
      "카리나(aespa)\n",
      "https://namu.wiki/w/%EC%B9%B4%EB%A6%AC%EB%82%98(aespa)\n",
      "AESPA KARINA 카리나 (@karina_aespas_)\n",
      "https://www.instagram.com/karina_aespas_/\n",
      "카리나(aespa) (r3170 판)\n",
      "https://namu.wiki/w/%EC%B9%B4%EB%A6%AC%EB%82%98(aespa)?rev=3170\n",
      "카리나 (가수) - 위키백과, 우리 모두의 백과사전\n",
      "https://ko.wikipedia.org/wiki/%EC%B9%B4%EB%A6%AC%EB%82%98_(%EA%B0%80%EC%88%98)\n",
      "#PictureChallenge with #KARINA #GISELLE #HYO #효연 ...\n",
      "https://www.youtube.com/watch?v=gO_ONOnzH-s\n",
      "230625 aespa(에스파) 'Next Level' 카리나 KARINA 4K Cam ...\n",
      "https://www.youtube.com/watch?v=v63rTR68TdA\n",
      "#KARINA big girl making money #BetterThingsChallenge ...\n",
      "https://www.youtube.com/watch?v=prSFnMkjtlI\n",
      "Chicago #pinkchampagne #aespa #æspa #에스파 ... - YouTube\n",
      "https://www.youtube.com/shorts/Dul1Q0SK0n4\n"
     ]
    }
   ],
   "source": [
    "for a in dom.select('a:has(> h3.LC20lb.MBeuO.DKV0Md)'):\n",
    "    print(a.select_one('h3').text) # 타이틀\n",
    "    print(a.attrs['href']) # 링크\n",
    "    "
   ]
  },
  {
   "cell_type": "code",
   "execution_count": 40,
   "metadata": {},
   "outputs": [],
   "source": [
    "resp = download('https://search.daum.net/search', {'w':'tot', 'q':'카리나'})\n",
    "dom = BeautifulSoup(resp.text, 'html5lib')"
   ]
  },
  {
   "cell_type": "code",
   "execution_count": 41,
   "metadata": {},
   "outputs": [
    {
     "data": {
      "text/plain": [
       "[<a class=\"tit_main fn_tit_u\" data-action-type=\"ks\" href=\"https://v.daum.net/v/20230903232408019?f=o\" onclick='smartLog(this, \"dc=NNS&amp;p=14&amp;d=26ZrasqVrAaAO3AQsh&amp;pg=1&amp;r=1&amp;rc=4&amp;e1=16O9wCZdr911fR5W97&amp;e3=0&amp;ext=dsid=26ZrasqVrAaAO3AQsh\", event, {\"cpid\": {\"value\": \"16O9wCZdr911fR5W97\"}});' target=\"_blank\"> 에스파 <b>카리나</b>, 걸어 다니는 인형… 일상이 화보 </a>,\n",
       " <a class=\"tit_main fn_tit_u\" data-action-type=\"ks\" href=\"https://v.daum.net/v/20230911172827349?f=o\" onclick='smartLog(this, \"dc=NNS&amp;p=14&amp;d=26qtZ1DFoQ0b83nX1Z&amp;pg=1&amp;r=2&amp;rc=4&amp;e1=16EYSMhnbuylgdbAfU&amp;e3=0&amp;ext=dsid=26qtZ1DFoQ0b83nX1Z\", event, {\"cpid\": {\"value\": \"16EYSMhnbuylgdbAfU\"}});' target=\"_blank\"> <b>카리나</b>, 중단발 사진 공개…단발 욕구↑ </a>,\n",
       " <a class=\"tit_main fn_tit_u\" data-action-type=\"ks\" href=\"https://v.daum.net/v/20230911185502680?f=o\" onclick='smartLog(this, \"dc=NNS&amp;p=14&amp;d=26PvdDJI7rjqtkLVaC&amp;pg=1&amp;r=3&amp;rc=4&amp;e1=160KxXudRMOTDFLTC3&amp;e3=0&amp;ext=dsid=26PvdDJI7rjqtkLVaC\", event, {\"cpid\": {\"value\": \"160KxXudRMOTDFLTC3\"}});' target=\"_blank\"> 에스파 <b>카리나</b>, 모자 커 보이는 착시 효과… ‘소두 인증’ </a>,\n",
       " <a class=\"tit_main fn_tit_u\" data-action-type=\"ks\" href=\"https://v.daum.net/v/20230822121936051?f=o\" onclick='smartLog(this, \"dc=NNS&amp;p=14&amp;d=26W6U33F_zK_2HYaBz&amp;pg=1&amp;r=4&amp;rc=4&amp;e1=16LejXKUJH-lny6LlF&amp;e3=0&amp;ext=dsid=26W6U33F_zK_2HYaBz\", event, {\"cpid\": {\"value\": \"16LejXKUJH-lny6LlF\"}});' target=\"_blank\"> 진짜 \"美쳤다\" 소리 나온다…<b>카리나</b>, 얼마나 예쁘길래 '초근접샷이 저 미모' </a>]"
      ]
     },
     "execution_count": 41,
     "metadata": {},
     "output_type": "execute_result"
    }
   ],
   "source": [
    "dom.select('a.tit_main.fn_tit_u') # 속성만 이용(class)\n",
    "dom.select('.wrap_cont > a.tit_main') # 부모 관계와 클래스 이용\n",
    "dom.select('.wrap_thumb + .wrap_cont > a.tit_main') # .wrap_thumb라는 주변 속성(형제 노드)을 사용한다.\n",
    "dom.select('.wrap_thumb[id] + .wrap_cont') # .wrap_thumb[id]: id 값이 있으면 사용가능하다 (wrap_thumb가 id 값을 가지고 있음)\n",
    "dom.select('#container > li > div:last-child > a') # 앵간하면 id는 1개를 갖는다 > 뉴스에 해당되는 li > div > 마지막 자식의 a"
   ]
  },
  {
   "cell_type": "code",
   "execution_count": 42,
   "metadata": {},
   "outputs": [
    {
     "name": "stdout",
     "output_type": "stream",
     "text": [
      "에스파 카리나, 걸어 다니는 인형… 일상이 화보\n",
      "https://v.daum.net/v/20230903232408019?f=o\n",
      "카리나, 중단발 사진 공개…단발 욕구↑\n",
      "https://v.daum.net/v/20230911172827349?f=o\n",
      "에스파 카리나, 모자 커 보이는 착시 효과… ‘소두 인증’\n",
      "https://v.daum.net/v/20230911185502680?f=o\n",
      "진짜 \"美쳤다\" 소리 나온다…카리나, 얼마나 예쁘길래 '초근접샷이 저 미모'\n",
      "https://v.daum.net/v/20230822121936051?f=o\n"
     ]
    }
   ],
   "source": [
    "for a in dom.select('#container > li > div:last-child > a'):\n",
    "    print(a.text.strip())\n",
    "    print(a.attrs['href'])"
   ]
  },
  {
   "cell_type": "code",
   "execution_count": 43,
   "metadata": {},
   "outputs": [
    {
     "name": "stdout",
     "output_type": "stream",
     "text": [
      "카리나 (배우)\n",
      "https://ko.wikipedia.org/wiki/%EC%B9%B4%EB%A6%AC%EB%82%98%20%28%EB%B0%B0%EC%9A%B0%29\n",
      "카리나(가디언 테일즈) - 나무위키\n",
      "https://namu.wiki/w/%EC%B9%B4%EB%A6%AC%EB%82%98(%EA%B0%80%EB%94%94%EC%96%B8%20%ED%85%8C%EC%9D%BC%EC%A6%88)\n",
      "카리나 달글 10 🩵🫧 We go better things 🪸💙\n",
      "https://cafe.daum.net/Duckgu/D2nu/41713?q=%EC%B9%B4%EB%A6%AC%EB%82%98&re=1\n",
      "에스파 카리나의 평소 식사량\n",
      "https://cafe.daum.net/subdued20club/ReHf/4409073?q=%EC%B9%B4%EB%A6%AC%EB%82%98&re=1\n",
      "카리나랑 1년 사귀기 vs 현금 1억받기\n",
      "https://cafe.daum.net/ssaumjil/LnOm/3026626?q=%EC%B9%B4%EB%A6%AC%EB%82%98&re=1\n",
      "전성기 사나 vs 현 카리나\n",
      "https://cafe.daum.net/dotax/Elgq/4173172?q=%EC%B9%B4%EB%A6%AC%EB%82%98&re=1\n",
      "에스파 카리나, 유노윤호 새 앨범 지원 사격 [공식]\n",
      "https://cafe.daum.net/SoulDresser/FLTB/752076?q=%EC%B9%B4%EB%A6%AC%EB%82%98&re=1\n",
      "AI로 만든 에스파 카리나 바비.jpg\n",
      "https://table.cafe.daum.net/p/1217111531/207167064921750272\n",
      "최근 화제가 되고 있는 에스파 카리나 다이어트와 다이어트 식단\n",
      "https://nizniz.tistory.com/149\n",
      "시에나를 제대로 즐기는 방법 - 만지아의 탑, 캄포광장,시에나 대성당, 카타리나 그리고 카리나\n",
      "https://brunch.co.kr/@gle-bay/204\n",
      "원샷 카리나 - 카카오스토리\n",
      "http://story.kakao.com/_cOgo99/jKqXPaREfBa\n"
     ]
    }
   ],
   "source": [
    "for title in dom.select('c-doc-web > c-title'):\n",
    "    print(title.text)\n",
    "    print(title['data-href'])"
   ]
  },
  {
   "cell_type": "code",
   "execution_count": 44,
   "metadata": {},
   "outputs": [
    {
     "name": "stdout",
     "output_type": "stream",
     "text": [
      "에스파 카리나, 걸어 다니는 인형… 일상이 화보\n",
      "https://v.daum.net/v/20230903232408019?f=o\n",
      "카리나, 중단발 사진 공개…단발 욕구↑\n",
      "https://v.daum.net/v/20230911172827349?f=o\n",
      "에스파 카리나, 모자 커 보이는 착시 효과… ‘소두 인증’\n",
      "https://v.daum.net/v/20230911185502680?f=o\n",
      "진짜 \"美쳤다\" 소리 나온다…카리나, 얼마나 예쁘길래 '초근접샷이 저 미모'\n",
      "https://v.daum.net/v/20230822121936051?f=o\n",
      "카리나 (배우)\n",
      "https://ko.wikipedia.org/wiki/%EC%B9%B4%EB%A6%AC%EB%82%98%20%28%EB%B0%B0%EC%9A%B0%29\n",
      "카리나(가디언 테일즈) - 나무위키\n",
      "https://namu.wiki/w/%EC%B9%B4%EB%A6%AC%EB%82%98(%EA%B0%80%EB%94%94%EC%96%B8%20%ED%85%8C%EC%9D%BC%EC%A6%88)\n",
      "카리나 달글 10 🩵🫧 We go better things 🪸💙\n",
      "https://cafe.daum.net/Duckgu/D2nu/41713?q=%EC%B9%B4%EB%A6%AC%EB%82%98&re=1\n",
      "에스파 카리나의 평소 식사량\n",
      "https://cafe.daum.net/subdued20club/ReHf/4409073?q=%EC%B9%B4%EB%A6%AC%EB%82%98&re=1\n",
      "카리나랑 1년 사귀기 vs 현금 1억받기\n",
      "https://cafe.daum.net/ssaumjil/LnOm/3026626?q=%EC%B9%B4%EB%A6%AC%EB%82%98&re=1\n",
      "전성기 사나 vs 현 카리나\n",
      "https://cafe.daum.net/dotax/Elgq/4173172?q=%EC%B9%B4%EB%A6%AC%EB%82%98&re=1\n",
      "에스파 카리나, 유노윤호 새 앨범 지원 사격 [공식]\n",
      "https://cafe.daum.net/SoulDresser/FLTB/752076?q=%EC%B9%B4%EB%A6%AC%EB%82%98&re=1\n",
      "AI로 만든 에스파 카리나 바비.jpg\n",
      "https://table.cafe.daum.net/p/1217111531/207167064921750272\n",
      "최근 화제가 되고 있는 에스파 카리나 다이어트와 다이어트 식단\n",
      "https://nizniz.tistory.com/149\n",
      "시에나를 제대로 즐기는 방법 - 만지아의 탑, 캄포광장,시에나 대성당, 카타리나 그리고 카리나\n",
      "https://brunch.co.kr/@gle-bay/204\n",
      "원샷 카리나 - 카카오스토리\n",
      "http://story.kakao.com/_cOgo99/jKqXPaREfBa\n"
     ]
    }
   ],
   "source": [
    "# 동시에 여러개 찾는 법은 '''를 사용한다.\n",
    "for a in dom.select('''\n",
    "#container > li > div:last-child > a,\n",
    "c-doc-web > c-title\n",
    "'''):\n",
    "    print(a.text.strip())\n",
    "    # 조건문으로 href가 있으면 'href'를 없으면 'data-href'를\n",
    "    print(a.attrs[('' if a.has_attr('href') else 'data-') + 'href']) "
   ]
  },
  {
   "cell_type": "code",
   "execution_count": null,
   "metadata": {},
   "outputs": [],
   "source": [
    "URLs = []\n",
    "# URLs에서 주소를 하나씩 꺼내서 크롤러에 일을 시킨다\n",
    "# 전략: BFS(Queue)/DFS(Stack)\n",
    "while URLs: # 종료 조건: 더이상 URL이 없을때까지\n",
    "    # seed는 URLs 중 하나의 주소\n",
    "    seed => /(루트)에 가서 robots.txt 확인\n",
    "    seed => (HTTP) Req/Resp\n",
    "    Resp.status_code, Resp.Headers 확인\n",
    "    content-type: text/html\n",
    "    HTML => DOM으로 온갖 링크 추출\n",
    "    => 링크를 절대주소의 형태로 변환(link normalization: urljoin)\n",
    "    => 링크를 방문한 적이 있는가? (URL seen?)\n",
    "    True  => seed escape\n",
    "    False => URLs.append(new_link) "
   ]
  },
  {
   "cell_type": "code",
   "execution_count": 29,
   "metadata": {},
   "outputs": [],
   "source": [
    "URLs = []\n",
    "URLs.append('https://www.google.com/search?client=firefox-b-d&q=%EC%B9%B4%EB%A6%AC%EB%82%98')"
   ]
  },
  {
   "cell_type": "code",
   "execution_count": null,
   "metadata": {},
   "outputs": [],
   "source": [
    "import re\n",
    "from bs4 import BeautifulSoup\n",
    "from urllib.parse import urljoin\n",
    "seens = []\n",
    "\n",
    "# 이대로 사용하기엔 search space가 너무 크다\n",
    "# Focused Clawling을 사용하여 depth, domain, content 등을 필터한다.\n",
    "while URLs:\n",
    "    seed = URLs.pop(0) # 0은 처음 url부터 찾기, -1은 마지막 url부터 찾기\n",
    "    resp = download(seed) \n",
    "    seens.append(seed)\n",
    "    if resp.status_code !=200:\n",
    "        continue\n",
    "    # 헤더 확인\n",
    "    if re.search('text/html', resp.headers['Content-Type']):\n",
    "        dom = BeautifulSoup(resp.text, 'html5lib')\n",
    "        # 모든 태그에 대해서 링크 뽑기\n",
    "        # *는 정규표현식에서 해당 문자가 0개 이상 일치 ,: or\n",
    "        for link in dom.select('*[href], *[src], *[action]'):\n",
    "            if link.has_attr('src'):\n",
    "                href = link.attrs['src']\n",
    "            elif link.has_attr('href'):\n",
    "                href = link.attrs['href']\n",
    "            elif link.has_attr('action'):\n",
    "                href = link.attrs['action']\n",
    "\n",
    "            # 걸러야하는 것\n",
    "            # href => http(s) 절대주소, path, (..)/path 형태의 상대주소\n",
    "            # javascript:, # data, matilto, tel, ...\n",
    "            if not re.match('(?:#)|(?:javasript)|(?:data)|(?:mailto)', href): # re로 or로 묶는법\n",
    "                # 링크를 절대주소의 형태로 변환\n",
    "                newurl = urljoin(resp.request.url, href)\n",
    "                # 링크를 방문한 적이 있는가?\n",
    "                if newurl not in seens and newurl not in URLs:\n",
    "                    URLs.append(newurl)\n",
    "        break"
   ]
  },
  {
   "cell_type": "code",
   "execution_count": 75,
   "metadata": {},
   "outputs": [
    {
     "data": {
      "text/plain": [
       "(57, 1)"
      ]
     },
     "execution_count": 75,
     "metadata": {},
     "output_type": "execute_result"
    }
   ],
   "source": [
    "len(URLs), len(seens)"
   ]
  },
  {
   "cell_type": "code",
   "execution_count": 76,
   "metadata": {},
   "outputs": [
    {
     "data": {
      "text/plain": [
       "102"
      ]
     },
     "execution_count": 76,
     "metadata": {},
     "output_type": "execute_result"
    }
   ],
   "source": [
    "len(dom.select('*[href], *[src], *[action]'))"
   ]
  },
  {
   "cell_type": "code",
   "execution_count": 106,
   "metadata": {},
   "outputs": [
    {
     "ename": "KeyboardInterrupt",
     "evalue": "",
     "output_type": "error",
     "traceback": [
      "\u001b[1;31m---------------------------------------------------------------------------\u001b[0m",
      "\u001b[1;31mKeyboardInterrupt\u001b[0m                         Traceback (most recent call last)",
      "\u001b[1;32m~\\AppData\\Local\\Temp\\ipykernel_9700\\2471112308.py\u001b[0m in \u001b[0;36m<module>\u001b[1;34m\u001b[0m\n\u001b[0;32m     13\u001b[0m     \u001b[0mseed\u001b[0m \u001b[1;33m=\u001b[0m \u001b[0mURLs\u001b[0m\u001b[1;33m.\u001b[0m\u001b[0mpop\u001b[0m\u001b[1;33m(\u001b[0m\u001b[1;36m0\u001b[0m\u001b[1;33m)\u001b[0m \u001b[1;31m# 0은 처음 url부터 찾기, -1은 마지막 url부터 찾기\u001b[0m\u001b[1;33m\u001b[0m\u001b[1;33m\u001b[0m\u001b[0m\n\u001b[0;32m     14\u001b[0m     \u001b[0mseens\u001b[0m\u001b[1;33m.\u001b[0m\u001b[0mappend\u001b[0m\u001b[1;33m(\u001b[0m\u001b[0mseed\u001b[0m\u001b[1;33m[\u001b[0m\u001b[1;36m0\u001b[0m\u001b[1;33m]\u001b[0m\u001b[1;33m)\u001b[0m\u001b[1;33m\u001b[0m\u001b[1;33m\u001b[0m\u001b[0m\n\u001b[1;32m---> 15\u001b[1;33m     \u001b[0mresp\u001b[0m \u001b[1;33m=\u001b[0m \u001b[0mdownload\u001b[0m\u001b[1;33m(\u001b[0m\u001b[0mseed\u001b[0m\u001b[1;33m[\u001b[0m\u001b[1;36m0\u001b[0m\u001b[1;33m]\u001b[0m\u001b[1;33m)\u001b[0m\u001b[1;33m\u001b[0m\u001b[1;33m\u001b[0m\u001b[0m\n\u001b[0m\u001b[0;32m     16\u001b[0m     \u001b[1;32mif\u001b[0m \u001b[0mresp\u001b[0m\u001b[1;33m.\u001b[0m\u001b[0mstatus_code\u001b[0m \u001b[1;33m!=\u001b[0m\u001b[1;36m200\u001b[0m\u001b[1;33m:\u001b[0m\u001b[1;33m\u001b[0m\u001b[1;33m\u001b[0m\u001b[0m\n\u001b[0;32m     17\u001b[0m         \u001b[1;32mcontinue\u001b[0m\u001b[1;33m\u001b[0m\u001b[1;33m\u001b[0m\u001b[0m\n",
      "\u001b[1;32m~\\AppData\\Local\\Temp\\ipykernel_9700\\4133967450.py\u001b[0m in \u001b[0;36mdownload\u001b[1;34m(url, params, method, retrieds)\u001b[0m\n\u001b[0;32m      6\u001b[0m     \u001b[1;32mtry\u001b[0m\u001b[1;33m:\u001b[0m\u001b[1;33m\u001b[0m\u001b[1;33m\u001b[0m\u001b[0m\n\u001b[0;32m      7\u001b[0m         \u001b[1;31m# params와 data를 method에 따라 정의함.\u001b[0m\u001b[1;33m\u001b[0m\u001b[1;33m\u001b[0m\u001b[0m\n\u001b[1;32m----> 8\u001b[1;33m         resp = request(method, \n\u001b[0m\u001b[0;32m      9\u001b[0m                        \u001b[0murl\u001b[0m\u001b[1;33m,\u001b[0m\u001b[1;33m\u001b[0m\u001b[1;33m\u001b[0m\u001b[0m\n\u001b[0;32m     10\u001b[0m                        \u001b[1;31m# get은 URL에 모든 매개변수를 배치한다\u001b[0m\u001b[1;33m\u001b[0m\u001b[1;33m\u001b[0m\u001b[0m\n",
      "\u001b[1;32mc:\\Users\\GyeongJun\\anaconda3\\lib\\site-packages\\requests\\api.py\u001b[0m in \u001b[0;36mrequest\u001b[1;34m(method, url, **kwargs)\u001b[0m\n\u001b[0;32m     57\u001b[0m     \u001b[1;31m# cases, and look like a memory leak in others.\u001b[0m\u001b[1;33m\u001b[0m\u001b[1;33m\u001b[0m\u001b[0m\n\u001b[0;32m     58\u001b[0m     \u001b[1;32mwith\u001b[0m \u001b[0msessions\u001b[0m\u001b[1;33m.\u001b[0m\u001b[0mSession\u001b[0m\u001b[1;33m(\u001b[0m\u001b[1;33m)\u001b[0m \u001b[1;32mas\u001b[0m \u001b[0msession\u001b[0m\u001b[1;33m:\u001b[0m\u001b[1;33m\u001b[0m\u001b[1;33m\u001b[0m\u001b[0m\n\u001b[1;32m---> 59\u001b[1;33m         \u001b[1;32mreturn\u001b[0m \u001b[0msession\u001b[0m\u001b[1;33m.\u001b[0m\u001b[0mrequest\u001b[0m\u001b[1;33m(\u001b[0m\u001b[0mmethod\u001b[0m\u001b[1;33m=\u001b[0m\u001b[0mmethod\u001b[0m\u001b[1;33m,\u001b[0m \u001b[0murl\u001b[0m\u001b[1;33m=\u001b[0m\u001b[0murl\u001b[0m\u001b[1;33m,\u001b[0m \u001b[1;33m**\u001b[0m\u001b[0mkwargs\u001b[0m\u001b[1;33m)\u001b[0m\u001b[1;33m\u001b[0m\u001b[1;33m\u001b[0m\u001b[0m\n\u001b[0m\u001b[0;32m     60\u001b[0m \u001b[1;33m\u001b[0m\u001b[0m\n\u001b[0;32m     61\u001b[0m \u001b[1;33m\u001b[0m\u001b[0m\n",
      "\u001b[1;32mc:\\Users\\GyeongJun\\anaconda3\\lib\\site-packages\\requests\\sessions.py\u001b[0m in \u001b[0;36mrequest\u001b[1;34m(self, method, url, params, data, headers, cookies, files, auth, timeout, allow_redirects, proxies, hooks, stream, verify, cert, json)\u001b[0m\n\u001b[0;32m    585\u001b[0m         }\n\u001b[0;32m    586\u001b[0m         \u001b[0msend_kwargs\u001b[0m\u001b[1;33m.\u001b[0m\u001b[0mupdate\u001b[0m\u001b[1;33m(\u001b[0m\u001b[0msettings\u001b[0m\u001b[1;33m)\u001b[0m\u001b[1;33m\u001b[0m\u001b[1;33m\u001b[0m\u001b[0m\n\u001b[1;32m--> 587\u001b[1;33m         \u001b[0mresp\u001b[0m \u001b[1;33m=\u001b[0m \u001b[0mself\u001b[0m\u001b[1;33m.\u001b[0m\u001b[0msend\u001b[0m\u001b[1;33m(\u001b[0m\u001b[0mprep\u001b[0m\u001b[1;33m,\u001b[0m \u001b[1;33m**\u001b[0m\u001b[0msend_kwargs\u001b[0m\u001b[1;33m)\u001b[0m\u001b[1;33m\u001b[0m\u001b[1;33m\u001b[0m\u001b[0m\n\u001b[0m\u001b[0;32m    588\u001b[0m \u001b[1;33m\u001b[0m\u001b[0m\n\u001b[0;32m    589\u001b[0m         \u001b[1;32mreturn\u001b[0m \u001b[0mresp\u001b[0m\u001b[1;33m\u001b[0m\u001b[1;33m\u001b[0m\u001b[0m\n",
      "\u001b[1;32mc:\\Users\\GyeongJun\\anaconda3\\lib\\site-packages\\requests\\sessions.py\u001b[0m in \u001b[0;36msend\u001b[1;34m(self, request, **kwargs)\u001b[0m\n\u001b[0;32m    743\u001b[0m \u001b[1;33m\u001b[0m\u001b[0m\n\u001b[0;32m    744\u001b[0m         \u001b[1;32mif\u001b[0m \u001b[1;32mnot\u001b[0m \u001b[0mstream\u001b[0m\u001b[1;33m:\u001b[0m\u001b[1;33m\u001b[0m\u001b[1;33m\u001b[0m\u001b[0m\n\u001b[1;32m--> 745\u001b[1;33m             \u001b[0mr\u001b[0m\u001b[1;33m.\u001b[0m\u001b[0mcontent\u001b[0m\u001b[1;33m\u001b[0m\u001b[1;33m\u001b[0m\u001b[0m\n\u001b[0m\u001b[0;32m    746\u001b[0m \u001b[1;33m\u001b[0m\u001b[0m\n\u001b[0;32m    747\u001b[0m         \u001b[1;32mreturn\u001b[0m \u001b[0mr\u001b[0m\u001b[1;33m\u001b[0m\u001b[1;33m\u001b[0m\u001b[0m\n",
      "\u001b[1;32mc:\\Users\\GyeongJun\\anaconda3\\lib\\site-packages\\requests\\models.py\u001b[0m in \u001b[0;36mcontent\u001b[1;34m(self)\u001b[0m\n\u001b[0;32m    897\u001b[0m                 \u001b[0mself\u001b[0m\u001b[1;33m.\u001b[0m\u001b[0m_content\u001b[0m \u001b[1;33m=\u001b[0m \u001b[1;32mNone\u001b[0m\u001b[1;33m\u001b[0m\u001b[1;33m\u001b[0m\u001b[0m\n\u001b[0;32m    898\u001b[0m             \u001b[1;32melse\u001b[0m\u001b[1;33m:\u001b[0m\u001b[1;33m\u001b[0m\u001b[1;33m\u001b[0m\u001b[0m\n\u001b[1;32m--> 899\u001b[1;33m                 \u001b[0mself\u001b[0m\u001b[1;33m.\u001b[0m\u001b[0m_content\u001b[0m \u001b[1;33m=\u001b[0m \u001b[1;34mb\"\"\u001b[0m\u001b[1;33m.\u001b[0m\u001b[0mjoin\u001b[0m\u001b[1;33m(\u001b[0m\u001b[0mself\u001b[0m\u001b[1;33m.\u001b[0m\u001b[0miter_content\u001b[0m\u001b[1;33m(\u001b[0m\u001b[0mCONTENT_CHUNK_SIZE\u001b[0m\u001b[1;33m)\u001b[0m\u001b[1;33m)\u001b[0m \u001b[1;32mor\u001b[0m \u001b[1;34mb\"\"\u001b[0m\u001b[1;33m\u001b[0m\u001b[1;33m\u001b[0m\u001b[0m\n\u001b[0m\u001b[0;32m    900\u001b[0m \u001b[1;33m\u001b[0m\u001b[0m\n\u001b[0;32m    901\u001b[0m         \u001b[0mself\u001b[0m\u001b[1;33m.\u001b[0m\u001b[0m_content_consumed\u001b[0m \u001b[1;33m=\u001b[0m \u001b[1;32mTrue\u001b[0m\u001b[1;33m\u001b[0m\u001b[1;33m\u001b[0m\u001b[0m\n",
      "\u001b[1;32mc:\\Users\\GyeongJun\\anaconda3\\lib\\site-packages\\requests\\models.py\u001b[0m in \u001b[0;36mgenerate\u001b[1;34m()\u001b[0m\n\u001b[0;32m    814\u001b[0m             \u001b[1;32mif\u001b[0m \u001b[0mhasattr\u001b[0m\u001b[1;33m(\u001b[0m\u001b[0mself\u001b[0m\u001b[1;33m.\u001b[0m\u001b[0mraw\u001b[0m\u001b[1;33m,\u001b[0m \u001b[1;34m\"stream\"\u001b[0m\u001b[1;33m)\u001b[0m\u001b[1;33m:\u001b[0m\u001b[1;33m\u001b[0m\u001b[1;33m\u001b[0m\u001b[0m\n\u001b[0;32m    815\u001b[0m                 \u001b[1;32mtry\u001b[0m\u001b[1;33m:\u001b[0m\u001b[1;33m\u001b[0m\u001b[1;33m\u001b[0m\u001b[0m\n\u001b[1;32m--> 816\u001b[1;33m                     \u001b[1;32myield\u001b[0m \u001b[1;32mfrom\u001b[0m \u001b[0mself\u001b[0m\u001b[1;33m.\u001b[0m\u001b[0mraw\u001b[0m\u001b[1;33m.\u001b[0m\u001b[0mstream\u001b[0m\u001b[1;33m(\u001b[0m\u001b[0mchunk_size\u001b[0m\u001b[1;33m,\u001b[0m \u001b[0mdecode_content\u001b[0m\u001b[1;33m=\u001b[0m\u001b[1;32mTrue\u001b[0m\u001b[1;33m)\u001b[0m\u001b[1;33m\u001b[0m\u001b[1;33m\u001b[0m\u001b[0m\n\u001b[0m\u001b[0;32m    817\u001b[0m                 \u001b[1;32mexcept\u001b[0m \u001b[0mProtocolError\u001b[0m \u001b[1;32mas\u001b[0m \u001b[0me\u001b[0m\u001b[1;33m:\u001b[0m\u001b[1;33m\u001b[0m\u001b[1;33m\u001b[0m\u001b[0m\n\u001b[0;32m    818\u001b[0m                     \u001b[1;32mraise\u001b[0m \u001b[0mChunkedEncodingError\u001b[0m\u001b[1;33m(\u001b[0m\u001b[0me\u001b[0m\u001b[1;33m)\u001b[0m\u001b[1;33m\u001b[0m\u001b[1;33m\u001b[0m\u001b[0m\n",
      "\u001b[1;32mc:\\Users\\GyeongJun\\anaconda3\\lib\\site-packages\\urllib3\\response.py\u001b[0m in \u001b[0;36mstream\u001b[1;34m(self, amt, decode_content)\u001b[0m\n\u001b[0;32m    622\u001b[0m         \"\"\"\n\u001b[0;32m    623\u001b[0m         \u001b[1;32mif\u001b[0m \u001b[0mself\u001b[0m\u001b[1;33m.\u001b[0m\u001b[0mchunked\u001b[0m \u001b[1;32mand\u001b[0m \u001b[0mself\u001b[0m\u001b[1;33m.\u001b[0m\u001b[0msupports_chunked_reads\u001b[0m\u001b[1;33m(\u001b[0m\u001b[1;33m)\u001b[0m\u001b[1;33m:\u001b[0m\u001b[1;33m\u001b[0m\u001b[1;33m\u001b[0m\u001b[0m\n\u001b[1;32m--> 624\u001b[1;33m             \u001b[1;32mfor\u001b[0m \u001b[0mline\u001b[0m \u001b[1;32min\u001b[0m \u001b[0mself\u001b[0m\u001b[1;33m.\u001b[0m\u001b[0mread_chunked\u001b[0m\u001b[1;33m(\u001b[0m\u001b[0mamt\u001b[0m\u001b[1;33m,\u001b[0m \u001b[0mdecode_content\u001b[0m\u001b[1;33m=\u001b[0m\u001b[0mdecode_content\u001b[0m\u001b[1;33m)\u001b[0m\u001b[1;33m:\u001b[0m\u001b[1;33m\u001b[0m\u001b[1;33m\u001b[0m\u001b[0m\n\u001b[0m\u001b[0;32m    625\u001b[0m                 \u001b[1;32myield\u001b[0m \u001b[0mline\u001b[0m\u001b[1;33m\u001b[0m\u001b[1;33m\u001b[0m\u001b[0m\n\u001b[0;32m    626\u001b[0m         \u001b[1;32melse\u001b[0m\u001b[1;33m:\u001b[0m\u001b[1;33m\u001b[0m\u001b[1;33m\u001b[0m\u001b[0m\n",
      "\u001b[1;32mc:\\Users\\GyeongJun\\anaconda3\\lib\\site-packages\\urllib3\\response.py\u001b[0m in \u001b[0;36mread_chunked\u001b[1;34m(self, amt, decode_content)\u001b[0m\n\u001b[0;32m    826\u001b[0m \u001b[1;33m\u001b[0m\u001b[0m\n\u001b[0;32m    827\u001b[0m             \u001b[1;32mwhile\u001b[0m \u001b[1;32mTrue\u001b[0m\u001b[1;33m:\u001b[0m\u001b[1;33m\u001b[0m\u001b[1;33m\u001b[0m\u001b[0m\n\u001b[1;32m--> 828\u001b[1;33m                 \u001b[0mself\u001b[0m\u001b[1;33m.\u001b[0m\u001b[0m_update_chunk_length\u001b[0m\u001b[1;33m(\u001b[0m\u001b[1;33m)\u001b[0m\u001b[1;33m\u001b[0m\u001b[1;33m\u001b[0m\u001b[0m\n\u001b[0m\u001b[0;32m    829\u001b[0m                 \u001b[1;32mif\u001b[0m \u001b[0mself\u001b[0m\u001b[1;33m.\u001b[0m\u001b[0mchunk_left\u001b[0m \u001b[1;33m==\u001b[0m \u001b[1;36m0\u001b[0m\u001b[1;33m:\u001b[0m\u001b[1;33m\u001b[0m\u001b[1;33m\u001b[0m\u001b[0m\n\u001b[0;32m    830\u001b[0m                     \u001b[1;32mbreak\u001b[0m\u001b[1;33m\u001b[0m\u001b[1;33m\u001b[0m\u001b[0m\n",
      "\u001b[1;32mc:\\Users\\GyeongJun\\anaconda3\\lib\\site-packages\\urllib3\\response.py\u001b[0m in \u001b[0;36m_update_chunk_length\u001b[1;34m(self)\u001b[0m\n\u001b[0;32m    756\u001b[0m         \u001b[1;32mif\u001b[0m \u001b[0mself\u001b[0m\u001b[1;33m.\u001b[0m\u001b[0mchunk_left\u001b[0m \u001b[1;32mis\u001b[0m \u001b[1;32mnot\u001b[0m \u001b[1;32mNone\u001b[0m\u001b[1;33m:\u001b[0m\u001b[1;33m\u001b[0m\u001b[1;33m\u001b[0m\u001b[0m\n\u001b[0;32m    757\u001b[0m             \u001b[1;32mreturn\u001b[0m\u001b[1;33m\u001b[0m\u001b[1;33m\u001b[0m\u001b[0m\n\u001b[1;32m--> 758\u001b[1;33m         \u001b[0mline\u001b[0m \u001b[1;33m=\u001b[0m \u001b[0mself\u001b[0m\u001b[1;33m.\u001b[0m\u001b[0m_fp\u001b[0m\u001b[1;33m.\u001b[0m\u001b[0mfp\u001b[0m\u001b[1;33m.\u001b[0m\u001b[0mreadline\u001b[0m\u001b[1;33m(\u001b[0m\u001b[1;33m)\u001b[0m\u001b[1;33m\u001b[0m\u001b[1;33m\u001b[0m\u001b[0m\n\u001b[0m\u001b[0;32m    759\u001b[0m         \u001b[0mline\u001b[0m \u001b[1;33m=\u001b[0m \u001b[0mline\u001b[0m\u001b[1;33m.\u001b[0m\u001b[0msplit\u001b[0m\u001b[1;33m(\u001b[0m\u001b[1;34mb\";\"\u001b[0m\u001b[1;33m,\u001b[0m \u001b[1;36m1\u001b[0m\u001b[1;33m)\u001b[0m\u001b[1;33m[\u001b[0m\u001b[1;36m0\u001b[0m\u001b[1;33m]\u001b[0m\u001b[1;33m\u001b[0m\u001b[1;33m\u001b[0m\u001b[0m\n\u001b[0;32m    760\u001b[0m         \u001b[1;32mtry\u001b[0m\u001b[1;33m:\u001b[0m\u001b[1;33m\u001b[0m\u001b[1;33m\u001b[0m\u001b[0m\n",
      "\u001b[1;32mc:\\Users\\GyeongJun\\anaconda3\\lib\\socket.py\u001b[0m in \u001b[0;36mreadinto\u001b[1;34m(self, b)\u001b[0m\n\u001b[0;32m    702\u001b[0m         \u001b[1;32mwhile\u001b[0m \u001b[1;32mTrue\u001b[0m\u001b[1;33m:\u001b[0m\u001b[1;33m\u001b[0m\u001b[1;33m\u001b[0m\u001b[0m\n\u001b[0;32m    703\u001b[0m             \u001b[1;32mtry\u001b[0m\u001b[1;33m:\u001b[0m\u001b[1;33m\u001b[0m\u001b[1;33m\u001b[0m\u001b[0m\n\u001b[1;32m--> 704\u001b[1;33m                 \u001b[1;32mreturn\u001b[0m \u001b[0mself\u001b[0m\u001b[1;33m.\u001b[0m\u001b[0m_sock\u001b[0m\u001b[1;33m.\u001b[0m\u001b[0mrecv_into\u001b[0m\u001b[1;33m(\u001b[0m\u001b[0mb\u001b[0m\u001b[1;33m)\u001b[0m\u001b[1;33m\u001b[0m\u001b[1;33m\u001b[0m\u001b[0m\n\u001b[0m\u001b[0;32m    705\u001b[0m             \u001b[1;32mexcept\u001b[0m \u001b[0mtimeout\u001b[0m\u001b[1;33m:\u001b[0m\u001b[1;33m\u001b[0m\u001b[1;33m\u001b[0m\u001b[0m\n\u001b[0;32m    706\u001b[0m                 \u001b[0mself\u001b[0m\u001b[1;33m.\u001b[0m\u001b[0m_timeout_occurred\u001b[0m \u001b[1;33m=\u001b[0m \u001b[1;32mTrue\u001b[0m\u001b[1;33m\u001b[0m\u001b[1;33m\u001b[0m\u001b[0m\n",
      "\u001b[1;32mc:\\Users\\GyeongJun\\anaconda3\\lib\\ssl.py\u001b[0m in \u001b[0;36mrecv_into\u001b[1;34m(self, buffer, nbytes, flags)\u001b[0m\n\u001b[0;32m   1240\u001b[0m                   \u001b[1;34m\"non-zero flags not allowed in calls to recv_into() on %s\"\u001b[0m \u001b[1;33m%\u001b[0m\u001b[1;33m\u001b[0m\u001b[1;33m\u001b[0m\u001b[0m\n\u001b[0;32m   1241\u001b[0m                   self.__class__)\n\u001b[1;32m-> 1242\u001b[1;33m             \u001b[1;32mreturn\u001b[0m \u001b[0mself\u001b[0m\u001b[1;33m.\u001b[0m\u001b[0mread\u001b[0m\u001b[1;33m(\u001b[0m\u001b[0mnbytes\u001b[0m\u001b[1;33m,\u001b[0m \u001b[0mbuffer\u001b[0m\u001b[1;33m)\u001b[0m\u001b[1;33m\u001b[0m\u001b[1;33m\u001b[0m\u001b[0m\n\u001b[0m\u001b[0;32m   1243\u001b[0m         \u001b[1;32melse\u001b[0m\u001b[1;33m:\u001b[0m\u001b[1;33m\u001b[0m\u001b[1;33m\u001b[0m\u001b[0m\n\u001b[0;32m   1244\u001b[0m             \u001b[1;32mreturn\u001b[0m \u001b[0msuper\u001b[0m\u001b[1;33m(\u001b[0m\u001b[1;33m)\u001b[0m\u001b[1;33m.\u001b[0m\u001b[0mrecv_into\u001b[0m\u001b[1;33m(\u001b[0m\u001b[0mbuffer\u001b[0m\u001b[1;33m,\u001b[0m \u001b[0mnbytes\u001b[0m\u001b[1;33m,\u001b[0m \u001b[0mflags\u001b[0m\u001b[1;33m)\u001b[0m\u001b[1;33m\u001b[0m\u001b[1;33m\u001b[0m\u001b[0m\n",
      "\u001b[1;32mc:\\Users\\GyeongJun\\anaconda3\\lib\\ssl.py\u001b[0m in \u001b[0;36mread\u001b[1;34m(self, len, buffer)\u001b[0m\n\u001b[0;32m   1098\u001b[0m         \u001b[1;32mtry\u001b[0m\u001b[1;33m:\u001b[0m\u001b[1;33m\u001b[0m\u001b[1;33m\u001b[0m\u001b[0m\n\u001b[0;32m   1099\u001b[0m             \u001b[1;32mif\u001b[0m \u001b[0mbuffer\u001b[0m \u001b[1;32mis\u001b[0m \u001b[1;32mnot\u001b[0m \u001b[1;32mNone\u001b[0m\u001b[1;33m:\u001b[0m\u001b[1;33m\u001b[0m\u001b[1;33m\u001b[0m\u001b[0m\n\u001b[1;32m-> 1100\u001b[1;33m                 \u001b[1;32mreturn\u001b[0m \u001b[0mself\u001b[0m\u001b[1;33m.\u001b[0m\u001b[0m_sslobj\u001b[0m\u001b[1;33m.\u001b[0m\u001b[0mread\u001b[0m\u001b[1;33m(\u001b[0m\u001b[0mlen\u001b[0m\u001b[1;33m,\u001b[0m \u001b[0mbuffer\u001b[0m\u001b[1;33m)\u001b[0m\u001b[1;33m\u001b[0m\u001b[1;33m\u001b[0m\u001b[0m\n\u001b[0m\u001b[0;32m   1101\u001b[0m             \u001b[1;32melse\u001b[0m\u001b[1;33m:\u001b[0m\u001b[1;33m\u001b[0m\u001b[1;33m\u001b[0m\u001b[0m\n\u001b[0;32m   1102\u001b[0m                 \u001b[1;32mreturn\u001b[0m \u001b[0mself\u001b[0m\u001b[1;33m.\u001b[0m\u001b[0m_sslobj\u001b[0m\u001b[1;33m.\u001b[0m\u001b[0mread\u001b[0m\u001b[1;33m(\u001b[0m\u001b[0mlen\u001b[0m\u001b[1;33m)\u001b[0m\u001b[1;33m\u001b[0m\u001b[1;33m\u001b[0m\u001b[0m\n",
      "\u001b[1;31mKeyboardInterrupt\u001b[0m: "
     ]
    }
   ],
   "source": [
    "# 1. depth 제약 조건\n",
    "# depth 0은 시작 조건\n",
    "\n",
    "url = 'https://www.google.com/search?client=firefox-b-d&q=%EC%B9%B4%EB%A6%AC%EB%82%98'\n",
    "URLs = []\n",
    "URLs.append((url,0))\n",
    "# (url, depth) [0]: url, [1]: depth\n",
    "seens = []\n",
    "\n",
    "# 이대로 사용하기엔 search space가 너무 크다\n",
    "# Focused Clawling을 사용하여 depth, domain, content 등을 필터한다.\n",
    "while URLs:\n",
    "    seed = URLs.pop(0) # 0은 처음 url부터 찾기, -1은 마지막 url부터 찾기\n",
    "    seens.append(seed[0])\n",
    "    resp = download(seed[0]) \n",
    "    if resp.status_code !=200:\n",
    "        continue\n",
    "    # 헤더 확인\n",
    "    if re.search('text/html', resp.headers['Content-Type']):\n",
    "        dom = BeautifulSoup(resp.text, 'html5lib')\n",
    "        # 모든 태그에 대해서 링크 뽑기\n",
    "        for link in dom.select('*[href], *[src], *[action]'):\n",
    "            if link.has_attr('src'):\n",
    "                href = link.attrs['src']\n",
    "            elif link.has_attr('href'):\n",
    "                href = link.attrs['href']\n",
    "            elif link.has_attr('action'):\n",
    "                href = link.attrs['action']\n",
    "\n",
    "            # 걸러야하는 것\n",
    "            # href => http(s) 절대주소, path, (..)/path 형태의 상대주소\n",
    "            # javascript:, # data, matilto, tel, ...\n",
    "            if not re.match('(?:#)|(?:javasript)|(?:data)|(?:mailto)', href): # re로 or로 묶는법\n",
    "                # 링크를 절대주소의 형태로 변환\n",
    "                newurl = urljoin(resp.request.url, href)\n",
    "                # 링크를 방문한 적이 있는가?\n",
    "                # heuristics 조건 1) 최대 depth가 2인거 까지만 링크 수집\n",
    "                if seed[1] > 3:\n",
    "                    continue\n",
    "\n",
    "                if newurl not in [map(lambda r:r[0], seens)] and\\\n",
    "                   newurl not in [map(lambda r:r[0], URLs)]:\n",
    "                    URLs.append((newurl, seed[1]+1))\n",
    "        #break"
   ]
  },
  {
   "cell_type": "code",
   "execution_count": 107,
   "metadata": {},
   "outputs": [
    {
     "data": {
      "text/plain": [
       "(165, 3)"
      ]
     },
     "execution_count": 107,
     "metadata": {},
     "output_type": "execute_result"
    }
   ],
   "source": [
    "len(URLs), len(seens) # 59페이지 돌았을 때 7348개의 링크 추출"
   ]
  },
  {
   "cell_type": "code",
   "execution_count": 103,
   "metadata": {},
   "outputs": [
    {
     "ename": "KeyboardInterrupt",
     "evalue": "",
     "output_type": "error",
     "traceback": [
      "\u001b[1;31m---------------------------------------------------------------------------\u001b[0m",
      "\u001b[1;31mKeyboardInterrupt\u001b[0m                         Traceback (most recent call last)",
      "\u001b[1;32m~\\AppData\\Local\\Temp\\ipykernel_9700\\2888435504.py\u001b[0m in \u001b[0;36m<module>\u001b[1;34m\u001b[0m\n\u001b[0;32m     15\u001b[0m     \u001b[0mseed\u001b[0m \u001b[1;33m=\u001b[0m \u001b[0mURLs\u001b[0m\u001b[1;33m.\u001b[0m\u001b[0mpop\u001b[0m\u001b[1;33m(\u001b[0m\u001b[1;36m0\u001b[0m\u001b[1;33m)\u001b[0m \u001b[1;31m# 0은 처음 url부터 찾기, -1은 마지막 url부터 찾기\u001b[0m\u001b[1;33m\u001b[0m\u001b[1;33m\u001b[0m\u001b[0m\n\u001b[0;32m     16\u001b[0m     \u001b[0mseens\u001b[0m\u001b[1;33m.\u001b[0m\u001b[0mappend\u001b[0m\u001b[1;33m(\u001b[0m\u001b[0mseed\u001b[0m\u001b[1;33m[\u001b[0m\u001b[1;36m0\u001b[0m\u001b[1;33m]\u001b[0m\u001b[1;33m)\u001b[0m\u001b[1;33m\u001b[0m\u001b[1;33m\u001b[0m\u001b[0m\n\u001b[1;32m---> 17\u001b[1;33m     \u001b[0mresp\u001b[0m \u001b[1;33m=\u001b[0m \u001b[0mdownload\u001b[0m\u001b[1;33m(\u001b[0m\u001b[0mseed\u001b[0m\u001b[1;33m[\u001b[0m\u001b[1;36m0\u001b[0m\u001b[1;33m]\u001b[0m\u001b[1;33m)\u001b[0m\u001b[1;33m\u001b[0m\u001b[1;33m\u001b[0m\u001b[0m\n\u001b[0m\u001b[0;32m     18\u001b[0m     \u001b[1;32mif\u001b[0m \u001b[0mresp\u001b[0m\u001b[1;33m.\u001b[0m\u001b[0mstatus_code\u001b[0m \u001b[1;33m!=\u001b[0m\u001b[1;36m200\u001b[0m\u001b[1;33m:\u001b[0m\u001b[1;33m\u001b[0m\u001b[1;33m\u001b[0m\u001b[0m\n\u001b[0;32m     19\u001b[0m         \u001b[1;32mcontinue\u001b[0m\u001b[1;33m\u001b[0m\u001b[1;33m\u001b[0m\u001b[0m\n",
      "\u001b[1;32m~\\AppData\\Local\\Temp\\ipykernel_9700\\4133967450.py\u001b[0m in \u001b[0;36mdownload\u001b[1;34m(url, params, method, retrieds)\u001b[0m\n\u001b[0;32m      6\u001b[0m     \u001b[1;32mtry\u001b[0m\u001b[1;33m:\u001b[0m\u001b[1;33m\u001b[0m\u001b[1;33m\u001b[0m\u001b[0m\n\u001b[0;32m      7\u001b[0m         \u001b[1;31m# params와 data를 method에 따라 정의함.\u001b[0m\u001b[1;33m\u001b[0m\u001b[1;33m\u001b[0m\u001b[0m\n\u001b[1;32m----> 8\u001b[1;33m         resp = request(method, \n\u001b[0m\u001b[0;32m      9\u001b[0m                        \u001b[0murl\u001b[0m\u001b[1;33m,\u001b[0m\u001b[1;33m\u001b[0m\u001b[1;33m\u001b[0m\u001b[0m\n\u001b[0;32m     10\u001b[0m                        \u001b[1;31m# get은 URL에 모든 매개변수를 배치한다\u001b[0m\u001b[1;33m\u001b[0m\u001b[1;33m\u001b[0m\u001b[0m\n",
      "\u001b[1;32mc:\\Users\\GyeongJun\\anaconda3\\lib\\site-packages\\requests\\api.py\u001b[0m in \u001b[0;36mrequest\u001b[1;34m(method, url, **kwargs)\u001b[0m\n\u001b[0;32m     57\u001b[0m     \u001b[1;31m# cases, and look like a memory leak in others.\u001b[0m\u001b[1;33m\u001b[0m\u001b[1;33m\u001b[0m\u001b[0m\n\u001b[0;32m     58\u001b[0m     \u001b[1;32mwith\u001b[0m \u001b[0msessions\u001b[0m\u001b[1;33m.\u001b[0m\u001b[0mSession\u001b[0m\u001b[1;33m(\u001b[0m\u001b[1;33m)\u001b[0m \u001b[1;32mas\u001b[0m \u001b[0msession\u001b[0m\u001b[1;33m:\u001b[0m\u001b[1;33m\u001b[0m\u001b[1;33m\u001b[0m\u001b[0m\n\u001b[1;32m---> 59\u001b[1;33m         \u001b[1;32mreturn\u001b[0m \u001b[0msession\u001b[0m\u001b[1;33m.\u001b[0m\u001b[0mrequest\u001b[0m\u001b[1;33m(\u001b[0m\u001b[0mmethod\u001b[0m\u001b[1;33m=\u001b[0m\u001b[0mmethod\u001b[0m\u001b[1;33m,\u001b[0m \u001b[0murl\u001b[0m\u001b[1;33m=\u001b[0m\u001b[0murl\u001b[0m\u001b[1;33m,\u001b[0m \u001b[1;33m**\u001b[0m\u001b[0mkwargs\u001b[0m\u001b[1;33m)\u001b[0m\u001b[1;33m\u001b[0m\u001b[1;33m\u001b[0m\u001b[0m\n\u001b[0m\u001b[0;32m     60\u001b[0m \u001b[1;33m\u001b[0m\u001b[0m\n\u001b[0;32m     61\u001b[0m \u001b[1;33m\u001b[0m\u001b[0m\n",
      "\u001b[1;32mc:\\Users\\GyeongJun\\anaconda3\\lib\\site-packages\\requests\\sessions.py\u001b[0m in \u001b[0;36mrequest\u001b[1;34m(self, method, url, params, data, headers, cookies, files, auth, timeout, allow_redirects, proxies, hooks, stream, verify, cert, json)\u001b[0m\n\u001b[0;32m    585\u001b[0m         }\n\u001b[0;32m    586\u001b[0m         \u001b[0msend_kwargs\u001b[0m\u001b[1;33m.\u001b[0m\u001b[0mupdate\u001b[0m\u001b[1;33m(\u001b[0m\u001b[0msettings\u001b[0m\u001b[1;33m)\u001b[0m\u001b[1;33m\u001b[0m\u001b[1;33m\u001b[0m\u001b[0m\n\u001b[1;32m--> 587\u001b[1;33m         \u001b[0mresp\u001b[0m \u001b[1;33m=\u001b[0m \u001b[0mself\u001b[0m\u001b[1;33m.\u001b[0m\u001b[0msend\u001b[0m\u001b[1;33m(\u001b[0m\u001b[0mprep\u001b[0m\u001b[1;33m,\u001b[0m \u001b[1;33m**\u001b[0m\u001b[0msend_kwargs\u001b[0m\u001b[1;33m)\u001b[0m\u001b[1;33m\u001b[0m\u001b[1;33m\u001b[0m\u001b[0m\n\u001b[0m\u001b[0;32m    588\u001b[0m \u001b[1;33m\u001b[0m\u001b[0m\n\u001b[0;32m    589\u001b[0m         \u001b[1;32mreturn\u001b[0m \u001b[0mresp\u001b[0m\u001b[1;33m\u001b[0m\u001b[1;33m\u001b[0m\u001b[0m\n",
      "\u001b[1;32mc:\\Users\\GyeongJun\\anaconda3\\lib\\site-packages\\requests\\sessions.py\u001b[0m in \u001b[0;36msend\u001b[1;34m(self, request, **kwargs)\u001b[0m\n\u001b[0;32m    699\u001b[0m \u001b[1;33m\u001b[0m\u001b[0m\n\u001b[0;32m    700\u001b[0m         \u001b[1;31m# Send the request\u001b[0m\u001b[1;33m\u001b[0m\u001b[1;33m\u001b[0m\u001b[0m\n\u001b[1;32m--> 701\u001b[1;33m         \u001b[0mr\u001b[0m \u001b[1;33m=\u001b[0m \u001b[0madapter\u001b[0m\u001b[1;33m.\u001b[0m\u001b[0msend\u001b[0m\u001b[1;33m(\u001b[0m\u001b[0mrequest\u001b[0m\u001b[1;33m,\u001b[0m \u001b[1;33m**\u001b[0m\u001b[0mkwargs\u001b[0m\u001b[1;33m)\u001b[0m\u001b[1;33m\u001b[0m\u001b[1;33m\u001b[0m\u001b[0m\n\u001b[0m\u001b[0;32m    702\u001b[0m \u001b[1;33m\u001b[0m\u001b[0m\n\u001b[0;32m    703\u001b[0m         \u001b[1;31m# Total elapsed time of the request (approximately)\u001b[0m\u001b[1;33m\u001b[0m\u001b[1;33m\u001b[0m\u001b[0m\n",
      "\u001b[1;32mc:\\Users\\GyeongJun\\anaconda3\\lib\\site-packages\\requests\\adapters.py\u001b[0m in \u001b[0;36msend\u001b[1;34m(self, request, stream, timeout, verify, cert, proxies)\u001b[0m\n\u001b[0;32m    487\u001b[0m         \u001b[1;32mtry\u001b[0m\u001b[1;33m:\u001b[0m\u001b[1;33m\u001b[0m\u001b[1;33m\u001b[0m\u001b[0m\n\u001b[0;32m    488\u001b[0m             \u001b[1;32mif\u001b[0m \u001b[1;32mnot\u001b[0m \u001b[0mchunked\u001b[0m\u001b[1;33m:\u001b[0m\u001b[1;33m\u001b[0m\u001b[1;33m\u001b[0m\u001b[0m\n\u001b[1;32m--> 489\u001b[1;33m                 resp = conn.urlopen(\n\u001b[0m\u001b[0;32m    490\u001b[0m                     \u001b[0mmethod\u001b[0m\u001b[1;33m=\u001b[0m\u001b[0mrequest\u001b[0m\u001b[1;33m.\u001b[0m\u001b[0mmethod\u001b[0m\u001b[1;33m,\u001b[0m\u001b[1;33m\u001b[0m\u001b[1;33m\u001b[0m\u001b[0m\n\u001b[0;32m    491\u001b[0m                     \u001b[0murl\u001b[0m\u001b[1;33m=\u001b[0m\u001b[0murl\u001b[0m\u001b[1;33m,\u001b[0m\u001b[1;33m\u001b[0m\u001b[1;33m\u001b[0m\u001b[0m\n",
      "\u001b[1;32mc:\\Users\\GyeongJun\\anaconda3\\lib\\site-packages\\urllib3\\connectionpool.py\u001b[0m in \u001b[0;36murlopen\u001b[1;34m(self, method, url, body, headers, retries, redirect, assert_same_host, timeout, pool_timeout, release_conn, chunked, body_pos, **response_kw)\u001b[0m\n\u001b[0;32m    701\u001b[0m \u001b[1;33m\u001b[0m\u001b[0m\n\u001b[0;32m    702\u001b[0m             \u001b[1;31m# Make the request on the httplib connection object.\u001b[0m\u001b[1;33m\u001b[0m\u001b[1;33m\u001b[0m\u001b[0m\n\u001b[1;32m--> 703\u001b[1;33m             httplib_response = self._make_request(\n\u001b[0m\u001b[0;32m    704\u001b[0m                 \u001b[0mconn\u001b[0m\u001b[1;33m,\u001b[0m\u001b[1;33m\u001b[0m\u001b[1;33m\u001b[0m\u001b[0m\n\u001b[0;32m    705\u001b[0m                 \u001b[0mmethod\u001b[0m\u001b[1;33m,\u001b[0m\u001b[1;33m\u001b[0m\u001b[1;33m\u001b[0m\u001b[0m\n",
      "\u001b[1;32mc:\\Users\\GyeongJun\\anaconda3\\lib\\site-packages\\urllib3\\connectionpool.py\u001b[0m in \u001b[0;36m_make_request\u001b[1;34m(self, conn, method, url, timeout, chunked, **httplib_request_kw)\u001b[0m\n\u001b[0;32m    384\u001b[0m         \u001b[1;31m# Trigger any extra validation we need to do.\u001b[0m\u001b[1;33m\u001b[0m\u001b[1;33m\u001b[0m\u001b[0m\n\u001b[0;32m    385\u001b[0m         \u001b[1;32mtry\u001b[0m\u001b[1;33m:\u001b[0m\u001b[1;33m\u001b[0m\u001b[1;33m\u001b[0m\u001b[0m\n\u001b[1;32m--> 386\u001b[1;33m             \u001b[0mself\u001b[0m\u001b[1;33m.\u001b[0m\u001b[0m_validate_conn\u001b[0m\u001b[1;33m(\u001b[0m\u001b[0mconn\u001b[0m\u001b[1;33m)\u001b[0m\u001b[1;33m\u001b[0m\u001b[1;33m\u001b[0m\u001b[0m\n\u001b[0m\u001b[0;32m    387\u001b[0m         \u001b[1;32mexcept\u001b[0m \u001b[1;33m(\u001b[0m\u001b[0mSocketTimeout\u001b[0m\u001b[1;33m,\u001b[0m \u001b[0mBaseSSLError\u001b[0m\u001b[1;33m)\u001b[0m \u001b[1;32mas\u001b[0m \u001b[0me\u001b[0m\u001b[1;33m:\u001b[0m\u001b[1;33m\u001b[0m\u001b[1;33m\u001b[0m\u001b[0m\n\u001b[0;32m    388\u001b[0m             \u001b[1;31m# Py2 raises this as a BaseSSLError, Py3 raises it as socket timeout.\u001b[0m\u001b[1;33m\u001b[0m\u001b[1;33m\u001b[0m\u001b[0m\n",
      "\u001b[1;32mc:\\Users\\GyeongJun\\anaconda3\\lib\\site-packages\\urllib3\\connectionpool.py\u001b[0m in \u001b[0;36m_validate_conn\u001b[1;34m(self, conn)\u001b[0m\n\u001b[0;32m   1040\u001b[0m         \u001b[1;31m# Force connect early to allow us to validate the connection.\u001b[0m\u001b[1;33m\u001b[0m\u001b[1;33m\u001b[0m\u001b[0m\n\u001b[0;32m   1041\u001b[0m         \u001b[1;32mif\u001b[0m \u001b[1;32mnot\u001b[0m \u001b[0mgetattr\u001b[0m\u001b[1;33m(\u001b[0m\u001b[0mconn\u001b[0m\u001b[1;33m,\u001b[0m \u001b[1;34m\"sock\"\u001b[0m\u001b[1;33m,\u001b[0m \u001b[1;32mNone\u001b[0m\u001b[1;33m)\u001b[0m\u001b[1;33m:\u001b[0m  \u001b[1;31m# AppEngine might not have  `.sock`\u001b[0m\u001b[1;33m\u001b[0m\u001b[1;33m\u001b[0m\u001b[0m\n\u001b[1;32m-> 1042\u001b[1;33m             \u001b[0mconn\u001b[0m\u001b[1;33m.\u001b[0m\u001b[0mconnect\u001b[0m\u001b[1;33m(\u001b[0m\u001b[1;33m)\u001b[0m\u001b[1;33m\u001b[0m\u001b[1;33m\u001b[0m\u001b[0m\n\u001b[0m\u001b[0;32m   1043\u001b[0m \u001b[1;33m\u001b[0m\u001b[0m\n\u001b[0;32m   1044\u001b[0m         \u001b[1;32mif\u001b[0m \u001b[1;32mnot\u001b[0m \u001b[0mconn\u001b[0m\u001b[1;33m.\u001b[0m\u001b[0mis_verified\u001b[0m\u001b[1;33m:\u001b[0m\u001b[1;33m\u001b[0m\u001b[1;33m\u001b[0m\u001b[0m\n",
      "\u001b[1;32mc:\\Users\\GyeongJun\\anaconda3\\lib\\site-packages\\urllib3\\connection.py\u001b[0m in \u001b[0;36mconnect\u001b[1;34m(self)\u001b[0m\n\u001b[0;32m    412\u001b[0m             \u001b[0mcontext\u001b[0m\u001b[1;33m.\u001b[0m\u001b[0mload_default_certs\u001b[0m\u001b[1;33m(\u001b[0m\u001b[1;33m)\u001b[0m\u001b[1;33m\u001b[0m\u001b[1;33m\u001b[0m\u001b[0m\n\u001b[0;32m    413\u001b[0m \u001b[1;33m\u001b[0m\u001b[0m\n\u001b[1;32m--> 414\u001b[1;33m         self.sock = ssl_wrap_socket(\n\u001b[0m\u001b[0;32m    415\u001b[0m             \u001b[0msock\u001b[0m\u001b[1;33m=\u001b[0m\u001b[0mconn\u001b[0m\u001b[1;33m,\u001b[0m\u001b[1;33m\u001b[0m\u001b[1;33m\u001b[0m\u001b[0m\n\u001b[0;32m    416\u001b[0m             \u001b[0mkeyfile\u001b[0m\u001b[1;33m=\u001b[0m\u001b[0mself\u001b[0m\u001b[1;33m.\u001b[0m\u001b[0mkey_file\u001b[0m\u001b[1;33m,\u001b[0m\u001b[1;33m\u001b[0m\u001b[1;33m\u001b[0m\u001b[0m\n",
      "\u001b[1;32mc:\\Users\\GyeongJun\\anaconda3\\lib\\site-packages\\urllib3\\util\\ssl_.py\u001b[0m in \u001b[0;36mssl_wrap_socket\u001b[1;34m(sock, keyfile, certfile, cert_reqs, ca_certs, server_hostname, ssl_version, ciphers, ssl_context, ca_cert_dir, key_password, ca_cert_data, tls_in_tls)\u001b[0m\n\u001b[0;32m    447\u001b[0m \u001b[1;33m\u001b[0m\u001b[0m\n\u001b[0;32m    448\u001b[0m     \u001b[1;32mif\u001b[0m \u001b[0msend_sni\u001b[0m\u001b[1;33m:\u001b[0m\u001b[1;33m\u001b[0m\u001b[1;33m\u001b[0m\u001b[0m\n\u001b[1;32m--> 449\u001b[1;33m         ssl_sock = _ssl_wrap_socket_impl(\n\u001b[0m\u001b[0;32m    450\u001b[0m             \u001b[0msock\u001b[0m\u001b[1;33m,\u001b[0m \u001b[0mcontext\u001b[0m\u001b[1;33m,\u001b[0m \u001b[0mtls_in_tls\u001b[0m\u001b[1;33m,\u001b[0m \u001b[0mserver_hostname\u001b[0m\u001b[1;33m=\u001b[0m\u001b[0mserver_hostname\u001b[0m\u001b[1;33m\u001b[0m\u001b[1;33m\u001b[0m\u001b[0m\n\u001b[0;32m    451\u001b[0m         )\n",
      "\u001b[1;32mc:\\Users\\GyeongJun\\anaconda3\\lib\\site-packages\\urllib3\\util\\ssl_.py\u001b[0m in \u001b[0;36m_ssl_wrap_socket_impl\u001b[1;34m(sock, ssl_context, tls_in_tls, server_hostname)\u001b[0m\n\u001b[0;32m    491\u001b[0m \u001b[1;33m\u001b[0m\u001b[0m\n\u001b[0;32m    492\u001b[0m     \u001b[1;32mif\u001b[0m \u001b[0mserver_hostname\u001b[0m\u001b[1;33m:\u001b[0m\u001b[1;33m\u001b[0m\u001b[1;33m\u001b[0m\u001b[0m\n\u001b[1;32m--> 493\u001b[1;33m         \u001b[1;32mreturn\u001b[0m \u001b[0mssl_context\u001b[0m\u001b[1;33m.\u001b[0m\u001b[0mwrap_socket\u001b[0m\u001b[1;33m(\u001b[0m\u001b[0msock\u001b[0m\u001b[1;33m,\u001b[0m \u001b[0mserver_hostname\u001b[0m\u001b[1;33m=\u001b[0m\u001b[0mserver_hostname\u001b[0m\u001b[1;33m)\u001b[0m\u001b[1;33m\u001b[0m\u001b[1;33m\u001b[0m\u001b[0m\n\u001b[0m\u001b[0;32m    494\u001b[0m     \u001b[1;32melse\u001b[0m\u001b[1;33m:\u001b[0m\u001b[1;33m\u001b[0m\u001b[1;33m\u001b[0m\u001b[0m\n\u001b[0;32m    495\u001b[0m         \u001b[1;32mreturn\u001b[0m \u001b[0mssl_context\u001b[0m\u001b[1;33m.\u001b[0m\u001b[0mwrap_socket\u001b[0m\u001b[1;33m(\u001b[0m\u001b[0msock\u001b[0m\u001b[1;33m)\u001b[0m\u001b[1;33m\u001b[0m\u001b[1;33m\u001b[0m\u001b[0m\n",
      "\u001b[1;32mc:\\Users\\GyeongJun\\anaconda3\\lib\\ssl.py\u001b[0m in \u001b[0;36mwrap_socket\u001b[1;34m(self, sock, server_side, do_handshake_on_connect, suppress_ragged_eofs, server_hostname, session)\u001b[0m\n\u001b[0;32m    499\u001b[0m         \u001b[1;31m# SSLSocket class handles server_hostname encoding before it calls\u001b[0m\u001b[1;33m\u001b[0m\u001b[1;33m\u001b[0m\u001b[0m\n\u001b[0;32m    500\u001b[0m         \u001b[1;31m# ctx._wrap_socket()\u001b[0m\u001b[1;33m\u001b[0m\u001b[1;33m\u001b[0m\u001b[0m\n\u001b[1;32m--> 501\u001b[1;33m         return self.sslsocket_class._create(\n\u001b[0m\u001b[0;32m    502\u001b[0m             \u001b[0msock\u001b[0m\u001b[1;33m=\u001b[0m\u001b[0msock\u001b[0m\u001b[1;33m,\u001b[0m\u001b[1;33m\u001b[0m\u001b[1;33m\u001b[0m\u001b[0m\n\u001b[0;32m    503\u001b[0m             \u001b[0mserver_side\u001b[0m\u001b[1;33m=\u001b[0m\u001b[0mserver_side\u001b[0m\u001b[1;33m,\u001b[0m\u001b[1;33m\u001b[0m\u001b[1;33m\u001b[0m\u001b[0m\n",
      "\u001b[1;32mc:\\Users\\GyeongJun\\anaconda3\\lib\\ssl.py\u001b[0m in \u001b[0;36m_create\u001b[1;34m(cls, sock, server_side, do_handshake_on_connect, suppress_ragged_eofs, server_hostname, context, session)\u001b[0m\n\u001b[0;32m   1039\u001b[0m                         \u001b[1;31m# non-blocking\u001b[0m\u001b[1;33m\u001b[0m\u001b[1;33m\u001b[0m\u001b[0m\n\u001b[0;32m   1040\u001b[0m                         \u001b[1;32mraise\u001b[0m \u001b[0mValueError\u001b[0m\u001b[1;33m(\u001b[0m\u001b[1;34m\"do_handshake_on_connect should not be specified for non-blocking sockets\"\u001b[0m\u001b[1;33m)\u001b[0m\u001b[1;33m\u001b[0m\u001b[1;33m\u001b[0m\u001b[0m\n\u001b[1;32m-> 1041\u001b[1;33m                     \u001b[0mself\u001b[0m\u001b[1;33m.\u001b[0m\u001b[0mdo_handshake\u001b[0m\u001b[1;33m(\u001b[0m\u001b[1;33m)\u001b[0m\u001b[1;33m\u001b[0m\u001b[1;33m\u001b[0m\u001b[0m\n\u001b[0m\u001b[0;32m   1042\u001b[0m             \u001b[1;32mexcept\u001b[0m \u001b[1;33m(\u001b[0m\u001b[0mOSError\u001b[0m\u001b[1;33m,\u001b[0m \u001b[0mValueError\u001b[0m\u001b[1;33m)\u001b[0m\u001b[1;33m:\u001b[0m\u001b[1;33m\u001b[0m\u001b[1;33m\u001b[0m\u001b[0m\n\u001b[0;32m   1043\u001b[0m                 \u001b[0mself\u001b[0m\u001b[1;33m.\u001b[0m\u001b[0mclose\u001b[0m\u001b[1;33m(\u001b[0m\u001b[1;33m)\u001b[0m\u001b[1;33m\u001b[0m\u001b[1;33m\u001b[0m\u001b[0m\n",
      "\u001b[1;32mc:\\Users\\GyeongJun\\anaconda3\\lib\\ssl.py\u001b[0m in \u001b[0;36mdo_handshake\u001b[1;34m(self, block)\u001b[0m\n\u001b[0;32m   1308\u001b[0m             \u001b[1;32mif\u001b[0m \u001b[0mtimeout\u001b[0m \u001b[1;33m==\u001b[0m \u001b[1;36m0.0\u001b[0m \u001b[1;32mand\u001b[0m \u001b[0mblock\u001b[0m\u001b[1;33m:\u001b[0m\u001b[1;33m\u001b[0m\u001b[1;33m\u001b[0m\u001b[0m\n\u001b[0;32m   1309\u001b[0m                 \u001b[0mself\u001b[0m\u001b[1;33m.\u001b[0m\u001b[0msettimeout\u001b[0m\u001b[1;33m(\u001b[0m\u001b[1;32mNone\u001b[0m\u001b[1;33m)\u001b[0m\u001b[1;33m\u001b[0m\u001b[1;33m\u001b[0m\u001b[0m\n\u001b[1;32m-> 1310\u001b[1;33m             \u001b[0mself\u001b[0m\u001b[1;33m.\u001b[0m\u001b[0m_sslobj\u001b[0m\u001b[1;33m.\u001b[0m\u001b[0mdo_handshake\u001b[0m\u001b[1;33m(\u001b[0m\u001b[1;33m)\u001b[0m\u001b[1;33m\u001b[0m\u001b[1;33m\u001b[0m\u001b[0m\n\u001b[0m\u001b[0;32m   1311\u001b[0m         \u001b[1;32mfinally\u001b[0m\u001b[1;33m:\u001b[0m\u001b[1;33m\u001b[0m\u001b[1;33m\u001b[0m\u001b[0m\n\u001b[0;32m   1312\u001b[0m             \u001b[0mself\u001b[0m\u001b[1;33m.\u001b[0m\u001b[0msettimeout\u001b[0m\u001b[1;33m(\u001b[0m\u001b[0mtimeout\u001b[0m\u001b[1;33m)\u001b[0m\u001b[1;33m\u001b[0m\u001b[1;33m\u001b[0m\u001b[0m\n",
      "\u001b[1;31mKeyboardInterrupt\u001b[0m: "
     ]
    }
   ],
   "source": [
    "# 2. domain 제약 조건\n",
    "from requests.compat import urlparse, urljoin\n",
    "\n",
    "url = 'https://www.google.com/search?client=firefox-b-d&q=%EC%B9%B4%EB%A6%AC%EB%82%98'\n",
    "URLs = []\n",
    "URLs.append((url,0))\n",
    "\n",
    "seens = []\n",
    "# 정규식도 사용가능하다.\n",
    "domain = ['www.google.com']\n",
    "\n",
    "# 이대로 사용하기엔 search space가 너무 크다\n",
    "# Focused Clawling을 사용하여 depth, domain, content 등을 필터한다.\n",
    "while URLs:\n",
    "    seed = URLs.pop(0) # 0은 처음 url부터 찾기, -1은 마지막 url부터 찾기\n",
    "    seens.append(seed[0])\n",
    "    resp = download(seed[0]) \n",
    "    if resp.status_code !=200:\n",
    "        continue\n",
    "    # 헤더 확인\n",
    "    if re.search('text/html', resp.headers['Content-Type']):\n",
    "        dom = BeautifulSoup(resp.text, 'html5lib')\n",
    "        # 모든 태그에 대해서 링크 뽑기\n",
    "        for link in dom.select('*[href], *[src], *[action]'):\n",
    "            if link.has_attr('src'):\n",
    "                href = link.attrs['src']\n",
    "            elif link.has_attr('href'):\n",
    "                href = link.attrs['href']\n",
    "            elif link.has_attr('action'):\n",
    "                href = link.attrs['action']\n",
    "\n",
    "            # 걸러야하는 것\n",
    "            # href => http(s) 절대주소, path, (..)/path 형태의 상대주소\n",
    "            # javascript:, # data, matilto, tel, ...\n",
    "            if not re.match('(?:#)|(?:javasript)|(?:data)|(?:mailto)', href): # re로 or로 묶는법\n",
    "                # 링크를 절대주소의 형태로 변환\n",
    "                newurl = urljoin(resp.request.url, href)\n",
    "                # 링크를 방문한 적이 있는가?\n",
    "                # heuristics 조건 1) 최대 depth가 2인거 까지만 링크 수집\n",
    "                if seed[1] > 3:\n",
    "                    continue\n",
    "                \n",
    "                # heuristics 조건 2) whitelist; opt-in(domain의 값이 포함되어 있으면)\n",
    "                                # blacklist; opt-out (not in > in)으로 바꾸면\n",
    "                # domain을 정규식으로 사용한다면 filter를 사용하는 것이 좋다.\n",
    "                if urlparse(newurl).netloc not in domain:\n",
    "                    continue\n",
    "\n",
    "                if newurl not in [map(lambda r:r[0], seens)] and\\\n",
    "                   newurl not in [map(lambda r:r[0], URLs)]:\n",
    "                    URLs.append((newurl, seed[1]+1))\n",
    "        #break"
   ]
  },
  {
   "cell_type": "code",
   "execution_count": 104,
   "metadata": {},
   "outputs": [
    {
     "data": {
      "text/plain": [
       "(124, 3)"
      ]
     },
     "execution_count": 104,
     "metadata": {},
     "output_type": "execute_result"
    }
   ],
   "source": [
    "len(URLs), len(seens)"
   ]
  },
  {
   "cell_type": "code",
   "execution_count": 105,
   "metadata": {},
   "outputs": [
    {
     "data": {
      "text/plain": [
       "['www.google.com', 'www.google.com', 'www.google.com']"
      ]
     },
     "execution_count": 105,
     "metadata": {},
     "output_type": "execute_result"
    }
   ],
   "source": [
    "[i for i in map(lambda x:urlparse(x).netloc, seens)]"
   ]
  }
 ],
 "metadata": {
  "kernelspec": {
   "display_name": "base",
   "language": "python",
   "name": "python3"
  },
  "language_info": {
   "codemirror_mode": {
    "name": "ipython",
    "version": 3
   },
   "file_extension": ".py",
   "mimetype": "text/x-python",
   "name": "python",
   "nbconvert_exporter": "python",
   "pygments_lexer": "ipython3",
   "version": "3.9.13"
  },
  "orig_nbformat": 4
 },
 "nbformat": 4,
 "nbformat_minor": 2
}
