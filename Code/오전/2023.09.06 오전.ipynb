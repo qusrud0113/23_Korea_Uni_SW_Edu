{
 "cells": [
  {
   "cell_type": "markdown",
   "metadata": {},
   "source": [
    "지능정보SW아카데미 - SW, AI(빅데이터, 정답) <br>\n",
    "데이터수집 - 저장/관리 - 분석 - 시각화(SW)<br>\n",
    "Crawler   DB(RDBMS)  통계/확률/기계학습    앱/웹/익스텐션(크로미움)<br>\n",
    "         (Hadoop/Spark)+             React, JS+HTML+CSS<br>\n",
    "          ER Model -> Diagram, SQL(DDL,DML,join)<br>\n",
    "          특; ER -> Database-Tabls<br>\n",
    "             기능 -> 절차 많음<br>\n",
    "          ORM - SQL, 기능개발<br>\n",
    "        ORM,  Core:RDBMS 통합 관리/연결/SQL해석<br>\n"
   ]
  },
  {
   "cell_type": "code",
   "execution_count": 1,
   "metadata": {},
   "outputs": [],
   "source": [
    "# 엔진 만들기\n",
    "from sqlalchemy import create_engine, MetaData\n",
    "from sqlalchemy.schema import Table, Column, ForeignKey\n",
    "from sqlalchemy.types import Integer, Text"
   ]
  },
  {
   "cell_type": "code",
   "execution_count": 5,
   "metadata": {},
   "outputs": [],
   "source": [
    "# echo를 True로 설정하면 log에 SQL이 기록된다.\n",
    "# engine을 만드는 순간 실행된다.\n",
    "engine = create_engine('sqlite:///:memory:', echo = True)"
   ]
  },
  {
   "cell_type": "code",
   "execution_count": 6,
   "metadata": {},
   "outputs": [],
   "source": [
    "# 사후에 엔진을 바인딩 시킬 수 있다.\n",
    "meta = MetaData()"
   ]
  },
  {
   "cell_type": "code",
   "execution_count": null,
   "metadata": {},
   "outputs": [],
   "source": [
    "# 기존 SQLites와 다르게 테이블을 구성할 테이블 명과 열을 정의하면 간단하게 DB를 만들 수있다.\n",
    "user = Table('USER', meta, \n",
    "             Column('PK', Integer, primary_key = True),\n",
    "             Column('NAME', Text, nullable = True))"
   ]
  },
  {
   "cell_type": "code",
   "execution_count": null,
   "metadata": {},
   "outputs": [],
   "source": [
    "meta.create_all(engine)"
   ]
  },
  {
   "cell_type": "code",
   "execution_count": null,
   "metadata": {},
   "outputs": [],
   "source": [
    "# reflect를 사용하면 방금 다 날린 테이블을 다시 불러온다\n",
    "meta.reflect(engine)"
   ]
  },
  {
   "cell_type": "code",
   "execution_count": null,
   "metadata": {},
   "outputs": [],
   "source": [
    "# SQLites와 비슷하게 insert 구문을 통해 데이터를 넣는데, \n",
    "# 객체를 만들었기 때문에 양식에 맞춰서 넣기만 하면 된다.\n",
    "user1 = user.insert().values(NAME = '아무개')"
   ]
  },
  {
   "cell_type": "code",
   "execution_count": null,
   "metadata": {},
   "outputs": [],
   "source": [
    "# 실행된 결과가 어떻게 컴파일된건지 알기위해서 compile()을 사용한다.\n",
    "print(user1.compile(), user1.compile().params)"
   ]
  },
  {
   "cell_type": "code",
   "execution_count": 3,
   "metadata": {},
   "outputs": [
    {
     "data": {
      "text/plain": [
       "'2.0.20'"
      ]
     },
     "execution_count": 3,
     "metadata": {},
     "output_type": "execute_result"
    }
   ],
   "source": [
    "import sqlalchemy\n",
    "# !pip install sqlalchemy --upgrade\n",
    "sqlalchemy.__version__"
   ]
  },
  {
   "cell_type": "code",
   "execution_count": 2,
   "metadata": {},
   "outputs": [],
   "source": [
    "from sqlalchemy.sql import select, insert, update, delete, join, func"
   ]
  },
  {
   "cell_type": "code",
   "execution_count": 7,
   "metadata": {},
   "outputs": [],
   "source": [
    "# SQLite와 같이 엔진도 커서를 지정할 수 있다.\n",
    "con = engine.connect()\n",
    "#con.execute('SELECT * FROM ...')"
   ]
  },
  {
   "cell_type": "code",
   "execution_count": null,
   "metadata": {},
   "outputs": [],
   "source": [
    "meta.clear()"
   ]
  },
  {
   "cell_type": "code",
   "execution_count": 8,
   "metadata": {},
   "outputs": [
    {
     "data": {
      "text/plain": [
       "FacadeDict({})"
      ]
     },
     "execution_count": 8,
     "metadata": {},
     "output_type": "execute_result"
    }
   ],
   "source": [
    "meta.tables"
   ]
  },
  {
   "cell_type": "code",
   "execution_count": 9,
   "metadata": {},
   "outputs": [
    {
     "data": {
      "text/plain": [
       "Table('USER', MetaData(), Column('PK', Integer(), table=<USER>, primary_key=True, nullable=False), Column('NAME', Text(), table=<USER>, nullable=False), schema=None)"
      ]
     },
     "execution_count": 9,
     "metadata": {},
     "output_type": "execute_result"
    }
   ],
   "source": [
    "Table('USER', meta,\n",
    "      Column('PK', Integer, primary_key = True),\n",
    "      Column('NAME', Text, nullable = False))"
   ]
  },
  {
   "cell_type": "code",
   "execution_count": 10,
   "metadata": {},
   "outputs": [
    {
     "data": {
      "text/plain": [
       "1"
      ]
     },
     "execution_count": 10,
     "metadata": {},
     "output_type": "execute_result"
    }
   ],
   "source": [
    "len(meta.tables)"
   ]
  },
  {
   "cell_type": "code",
   "execution_count": 11,
   "metadata": {},
   "outputs": [],
   "source": [
    "meta.tables.keys()\n",
    "User = meta.tables['USER']"
   ]
  },
  {
   "cell_type": "code",
   "execution_count": 12,
   "metadata": {},
   "outputs": [
    {
     "name": "stdout",
     "output_type": "stream",
     "text": [
      "INSERT INTO \"USER\" (\"PK\", \"NAME\") VALUES (:PK, :NAME)\n"
     ]
    }
   ],
   "source": [
    "print(User.insert())"
   ]
  },
  {
   "cell_type": "code",
   "execution_count": 13,
   "metadata": {},
   "outputs": [
    {
     "name": "stdout",
     "output_type": "stream",
     "text": [
      "2023-09-06 11:23:53,392 INFO sqlalchemy.engine.Engine BEGIN (implicit)\n",
      "2023-09-06 11:23:53,393 INFO sqlalchemy.engine.Engine PRAGMA main.table_info(\"USER\")\n",
      "2023-09-06 11:23:53,395 INFO sqlalchemy.engine.Engine [raw sql] ()\n",
      "2023-09-06 11:23:53,397 INFO sqlalchemy.engine.Engine PRAGMA temp.table_info(\"USER\")\n",
      "2023-09-06 11:23:53,398 INFO sqlalchemy.engine.Engine [raw sql] ()\n",
      "2023-09-06 11:23:53,400 INFO sqlalchemy.engine.Engine \n",
      "CREATE TABLE \"USER\" (\n",
      "\t\"PK\" INTEGER NOT NULL, \n",
      "\t\"NAME\" TEXT NOT NULL, \n",
      "\tPRIMARY KEY (\"PK\")\n",
      ")\n",
      "\n",
      "\n",
      "2023-09-06 11:23:53,401 INFO sqlalchemy.engine.Engine [no key 0.00107s] ()\n",
      "2023-09-06 11:23:53,402 INFO sqlalchemy.engine.Engine COMMIT\n"
     ]
    }
   ],
   "source": [
    "# DB에 반영\n",
    "meta.create_all(engine)"
   ]
  },
  {
   "cell_type": "code",
   "execution_count": null,
   "metadata": {},
   "outputs": [],
   "source": [
    "# 다 날림 (DB에 있는 것도 날림) > 객체로서의 테이블 삭제함.\n",
    "meta.drop_all(engine)\n",
    "\n",
    "# drop으로 날리면 table이 사라진다 > 다시 table 만들고 > create_all"
   ]
  },
  {
   "cell_type": "code",
   "execution_count": null,
   "metadata": {},
   "outputs": [],
   "source": [
    "# Table도 삭제함\n",
    "meta.remove(User)"
   ]
  },
  {
   "cell_type": "code",
   "execution_count": null,
   "metadata": {},
   "outputs": [],
   "source": [
    "meta.tables"
   ]
  },
  {
   "cell_type": "code",
   "execution_count": null,
   "metadata": {},
   "outputs": [],
   "source": [
    "# DB에 있던 Table을 다시 불러옴\n",
    "meta.reflect(engine)"
   ]
  },
  {
   "cell_type": "code",
   "execution_count": 14,
   "metadata": {},
   "outputs": [
    {
     "data": {
      "text/plain": [
       "FacadeDict({'USER': Table('USER', MetaData(), Column('PK', Integer(), table=<USER>, primary_key=True, nullable=False), Column('NAME', Text(), table=<USER>, nullable=False), schema=None)})"
      ]
     },
     "execution_count": 14,
     "metadata": {},
     "output_type": "execute_result"
    }
   ],
   "source": [
    "meta.tables"
   ]
  },
  {
   "cell_type": "code",
   "execution_count": 15,
   "metadata": {},
   "outputs": [
    {
     "name": "stdout",
     "output_type": "stream",
     "text": [
      "INSERT INTO \"USER\" (\"PK\", \"NAME\") VALUES (:PK, :NAME)\n"
     ]
    }
   ],
   "source": [
    "print(User.insert().values(PK = 1, NAME = '아무개'))"
   ]
  },
  {
   "cell_type": "code",
   "execution_count": 16,
   "metadata": {},
   "outputs": [
    {
     "name": "stdout",
     "output_type": "stream",
     "text": [
      "{'PK': 1, 'NAME': '아무개'}\n"
     ]
    }
   ],
   "source": [
    "print(User.insert().values(PK = 1, NAME = '아무개').compile().params)"
   ]
  },
  {
   "cell_type": "code",
   "execution_count": 17,
   "metadata": {},
   "outputs": [
    {
     "name": "stdout",
     "output_type": "stream",
     "text": [
      "2023-09-06 11:24:03,790 INFO sqlalchemy.engine.Engine BEGIN (implicit)\n",
      "2023-09-06 11:24:03,792 INFO sqlalchemy.engine.Engine INSERT INTO \"USER\" (\"PK\", \"NAME\") VALUES (?, ?)\n",
      "2023-09-06 11:24:03,793 INFO sqlalchemy.engine.Engine [generated in 0.00164s] (1, '아무개')\n"
     ]
    },
    {
     "data": {
      "text/plain": [
       "<sqlalchemy.engine.cursor.CursorResult at 0x15fd2b1ab20>"
      ]
     },
     "execution_count": 17,
     "metadata": {},
     "output_type": "execute_result"
    }
   ],
   "source": [
    "con.execute(User.insert().values(PK=1, NAME = '아무개'))"
   ]
  },
  {
   "cell_type": "code",
   "execution_count": 18,
   "metadata": {},
   "outputs": [
    {
     "name": "stdout",
     "output_type": "stream",
     "text": [
      "2023-09-06 11:24:05,569 INFO sqlalchemy.engine.Engine SELECT \"USER\".\"PK\", \"USER\".\"NAME\" \n",
      "FROM \"USER\"\n",
      "2023-09-06 11:24:05,570 INFO sqlalchemy.engine.Engine [generated in 0.00078s] ()\n"
     ]
    },
    {
     "data": {
      "text/plain": [
       "[(1, '아무개')]"
      ]
     },
     "execution_count": 18,
     "metadata": {},
     "output_type": "execute_result"
    }
   ],
   "source": [
    "con.execute(User.select()).fetchall()"
   ]
  },
  {
   "cell_type": "code",
   "execution_count": 19,
   "metadata": {},
   "outputs": [
    {
     "data": {
      "text/plain": [
       "Table('ADDRESS', MetaData(), Column('PK', Integer(), table=<ADDRESS>, primary_key=True, nullable=False), Column('NAME', Text(), table=<ADDRESS>), Column('FK', Integer(), ForeignKey('USER.PK'), table=<ADDRESS>), schema=None)"
      ]
     },
     "execution_count": 19,
     "metadata": {},
     "output_type": "execute_result"
    }
   ],
   "source": [
    "Table('ADDRESS', meta,\n",
    "      Column('PK', Integer, primary_key=True),\n",
    "      Column('NAME', Text),\n",
    "      # USER 테이블의 PK값을 참조한다.\n",
    "      Column('FK', Integer, ForeignKey('USER.PK')))"
   ]
  },
  {
   "cell_type": "code",
   "execution_count": 20,
   "metadata": {},
   "outputs": [
    {
     "data": {
      "text/plain": [
       "Table('TEMP', MetaData(), Column('PK', Integer(), table=<TEMP>, primary_key=True, nullable=False), Column('NAME', Text(), table=<TEMP>), Column('FK', Integer(), table=<TEMP>, nullable=False), schema=None)"
      ]
     },
     "execution_count": 20,
     "metadata": {},
     "output_type": "execute_result"
    }
   ],
   "source": [
    "Table('TEMP', meta,\n",
    "      Column('PK', Integer, primary_key=True),\n",
    "      Column('NAME', Text),\n",
    "      # USER 테이블의 PK값을 참조한다.\n",
    "      Column('FK', Integer,nullable=False))"
   ]
  },
  {
   "cell_type": "code",
   "execution_count": 21,
   "metadata": {},
   "outputs": [
    {
     "data": {
      "text/plain": [
       "Column('PK', Integer(), table=<USER>, primary_key=True, nullable=False)"
      ]
     },
     "execution_count": 21,
     "metadata": {},
     "output_type": "execute_result"
    }
   ],
   "source": [
    "User.columns['PK']"
   ]
  },
  {
   "cell_type": "code",
   "execution_count": 22,
   "metadata": {},
   "outputs": [
    {
     "name": "stdout",
     "output_type": "stream",
     "text": [
      "2023-09-06 11:24:13,673 INFO sqlalchemy.engine.Engine BEGIN (implicit)\n",
      "2023-09-06 11:24:13,674 INFO sqlalchemy.engine.Engine PRAGMA main.table_info(\"USER\")\n",
      "2023-09-06 11:24:13,675 INFO sqlalchemy.engine.Engine [raw sql] ()\n",
      "2023-09-06 11:24:13,676 INFO sqlalchemy.engine.Engine PRAGMA main.table_info(\"ADDRESS\")\n",
      "2023-09-06 11:24:13,676 INFO sqlalchemy.engine.Engine [raw sql] ()\n",
      "2023-09-06 11:24:13,677 INFO sqlalchemy.engine.Engine PRAGMA temp.table_info(\"ADDRESS\")\n",
      "2023-09-06 11:24:13,677 INFO sqlalchemy.engine.Engine [raw sql] ()\n",
      "2023-09-06 11:24:13,679 INFO sqlalchemy.engine.Engine PRAGMA main.table_info(\"TEMP\")\n",
      "2023-09-06 11:24:13,679 INFO sqlalchemy.engine.Engine [raw sql] ()\n",
      "2023-09-06 11:24:13,680 INFO sqlalchemy.engine.Engine PRAGMA temp.table_info(\"TEMP\")\n",
      "2023-09-06 11:24:13,681 INFO sqlalchemy.engine.Engine [raw sql] ()\n",
      "2023-09-06 11:24:13,683 INFO sqlalchemy.engine.Engine \n",
      "CREATE TABLE \"ADDRESS\" (\n",
      "\t\"PK\" INTEGER NOT NULL, \n",
      "\t\"NAME\" TEXT, \n",
      "\t\"FK\" INTEGER, \n",
      "\tPRIMARY KEY (\"PK\"), \n",
      "\tFOREIGN KEY(\"FK\") REFERENCES \"USER\" (\"PK\")\n",
      ")\n",
      "\n",
      "\n",
      "2023-09-06 11:24:13,684 INFO sqlalchemy.engine.Engine [no key 0.00068s] ()\n",
      "2023-09-06 11:24:13,685 INFO sqlalchemy.engine.Engine \n",
      "CREATE TABLE \"TEMP\" (\n",
      "\t\"PK\" INTEGER NOT NULL, \n",
      "\t\"NAME\" TEXT, \n",
      "\t\"FK\" INTEGER NOT NULL, \n",
      "\tPRIMARY KEY (\"PK\")\n",
      ")\n",
      "\n",
      "\n",
      "2023-09-06 11:24:13,686 INFO sqlalchemy.engine.Engine [no key 0.00100s] ()\n",
      "2023-09-06 11:24:13,687 INFO sqlalchemy.engine.Engine COMMIT\n"
     ]
    }
   ],
   "source": [
    "# DB에 반영\n",
    "meta.create_all(engine)"
   ]
  },
  {
   "cell_type": "code",
   "execution_count": 23,
   "metadata": {},
   "outputs": [
    {
     "data": {
      "text/plain": [
       "3"
      ]
     },
     "execution_count": 23,
     "metadata": {},
     "output_type": "execute_result"
    }
   ],
   "source": [
    "len(meta.tables)"
   ]
  },
  {
   "cell_type": "code",
   "execution_count": 24,
   "metadata": {},
   "outputs": [
    {
     "name": "stdout",
     "output_type": "stream",
     "text": [
      "2023-09-06 11:24:18,244 INFO sqlalchemy.engine.Engine INSERT INTO \"ADDRESS\" (\"PK\", \"NAME\", \"FK\") VALUES (?, ?, ?)\n",
      "2023-09-06 11:24:18,245 INFO sqlalchemy.engine.Engine [generated in 0.00095s] (1, '주소', 1)\n"
     ]
    },
    {
     "data": {
      "text/plain": [
       "<sqlalchemy.engine.cursor.CursorResult at 0x15fd2bb3d60>"
      ]
     },
     "execution_count": 24,
     "metadata": {},
     "output_type": "execute_result"
    }
   ],
   "source": [
    "# 이 테이블에는 FK를 반영\n",
    "# 값을 어떻게 넣는지는 print를 통해 확인하면 된다.\n",
    "# print(meta.tables['ADDRESS'].insert())\n",
    "\n",
    "con.execute(meta.tables['ADDRESS'].insert().values(PK= 1, NAME = '주소', FK = 1))"
   ]
  },
  {
   "cell_type": "code",
   "execution_count": 25,
   "metadata": {},
   "outputs": [
    {
     "name": "stdout",
     "output_type": "stream",
     "text": [
      "2023-09-06 11:24:20,125 INFO sqlalchemy.engine.Engine INSERT INTO \"TEMP\" (\"PK\", \"NAME\", \"FK\") VALUES (?, ?, ?)\n",
      "2023-09-06 11:24:20,126 INFO sqlalchemy.engine.Engine [generated in 0.00088s] (1, '가짜', 1)\n"
     ]
    },
    {
     "data": {
      "text/plain": [
       "<sqlalchemy.engine.cursor.CursorResult at 0x15fd2bb38e0>"
      ]
     },
     "execution_count": 25,
     "metadata": {},
     "output_type": "execute_result"
    }
   ],
   "source": [
    "# 이 테이블에서는 FK를 주지 않음.\n",
    "con.execute(meta.tables['TEMP'].insert().values(PK= 1, NAME = '가짜', FK = 1))"
   ]
  },
  {
   "cell_type": "markdown",
   "metadata": {},
   "source": [
    "meta.drop_all(engine); ORM -> DBMS : MetaData에 모든 Table을 삭제한다. <br>\n",
    "meta.remove(객체); ORM Table 객체 : ORM Table의 객체를 삭제한다. <br>\n",
    "meta.reflect(engine); DBMS -> ORM : DBMS에 Table이 있는 경우 다시 복구한다.<br>\n",
    "<br><br>\n",
    "정리하면, drop_all을 통해 바인딩된 engine은 새로 Table을 다시 commit해야하지만,<br>\n",
    "remove를 통해 제거한 Table 객체는 reflect를 통해 다시 복구 가능하다."
   ]
  },
  {
   "cell_type": "code",
   "execution_count": 26,
   "metadata": {},
   "outputs": [
    {
     "name": "stdout",
     "output_type": "stream",
     "text": [
      "2023-09-06 11:24:22,631 INFO sqlalchemy.engine.Engine SELECT \"ADDRESS\".\"PK\", \"ADDRESS\".\"NAME\", \"ADDRESS\".\"FK\" \n",
      "FROM \"ADDRESS\"\n",
      "2023-09-06 11:24:22,632 INFO sqlalchemy.engine.Engine [generated in 0.00068s] ()\n",
      "(1, '주소', 1)\n"
     ]
    }
   ],
   "source": [
    "rst = con.execute(meta.tables['ADDRESS'].select())\n",
    "\n",
    "for _ in rst:\n",
    "    print(_)"
   ]
  },
  {
   "cell_type": "code",
   "execution_count": 27,
   "metadata": {},
   "outputs": [
    {
     "name": "stdout",
     "output_type": "stream",
     "text": [
      "2023-09-06 11:24:23,932 INFO sqlalchemy.engine.Engine SELECT \"USER\".\"PK\", \"USER\".\"NAME\", \"ADDRESS\".\"PK\" AS \"PK_1\", \"ADDRESS\".\"NAME\" AS \"NAME_1\", \"ADDRESS\".\"FK\", \"TEMP\".\"PK\" AS \"PK_2\", \"TEMP\".\"NAME\" AS \"NAME_2\", \"TEMP\".\"FK\" AS \"FK_1\" \n",
      "FROM \"USER\", \"ADDRESS\", \"TEMP\"\n",
      "2023-09-06 11:24:23,933 INFO sqlalchemy.engine.Engine [generated in 0.00080s] ()\n"
     ]
    },
    {
     "name": "stderr",
     "output_type": "stream",
     "text": [
      "C:\\Users\\GyeongJun\\AppData\\Local\\Temp\\ipykernel_13968\\708192316.py:2: SAWarning: SELECT statement has a cartesian product between FROM element(s) \"TEMP\", \"USER\" and FROM element \"ADDRESS\".  Apply join condition(s) between each element to resolve.\n",
      "  con.execute(select(meta.tables['USER'],\n"
     ]
    },
    {
     "data": {
      "text/plain": [
       "[(1, '아무개', 1, '주소', 1, 1, '가짜', 1)]"
      ]
     },
     "execution_count": 27,
     "metadata": {},
     "output_type": "execute_result"
    }
   ],
   "source": [
    "# Cross join처럼 사용가능하다.\n",
    "con.execute(select(meta.tables['USER'],\n",
    "                   meta.tables['ADDRESS'],\n",
    "                   meta.tables['TEMP'])).fetchall()"
   ]
  },
  {
   "cell_type": "code",
   "execution_count": 28,
   "metadata": {},
   "outputs": [
    {
     "name": "stdout",
     "output_type": "stream",
     "text": [
      "2023-09-06 11:24:25,676 INFO sqlalchemy.engine.Engine SELECT \"USER\".\"PK\", \"USER\".\"NAME\", \"USER\".\"PK\" AS \"PK__1\" \n",
      "FROM \"USER\"\n",
      "2023-09-06 11:24:25,677 INFO sqlalchemy.engine.Engine [generated in 0.00085s] ()\n"
     ]
    },
    {
     "data": {
      "text/plain": [
       "[(1, '아무개', 1)]"
      ]
     },
     "execution_count": 28,
     "metadata": {},
     "output_type": "execute_result"
    }
   ],
   "source": [
    "# 또한 columns을 간단하게 c로 하고 . 뒤에 컬럼명을 붙히면 된다.\n",
    "con.execute(select(meta.tables['USER'].columns['PK'],\n",
    "                   meta.tables['USER'].c.NAME,\n",
    "                   meta.tables['USER'].c.PK)).fetchall()"
   ]
  },
  {
   "cell_type": "code",
   "execution_count": 29,
   "metadata": {},
   "outputs": [],
   "source": [
    "# Table을 지정한 뒤\n",
    "USER = meta.tables['USER']\n",
    "ADDR = meta.tables['ADDRESS']\n",
    "TEMP = meta.tables['TEMP']"
   ]
  },
  {
   "cell_type": "code",
   "execution_count": 30,
   "metadata": {},
   "outputs": [
    {
     "name": "stdout",
     "output_type": "stream",
     "text": [
      "SELECT \"USER\".\"PK\", \"USER\".\"NAME\" \n",
      "FROM \"USER\" \n",
      "WHERE \"USER\".\"PK\" = :PK_1\n"
     ]
    }
   ],
   "source": [
    "# SQL 구문을 보기위해 작성할 수 있다.\n",
    "print(USER.select().where(USER.c.PK == 1))"
   ]
  },
  {
   "cell_type": "code",
   "execution_count": 31,
   "metadata": {},
   "outputs": [
    {
     "name": "stdout",
     "output_type": "stream",
     "text": [
      "\"USER\".\"PK\" = \"TEMP\".\"FK\"\n"
     ]
    }
   ],
   "source": [
    "print(USER.c.PK == TEMP.c.FK)"
   ]
  },
  {
   "cell_type": "code",
   "execution_count": 32,
   "metadata": {},
   "outputs": [
    {
     "name": "stdout",
     "output_type": "stream",
     "text": [
      "\"USER\" JOIN \"ADDRESS\" ON \"USER\".\"PK\" = \"ADDRESS\".\"FK\"\n"
     ]
    }
   ],
   "source": [
    "# ADDRESS Table은 FK가 있기 때문에 SQL의 ON절을 바로 뽑을 수 있다.\n",
    "print(USER.join(ADDR))"
   ]
  },
  {
   "cell_type": "code",
   "execution_count": 33,
   "metadata": {},
   "outputs": [
    {
     "name": "stdout",
     "output_type": "stream",
     "text": [
      "\"USER\" JOIN \"TEMP\" ON \"USER\".\"PK\" = \"TEMP\".\"FK\"\n"
     ]
    }
   ],
   "source": [
    "# 하지만 TEMP와 같이 FK가 없는 경우 뒤에 ON 절을 기재하면 FK 없이도 SQL의 ON절을 뽑을 수 있다.\n",
    "print(USER.join(TEMP, USER.c.PK == TEMP.c.FK))\n",
    "# 실제 SQL문에선 \"\"\"select * From user Join temp on user.pk = temp.fk\"\"\" (inner join)"
   ]
  },
  {
   "cell_type": "code",
   "execution_count": 34,
   "metadata": {},
   "outputs": [
    {
     "name": "stdout",
     "output_type": "stream",
     "text": [
      "\"USER\".\"PK\" = :PK_1 OR \"USER\".\"PK\" = :PK_2\n"
     ]
    }
   ],
   "source": [
    "from sqlalchemy.sql import or_, and_, between\n",
    "print(or_(USER.c.PK == 1, USER.c.PK == 2))"
   ]
  },
  {
   "cell_type": "code",
   "execution_count": 35,
   "metadata": {},
   "outputs": [
    {
     "name": "stdout",
     "output_type": "stream",
     "text": [
      "\"USER\".\"NAME\" LIKE :NAME_1\n"
     ]
    }
   ],
   "source": [
    "print(USER.c.NAME.like('%어쩌고%'))"
   ]
  },
  {
   "cell_type": "code",
   "execution_count": 36,
   "metadata": {},
   "outputs": [
    {
     "name": "stdout",
     "output_type": "stream",
     "text": [
      "SELECT \"USER\".\"PK\", \"USER\".\"NAME\" \n",
      "FROM \"USER\" \n",
      "WHERE \"USER\".\"NAME\" LIKE :NAME_1 GROUP BY \"USER\".\"PK\" ORDER BY \"USER\".\"PK\"\n"
     ]
    }
   ],
   "source": [
    "print(USER.select().where(USER.c.NAME.like('%어쩌고%')).\\\n",
    "      group_by(USER.c.PK).\\\n",
    "      order_by(USER.c.PK))"
   ]
  },
  {
   "cell_type": "code",
   "execution_count": 37,
   "metadata": {},
   "outputs": [
    {
     "name": "stdout",
     "output_type": "stream",
     "text": [
      "\"USER\".\"NAME\" = :NAME_1 AND \"USER\".\"PK\" = :PK_1 OR \"USER\".\"PK\" = :PK_2\n"
     ]
    }
   ],
   "source": [
    "# USER 가 정의되어 있으므로 SQL에 넣을 문자를 간단하게 표현할 수있다.\n",
    "print((USER.c.NAME == 'abcd') & (USER.c.PK == 1) | (USER.c.PK == 2))"
   ]
  },
  {
   "cell_type": "code",
   "execution_count": 38,
   "metadata": {},
   "outputs": [
    {
     "name": "stdout",
     "output_type": "stream",
     "text": [
      "\"USER\" JOIN \"ADDRESS\" ON \"USER\".\"PK\" = \"ADDRESS\".\"FK\"\n"
     ]
    }
   ],
   "source": [
    "# drop_all로 USER를 날려서 FK정보가 날라감. 다시 테이블 지우고 실행하면 됨.\n",
    "print(USER.join(ADDR))"
   ]
  },
  {
   "cell_type": "code",
   "execution_count": 39,
   "metadata": {},
   "outputs": [],
   "source": [
    "# 엔진 초기화\n",
    "engine.dispose()"
   ]
  },
  {
   "cell_type": "code",
   "execution_count": 40,
   "metadata": {},
   "outputs": [],
   "source": [
    "meta.clear()"
   ]
  },
  {
   "cell_type": "code",
   "execution_count": 41,
   "metadata": {},
   "outputs": [
    {
     "data": {
      "text/plain": [
       "FacadeDict({})"
      ]
     },
     "execution_count": 41,
     "metadata": {},
     "output_type": "execute_result"
    }
   ],
   "source": [
    "meta.tables"
   ]
  },
  {
   "cell_type": "code",
   "execution_count": 42,
   "metadata": {},
   "outputs": [],
   "source": [
    "engine = create_engine('sqlite:///:memory:', echo = True)"
   ]
  },
  {
   "cell_type": "code",
   "execution_count": 43,
   "metadata": {},
   "outputs": [
    {
     "data": {
      "text/plain": [
       "Table('T_D', MetaData(), Column('PK', Integer(), table=<T_D>, primary_key=True, nullable=False), Column('NAME', Text(), table=<T_D>, nullable=False), Column('FK1', Integer(), ForeignKey('T_B.PK'), table=<T_D>, nullable=False), Column('FK2', Integer(), table=<T_D>, nullable=False), schema=None)"
      ]
     },
     "execution_count": 43,
     "metadata": {},
     "output_type": "execute_result"
    }
   ],
   "source": [
    "# 아티스트\n",
    "Table('T_A', meta,\n",
    "      Column('PK', Integer, primary_key= True),\n",
    "      Column('NAME', Text, nullable= False))\n",
    "# 앨범 (아티스트의 PK key를 FK키로 받음)\n",
    "Table('T_B', meta,\n",
    "      Column('PK', Integer, primary_key= True),\n",
    "      Column('NAME', Text, nullable= False),\n",
    "      Column('FK', None, ForeignKey('T_A.PK')))\n",
    "# 장르\n",
    "Table('T_C', meta,\n",
    "      Column('PK', Integer, primary_key= True),\n",
    "      Column('NAME', Text, nullable= False))\n",
    "# 곡  (앨범의 PK key를 FK키로 받음)\n",
    "Table('T_D', meta,\n",
    "      Column('PK', Integer, primary_key= True),\n",
    "      Column('NAME', Text, nullable= False),\n",
    "      Column('FK1', None, ForeignKey('T_B.PK'), nullable=False),\n",
    "      Column('FK2', Integer, nullable=False))"
   ]
  },
  {
   "cell_type": "code",
   "execution_count": 44,
   "metadata": {},
   "outputs": [
    {
     "data": {
      "text/plain": [
       "4"
      ]
     },
     "execution_count": 44,
     "metadata": {},
     "output_type": "execute_result"
    }
   ],
   "source": [
    "len(meta.tables)"
   ]
  },
  {
   "cell_type": "code",
   "execution_count": 45,
   "metadata": {},
   "outputs": [
    {
     "name": "stdout",
     "output_type": "stream",
     "text": [
      "2023-09-06 11:24:57,161 INFO sqlalchemy.engine.Engine BEGIN (implicit)\n",
      "2023-09-06 11:24:57,162 INFO sqlalchemy.engine.Engine PRAGMA main.table_info(\"T_A\")\n",
      "2023-09-06 11:24:57,163 INFO sqlalchemy.engine.Engine [raw sql] ()\n",
      "2023-09-06 11:24:57,164 INFO sqlalchemy.engine.Engine PRAGMA temp.table_info(\"T_A\")\n",
      "2023-09-06 11:24:57,164 INFO sqlalchemy.engine.Engine [raw sql] ()\n",
      "2023-09-06 11:24:57,165 INFO sqlalchemy.engine.Engine PRAGMA main.table_info(\"T_B\")\n",
      "2023-09-06 11:24:57,165 INFO sqlalchemy.engine.Engine [raw sql] ()\n",
      "2023-09-06 11:24:57,166 INFO sqlalchemy.engine.Engine PRAGMA temp.table_info(\"T_B\")\n",
      "2023-09-06 11:24:57,166 INFO sqlalchemy.engine.Engine [raw sql] ()\n",
      "2023-09-06 11:24:57,167 INFO sqlalchemy.engine.Engine PRAGMA main.table_info(\"T_C\")\n",
      "2023-09-06 11:24:57,169 INFO sqlalchemy.engine.Engine [raw sql] ()\n",
      "2023-09-06 11:24:57,169 INFO sqlalchemy.engine.Engine PRAGMA temp.table_info(\"T_C\")\n",
      "2023-09-06 11:24:57,170 INFO sqlalchemy.engine.Engine [raw sql] ()\n",
      "2023-09-06 11:24:57,170 INFO sqlalchemy.engine.Engine PRAGMA main.table_info(\"T_D\")\n",
      "2023-09-06 11:24:57,171 INFO sqlalchemy.engine.Engine [raw sql] ()\n",
      "2023-09-06 11:24:57,172 INFO sqlalchemy.engine.Engine PRAGMA temp.table_info(\"T_D\")\n",
      "2023-09-06 11:24:57,172 INFO sqlalchemy.engine.Engine [raw sql] ()\n",
      "2023-09-06 11:24:57,174 INFO sqlalchemy.engine.Engine \n",
      "CREATE TABLE \"T_A\" (\n",
      "\t\"PK\" INTEGER NOT NULL, \n",
      "\t\"NAME\" TEXT NOT NULL, \n",
      "\tPRIMARY KEY (\"PK\")\n",
      ")\n",
      "\n",
      "\n",
      "2023-09-06 11:24:57,175 INFO sqlalchemy.engine.Engine [no key 0.00056s] ()\n",
      "2023-09-06 11:24:57,176 INFO sqlalchemy.engine.Engine \n",
      "CREATE TABLE \"T_C\" (\n",
      "\t\"PK\" INTEGER NOT NULL, \n",
      "\t\"NAME\" TEXT NOT NULL, \n",
      "\tPRIMARY KEY (\"PK\")\n",
      ")\n",
      "\n",
      "\n",
      "2023-09-06 11:24:57,176 INFO sqlalchemy.engine.Engine [no key 0.00036s] ()\n",
      "2023-09-06 11:24:57,177 INFO sqlalchemy.engine.Engine \n",
      "CREATE TABLE \"T_B\" (\n",
      "\t\"PK\" INTEGER NOT NULL, \n",
      "\t\"NAME\" TEXT NOT NULL, \n",
      "\t\"FK\" INTEGER, \n",
      "\tPRIMARY KEY (\"PK\"), \n",
      "\tFOREIGN KEY(\"FK\") REFERENCES \"T_A\" (\"PK\")\n",
      ")\n",
      "\n",
      "\n",
      "2023-09-06 11:24:57,177 INFO sqlalchemy.engine.Engine [no key 0.00047s] ()\n",
      "2023-09-06 11:24:57,178 INFO sqlalchemy.engine.Engine \n",
      "CREATE TABLE \"T_D\" (\n",
      "\t\"PK\" INTEGER NOT NULL, \n",
      "\t\"NAME\" TEXT NOT NULL, \n",
      "\t\"FK1\" INTEGER NOT NULL, \n",
      "\t\"FK2\" INTEGER NOT NULL, \n",
      "\tPRIMARY KEY (\"PK\"), \n",
      "\tFOREIGN KEY(\"FK1\") REFERENCES \"T_B\" (\"PK\")\n",
      ")\n",
      "\n",
      "\n",
      "2023-09-06 11:24:57,179 INFO sqlalchemy.engine.Engine [no key 0.00067s] ()\n",
      "2023-09-06 11:24:57,179 INFO sqlalchemy.engine.Engine COMMIT\n"
     ]
    }
   ],
   "source": [
    "meta.create_all(engine)"
   ]
  },
  {
   "cell_type": "code",
   "execution_count": 46,
   "metadata": {},
   "outputs": [],
   "source": [
    "con = engine.connect()"
   ]
  },
  {
   "cell_type": "code",
   "execution_count": 47,
   "metadata": {},
   "outputs": [
    {
     "name": "stdout",
     "output_type": "stream",
     "text": [
      "2023-09-06 11:25:03,521 INFO sqlalchemy.engine.Engine BEGIN (implicit)\n",
      "2023-09-06 11:25:03,522 INFO sqlalchemy.engine.Engine INSERT INTO \"T_A\" (\"NAME\") VALUES (?)\n",
      "2023-09-06 11:25:03,523 INFO sqlalchemy.engine.Engine [generated in 0.00146s] ('가수1',)\n",
      "2023-09-06 11:25:03,523 INFO sqlalchemy.engine.Engine INSERT INTO \"T_A\" (\"NAME\") VALUES (?)\n",
      "2023-09-06 11:25:03,524 INFO sqlalchemy.engine.Engine [cached since 0.003025s ago] ('가수2',)\n",
      "2023-09-06 11:25:03,526 INFO sqlalchemy.engine.Engine INSERT INTO \"T_A\" (\"NAME\") VALUES (?)\n",
      "2023-09-06 11:25:03,527 INFO sqlalchemy.engine.Engine [cached since 0.005464s ago] ('가수3',)\n",
      "2023-09-06 11:25:03,528 INFO sqlalchemy.engine.Engine INSERT INTO \"T_A\" (\"NAME\") VALUES (?)\n",
      "2023-09-06 11:25:03,528 INFO sqlalchemy.engine.Engine [cached since 0.007022s ago] ('가수4',)\n"
     ]
    }
   ],
   "source": [
    "for name in ['가수1', '가수2', '가수3', '가수4']:\n",
    "    con.execute(meta.tables['T_A'].insert().values(NAME = name))\n",
    "    \"\"\" INSERT INTO T_A (NAME) VALUES(:name)\"\"\""
   ]
  },
  {
   "cell_type": "code",
   "execution_count": 48,
   "metadata": {},
   "outputs": [],
   "source": [
    "A = meta.tables['T_A']\n",
    "B = meta.tables['T_B']\n",
    "C = meta.tables['T_C']\n",
    "D = meta.tables['T_D']"
   ]
  },
  {
   "cell_type": "code",
   "execution_count": 49,
   "metadata": {},
   "outputs": [
    {
     "name": "stdout",
     "output_type": "stream",
     "text": [
      "2023-09-06 11:25:34,426 INFO sqlalchemy.engine.Engine SELECT \"T_A\".\"PK\" \n",
      "FROM \"T_A\" \n",
      "WHERE \"T_A\".\"NAME\" LIKE ?\n",
      "2023-09-06 11:25:34,428 INFO sqlalchemy.engine.Engine [generated in 0.00250s] ('%1',)\n",
      "2023-09-06 11:25:34,432 INFO sqlalchemy.engine.Engine INSERT INTO \"T_B\" (\"NAME\", \"FK\") VALUES (?, ?)\n",
      "2023-09-06 11:25:34,433 INFO sqlalchemy.engine.Engine [generated in 0.00127s] ('앨범1', 1)\n",
      "2023-09-06 11:25:34,434 INFO sqlalchemy.engine.Engine SELECT \"T_A\".\"PK\" \n",
      "FROM \"T_A\" \n",
      "WHERE \"T_A\".\"NAME\" LIKE ?\n",
      "2023-09-06 11:25:34,434 INFO sqlalchemy.engine.Engine [cached since 0.008489s ago] ('%1',)\n",
      "2023-09-06 11:25:34,435 INFO sqlalchemy.engine.Engine INSERT INTO \"T_B\" (\"NAME\", \"FK\") VALUES (?, ?)\n",
      "2023-09-06 11:25:34,436 INFO sqlalchemy.engine.Engine [cached since 0.004617s ago] ('앨범2', 1)\n",
      "2023-09-06 11:25:34,437 INFO sqlalchemy.engine.Engine SELECT \"T_A\".\"PK\" \n",
      "FROM \"T_A\" \n",
      "WHERE \"T_A\".\"NAME\" LIKE ?\n",
      "2023-09-06 11:25:34,437 INFO sqlalchemy.engine.Engine [cached since 0.01162s ago] ('%2',)\n",
      "2023-09-06 11:25:34,438 INFO sqlalchemy.engine.Engine INSERT INTO \"T_B\" (\"NAME\", \"FK\") VALUES (?, ?)\n",
      "2023-09-06 11:25:34,438 INFO sqlalchemy.engine.Engine [cached since 0.007151s ago] ('앨범1', 2)\n",
      "2023-09-06 11:25:34,439 INFO sqlalchemy.engine.Engine SELECT \"T_A\".\"PK\" \n",
      "FROM \"T_A\" \n",
      "WHERE \"T_A\".\"NAME\" LIKE ?\n",
      "2023-09-06 11:25:34,440 INFO sqlalchemy.engine.Engine [cached since 0.0144s ago] ('%2',)\n",
      "2023-09-06 11:25:34,440 INFO sqlalchemy.engine.Engine INSERT INTO \"T_B\" (\"NAME\", \"FK\") VALUES (?, ?)\n",
      "2023-09-06 11:25:34,441 INFO sqlalchemy.engine.Engine [cached since 0.01053s ago] ('앨범2', 2)\n",
      "2023-09-06 11:25:34,442 INFO sqlalchemy.engine.Engine SELECT \"T_A\".\"PK\" \n",
      "FROM \"T_A\" \n",
      "WHERE \"T_A\".\"NAME\" LIKE ?\n",
      "2023-09-06 11:25:34,443 INFO sqlalchemy.engine.Engine [cached since 0.01792s ago] ('%3',)\n",
      "2023-09-06 11:25:34,445 INFO sqlalchemy.engine.Engine INSERT INTO \"T_B\" (\"NAME\", \"FK\") VALUES (?, ?)\n",
      "2023-09-06 11:25:34,445 INFO sqlalchemy.engine.Engine [cached since 0.01472s ago] ('앨범1', 3)\n",
      "2023-09-06 11:25:34,447 INFO sqlalchemy.engine.Engine SELECT \"T_A\".\"PK\" \n",
      "FROM \"T_A\" \n",
      "WHERE \"T_A\".\"NAME\" LIKE ?\n",
      "2023-09-06 11:25:34,448 INFO sqlalchemy.engine.Engine [cached since 0.02305s ago] ('%3',)\n",
      "2023-09-06 11:25:34,449 INFO sqlalchemy.engine.Engine INSERT INTO \"T_B\" (\"NAME\", \"FK\") VALUES (?, ?)\n",
      "2023-09-06 11:25:34,449 INFO sqlalchemy.engine.Engine [cached since 0.01887s ago] ('앨범2', 3)\n",
      "2023-09-06 11:25:34,451 INFO sqlalchemy.engine.Engine SELECT \"T_A\".\"PK\" \n",
      "FROM \"T_A\" \n",
      "WHERE \"T_A\".\"NAME\" LIKE ?\n",
      "2023-09-06 11:25:34,452 INFO sqlalchemy.engine.Engine [cached since 0.02571s ago] ('%4',)\n",
      "2023-09-06 11:25:34,452 INFO sqlalchemy.engine.Engine INSERT INTO \"T_B\" (\"NAME\", \"FK\") VALUES (?, ?)\n",
      "2023-09-06 11:25:34,453 INFO sqlalchemy.engine.Engine [cached since 0.02144s ago] ('앨범1', 4)\n",
      "2023-09-06 11:25:34,454 INFO sqlalchemy.engine.Engine SELECT \"T_A\".\"PK\" \n",
      "FROM \"T_A\" \n",
      "WHERE \"T_A\".\"NAME\" LIKE ?\n",
      "2023-09-06 11:25:34,454 INFO sqlalchemy.engine.Engine [cached since 0.02813s ago] ('%4',)\n",
      "2023-09-06 11:25:34,455 INFO sqlalchemy.engine.Engine INSERT INTO \"T_B\" (\"NAME\", \"FK\") VALUES (?, ?)\n",
      "2023-09-06 11:25:34,456 INFO sqlalchemy.engine.Engine [cached since 0.02444s ago] ('앨범2', 4)\n"
     ]
    }
   ],
   "source": [
    "for key in ['1','2','3','4']:\n",
    "    for name in ['앨범1', '앨범2']:\n",
    "        f'가수{key}_{name}'\n",
    "\n",
    "        # 맨 마지막이 key인 A의 PK를 \n",
    "        rst = con.execute(select(A.c.PK).where(A.c.NAME.like('%'+key)))\n",
    "        # 하나씩 불러오기\n",
    "        rst = rst.fetchone()[0]\n",
    "        # 앨범이름과 참조키 넣기\n",
    "        con.execute(B.insert().values(NAME = name, FK = rst))"
   ]
  },
  {
   "cell_type": "code",
   "execution_count": 51,
   "metadata": {},
   "outputs": [
    {
     "name": "stdout",
     "output_type": "stream",
     "text": [
      "2023-09-06 11:28:16,856 INFO sqlalchemy.engine.Engine SELECT \"T_B\".\"PK\", \"T_B\".\"NAME\", \"T_B\".\"FK\" \n",
      "FROM \"T_B\"\n",
      "2023-09-06 11:28:16,857 INFO sqlalchemy.engine.Engine [generated in 0.00079s] ()\n"
     ]
    },
    {
     "data": {
      "text/plain": [
       "[(1, '앨범1', 1),\n",
       " (2, '앨범2', 1),\n",
       " (3, '앨범1', 2),\n",
       " (4, '앨범2', 2),\n",
       " (5, '앨범1', 3),\n",
       " (6, '앨범2', 3),\n",
       " (7, '앨범1', 4),\n",
       " (8, '앨범2', 4)]"
      ]
     },
     "execution_count": 51,
     "metadata": {},
     "output_type": "execute_result"
    }
   ],
   "source": [
    "# 실제 적용된 B 테이블 display\n",
    "rst = con.execute(B.select())\n",
    "rst.fetchall()"
   ]
  },
  {
   "cell_type": "code",
   "execution_count": 53,
   "metadata": {},
   "outputs": [
    {
     "name": "stdout",
     "output_type": "stream",
     "text": [
      "2023-09-06 11:28:58,608 INFO sqlalchemy.engine.Engine SELECT \"T_A\".\"PK\", \"T_A\".\"NAME\" \n",
      "FROM \"T_A\" JOIN \"T_B\" ON \"T_A\".\"PK\" = \"T_B\".\"FK\"\n",
      "2023-09-06 11:28:58,608 INFO sqlalchemy.engine.Engine [cached since 126.2s ago] ()\n"
     ]
    },
    {
     "data": {
      "text/plain": [
       "[(1, '가수1'),\n",
       " (1, '가수1'),\n",
       " (2, '가수2'),\n",
       " (2, '가수2'),\n",
       " (3, '가수3'),\n",
       " (3, '가수3'),\n",
       " (4, '가수4'),\n",
       " (4, '가수4')]"
      ]
     },
     "execution_count": 53,
     "metadata": {},
     "output_type": "execute_result"
    }
   ],
   "source": [
    "# T_A의 PK와 T_B의 FK가 동일한 T_A의 row뽑기\n",
    "rst = con.execute(A.select().join(B))\n",
    "rst.fetchall()"
   ]
  },
  {
   "cell_type": "code",
   "execution_count": 54,
   "metadata": {},
   "outputs": [
    {
     "name": "stdout",
     "output_type": "stream",
     "text": [
      "2023-09-06 11:30:18,954 INFO sqlalchemy.engine.Engine INSERT INTO \"T_C\" (\"NAME\") VALUES (?)\n",
      "2023-09-06 11:30:18,955 INFO sqlalchemy.engine.Engine [generated in 0.00141s] ('장르1',)\n",
      "2023-09-06 11:30:18,955 INFO sqlalchemy.engine.Engine INSERT INTO \"T_C\" (\"NAME\") VALUES (?)\n",
      "2023-09-06 11:30:18,955 INFO sqlalchemy.engine.Engine [cached since 0.0034s ago] ('장르2',)\n",
      "2023-09-06 11:30:18,958 INFO sqlalchemy.engine.Engine INSERT INTO \"T_C\" (\"NAME\") VALUES (?)\n",
      "2023-09-06 11:30:18,959 INFO sqlalchemy.engine.Engine [cached since 0.005352s ago] ('장르3',)\n",
      "2023-09-06 11:30:18,961 INFO sqlalchemy.engine.Engine INSERT INTO \"T_C\" (\"NAME\") VALUES (?)\n",
      "2023-09-06 11:30:18,962 INFO sqlalchemy.engine.Engine [cached since 0.008134s ago] ('장르4',)\n"
     ]
    }
   ],
   "source": [
    "for name in ['장르1','장르2','장르3','장르4']:\n",
    "    # T_C 테이블에 장르 넣기\n",
    "    rst = con.execute(meta.tables['T_C'].insert().values(NAME = name))"
   ]
  },
  {
   "cell_type": "code",
   "execution_count": 55,
   "metadata": {},
   "outputs": [
    {
     "name": "stdout",
     "output_type": "stream",
     "text": [
      "2023-09-06 11:30:33,893 INFO sqlalchemy.engine.Engine SELECT \"T_C\".\"PK\", \"T_C\".\"NAME\" \n",
      "FROM \"T_C\"\n",
      "2023-09-06 11:30:33,894 INFO sqlalchemy.engine.Engine [generated in 0.00110s] ()\n"
     ]
    },
    {
     "data": {
      "text/plain": [
       "[(1, '장르1'), (2, '장르2'), (3, '장르3'), (4, '장르4')]"
      ]
     },
     "execution_count": 55,
     "metadata": {},
     "output_type": "execute_result"
    }
   ],
   "source": [
    "# 실제 적용된 C 테이블 display\n",
    "# PK는 primary_key이므로 값을 따로 설정 안해도 된다.\n",
    "rst = con.execute(C.select())\n",
    "rst.fetchall()"
   ]
  },
  {
   "cell_type": "code",
   "execution_count": 56,
   "metadata": {},
   "outputs": [
    {
     "name": "stdout",
     "output_type": "stream",
     "text": [
      "2023-09-06 11:32:06,475 INFO sqlalchemy.engine.Engine SELECT \"T_B\".\"PK\" \n",
      "FROM \"T_B\"\n",
      "2023-09-06 11:32:06,476 INFO sqlalchemy.engine.Engine [generated in 0.00079s] ()\n",
      "2023-09-06 11:32:06,478 INFO sqlalchemy.engine.Engine SELECT \"T_C\".\"PK\" \n",
      "FROM \"T_C\", \"T_A\" \n",
      "WHERE \"T_A\".\"NAME\" LIKE ?\n",
      "2023-09-06 11:32:06,479 INFO sqlalchemy.engine.Engine [generated in 0.00127s] ('%1',)\n",
      "2023-09-06 11:32:06,482 INFO sqlalchemy.engine.Engine INSERT INTO \"T_D\" (\"NAME\", \"FK1\", \"FK2\") VALUES (?, ?, ?)\n",
      "2023-09-06 11:32:06,483 INFO sqlalchemy.engine.Engine [generated in 0.00070s] ('1앨범_장르1_노래1', 1, 1)\n",
      "2023-09-06 11:32:06,484 INFO sqlalchemy.engine.Engine SELECT \"T_C\".\"PK\" \n",
      "FROM \"T_C\", \"T_A\" \n",
      "WHERE \"T_A\".\"NAME\" LIKE ?\n",
      "2023-09-06 11:32:06,485 INFO sqlalchemy.engine.Engine [cached since 0.006571s ago] ('%1',)\n",
      "2023-09-06 11:32:06,486 INFO sqlalchemy.engine.Engine INSERT INTO \"T_D\" (\"NAME\", \"FK1\", \"FK2\") VALUES (?, ?, ?)\n",
      "2023-09-06 11:32:06,486 INFO sqlalchemy.engine.Engine [cached since 0.004306s ago] ('1앨범_장르1_노래2', 1, 1)\n",
      "2023-09-06 11:32:06,487 INFO sqlalchemy.engine.Engine SELECT \"T_C\".\"PK\" \n",
      "FROM \"T_C\", \"T_A\" \n",
      "WHERE \"T_A\".\"NAME\" LIKE ?\n",
      "2023-09-06 11:32:06,488 INFO sqlalchemy.engine.Engine [cached since 0.009885s ago] ('%1',)\n",
      "2023-09-06 11:32:06,489 INFO sqlalchemy.engine.Engine INSERT INTO \"T_D\" (\"NAME\", \"FK1\", \"FK2\") VALUES (?, ?, ?)\n",
      "2023-09-06 11:32:06,490 INFO sqlalchemy.engine.Engine [cached since 0.007586s ago] ('1앨범_장르1_노래3', 1, 1)\n",
      "2023-09-06 11:32:06,491 INFO sqlalchemy.engine.Engine SELECT \"T_C\".\"PK\" \n",
      "FROM \"T_C\", \"T_A\" \n",
      "WHERE \"T_A\".\"NAME\" LIKE ?\n",
      "2023-09-06 11:32:06,491 INFO sqlalchemy.engine.Engine [cached since 0.01329s ago] ('%1',)\n",
      "2023-09-06 11:32:06,492 INFO sqlalchemy.engine.Engine INSERT INTO \"T_D\" (\"NAME\", \"FK1\", \"FK2\") VALUES (?, ?, ?)\n",
      "2023-09-06 11:32:06,493 INFO sqlalchemy.engine.Engine [cached since 0.01073s ago] ('1앨범_장르1_노래4', 1, 1)\n",
      "2023-09-06 11:32:06,494 INFO sqlalchemy.engine.Engine SELECT \"T_C\".\"PK\" \n",
      "FROM \"T_C\", \"T_A\" \n",
      "WHERE \"T_A\".\"NAME\" LIKE ?\n",
      "2023-09-06 11:32:06,494 INFO sqlalchemy.engine.Engine [cached since 0.01612s ago] ('%2',)\n",
      "2023-09-06 11:32:06,495 INFO sqlalchemy.engine.Engine INSERT INTO \"T_D\" (\"NAME\", \"FK1\", \"FK2\") VALUES (?, ?, ?)\n",
      "2023-09-06 11:32:06,496 INFO sqlalchemy.engine.Engine [cached since 0.0136s ago] ('1앨범_장르2_노래1', 1, 1)\n",
      "2023-09-06 11:32:06,496 INFO sqlalchemy.engine.Engine SELECT \"T_C\".\"PK\" \n",
      "FROM \"T_C\", \"T_A\" \n",
      "WHERE \"T_A\".\"NAME\" LIKE ?\n",
      "2023-09-06 11:32:06,497 INFO sqlalchemy.engine.Engine [cached since 0.01871s ago] ('%2',)\n",
      "2023-09-06 11:32:06,497 INFO sqlalchemy.engine.Engine INSERT INTO \"T_D\" (\"NAME\", \"FK1\", \"FK2\") VALUES (?, ?, ?)\n",
      "2023-09-06 11:32:06,498 INFO sqlalchemy.engine.Engine [cached since 0.01584s ago] ('1앨범_장르2_노래2', 1, 1)\n",
      "2023-09-06 11:32:06,499 INFO sqlalchemy.engine.Engine SELECT \"T_C\".\"PK\" \n",
      "FROM \"T_C\", \"T_A\" \n",
      "WHERE \"T_A\".\"NAME\" LIKE ?\n",
      "2023-09-06 11:32:06,500 INFO sqlalchemy.engine.Engine [cached since 0.0218s ago] ('%2',)\n",
      "2023-09-06 11:32:06,501 INFO sqlalchemy.engine.Engine INSERT INTO \"T_D\" (\"NAME\", \"FK1\", \"FK2\") VALUES (?, ?, ?)\n",
      "2023-09-06 11:32:06,501 INFO sqlalchemy.engine.Engine [cached since 0.01931s ago] ('1앨범_장르2_노래3', 1, 1)\n",
      "2023-09-06 11:32:06,502 INFO sqlalchemy.engine.Engine SELECT \"T_C\".\"PK\" \n",
      "FROM \"T_C\", \"T_A\" \n",
      "WHERE \"T_A\".\"NAME\" LIKE ?\n",
      "2023-09-06 11:32:06,503 INFO sqlalchemy.engine.Engine [cached since 0.02501s ago] ('%2',)\n",
      "2023-09-06 11:32:06,504 INFO sqlalchemy.engine.Engine INSERT INTO \"T_D\" (\"NAME\", \"FK1\", \"FK2\") VALUES (?, ?, ?)\n",
      "2023-09-06 11:32:06,504 INFO sqlalchemy.engine.Engine [cached since 0.02236s ago] ('1앨범_장르2_노래4', 1, 1)\n",
      "2023-09-06 11:32:06,506 INFO sqlalchemy.engine.Engine SELECT \"T_C\".\"PK\" \n",
      "FROM \"T_C\", \"T_A\" \n",
      "WHERE \"T_A\".\"NAME\" LIKE ?\n",
      "2023-09-06 11:32:06,508 INFO sqlalchemy.engine.Engine [cached since 0.02951s ago] ('%3',)\n",
      "2023-09-06 11:32:06,510 INFO sqlalchemy.engine.Engine INSERT INTO \"T_D\" (\"NAME\", \"FK1\", \"FK2\") VALUES (?, ?, ?)\n",
      "2023-09-06 11:32:06,511 INFO sqlalchemy.engine.Engine [cached since 0.02826s ago] ('1앨범_장르3_노래1', 1, 1)\n",
      "2023-09-06 11:32:06,512 INFO sqlalchemy.engine.Engine SELECT \"T_C\".\"PK\" \n",
      "FROM \"T_C\", \"T_A\" \n",
      "WHERE \"T_A\".\"NAME\" LIKE ?\n",
      "2023-09-06 11:32:06,513 INFO sqlalchemy.engine.Engine [cached since 0.03435s ago] ('%3',)\n",
      "2023-09-06 11:32:06,514 INFO sqlalchemy.engine.Engine INSERT INTO \"T_D\" (\"NAME\", \"FK1\", \"FK2\") VALUES (?, ?, ?)\n",
      "2023-09-06 11:32:06,515 INFO sqlalchemy.engine.Engine [cached since 0.03226s ago] ('1앨범_장르3_노래2', 1, 1)\n",
      "2023-09-06 11:32:06,516 INFO sqlalchemy.engine.Engine SELECT \"T_C\".\"PK\" \n",
      "FROM \"T_C\", \"T_A\" \n",
      "WHERE \"T_A\".\"NAME\" LIKE ?\n",
      "2023-09-06 11:32:06,516 INFO sqlalchemy.engine.Engine [cached since 0.03799s ago] ('%3',)\n",
      "2023-09-06 11:32:06,518 INFO sqlalchemy.engine.Engine INSERT INTO \"T_D\" (\"NAME\", \"FK1\", \"FK2\") VALUES (?, ?, ?)\n",
      "2023-09-06 11:32:06,518 INFO sqlalchemy.engine.Engine [cached since 0.0363s ago] ('1앨범_장르3_노래3', 1, 1)\n",
      "2023-09-06 11:32:06,519 INFO sqlalchemy.engine.Engine SELECT \"T_C\".\"PK\" \n",
      "FROM \"T_C\", \"T_A\" \n",
      "WHERE \"T_A\".\"NAME\" LIKE ?\n",
      "2023-09-06 11:32:06,520 INFO sqlalchemy.engine.Engine [cached since 0.04244s ago] ('%3',)\n",
      "2023-09-06 11:32:06,521 INFO sqlalchemy.engine.Engine INSERT INTO \"T_D\" (\"NAME\", \"FK1\", \"FK2\") VALUES (?, ?, ?)\n",
      "2023-09-06 11:32:06,522 INFO sqlalchemy.engine.Engine [cached since 0.04009s ago] ('1앨범_장르3_노래4', 1, 1)\n",
      "2023-09-06 11:32:06,523 INFO sqlalchemy.engine.Engine SELECT \"T_C\".\"PK\" \n",
      "FROM \"T_C\", \"T_A\" \n",
      "WHERE \"T_A\".\"NAME\" LIKE ?\n",
      "2023-09-06 11:32:06,524 INFO sqlalchemy.engine.Engine [cached since 0.04628s ago] ('%4',)\n",
      "2023-09-06 11:32:06,525 INFO sqlalchemy.engine.Engine INSERT INTO \"T_D\" (\"NAME\", \"FK1\", \"FK2\") VALUES (?, ?, ?)\n",
      "2023-09-06 11:32:06,525 INFO sqlalchemy.engine.Engine [cached since 0.0433s ago] ('1앨범_장르4_노래1', 1, 1)\n",
      "2023-09-06 11:32:06,526 INFO sqlalchemy.engine.Engine SELECT \"T_C\".\"PK\" \n",
      "FROM \"T_C\", \"T_A\" \n",
      "WHERE \"T_A\".\"NAME\" LIKE ?\n",
      "2023-09-06 11:32:06,526 INFO sqlalchemy.engine.Engine [cached since 0.04857s ago] ('%4',)\n",
      "2023-09-06 11:32:06,528 INFO sqlalchemy.engine.Engine INSERT INTO \"T_D\" (\"NAME\", \"FK1\", \"FK2\") VALUES (?, ?, ?)\n",
      "2023-09-06 11:32:06,528 INFO sqlalchemy.engine.Engine [cached since 0.04606s ago] ('1앨범_장르4_노래2', 1, 1)\n",
      "2023-09-06 11:32:06,529 INFO sqlalchemy.engine.Engine SELECT \"T_C\".\"PK\" \n",
      "FROM \"T_C\", \"T_A\" \n",
      "WHERE \"T_A\".\"NAME\" LIKE ?\n",
      "2023-09-06 11:32:06,530 INFO sqlalchemy.engine.Engine [cached since 0.05143s ago] ('%4',)\n",
      "2023-09-06 11:32:06,531 INFO sqlalchemy.engine.Engine INSERT INTO \"T_D\" (\"NAME\", \"FK1\", \"FK2\") VALUES (?, ?, ?)\n",
      "2023-09-06 11:32:06,531 INFO sqlalchemy.engine.Engine [cached since 0.04873s ago] ('1앨범_장르4_노래3', 1, 1)\n",
      "2023-09-06 11:32:06,532 INFO sqlalchemy.engine.Engine SELECT \"T_C\".\"PK\" \n",
      "FROM \"T_C\", \"T_A\" \n",
      "WHERE \"T_A\".\"NAME\" LIKE ?\n",
      "2023-09-06 11:32:06,532 INFO sqlalchemy.engine.Engine [cached since 0.05403s ago] ('%4',)\n",
      "2023-09-06 11:32:06,534 INFO sqlalchemy.engine.Engine INSERT INTO \"T_D\" (\"NAME\", \"FK1\", \"FK2\") VALUES (?, ?, ?)\n",
      "2023-09-06 11:32:06,535 INFO sqlalchemy.engine.Engine [cached since 0.05249s ago] ('1앨범_장르4_노래4', 1, 1)\n",
      "2023-09-06 11:32:06,536 INFO sqlalchemy.engine.Engine SELECT \"T_C\".\"PK\" \n",
      "FROM \"T_C\", \"T_A\" \n",
      "WHERE \"T_A\".\"NAME\" LIKE ?\n",
      "2023-09-06 11:32:06,537 INFO sqlalchemy.engine.Engine [cached since 0.0585s ago] ('%1',)\n",
      "2023-09-06 11:32:06,538 INFO sqlalchemy.engine.Engine INSERT INTO \"T_D\" (\"NAME\", \"FK1\", \"FK2\") VALUES (?, ?, ?)\n",
      "2023-09-06 11:32:06,538 INFO sqlalchemy.engine.Engine [cached since 0.05626s ago] ('2앨범_장르1_노래1', 2, 1)\n",
      "2023-09-06 11:32:06,540 INFO sqlalchemy.engine.Engine SELECT \"T_C\".\"PK\" \n",
      "FROM \"T_C\", \"T_A\" \n",
      "WHERE \"T_A\".\"NAME\" LIKE ?\n",
      "2023-09-06 11:32:06,541 INFO sqlalchemy.engine.Engine [cached since 0.06272s ago] ('%1',)\n",
      "2023-09-06 11:32:06,542 INFO sqlalchemy.engine.Engine INSERT INTO \"T_D\" (\"NAME\", \"FK1\", \"FK2\") VALUES (?, ?, ?)\n",
      "2023-09-06 11:32:06,543 INFO sqlalchemy.engine.Engine [cached since 0.06098s ago] ('2앨범_장르1_노래2', 2, 1)\n",
      "2023-09-06 11:32:06,544 INFO sqlalchemy.engine.Engine SELECT \"T_C\".\"PK\" \n",
      "FROM \"T_C\", \"T_A\" \n",
      "WHERE \"T_A\".\"NAME\" LIKE ?\n",
      "2023-09-06 11:32:06,545 INFO sqlalchemy.engine.Engine [cached since 0.06722s ago] ('%1',)\n",
      "2023-09-06 11:32:06,546 INFO sqlalchemy.engine.Engine INSERT INTO \"T_D\" (\"NAME\", \"FK1\", \"FK2\") VALUES (?, ?, ?)\n",
      "2023-09-06 11:32:06,548 INFO sqlalchemy.engine.Engine [cached since 0.06564s ago] ('2앨범_장르1_노래3', 2, 1)\n",
      "2023-09-06 11:32:06,550 INFO sqlalchemy.engine.Engine SELECT \"T_C\".\"PK\" \n",
      "FROM \"T_C\", \"T_A\" \n",
      "WHERE \"T_A\".\"NAME\" LIKE ?\n",
      "2023-09-06 11:32:06,550 INFO sqlalchemy.engine.Engine [cached since 0.07166s ago] ('%1',)\n",
      "2023-09-06 11:32:06,552 INFO sqlalchemy.engine.Engine INSERT INTO \"T_D\" (\"NAME\", \"FK1\", \"FK2\") VALUES (?, ?, ?)\n",
      "2023-09-06 11:32:06,552 INFO sqlalchemy.engine.Engine [cached since 0.07005s ago] ('2앨범_장르1_노래4', 2, 1)\n",
      "2023-09-06 11:32:06,553 INFO sqlalchemy.engine.Engine SELECT \"T_C\".\"PK\" \n",
      "FROM \"T_C\", \"T_A\" \n",
      "WHERE \"T_A\".\"NAME\" LIKE ?\n",
      "2023-09-06 11:32:06,554 INFO sqlalchemy.engine.Engine [cached since 0.07562s ago] ('%2',)\n",
      "2023-09-06 11:32:06,556 INFO sqlalchemy.engine.Engine INSERT INTO \"T_D\" (\"NAME\", \"FK1\", \"FK2\") VALUES (?, ?, ?)\n",
      "2023-09-06 11:32:06,557 INFO sqlalchemy.engine.Engine [cached since 0.07419s ago] ('2앨범_장르2_노래1', 2, 1)\n",
      "2023-09-06 11:32:06,558 INFO sqlalchemy.engine.Engine SELECT \"T_C\".\"PK\" \n",
      "FROM \"T_C\", \"T_A\" \n",
      "WHERE \"T_A\".\"NAME\" LIKE ?\n",
      "2023-09-06 11:32:06,558 INFO sqlalchemy.engine.Engine [cached since 0.0806s ago] ('%2',)\n",
      "2023-09-06 11:32:06,560 INFO sqlalchemy.engine.Engine INSERT INTO \"T_D\" (\"NAME\", \"FK1\", \"FK2\") VALUES (?, ?, ?)\n",
      "2023-09-06 11:32:06,561 INFO sqlalchemy.engine.Engine [cached since 0.07913s ago] ('2앨범_장르2_노래2', 2, 1)\n",
      "2023-09-06 11:32:06,562 INFO sqlalchemy.engine.Engine SELECT \"T_C\".\"PK\" \n",
      "FROM \"T_C\", \"T_A\" \n",
      "WHERE \"T_A\".\"NAME\" LIKE ?\n",
      "2023-09-06 11:32:06,563 INFO sqlalchemy.engine.Engine [cached since 0.08504s ago] ('%2',)\n",
      "2023-09-06 11:32:06,565 INFO sqlalchemy.engine.Engine INSERT INTO \"T_D\" (\"NAME\", \"FK1\", \"FK2\") VALUES (?, ?, ?)\n",
      "2023-09-06 11:32:06,565 INFO sqlalchemy.engine.Engine [cached since 0.08348s ago] ('2앨범_장르2_노래3', 2, 1)\n",
      "2023-09-06 11:32:06,566 INFO sqlalchemy.engine.Engine SELECT \"T_C\".\"PK\" \n",
      "FROM \"T_C\", \"T_A\" \n",
      "WHERE \"T_A\".\"NAME\" LIKE ?\n",
      "2023-09-06 11:32:06,566 INFO sqlalchemy.engine.Engine [cached since 0.08908s ago] ('%2',)\n",
      "2023-09-06 11:32:06,569 INFO sqlalchemy.engine.Engine INSERT INTO \"T_D\" (\"NAME\", \"FK1\", \"FK2\") VALUES (?, ?, ?)\n",
      "2023-09-06 11:32:06,570 INFO sqlalchemy.engine.Engine [cached since 0.08733s ago] ('2앨범_장르2_노래4', 2, 1)\n",
      "2023-09-06 11:32:06,571 INFO sqlalchemy.engine.Engine SELECT \"T_C\".\"PK\" \n",
      "FROM \"T_C\", \"T_A\" \n",
      "WHERE \"T_A\".\"NAME\" LIKE ?\n",
      "2023-09-06 11:32:06,571 INFO sqlalchemy.engine.Engine [cached since 0.09311s ago] ('%3',)\n",
      "2023-09-06 11:32:06,573 INFO sqlalchemy.engine.Engine INSERT INTO \"T_D\" (\"NAME\", \"FK1\", \"FK2\") VALUES (?, ?, ?)\n",
      "2023-09-06 11:32:06,573 INFO sqlalchemy.engine.Engine [cached since 0.09101s ago] ('2앨범_장르3_노래1', 2, 1)\n",
      "2023-09-06 11:32:06,574 INFO sqlalchemy.engine.Engine SELECT \"T_C\".\"PK\" \n",
      "FROM \"T_C\", \"T_A\" \n",
      "WHERE \"T_A\".\"NAME\" LIKE ?\n",
      "2023-09-06 11:32:06,576 INFO sqlalchemy.engine.Engine [cached since 0.09748s ago] ('%3',)\n",
      "2023-09-06 11:32:06,578 INFO sqlalchemy.engine.Engine INSERT INTO \"T_D\" (\"NAME\", \"FK1\", \"FK2\") VALUES (?, ?, ?)\n",
      "2023-09-06 11:32:06,578 INFO sqlalchemy.engine.Engine [cached since 0.09632s ago] ('2앨범_장르3_노래2', 2, 1)\n",
      "2023-09-06 11:32:06,579 INFO sqlalchemy.engine.Engine SELECT \"T_C\".\"PK\" \n",
      "FROM \"T_C\", \"T_A\" \n",
      "WHERE \"T_A\".\"NAME\" LIKE ?\n",
      "2023-09-06 11:32:06,580 INFO sqlalchemy.engine.Engine [cached since 0.1023s ago] ('%3',)\n",
      "2023-09-06 11:32:06,581 INFO sqlalchemy.engine.Engine INSERT INTO \"T_D\" (\"NAME\", \"FK1\", \"FK2\") VALUES (?, ?, ?)\n",
      "2023-09-06 11:32:06,582 INFO sqlalchemy.engine.Engine [cached since 0.09982s ago] ('2앨범_장르3_노래3', 2, 1)\n",
      "2023-09-06 11:32:06,582 INFO sqlalchemy.engine.Engine SELECT \"T_C\".\"PK\" \n",
      "FROM \"T_C\", \"T_A\" \n",
      "WHERE \"T_A\".\"NAME\" LIKE ?\n",
      "2023-09-06 11:32:06,583 INFO sqlalchemy.engine.Engine [cached since 0.1052s ago] ('%3',)\n",
      "2023-09-06 11:32:06,584 INFO sqlalchemy.engine.Engine INSERT INTO \"T_D\" (\"NAME\", \"FK1\", \"FK2\") VALUES (?, ?, ?)\n",
      "2023-09-06 11:32:06,585 INFO sqlalchemy.engine.Engine [cached since 0.1032s ago] ('2앨범_장르3_노래4', 2, 1)\n",
      "2023-09-06 11:32:06,586 INFO sqlalchemy.engine.Engine SELECT \"T_C\".\"PK\" \n",
      "FROM \"T_C\", \"T_A\" \n",
      "WHERE \"T_A\".\"NAME\" LIKE ?\n",
      "2023-09-06 11:32:06,588 INFO sqlalchemy.engine.Engine [cached since 0.1096s ago] ('%4',)\n",
      "2023-09-06 11:32:06,590 INFO sqlalchemy.engine.Engine INSERT INTO \"T_D\" (\"NAME\", \"FK1\", \"FK2\") VALUES (?, ?, ?)\n",
      "2023-09-06 11:32:06,590 INFO sqlalchemy.engine.Engine [cached since 0.1081s ago] ('2앨범_장르4_노래1', 2, 1)\n",
      "2023-09-06 11:32:06,591 INFO sqlalchemy.engine.Engine SELECT \"T_C\".\"PK\" \n",
      "FROM \"T_C\", \"T_A\" \n",
      "WHERE \"T_A\".\"NAME\" LIKE ?\n",
      "2023-09-06 11:32:06,592 INFO sqlalchemy.engine.Engine [cached since 0.1142s ago] ('%4',)\n",
      "2023-09-06 11:32:06,594 INFO sqlalchemy.engine.Engine INSERT INTO \"T_D\" (\"NAME\", \"FK1\", \"FK2\") VALUES (?, ?, ?)\n",
      "2023-09-06 11:32:06,595 INFO sqlalchemy.engine.Engine [cached since 0.1127s ago] ('2앨범_장르4_노래2', 2, 1)\n",
      "2023-09-06 11:32:06,597 INFO sqlalchemy.engine.Engine SELECT \"T_C\".\"PK\" \n",
      "FROM \"T_C\", \"T_A\" \n",
      "WHERE \"T_A\".\"NAME\" LIKE ?\n",
      "2023-09-06 11:32:06,598 INFO sqlalchemy.engine.Engine [cached since 0.1194s ago] ('%4',)\n",
      "2023-09-06 11:32:06,599 INFO sqlalchemy.engine.Engine INSERT INTO \"T_D\" (\"NAME\", \"FK1\", \"FK2\") VALUES (?, ?, ?)\n",
      "2023-09-06 11:32:06,600 INFO sqlalchemy.engine.Engine [cached since 0.1181s ago] ('2앨범_장르4_노래3', 2, 1)\n",
      "2023-09-06 11:32:06,601 INFO sqlalchemy.engine.Engine SELECT \"T_C\".\"PK\" \n",
      "FROM \"T_C\", \"T_A\" \n",
      "WHERE \"T_A\".\"NAME\" LIKE ?\n",
      "2023-09-06 11:32:06,602 INFO sqlalchemy.engine.Engine [cached since 0.1242s ago] ('%4',)\n",
      "2023-09-06 11:32:06,603 INFO sqlalchemy.engine.Engine INSERT INTO \"T_D\" (\"NAME\", \"FK1\", \"FK2\") VALUES (?, ?, ?)\n",
      "2023-09-06 11:32:06,603 INFO sqlalchemy.engine.Engine [cached since 0.1215s ago] ('2앨범_장르4_노래4', 2, 1)\n",
      "2023-09-06 11:32:06,604 INFO sqlalchemy.engine.Engine SELECT \"T_C\".\"PK\" \n",
      "FROM \"T_C\", \"T_A\" \n",
      "WHERE \"T_A\".\"NAME\" LIKE ?\n",
      "2023-09-06 11:32:06,605 INFO sqlalchemy.engine.Engine [cached since 0.1269s ago] ('%1',)\n",
      "2023-09-06 11:32:06,605 INFO sqlalchemy.engine.Engine INSERT INTO \"T_D\" (\"NAME\", \"FK1\", \"FK2\") VALUES (?, ?, ?)\n",
      "2023-09-06 11:32:06,606 INFO sqlalchemy.engine.Engine [cached since 0.124s ago] ('3앨범_장르1_노래1', 3, 1)\n",
      "2023-09-06 11:32:06,606 INFO sqlalchemy.engine.Engine SELECT \"T_C\".\"PK\" \n",
      "FROM \"T_C\", \"T_A\" \n",
      "WHERE \"T_A\".\"NAME\" LIKE ?\n",
      "2023-09-06 11:32:06,608 INFO sqlalchemy.engine.Engine [cached since 0.1299s ago] ('%1',)\n",
      "2023-09-06 11:32:06,609 INFO sqlalchemy.engine.Engine INSERT INTO \"T_D\" (\"NAME\", \"FK1\", \"FK2\") VALUES (?, ?, ?)\n",
      "2023-09-06 11:32:06,610 INFO sqlalchemy.engine.Engine [cached since 0.1275s ago] ('3앨범_장르1_노래2', 3, 1)\n",
      "2023-09-06 11:32:06,611 INFO sqlalchemy.engine.Engine SELECT \"T_C\".\"PK\" \n",
      "FROM \"T_C\", \"T_A\" \n",
      "WHERE \"T_A\".\"NAME\" LIKE ?\n",
      "2023-09-06 11:32:06,611 INFO sqlalchemy.engine.Engine [cached since 0.1329s ago] ('%1',)\n",
      "2023-09-06 11:32:06,613 INFO sqlalchemy.engine.Engine INSERT INTO \"T_D\" (\"NAME\", \"FK1\", \"FK2\") VALUES (?, ?, ?)\n",
      "2023-09-06 11:32:06,614 INFO sqlalchemy.engine.Engine [cached since 0.1314s ago] ('3앨범_장르1_노래3', 3, 1)\n",
      "2023-09-06 11:32:06,614 INFO sqlalchemy.engine.Engine SELECT \"T_C\".\"PK\" \n",
      "FROM \"T_C\", \"T_A\" \n",
      "WHERE \"T_A\".\"NAME\" LIKE ?\n",
      "2023-09-06 11:32:06,615 INFO sqlalchemy.engine.Engine [cached since 0.1372s ago] ('%1',)\n",
      "2023-09-06 11:32:06,617 INFO sqlalchemy.engine.Engine INSERT INTO \"T_D\" (\"NAME\", \"FK1\", \"FK2\") VALUES (?, ?, ?)\n",
      "2023-09-06 11:32:06,617 INFO sqlalchemy.engine.Engine [cached since 0.1351s ago] ('3앨범_장르1_노래4', 3, 1)\n",
      "2023-09-06 11:32:06,618 INFO sqlalchemy.engine.Engine SELECT \"T_C\".\"PK\" \n",
      "FROM \"T_C\", \"T_A\" \n",
      "WHERE \"T_A\".\"NAME\" LIKE ?\n",
      "2023-09-06 11:32:06,618 INFO sqlalchemy.engine.Engine [cached since 0.1405s ago] ('%2',)\n",
      "2023-09-06 11:32:06,620 INFO sqlalchemy.engine.Engine INSERT INTO \"T_D\" (\"NAME\", \"FK1\", \"FK2\") VALUES (?, ?, ?)\n",
      "2023-09-06 11:32:06,621 INFO sqlalchemy.engine.Engine [cached since 0.1394s ago] ('3앨범_장르2_노래1', 3, 1)\n",
      "2023-09-06 11:32:06,624 INFO sqlalchemy.engine.Engine SELECT \"T_C\".\"PK\" \n",
      "FROM \"T_C\", \"T_A\" \n",
      "WHERE \"T_A\".\"NAME\" LIKE ?\n",
      "2023-09-06 11:32:06,624 INFO sqlalchemy.engine.Engine [cached since 0.1463s ago] ('%2',)\n",
      "2023-09-06 11:32:06,626 INFO sqlalchemy.engine.Engine INSERT INTO \"T_D\" (\"NAME\", \"FK1\", \"FK2\") VALUES (?, ?, ?)\n",
      "2023-09-06 11:32:06,626 INFO sqlalchemy.engine.Engine [cached since 0.1441s ago] ('3앨범_장르2_노래2', 3, 1)\n",
      "2023-09-06 11:32:06,626 INFO sqlalchemy.engine.Engine SELECT \"T_C\".\"PK\" \n",
      "FROM \"T_C\", \"T_A\" \n",
      "WHERE \"T_A\".\"NAME\" LIKE ?\n",
      "2023-09-06 11:32:06,628 INFO sqlalchemy.engine.Engine [cached since 0.1492s ago] ('%2',)\n",
      "2023-09-06 11:32:06,628 INFO sqlalchemy.engine.Engine INSERT INTO \"T_D\" (\"NAME\", \"FK1\", \"FK2\") VALUES (?, ?, ?)\n",
      "2023-09-06 11:32:06,629 INFO sqlalchemy.engine.Engine [cached since 0.1465s ago] ('3앨범_장르2_노래3', 3, 1)\n",
      "2023-09-06 11:32:06,630 INFO sqlalchemy.engine.Engine SELECT \"T_C\".\"PK\" \n",
      "FROM \"T_C\", \"T_A\" \n",
      "WHERE \"T_A\".\"NAME\" LIKE ?\n",
      "2023-09-06 11:32:06,630 INFO sqlalchemy.engine.Engine [cached since 0.1521s ago] ('%2',)\n",
      "2023-09-06 11:32:06,632 INFO sqlalchemy.engine.Engine INSERT INTO \"T_D\" (\"NAME\", \"FK1\", \"FK2\") VALUES (?, ?, ?)\n",
      "2023-09-06 11:32:06,632 INFO sqlalchemy.engine.Engine [cached since 0.15s ago] ('3앨범_장르2_노래4', 3, 1)\n",
      "2023-09-06 11:32:06,634 INFO sqlalchemy.engine.Engine SELECT \"T_C\".\"PK\" \n",
      "FROM \"T_C\", \"T_A\" \n",
      "WHERE \"T_A\".\"NAME\" LIKE ?\n",
      "2023-09-06 11:32:06,635 INFO sqlalchemy.engine.Engine [cached since 0.1564s ago] ('%3',)\n",
      "2023-09-06 11:32:06,636 INFO sqlalchemy.engine.Engine INSERT INTO \"T_D\" (\"NAME\", \"FK1\", \"FK2\") VALUES (?, ?, ?)\n",
      "2023-09-06 11:32:06,637 INFO sqlalchemy.engine.Engine [cached since 0.1547s ago] ('3앨범_장르3_노래1', 3, 1)\n",
      "2023-09-06 11:32:06,639 INFO sqlalchemy.engine.Engine SELECT \"T_C\".\"PK\" \n",
      "FROM \"T_C\", \"T_A\" \n",
      "WHERE \"T_A\".\"NAME\" LIKE ?\n",
      "2023-09-06 11:32:06,640 INFO sqlalchemy.engine.Engine [cached since 0.1625s ago] ('%3',)\n",
      "2023-09-06 11:32:06,642 INFO sqlalchemy.engine.Engine INSERT INTO \"T_D\" (\"NAME\", \"FK1\", \"FK2\") VALUES (?, ?, ?)\n",
      "2023-09-06 11:32:06,643 INFO sqlalchemy.engine.Engine [cached since 0.161s ago] ('3앨범_장르3_노래2', 3, 1)\n",
      "2023-09-06 11:32:06,644 INFO sqlalchemy.engine.Engine SELECT \"T_C\".\"PK\" \n",
      "FROM \"T_C\", \"T_A\" \n",
      "WHERE \"T_A\".\"NAME\" LIKE ?\n",
      "2023-09-06 11:32:06,645 INFO sqlalchemy.engine.Engine [cached since 0.1672s ago] ('%3',)\n",
      "2023-09-06 11:32:06,646 INFO sqlalchemy.engine.Engine INSERT INTO \"T_D\" (\"NAME\", \"FK1\", \"FK2\") VALUES (?, ?, ?)\n",
      "2023-09-06 11:32:06,648 INFO sqlalchemy.engine.Engine [cached since 0.1654s ago] ('3앨범_장르3_노래3', 3, 1)\n",
      "2023-09-06 11:32:06,649 INFO sqlalchemy.engine.Engine SELECT \"T_C\".\"PK\" \n",
      "FROM \"T_C\", \"T_A\" \n",
      "WHERE \"T_A\".\"NAME\" LIKE ?\n",
      "2023-09-06 11:32:06,650 INFO sqlalchemy.engine.Engine [cached since 0.1714s ago] ('%3',)\n",
      "2023-09-06 11:32:06,651 INFO sqlalchemy.engine.Engine INSERT INTO \"T_D\" (\"NAME\", \"FK1\", \"FK2\") VALUES (?, ?, ?)\n",
      "2023-09-06 11:32:06,651 INFO sqlalchemy.engine.Engine [cached since 0.1687s ago] ('3앨범_장르3_노래4', 3, 1)\n",
      "2023-09-06 11:32:06,652 INFO sqlalchemy.engine.Engine SELECT \"T_C\".\"PK\" \n",
      "FROM \"T_C\", \"T_A\" \n",
      "WHERE \"T_A\".\"NAME\" LIKE ?\n",
      "2023-09-06 11:32:06,653 INFO sqlalchemy.engine.Engine [cached since 0.1744s ago] ('%4',)\n",
      "2023-09-06 11:32:06,655 INFO sqlalchemy.engine.Engine INSERT INTO \"T_D\" (\"NAME\", \"FK1\", \"FK2\") VALUES (?, ?, ?)\n",
      "2023-09-06 11:32:06,658 INFO sqlalchemy.engine.Engine [cached since 0.1764s ago] ('3앨범_장르4_노래1', 3, 1)\n",
      "2023-09-06 11:32:06,660 INFO sqlalchemy.engine.Engine SELECT \"T_C\".\"PK\" \n",
      "FROM \"T_C\", \"T_A\" \n",
      "WHERE \"T_A\".\"NAME\" LIKE ?\n",
      "2023-09-06 11:32:06,661 INFO sqlalchemy.engine.Engine [cached since 0.1833s ago] ('%4',)\n",
      "2023-09-06 11:32:06,663 INFO sqlalchemy.engine.Engine INSERT INTO \"T_D\" (\"NAME\", \"FK1\", \"FK2\") VALUES (?, ?, ?)\n",
      "2023-09-06 11:32:06,664 INFO sqlalchemy.engine.Engine [cached since 0.1819s ago] ('3앨범_장르4_노래2', 3, 1)\n"
     ]
    },
    {
     "name": "stderr",
     "output_type": "stream",
     "text": [
      "C:\\Users\\GyeongJun\\AppData\\Local\\Temp\\ipykernel_13968\\527740505.py:6: SAWarning: SELECT statement has a cartesian product between FROM element(s) \"T_C\" and FROM element \"T_A\".  Apply join condition(s) between each element to resolve.\n",
      "  rst = con.execute(select(C.c.PK).where(A.c.NAME.like('%'+key)))\n"
     ]
    },
    {
     "name": "stdout",
     "output_type": "stream",
     "text": [
      "2023-09-06 11:32:06,665 INFO sqlalchemy.engine.Engine SELECT \"T_C\".\"PK\" \n",
      "FROM \"T_C\", \"T_A\" \n",
      "WHERE \"T_A\".\"NAME\" LIKE ?\n",
      "2023-09-06 11:32:06,666 INFO sqlalchemy.engine.Engine [cached since 0.1887s ago] ('%4',)\n",
      "2023-09-06 11:32:06,669 INFO sqlalchemy.engine.Engine INSERT INTO \"T_D\" (\"NAME\", \"FK1\", \"FK2\") VALUES (?, ?, ?)\n",
      "2023-09-06 11:32:06,669 INFO sqlalchemy.engine.Engine [cached since 0.1871s ago] ('3앨범_장르4_노래3', 3, 1)\n",
      "2023-09-06 11:32:06,671 INFO sqlalchemy.engine.Engine SELECT \"T_C\".\"PK\" \n",
      "FROM \"T_C\", \"T_A\" \n",
      "WHERE \"T_A\".\"NAME\" LIKE ?\n",
      "2023-09-06 11:32:06,672 INFO sqlalchemy.engine.Engine [cached since 0.1938s ago] ('%4',)\n",
      "2023-09-06 11:32:06,674 INFO sqlalchemy.engine.Engine INSERT INTO \"T_D\" (\"NAME\", \"FK1\", \"FK2\") VALUES (?, ?, ?)\n",
      "2023-09-06 11:32:06,676 INFO sqlalchemy.engine.Engine [cached since 0.1933s ago] ('3앨범_장르4_노래4', 3, 1)\n",
      "2023-09-06 11:32:06,677 INFO sqlalchemy.engine.Engine SELECT \"T_C\".\"PK\" \n",
      "FROM \"T_C\", \"T_A\" \n",
      "WHERE \"T_A\".\"NAME\" LIKE ?\n",
      "2023-09-06 11:32:06,678 INFO sqlalchemy.engine.Engine [cached since 0.2007s ago] ('%1',)\n",
      "2023-09-06 11:32:06,680 INFO sqlalchemy.engine.Engine INSERT INTO \"T_D\" (\"NAME\", \"FK1\", \"FK2\") VALUES (?, ?, ?)\n",
      "2023-09-06 11:32:06,681 INFO sqlalchemy.engine.Engine [cached since 0.1996s ago] ('4앨범_장르1_노래1', 4, 1)\n",
      "2023-09-06 11:32:06,683 INFO sqlalchemy.engine.Engine SELECT \"T_C\".\"PK\" \n",
      "FROM \"T_C\", \"T_A\" \n",
      "WHERE \"T_A\".\"NAME\" LIKE ?\n",
      "2023-09-06 11:32:06,684 INFO sqlalchemy.engine.Engine [cached since 0.2066s ago] ('%1',)\n",
      "2023-09-06 11:32:06,686 INFO sqlalchemy.engine.Engine INSERT INTO \"T_D\" (\"NAME\", \"FK1\", \"FK2\") VALUES (?, ?, ?)\n",
      "2023-09-06 11:32:06,686 INFO sqlalchemy.engine.Engine [cached since 0.2046s ago] ('4앨범_장르1_노래2', 4, 1)\n",
      "2023-09-06 11:32:06,689 INFO sqlalchemy.engine.Engine SELECT \"T_C\".\"PK\" \n",
      "FROM \"T_C\", \"T_A\" \n",
      "WHERE \"T_A\".\"NAME\" LIKE ?\n",
      "2023-09-06 11:32:06,689 INFO sqlalchemy.engine.Engine [cached since 0.2113s ago] ('%1',)\n",
      "2023-09-06 11:32:06,691 INFO sqlalchemy.engine.Engine INSERT INTO \"T_D\" (\"NAME\", \"FK1\", \"FK2\") VALUES (?, ?, ?)\n",
      "2023-09-06 11:32:06,691 INFO sqlalchemy.engine.Engine [cached since 0.2089s ago] ('4앨범_장르1_노래3', 4, 1)\n",
      "2023-09-06 11:32:06,692 INFO sqlalchemy.engine.Engine SELECT \"T_C\".\"PK\" \n",
      "FROM \"T_C\", \"T_A\" \n",
      "WHERE \"T_A\".\"NAME\" LIKE ?\n",
      "2023-09-06 11:32:06,693 INFO sqlalchemy.engine.Engine [cached since 0.2151s ago] ('%1',)\n",
      "2023-09-06 11:32:06,695 INFO sqlalchemy.engine.Engine INSERT INTO \"T_D\" (\"NAME\", \"FK1\", \"FK2\") VALUES (?, ?, ?)\n",
      "2023-09-06 11:32:06,695 INFO sqlalchemy.engine.Engine [cached since 0.213s ago] ('4앨범_장르1_노래4', 4, 1)\n",
      "2023-09-06 11:32:06,696 INFO sqlalchemy.engine.Engine SELECT \"T_C\".\"PK\" \n",
      "FROM \"T_C\", \"T_A\" \n",
      "WHERE \"T_A\".\"NAME\" LIKE ?\n",
      "2023-09-06 11:32:06,696 INFO sqlalchemy.engine.Engine [cached since 0.2181s ago] ('%2',)\n",
      "2023-09-06 11:32:06,697 INFO sqlalchemy.engine.Engine INSERT INTO \"T_D\" (\"NAME\", \"FK1\", \"FK2\") VALUES (?, ?, ?)\n",
      "2023-09-06 11:32:06,698 INFO sqlalchemy.engine.Engine [cached since 0.2155s ago] ('4앨범_장르2_노래1', 4, 1)\n",
      "2023-09-06 11:32:06,698 INFO sqlalchemy.engine.Engine SELECT \"T_C\".\"PK\" \n",
      "FROM \"T_C\", \"T_A\" \n",
      "WHERE \"T_A\".\"NAME\" LIKE ?\n",
      "2023-09-06 11:32:06,699 INFO sqlalchemy.engine.Engine [cached since 0.2207s ago] ('%2',)\n",
      "2023-09-06 11:32:06,700 INFO sqlalchemy.engine.Engine INSERT INTO \"T_D\" (\"NAME\", \"FK1\", \"FK2\") VALUES (?, ?, ?)\n",
      "2023-09-06 11:32:06,700 INFO sqlalchemy.engine.Engine [cached since 0.2186s ago] ('4앨범_장르2_노래2', 4, 1)\n",
      "2023-09-06 11:32:06,702 INFO sqlalchemy.engine.Engine SELECT \"T_C\".\"PK\" \n",
      "FROM \"T_C\", \"T_A\" \n",
      "WHERE \"T_A\".\"NAME\" LIKE ?\n",
      "2023-09-06 11:32:06,702 INFO sqlalchemy.engine.Engine [cached since 0.2243s ago] ('%2',)\n",
      "2023-09-06 11:32:06,704 INFO sqlalchemy.engine.Engine INSERT INTO \"T_D\" (\"NAME\", \"FK1\", \"FK2\") VALUES (?, ?, ?)\n",
      "2023-09-06 11:32:06,705 INFO sqlalchemy.engine.Engine [cached since 0.2226s ago] ('4앨범_장르2_노래3', 4, 1)\n",
      "2023-09-06 11:32:06,706 INFO sqlalchemy.engine.Engine SELECT \"T_C\".\"PK\" \n",
      "FROM \"T_C\", \"T_A\" \n",
      "WHERE \"T_A\".\"NAME\" LIKE ?\n",
      "2023-09-06 11:32:06,706 INFO sqlalchemy.engine.Engine [cached since 0.229s ago] ('%2',)\n",
      "2023-09-06 11:32:06,709 INFO sqlalchemy.engine.Engine INSERT INTO \"T_D\" (\"NAME\", \"FK1\", \"FK2\") VALUES (?, ?, ?)\n",
      "2023-09-06 11:32:06,710 INFO sqlalchemy.engine.Engine [cached since 0.2278s ago] ('4앨범_장르2_노래4', 4, 1)\n",
      "2023-09-06 11:32:06,712 INFO sqlalchemy.engine.Engine SELECT \"T_C\".\"PK\" \n",
      "FROM \"T_C\", \"T_A\" \n",
      "WHERE \"T_A\".\"NAME\" LIKE ?\n",
      "2023-09-06 11:32:06,713 INFO sqlalchemy.engine.Engine [cached since 0.2347s ago] ('%3',)\n",
      "2023-09-06 11:32:06,715 INFO sqlalchemy.engine.Engine INSERT INTO \"T_D\" (\"NAME\", \"FK1\", \"FK2\") VALUES (?, ?, ?)\n",
      "2023-09-06 11:32:06,716 INFO sqlalchemy.engine.Engine [cached since 0.2332s ago] ('4앨범_장르3_노래1', 4, 1)\n",
      "2023-09-06 11:32:06,717 INFO sqlalchemy.engine.Engine SELECT \"T_C\".\"PK\" \n",
      "FROM \"T_C\", \"T_A\" \n",
      "WHERE \"T_A\".\"NAME\" LIKE ?\n",
      "2023-09-06 11:32:06,718 INFO sqlalchemy.engine.Engine [cached since 0.2398s ago] ('%3',)\n",
      "2023-09-06 11:32:06,720 INFO sqlalchemy.engine.Engine INSERT INTO \"T_D\" (\"NAME\", \"FK1\", \"FK2\") VALUES (?, ?, ?)\n",
      "2023-09-06 11:32:06,722 INFO sqlalchemy.engine.Engine [cached since 0.2396s ago] ('4앨범_장르3_노래2', 4, 1)\n",
      "2023-09-06 11:32:06,723 INFO sqlalchemy.engine.Engine SELECT \"T_C\".\"PK\" \n",
      "FROM \"T_C\", \"T_A\" \n",
      "WHERE \"T_A\".\"NAME\" LIKE ?\n",
      "2023-09-06 11:32:06,724 INFO sqlalchemy.engine.Engine [cached since 0.2462s ago] ('%3',)\n",
      "2023-09-06 11:32:06,726 INFO sqlalchemy.engine.Engine INSERT INTO \"T_D\" (\"NAME\", \"FK1\", \"FK2\") VALUES (?, ?, ?)\n",
      "2023-09-06 11:32:06,726 INFO sqlalchemy.engine.Engine [cached since 0.2442s ago] ('4앨범_장르3_노래3', 4, 1)\n",
      "2023-09-06 11:32:06,728 INFO sqlalchemy.engine.Engine SELECT \"T_C\".\"PK\" \n",
      "FROM \"T_C\", \"T_A\" \n",
      "WHERE \"T_A\".\"NAME\" LIKE ?\n",
      "2023-09-06 11:32:06,728 INFO sqlalchemy.engine.Engine [cached since 0.2501s ago] ('%3',)\n",
      "2023-09-06 11:32:06,729 INFO sqlalchemy.engine.Engine INSERT INTO \"T_D\" (\"NAME\", \"FK1\", \"FK2\") VALUES (?, ?, ?)\n",
      "2023-09-06 11:32:06,730 INFO sqlalchemy.engine.Engine [cached since 0.2474s ago] ('4앨범_장르3_노래4', 4, 1)\n",
      "2023-09-06 11:32:06,730 INFO sqlalchemy.engine.Engine SELECT \"T_C\".\"PK\" \n",
      "FROM \"T_C\", \"T_A\" \n",
      "WHERE \"T_A\".\"NAME\" LIKE ?\n",
      "2023-09-06 11:32:06,731 INFO sqlalchemy.engine.Engine [cached since 0.2528s ago] ('%4',)\n",
      "2023-09-06 11:32:06,732 INFO sqlalchemy.engine.Engine INSERT INTO \"T_D\" (\"NAME\", \"FK1\", \"FK2\") VALUES (?, ?, ?)\n",
      "2023-09-06 11:32:06,732 INFO sqlalchemy.engine.Engine [cached since 0.2501s ago] ('4앨범_장르4_노래1', 4, 1)\n",
      "2023-09-06 11:32:06,733 INFO sqlalchemy.engine.Engine SELECT \"T_C\".\"PK\" \n",
      "FROM \"T_C\", \"T_A\" \n",
      "WHERE \"T_A\".\"NAME\" LIKE ?\n",
      "2023-09-06 11:32:06,734 INFO sqlalchemy.engine.Engine [cached since 0.2558s ago] ('%4',)\n",
      "2023-09-06 11:32:06,735 INFO sqlalchemy.engine.Engine INSERT INTO \"T_D\" (\"NAME\", \"FK1\", \"FK2\") VALUES (?, ?, ?)\n",
      "2023-09-06 11:32:06,737 INFO sqlalchemy.engine.Engine [cached since 0.2545s ago] ('4앨범_장르4_노래2', 4, 1)\n",
      "2023-09-06 11:32:06,738 INFO sqlalchemy.engine.Engine SELECT \"T_C\".\"PK\" \n",
      "FROM \"T_C\", \"T_A\" \n",
      "WHERE \"T_A\".\"NAME\" LIKE ?\n",
      "2023-09-06 11:32:06,739 INFO sqlalchemy.engine.Engine [cached since 0.261s ago] ('%4',)\n",
      "2023-09-06 11:32:06,740 INFO sqlalchemy.engine.Engine INSERT INTO \"T_D\" (\"NAME\", \"FK1\", \"FK2\") VALUES (?, ?, ?)\n",
      "2023-09-06 11:32:06,741 INFO sqlalchemy.engine.Engine [cached since 0.2592s ago] ('4앨범_장르4_노래3', 4, 1)\n",
      "2023-09-06 11:32:06,742 INFO sqlalchemy.engine.Engine SELECT \"T_C\".\"PK\" \n",
      "FROM \"T_C\", \"T_A\" \n",
      "WHERE \"T_A\".\"NAME\" LIKE ?\n",
      "2023-09-06 11:32:06,743 INFO sqlalchemy.engine.Engine [cached since 0.265s ago] ('%4',)\n",
      "2023-09-06 11:32:06,743 INFO sqlalchemy.engine.Engine INSERT INTO \"T_D\" (\"NAME\", \"FK1\", \"FK2\") VALUES (?, ?, ?)\n",
      "2023-09-06 11:32:06,744 INFO sqlalchemy.engine.Engine [cached since 0.2623s ago] ('4앨범_장르4_노래4', 4, 1)\n",
      "2023-09-06 11:32:06,745 INFO sqlalchemy.engine.Engine SELECT \"T_C\".\"PK\" \n",
      "FROM \"T_C\", \"T_A\" \n",
      "WHERE \"T_A\".\"NAME\" LIKE ?\n",
      "2023-09-06 11:32:06,745 INFO sqlalchemy.engine.Engine [cached since 0.2676s ago] ('%1',)\n",
      "2023-09-06 11:32:06,746 INFO sqlalchemy.engine.Engine INSERT INTO \"T_D\" (\"NAME\", \"FK1\", \"FK2\") VALUES (?, ?, ?)\n",
      "2023-09-06 11:32:06,746 INFO sqlalchemy.engine.Engine [cached since 0.2652s ago] ('5앨범_장르1_노래1', 5, 1)\n",
      "2023-09-06 11:32:06,748 INFO sqlalchemy.engine.Engine SELECT \"T_C\".\"PK\" \n",
      "FROM \"T_C\", \"T_A\" \n",
      "WHERE \"T_A\".\"NAME\" LIKE ?\n",
      "2023-09-06 11:32:06,749 INFO sqlalchemy.engine.Engine [cached since 0.2707s ago] ('%1',)\n",
      "2023-09-06 11:32:06,750 INFO sqlalchemy.engine.Engine INSERT INTO \"T_D\" (\"NAME\", \"FK1\", \"FK2\") VALUES (?, ?, ?)\n",
      "2023-09-06 11:32:06,750 INFO sqlalchemy.engine.Engine [cached since 0.2683s ago] ('5앨범_장르1_노래2', 5, 1)\n",
      "2023-09-06 11:32:06,752 INFO sqlalchemy.engine.Engine SELECT \"T_C\".\"PK\" \n",
      "FROM \"T_C\", \"T_A\" \n",
      "WHERE \"T_A\".\"NAME\" LIKE ?\n",
      "2023-09-06 11:32:06,754 INFO sqlalchemy.engine.Engine [cached since 0.2761s ago] ('%1',)\n",
      "2023-09-06 11:32:06,756 INFO sqlalchemy.engine.Engine INSERT INTO \"T_D\" (\"NAME\", \"FK1\", \"FK2\") VALUES (?, ?, ?)\n",
      "2023-09-06 11:32:06,757 INFO sqlalchemy.engine.Engine [cached since 0.2743s ago] ('5앨범_장르1_노래3', 5, 1)\n",
      "2023-09-06 11:32:06,757 INFO sqlalchemy.engine.Engine SELECT \"T_C\".\"PK\" \n",
      "FROM \"T_C\", \"T_A\" \n",
      "WHERE \"T_A\".\"NAME\" LIKE ?\n",
      "2023-09-06 11:32:06,758 INFO sqlalchemy.engine.Engine [cached since 0.2798s ago] ('%1',)\n",
      "2023-09-06 11:32:06,759 INFO sqlalchemy.engine.Engine INSERT INTO \"T_D\" (\"NAME\", \"FK1\", \"FK2\") VALUES (?, ?, ?)\n",
      "2023-09-06 11:32:06,759 INFO sqlalchemy.engine.Engine [cached since 0.2772s ago] ('5앨범_장르1_노래4', 5, 1)\n",
      "2023-09-06 11:32:06,760 INFO sqlalchemy.engine.Engine SELECT \"T_C\".\"PK\" \n",
      "FROM \"T_C\", \"T_A\" \n",
      "WHERE \"T_A\".\"NAME\" LIKE ?\n",
      "2023-09-06 11:32:06,760 INFO sqlalchemy.engine.Engine [cached since 0.2823s ago] ('%2',)\n",
      "2023-09-06 11:32:06,761 INFO sqlalchemy.engine.Engine INSERT INTO \"T_D\" (\"NAME\", \"FK1\", \"FK2\") VALUES (?, ?, ?)\n",
      "2023-09-06 11:32:06,762 INFO sqlalchemy.engine.Engine [cached since 0.2799s ago] ('5앨범_장르2_노래1', 5, 1)\n",
      "2023-09-06 11:32:06,762 INFO sqlalchemy.engine.Engine SELECT \"T_C\".\"PK\" \n",
      "FROM \"T_C\", \"T_A\" \n",
      "WHERE \"T_A\".\"NAME\" LIKE ?\n",
      "2023-09-06 11:32:06,763 INFO sqlalchemy.engine.Engine [cached since 0.2851s ago] ('%2',)\n",
      "2023-09-06 11:32:06,764 INFO sqlalchemy.engine.Engine INSERT INTO \"T_D\" (\"NAME\", \"FK1\", \"FK2\") VALUES (?, ?, ?)\n",
      "2023-09-06 11:32:06,764 INFO sqlalchemy.engine.Engine [cached since 0.2822s ago] ('5앨범_장르2_노래2', 5, 1)\n",
      "2023-09-06 11:32:06,765 INFO sqlalchemy.engine.Engine SELECT \"T_C\".\"PK\" \n",
      "FROM \"T_C\", \"T_A\" \n",
      "WHERE \"T_A\".\"NAME\" LIKE ?\n",
      "2023-09-06 11:32:06,766 INFO sqlalchemy.engine.Engine [cached since 0.2884s ago] ('%2',)\n",
      "2023-09-06 11:32:06,768 INFO sqlalchemy.engine.Engine INSERT INTO \"T_D\" (\"NAME\", \"FK1\", \"FK2\") VALUES (?, ?, ?)\n",
      "2023-09-06 11:32:06,768 INFO sqlalchemy.engine.Engine [cached since 0.2861s ago] ('5앨범_장르2_노래3', 5, 1)\n",
      "2023-09-06 11:32:06,769 INFO sqlalchemy.engine.Engine SELECT \"T_C\".\"PK\" \n",
      "FROM \"T_C\", \"T_A\" \n",
      "WHERE \"T_A\".\"NAME\" LIKE ?\n",
      "2023-09-06 11:32:06,770 INFO sqlalchemy.engine.Engine [cached since 0.2919s ago] ('%2',)\n",
      "2023-09-06 11:32:06,772 INFO sqlalchemy.engine.Engine INSERT INTO \"T_D\" (\"NAME\", \"FK1\", \"FK2\") VALUES (?, ?, ?)\n",
      "2023-09-06 11:32:06,773 INFO sqlalchemy.engine.Engine [cached since 0.2906s ago] ('5앨범_장르2_노래4', 5, 1)\n",
      "2023-09-06 11:32:06,774 INFO sqlalchemy.engine.Engine SELECT \"T_C\".\"PK\" \n",
      "FROM \"T_C\", \"T_A\" \n",
      "WHERE \"T_A\".\"NAME\" LIKE ?\n",
      "2023-09-06 11:32:06,775 INFO sqlalchemy.engine.Engine [cached since 0.2966s ago] ('%3',)\n",
      "2023-09-06 11:32:06,776 INFO sqlalchemy.engine.Engine INSERT INTO \"T_D\" (\"NAME\", \"FK1\", \"FK2\") VALUES (?, ?, ?)\n",
      "2023-09-06 11:32:06,777 INFO sqlalchemy.engine.Engine [cached since 0.2943s ago] ('5앨범_장르3_노래1', 5, 1)\n",
      "2023-09-06 11:32:06,777 INFO sqlalchemy.engine.Engine SELECT \"T_C\".\"PK\" \n",
      "FROM \"T_C\", \"T_A\" \n",
      "WHERE \"T_A\".\"NAME\" LIKE ?\n",
      "2023-09-06 11:32:06,778 INFO sqlalchemy.engine.Engine [cached since 0.2995s ago] ('%3',)\n",
      "2023-09-06 11:32:06,779 INFO sqlalchemy.engine.Engine INSERT INTO \"T_D\" (\"NAME\", \"FK1\", \"FK2\") VALUES (?, ?, ?)\n",
      "2023-09-06 11:32:06,779 INFO sqlalchemy.engine.Engine [cached since 0.297s ago] ('5앨범_장르3_노래2', 5, 1)\n",
      "2023-09-06 11:32:06,780 INFO sqlalchemy.engine.Engine SELECT \"T_C\".\"PK\" \n",
      "FROM \"T_C\", \"T_A\" \n",
      "WHERE \"T_A\".\"NAME\" LIKE ?\n",
      "2023-09-06 11:32:06,781 INFO sqlalchemy.engine.Engine [cached since 0.3025s ago] ('%3',)\n",
      "2023-09-06 11:32:06,782 INFO sqlalchemy.engine.Engine INSERT INTO \"T_D\" (\"NAME\", \"FK1\", \"FK2\") VALUES (?, ?, ?)\n",
      "2023-09-06 11:32:06,783 INFO sqlalchemy.engine.Engine [cached since 0.3006s ago] ('5앨범_장르3_노래3', 5, 1)\n",
      "2023-09-06 11:32:06,784 INFO sqlalchemy.engine.Engine SELECT \"T_C\".\"PK\" \n",
      "FROM \"T_C\", \"T_A\" \n",
      "WHERE \"T_A\".\"NAME\" LIKE ?\n",
      "2023-09-06 11:32:06,785 INFO sqlalchemy.engine.Engine [cached since 0.3068s ago] ('%3',)\n",
      "2023-09-06 11:32:06,787 INFO sqlalchemy.engine.Engine INSERT INTO \"T_D\" (\"NAME\", \"FK1\", \"FK2\") VALUES (?, ?, ?)\n",
      "2023-09-06 11:32:06,788 INFO sqlalchemy.engine.Engine [cached since 0.3056s ago] ('5앨범_장르3_노래4', 5, 1)\n",
      "2023-09-06 11:32:06,788 INFO sqlalchemy.engine.Engine SELECT \"T_C\".\"PK\" \n",
      "FROM \"T_C\", \"T_A\" \n",
      "WHERE \"T_A\".\"NAME\" LIKE ?\n",
      "2023-09-06 11:32:06,789 INFO sqlalchemy.engine.Engine [cached since 0.311s ago] ('%4',)\n",
      "2023-09-06 11:32:06,790 INFO sqlalchemy.engine.Engine INSERT INTO \"T_D\" (\"NAME\", \"FK1\", \"FK2\") VALUES (?, ?, ?)\n",
      "2023-09-06 11:32:06,790 INFO sqlalchemy.engine.Engine [cached since 0.3083s ago] ('5앨범_장르4_노래1', 5, 1)\n",
      "2023-09-06 11:32:06,791 INFO sqlalchemy.engine.Engine SELECT \"T_C\".\"PK\" \n",
      "FROM \"T_C\", \"T_A\" \n",
      "WHERE \"T_A\".\"NAME\" LIKE ?\n",
      "2023-09-06 11:32:06,792 INFO sqlalchemy.engine.Engine [cached since 0.3138s ago] ('%4',)\n",
      "2023-09-06 11:32:06,792 INFO sqlalchemy.engine.Engine INSERT INTO \"T_D\" (\"NAME\", \"FK1\", \"FK2\") VALUES (?, ?, ?)\n",
      "2023-09-06 11:32:06,793 INFO sqlalchemy.engine.Engine [cached since 0.3109s ago] ('5앨범_장르4_노래2', 5, 1)\n",
      "2023-09-06 11:32:06,793 INFO sqlalchemy.engine.Engine SELECT \"T_C\".\"PK\" \n",
      "FROM \"T_C\", \"T_A\" \n",
      "WHERE \"T_A\".\"NAME\" LIKE ?\n",
      "2023-09-06 11:32:06,795 INFO sqlalchemy.engine.Engine [cached since 0.3168s ago] ('%4',)\n",
      "2023-09-06 11:32:06,796 INFO sqlalchemy.engine.Engine INSERT INTO \"T_D\" (\"NAME\", \"FK1\", \"FK2\") VALUES (?, ?, ?)\n",
      "2023-09-06 11:32:06,798 INFO sqlalchemy.engine.Engine [cached since 0.3156s ago] ('5앨범_장르4_노래3', 5, 1)\n",
      "2023-09-06 11:32:06,800 INFO sqlalchemy.engine.Engine SELECT \"T_C\".\"PK\" \n",
      "FROM \"T_C\", \"T_A\" \n",
      "WHERE \"T_A\".\"NAME\" LIKE ?\n",
      "2023-09-06 11:32:06,801 INFO sqlalchemy.engine.Engine [cached since 0.3225s ago] ('%4',)\n",
      "2023-09-06 11:32:06,803 INFO sqlalchemy.engine.Engine INSERT INTO \"T_D\" (\"NAME\", \"FK1\", \"FK2\") VALUES (?, ?, ?)\n",
      "2023-09-06 11:32:06,804 INFO sqlalchemy.engine.Engine [cached since 0.3212s ago] ('5앨범_장르4_노래4', 5, 1)\n",
      "2023-09-06 11:32:06,805 INFO sqlalchemy.engine.Engine SELECT \"T_C\".\"PK\" \n",
      "FROM \"T_C\", \"T_A\" \n",
      "WHERE \"T_A\".\"NAME\" LIKE ?\n",
      "2023-09-06 11:32:06,806 INFO sqlalchemy.engine.Engine [cached since 0.3279s ago] ('%1',)\n",
      "2023-09-06 11:32:06,808 INFO sqlalchemy.engine.Engine INSERT INTO \"T_D\" (\"NAME\", \"FK1\", \"FK2\") VALUES (?, ?, ?)\n",
      "2023-09-06 11:32:06,809 INFO sqlalchemy.engine.Engine [cached since 0.327s ago] ('6앨범_장르1_노래1', 6, 1)\n",
      "2023-09-06 11:32:06,810 INFO sqlalchemy.engine.Engine SELECT \"T_C\".\"PK\" \n",
      "FROM \"T_C\", \"T_A\" \n",
      "WHERE \"T_A\".\"NAME\" LIKE ?\n",
      "2023-09-06 11:32:06,812 INFO sqlalchemy.engine.Engine [cached since 0.3342s ago] ('%1',)\n",
      "2023-09-06 11:32:06,814 INFO sqlalchemy.engine.Engine INSERT INTO \"T_D\" (\"NAME\", \"FK1\", \"FK2\") VALUES (?, ?, ?)\n",
      "2023-09-06 11:32:06,815 INFO sqlalchemy.engine.Engine [cached since 0.3332s ago] ('6앨범_장르1_노래2', 6, 1)\n",
      "2023-09-06 11:32:06,816 INFO sqlalchemy.engine.Engine SELECT \"T_C\".\"PK\" \n",
      "FROM \"T_C\", \"T_A\" \n",
      "WHERE \"T_A\".\"NAME\" LIKE ?\n",
      "2023-09-06 11:32:06,819 INFO sqlalchemy.engine.Engine [cached since 0.3402s ago] ('%1',)\n",
      "2023-09-06 11:32:06,821 INFO sqlalchemy.engine.Engine INSERT INTO \"T_D\" (\"NAME\", \"FK1\", \"FK2\") VALUES (?, ?, ?)\n",
      "2023-09-06 11:32:06,823 INFO sqlalchemy.engine.Engine [cached since 0.3402s ago] ('6앨범_장르1_노래3', 6, 1)\n",
      "2023-09-06 11:32:06,824 INFO sqlalchemy.engine.Engine SELECT \"T_C\".\"PK\" \n",
      "FROM \"T_C\", \"T_A\" \n",
      "WHERE \"T_A\".\"NAME\" LIKE ?\n",
      "2023-09-06 11:32:06,825 INFO sqlalchemy.engine.Engine [cached since 0.3467s ago] ('%1',)\n",
      "2023-09-06 11:32:06,826 INFO sqlalchemy.engine.Engine INSERT INTO \"T_D\" (\"NAME\", \"FK1\", \"FK2\") VALUES (?, ?, ?)\n",
      "2023-09-06 11:32:06,827 INFO sqlalchemy.engine.Engine [cached since 0.3448s ago] ('6앨범_장르1_노래4', 6, 1)\n",
      "2023-09-06 11:32:06,828 INFO sqlalchemy.engine.Engine SELECT \"T_C\".\"PK\" \n",
      "FROM \"T_C\", \"T_A\" \n",
      "WHERE \"T_A\".\"NAME\" LIKE ?\n",
      "2023-09-06 11:32:06,828 INFO sqlalchemy.engine.Engine [cached since 0.35s ago] ('%2',)\n",
      "2023-09-06 11:32:06,829 INFO sqlalchemy.engine.Engine INSERT INTO \"T_D\" (\"NAME\", \"FK1\", \"FK2\") VALUES (?, ?, ?)\n",
      "2023-09-06 11:32:06,829 INFO sqlalchemy.engine.Engine [cached since 0.347s ago] ('6앨범_장르2_노래1', 6, 1)\n",
      "2023-09-06 11:32:06,830 INFO sqlalchemy.engine.Engine SELECT \"T_C\".\"PK\" \n",
      "FROM \"T_C\", \"T_A\" \n",
      "WHERE \"T_A\".\"NAME\" LIKE ?\n",
      "2023-09-06 11:32:06,830 INFO sqlalchemy.engine.Engine [cached since 0.3521s ago] ('%2',)\n",
      "2023-09-06 11:32:06,831 INFO sqlalchemy.engine.Engine INSERT INTO \"T_D\" (\"NAME\", \"FK1\", \"FK2\") VALUES (?, ?, ?)\n",
      "2023-09-06 11:32:06,831 INFO sqlalchemy.engine.Engine [cached since 0.3494s ago] ('6앨범_장르2_노래2', 6, 1)\n",
      "2023-09-06 11:32:06,833 INFO sqlalchemy.engine.Engine SELECT \"T_C\".\"PK\" \n",
      "FROM \"T_C\", \"T_A\" \n",
      "WHERE \"T_A\".\"NAME\" LIKE ?\n",
      "2023-09-06 11:32:06,834 INFO sqlalchemy.engine.Engine [cached since 0.3558s ago] ('%2',)\n",
      "2023-09-06 11:32:06,835 INFO sqlalchemy.engine.Engine INSERT INTO \"T_D\" (\"NAME\", \"FK1\", \"FK2\") VALUES (?, ?, ?)\n",
      "2023-09-06 11:32:06,836 INFO sqlalchemy.engine.Engine [cached since 0.3545s ago] ('6앨범_장르2_노래3', 6, 1)\n",
      "2023-09-06 11:32:06,839 INFO sqlalchemy.engine.Engine SELECT \"T_C\".\"PK\" \n",
      "FROM \"T_C\", \"T_A\" \n",
      "WHERE \"T_A\".\"NAME\" LIKE ?\n",
      "2023-09-06 11:32:06,839 INFO sqlalchemy.engine.Engine [cached since 0.3612s ago] ('%2',)\n",
      "2023-09-06 11:32:06,841 INFO sqlalchemy.engine.Engine INSERT INTO \"T_D\" (\"NAME\", \"FK1\", \"FK2\") VALUES (?, ?, ?)\n",
      "2023-09-06 11:32:06,842 INFO sqlalchemy.engine.Engine [cached since 0.3595s ago] ('6앨범_장르2_노래4', 6, 1)\n",
      "2023-09-06 11:32:06,843 INFO sqlalchemy.engine.Engine SELECT \"T_C\".\"PK\" \n",
      "FROM \"T_C\", \"T_A\" \n",
      "WHERE \"T_A\".\"NAME\" LIKE ?\n",
      "2023-09-06 11:32:06,844 INFO sqlalchemy.engine.Engine [cached since 0.3657s ago] ('%3',)\n",
      "2023-09-06 11:32:06,845 INFO sqlalchemy.engine.Engine INSERT INTO \"T_D\" (\"NAME\", \"FK1\", \"FK2\") VALUES (?, ?, ?)\n",
      "2023-09-06 11:32:06,846 INFO sqlalchemy.engine.Engine [cached since 0.3634s ago] ('6앨범_장르3_노래1', 6, 1)\n",
      "2023-09-06 11:32:06,846 INFO sqlalchemy.engine.Engine SELECT \"T_C\".\"PK\" \n",
      "FROM \"T_C\", \"T_A\" \n",
      "WHERE \"T_A\".\"NAME\" LIKE ?\n",
      "2023-09-06 11:32:06,847 INFO sqlalchemy.engine.Engine [cached since 0.3688s ago] ('%3',)\n",
      "2023-09-06 11:32:06,848 INFO sqlalchemy.engine.Engine INSERT INTO \"T_D\" (\"NAME\", \"FK1\", \"FK2\") VALUES (?, ?, ?)\n",
      "2023-09-06 11:32:06,848 INFO sqlalchemy.engine.Engine [cached since 0.3666s ago] ('6앨범_장르3_노래2', 6, 1)\n",
      "2023-09-06 11:32:06,849 INFO sqlalchemy.engine.Engine SELECT \"T_C\".\"PK\" \n",
      "FROM \"T_C\", \"T_A\" \n",
      "WHERE \"T_A\".\"NAME\" LIKE ?\n",
      "2023-09-06 11:32:06,850 INFO sqlalchemy.engine.Engine [cached since 0.3724s ago] ('%3',)\n",
      "2023-09-06 11:32:06,851 INFO sqlalchemy.engine.Engine INSERT INTO \"T_D\" (\"NAME\", \"FK1\", \"FK2\") VALUES (?, ?, ?)\n",
      "2023-09-06 11:32:06,853 INFO sqlalchemy.engine.Engine [cached since 0.3709s ago] ('6앨범_장르3_노래3', 6, 1)\n",
      "2023-09-06 11:32:06,854 INFO sqlalchemy.engine.Engine SELECT \"T_C\".\"PK\" \n",
      "FROM \"T_C\", \"T_A\" \n",
      "WHERE \"T_A\".\"NAME\" LIKE ?\n",
      "2023-09-06 11:32:06,854 INFO sqlalchemy.engine.Engine [cached since 0.3766s ago] ('%3',)\n",
      "2023-09-06 11:32:06,855 INFO sqlalchemy.engine.Engine INSERT INTO \"T_D\" (\"NAME\", \"FK1\", \"FK2\") VALUES (?, ?, ?)\n",
      "2023-09-06 11:32:06,856 INFO sqlalchemy.engine.Engine [cached since 0.3739s ago] ('6앨범_장르3_노래4', 6, 1)\n",
      "2023-09-06 11:32:06,856 INFO sqlalchemy.engine.Engine SELECT \"T_C\".\"PK\" \n",
      "FROM \"T_C\", \"T_A\" \n",
      "WHERE \"T_A\".\"NAME\" LIKE ?\n",
      "2023-09-06 11:32:06,856 INFO sqlalchemy.engine.Engine [cached since 0.379s ago] ('%4',)\n",
      "2023-09-06 11:32:06,858 INFO sqlalchemy.engine.Engine INSERT INTO \"T_D\" (\"NAME\", \"FK1\", \"FK2\") VALUES (?, ?, ?)\n",
      "2023-09-06 11:32:06,859 INFO sqlalchemy.engine.Engine [cached since 0.3763s ago] ('6앨범_장르4_노래1', 6, 1)\n",
      "2023-09-06 11:32:06,859 INFO sqlalchemy.engine.Engine SELECT \"T_C\".\"PK\" \n",
      "FROM \"T_C\", \"T_A\" \n",
      "WHERE \"T_A\".\"NAME\" LIKE ?\n",
      "2023-09-06 11:32:06,860 INFO sqlalchemy.engine.Engine [cached since 0.3817s ago] ('%4',)\n",
      "2023-09-06 11:32:06,861 INFO sqlalchemy.engine.Engine INSERT INTO \"T_D\" (\"NAME\", \"FK1\", \"FK2\") VALUES (?, ?, ?)\n",
      "2023-09-06 11:32:06,861 INFO sqlalchemy.engine.Engine [cached since 0.379s ago] ('6앨범_장르4_노래2', 6, 1)\n",
      "2023-09-06 11:32:06,862 INFO sqlalchemy.engine.Engine SELECT \"T_C\".\"PK\" \n",
      "FROM \"T_C\", \"T_A\" \n",
      "WHERE \"T_A\".\"NAME\" LIKE ?\n",
      "2023-09-06 11:32:06,863 INFO sqlalchemy.engine.Engine [cached since 0.3846s ago] ('%4',)\n",
      "2023-09-06 11:32:06,864 INFO sqlalchemy.engine.Engine INSERT INTO \"T_D\" (\"NAME\", \"FK1\", \"FK2\") VALUES (?, ?, ?)\n",
      "2023-09-06 11:32:06,864 INFO sqlalchemy.engine.Engine [cached since 0.3822s ago] ('6앨범_장르4_노래3', 6, 1)\n",
      "2023-09-06 11:32:06,865 INFO sqlalchemy.engine.Engine SELECT \"T_C\".\"PK\" \n",
      "FROM \"T_C\", \"T_A\" \n",
      "WHERE \"T_A\".\"NAME\" LIKE ?\n",
      "2023-09-06 11:32:06,866 INFO sqlalchemy.engine.Engine [cached since 0.3875s ago] ('%4',)\n",
      "2023-09-06 11:32:06,867 INFO sqlalchemy.engine.Engine INSERT INTO \"T_D\" (\"NAME\", \"FK1\", \"FK2\") VALUES (?, ?, ?)\n",
      "2023-09-06 11:32:06,867 INFO sqlalchemy.engine.Engine [cached since 0.3851s ago] ('6앨범_장르4_노래4', 6, 1)\n",
      "2023-09-06 11:32:06,868 INFO sqlalchemy.engine.Engine SELECT \"T_C\".\"PK\" \n",
      "FROM \"T_C\", \"T_A\" \n",
      "WHERE \"T_A\".\"NAME\" LIKE ?\n",
      "2023-09-06 11:32:06,869 INFO sqlalchemy.engine.Engine [cached since 0.3909s ago] ('%1',)\n",
      "2023-09-06 11:32:06,871 INFO sqlalchemy.engine.Engine INSERT INTO \"T_D\" (\"NAME\", \"FK1\", \"FK2\") VALUES (?, ?, ?)\n",
      "2023-09-06 11:32:06,872 INFO sqlalchemy.engine.Engine [cached since 0.3899s ago] ('7앨범_장르1_노래1', 7, 1)\n",
      "2023-09-06 11:32:06,873 INFO sqlalchemy.engine.Engine SELECT \"T_C\".\"PK\" \n",
      "FROM \"T_C\", \"T_A\" \n",
      "WHERE \"T_A\".\"NAME\" LIKE ?\n",
      "2023-09-06 11:32:06,873 INFO sqlalchemy.engine.Engine [cached since 0.3954s ago] ('%1',)\n",
      "2023-09-06 11:32:06,874 INFO sqlalchemy.engine.Engine INSERT INTO \"T_D\" (\"NAME\", \"FK1\", \"FK2\") VALUES (?, ?, ?)\n",
      "2023-09-06 11:32:06,875 INFO sqlalchemy.engine.Engine [cached since 0.3929s ago] ('7앨범_장르1_노래2', 7, 1)\n",
      "2023-09-06 11:32:06,875 INFO sqlalchemy.engine.Engine SELECT \"T_C\".\"PK\" \n",
      "FROM \"T_C\", \"T_A\" \n",
      "WHERE \"T_A\".\"NAME\" LIKE ?\n",
      "2023-09-06 11:32:06,876 INFO sqlalchemy.engine.Engine [cached since 0.398s ago] ('%1',)\n",
      "2023-09-06 11:32:06,876 INFO sqlalchemy.engine.Engine INSERT INTO \"T_D\" (\"NAME\", \"FK1\", \"FK2\") VALUES (?, ?, ?)\n",
      "2023-09-06 11:32:06,878 INFO sqlalchemy.engine.Engine [cached since 0.3956s ago] ('7앨범_장르1_노래3', 7, 1)\n",
      "2023-09-06 11:32:06,879 INFO sqlalchemy.engine.Engine SELECT \"T_C\".\"PK\" \n",
      "FROM \"T_C\", \"T_A\" \n",
      "WHERE \"T_A\".\"NAME\" LIKE ?\n",
      "2023-09-06 11:32:06,879 INFO sqlalchemy.engine.Engine [cached since 0.401s ago] ('%1',)\n",
      "2023-09-06 11:32:06,880 INFO sqlalchemy.engine.Engine INSERT INTO \"T_D\" (\"NAME\", \"FK1\", \"FK2\") VALUES (?, ?, ?)\n",
      "2023-09-06 11:32:06,881 INFO sqlalchemy.engine.Engine [cached since 0.3982s ago] ('7앨범_장르1_노래4', 7, 1)\n",
      "2023-09-06 11:32:06,881 INFO sqlalchemy.engine.Engine SELECT \"T_C\".\"PK\" \n",
      "FROM \"T_C\", \"T_A\" \n",
      "WHERE \"T_A\".\"NAME\" LIKE ?\n",
      "2023-09-06 11:32:06,882 INFO sqlalchemy.engine.Engine [cached since 0.4034s ago] ('%2',)\n",
      "2023-09-06 11:32:06,883 INFO sqlalchemy.engine.Engine INSERT INTO \"T_D\" (\"NAME\", \"FK1\", \"FK2\") VALUES (?, ?, ?)\n",
      "2023-09-06 11:32:06,884 INFO sqlalchemy.engine.Engine [cached since 0.4015s ago] ('7앨범_장르2_노래1', 7, 1)\n",
      "2023-09-06 11:32:06,885 INFO sqlalchemy.engine.Engine SELECT \"T_C\".\"PK\" \n",
      "FROM \"T_C\", \"T_A\" \n",
      "WHERE \"T_A\".\"NAME\" LIKE ?\n",
      "2023-09-06 11:32:06,886 INFO sqlalchemy.engine.Engine [cached since 0.4082s ago] ('%2',)\n",
      "2023-09-06 11:32:06,888 INFO sqlalchemy.engine.Engine INSERT INTO \"T_D\" (\"NAME\", \"FK1\", \"FK2\") VALUES (?, ?, ?)\n",
      "2023-09-06 11:32:06,888 INFO sqlalchemy.engine.Engine [cached since 0.4058s ago] ('7앨범_장르2_노래2', 7, 1)\n",
      "2023-09-06 11:32:06,889 INFO sqlalchemy.engine.Engine SELECT \"T_C\".\"PK\" \n",
      "FROM \"T_C\", \"T_A\" \n",
      "WHERE \"T_A\".\"NAME\" LIKE ?\n",
      "2023-09-06 11:32:06,889 INFO sqlalchemy.engine.Engine [cached since 0.4113s ago] ('%2',)\n",
      "2023-09-06 11:32:06,890 INFO sqlalchemy.engine.Engine INSERT INTO \"T_D\" (\"NAME\", \"FK1\", \"FK2\") VALUES (?, ?, ?)\n",
      "2023-09-06 11:32:06,891 INFO sqlalchemy.engine.Engine [cached since 0.4088s ago] ('7앨범_장르2_노래3', 7, 1)\n",
      "2023-09-06 11:32:06,891 INFO sqlalchemy.engine.Engine SELECT \"T_C\".\"PK\" \n",
      "FROM \"T_C\", \"T_A\" \n",
      "WHERE \"T_A\".\"NAME\" LIKE ?\n",
      "2023-09-06 11:32:06,892 INFO sqlalchemy.engine.Engine [cached since 0.4138s ago] ('%2',)\n",
      "2023-09-06 11:32:06,893 INFO sqlalchemy.engine.Engine INSERT INTO \"T_D\" (\"NAME\", \"FK1\", \"FK2\") VALUES (?, ?, ?)\n",
      "2023-09-06 11:32:06,893 INFO sqlalchemy.engine.Engine [cached since 0.4113s ago] ('7앨범_장르2_노래4', 7, 1)\n",
      "2023-09-06 11:32:06,894 INFO sqlalchemy.engine.Engine SELECT \"T_C\".\"PK\" \n",
      "FROM \"T_C\", \"T_A\" \n",
      "WHERE \"T_A\".\"NAME\" LIKE ?\n",
      "2023-09-06 11:32:06,894 INFO sqlalchemy.engine.Engine [cached since 0.4166s ago] ('%3',)\n",
      "2023-09-06 11:32:06,895 INFO sqlalchemy.engine.Engine INSERT INTO \"T_D\" (\"NAME\", \"FK1\", \"FK2\") VALUES (?, ?, ?)\n",
      "2023-09-06 11:32:06,896 INFO sqlalchemy.engine.Engine [cached since 0.4141s ago] ('7앨범_장르3_노래1', 7, 1)\n",
      "2023-09-06 11:32:06,896 INFO sqlalchemy.engine.Engine SELECT \"T_C\".\"PK\" \n",
      "FROM \"T_C\", \"T_A\" \n",
      "WHERE \"T_A\".\"NAME\" LIKE ?\n",
      "2023-09-06 11:32:06,898 INFO sqlalchemy.engine.Engine [cached since 0.4194s ago] ('%3',)\n",
      "2023-09-06 11:32:06,899 INFO sqlalchemy.engine.Engine INSERT INTO \"T_D\" (\"NAME\", \"FK1\", \"FK2\") VALUES (?, ?, ?)\n",
      "2023-09-06 11:32:06,900 INFO sqlalchemy.engine.Engine [cached since 0.4173s ago] ('7앨범_장르3_노래2', 7, 1)\n",
      "2023-09-06 11:32:06,901 INFO sqlalchemy.engine.Engine SELECT \"T_C\".\"PK\" \n",
      "FROM \"T_C\", \"T_A\" \n",
      "WHERE \"T_A\".\"NAME\" LIKE ?\n",
      "2023-09-06 11:32:06,901 INFO sqlalchemy.engine.Engine [cached since 0.4229s ago] ('%3',)\n",
      "2023-09-06 11:32:06,904 INFO sqlalchemy.engine.Engine INSERT INTO \"T_D\" (\"NAME\", \"FK1\", \"FK2\") VALUES (?, ?, ?)\n",
      "2023-09-06 11:32:06,905 INFO sqlalchemy.engine.Engine [cached since 0.4223s ago] ('7앨범_장르3_노래3', 7, 1)\n",
      "2023-09-06 11:32:06,906 INFO sqlalchemy.engine.Engine SELECT \"T_C\".\"PK\" \n",
      "FROM \"T_C\", \"T_A\" \n",
      "WHERE \"T_A\".\"NAME\" LIKE ?\n",
      "2023-09-06 11:32:06,906 INFO sqlalchemy.engine.Engine [cached since 0.4282s ago] ('%3',)\n",
      "2023-09-06 11:32:06,908 INFO sqlalchemy.engine.Engine INSERT INTO \"T_D\" (\"NAME\", \"FK1\", \"FK2\") VALUES (?, ?, ?)\n",
      "2023-09-06 11:32:06,908 INFO sqlalchemy.engine.Engine [cached since 0.426s ago] ('7앨범_장르3_노래4', 7, 1)\n",
      "2023-09-06 11:32:06,909 INFO sqlalchemy.engine.Engine SELECT \"T_C\".\"PK\" \n",
      "FROM \"T_C\", \"T_A\" \n",
      "WHERE \"T_A\".\"NAME\" LIKE ?\n",
      "2023-09-06 11:32:06,910 INFO sqlalchemy.engine.Engine [cached since 0.4318s ago] ('%4',)\n",
      "2023-09-06 11:32:06,910 INFO sqlalchemy.engine.Engine INSERT INTO \"T_D\" (\"NAME\", \"FK1\", \"FK2\") VALUES (?, ?, ?)\n",
      "2023-09-06 11:32:06,911 INFO sqlalchemy.engine.Engine [cached since 0.4292s ago] ('7앨범_장르4_노래1', 7, 1)\n",
      "2023-09-06 11:32:06,912 INFO sqlalchemy.engine.Engine SELECT \"T_C\".\"PK\" \n",
      "FROM \"T_C\", \"T_A\" \n",
      "WHERE \"T_A\".\"NAME\" LIKE ?\n",
      "2023-09-06 11:32:06,913 INFO sqlalchemy.engine.Engine [cached since 0.4348s ago] ('%4',)\n",
      "2023-09-06 11:32:06,913 INFO sqlalchemy.engine.Engine INSERT INTO \"T_D\" (\"NAME\", \"FK1\", \"FK2\") VALUES (?, ?, ?)\n",
      "2023-09-06 11:32:06,914 INFO sqlalchemy.engine.Engine [cached since 0.4319s ago] ('7앨범_장르4_노래2', 7, 1)\n",
      "2023-09-06 11:32:06,914 INFO sqlalchemy.engine.Engine SELECT \"T_C\".\"PK\" \n",
      "FROM \"T_C\", \"T_A\" \n",
      "WHERE \"T_A\".\"NAME\" LIKE ?\n",
      "2023-09-06 11:32:06,915 INFO sqlalchemy.engine.Engine [cached since 0.4373s ago] ('%4',)\n",
      "2023-09-06 11:32:06,916 INFO sqlalchemy.engine.Engine INSERT INTO \"T_D\" (\"NAME\", \"FK1\", \"FK2\") VALUES (?, ?, ?)\n",
      "2023-09-06 11:32:06,916 INFO sqlalchemy.engine.Engine [cached since 0.435s ago] ('7앨범_장르4_노래3', 7, 1)\n",
      "2023-09-06 11:32:06,919 INFO sqlalchemy.engine.Engine SELECT \"T_C\".\"PK\" \n",
      "FROM \"T_C\", \"T_A\" \n",
      "WHERE \"T_A\".\"NAME\" LIKE ?\n",
      "2023-09-06 11:32:06,920 INFO sqlalchemy.engine.Engine [cached since 0.4416s ago] ('%4',)\n",
      "2023-09-06 11:32:06,921 INFO sqlalchemy.engine.Engine INSERT INTO \"T_D\" (\"NAME\", \"FK1\", \"FK2\") VALUES (?, ?, ?)\n",
      "2023-09-06 11:32:06,922 INFO sqlalchemy.engine.Engine [cached since 0.4395s ago] ('7앨범_장르4_노래4', 7, 1)\n",
      "2023-09-06 11:32:06,923 INFO sqlalchemy.engine.Engine SELECT \"T_C\".\"PK\" \n",
      "FROM \"T_C\", \"T_A\" \n",
      "WHERE \"T_A\".\"NAME\" LIKE ?\n",
      "2023-09-06 11:32:06,923 INFO sqlalchemy.engine.Engine [cached since 0.4449s ago] ('%1',)\n",
      "2023-09-06 11:32:06,924 INFO sqlalchemy.engine.Engine INSERT INTO \"T_D\" (\"NAME\", \"FK1\", \"FK2\") VALUES (?, ?, ?)\n",
      "2023-09-06 11:32:06,924 INFO sqlalchemy.engine.Engine [cached since 0.4421s ago] ('8앨범_장르1_노래1', 8, 1)\n",
      "2023-09-06 11:32:06,925 INFO sqlalchemy.engine.Engine SELECT \"T_C\".\"PK\" \n",
      "FROM \"T_C\", \"T_A\" \n",
      "WHERE \"T_A\".\"NAME\" LIKE ?\n",
      "2023-09-06 11:32:06,926 INFO sqlalchemy.engine.Engine [cached since 0.4475s ago] ('%1',)\n",
      "2023-09-06 11:32:06,926 INFO sqlalchemy.engine.Engine INSERT INTO \"T_D\" (\"NAME\", \"FK1\", \"FK2\") VALUES (?, ?, ?)\n",
      "2023-09-06 11:32:06,927 INFO sqlalchemy.engine.Engine [cached since 0.4445s ago] ('8앨범_장르1_노래2', 8, 1)\n",
      "2023-09-06 11:32:06,927 INFO sqlalchemy.engine.Engine SELECT \"T_C\".\"PK\" \n",
      "FROM \"T_C\", \"T_A\" \n",
      "WHERE \"T_A\".\"NAME\" LIKE ?\n",
      "2023-09-06 11:32:06,928 INFO sqlalchemy.engine.Engine [cached since 0.4498s ago] ('%1',)\n",
      "2023-09-06 11:32:06,929 INFO sqlalchemy.engine.Engine INSERT INTO \"T_D\" (\"NAME\", \"FK1\", \"FK2\") VALUES (?, ?, ?)\n",
      "2023-09-06 11:32:06,929 INFO sqlalchemy.engine.Engine [cached since 0.4468s ago] ('8앨범_장르1_노래3', 8, 1)\n",
      "2023-09-06 11:32:06,930 INFO sqlalchemy.engine.Engine SELECT \"T_C\".\"PK\" \n",
      "FROM \"T_C\", \"T_A\" \n",
      "WHERE \"T_A\".\"NAME\" LIKE ?\n",
      "2023-09-06 11:32:06,930 INFO sqlalchemy.engine.Engine [cached since 0.4521s ago] ('%1',)\n",
      "2023-09-06 11:32:06,931 INFO sqlalchemy.engine.Engine INSERT INTO \"T_D\" (\"NAME\", \"FK1\", \"FK2\") VALUES (?, ?, ?)\n",
      "2023-09-06 11:32:06,932 INFO sqlalchemy.engine.Engine [cached since 0.4495s ago] ('8앨범_장르1_노래4', 8, 1)\n",
      "2023-09-06 11:32:06,933 INFO sqlalchemy.engine.Engine SELECT \"T_C\".\"PK\" \n",
      "FROM \"T_C\", \"T_A\" \n",
      "WHERE \"T_A\".\"NAME\" LIKE ?\n",
      "2023-09-06 11:32:06,934 INFO sqlalchemy.engine.Engine [cached since 0.4553s ago] ('%2',)\n",
      "2023-09-06 11:32:06,935 INFO sqlalchemy.engine.Engine INSERT INTO \"T_D\" (\"NAME\", \"FK1\", \"FK2\") VALUES (?, ?, ?)\n",
      "2023-09-06 11:32:06,935 INFO sqlalchemy.engine.Engine [cached since 0.4531s ago] ('8앨범_장르2_노래1', 8, 1)\n",
      "2023-09-06 11:32:06,937 INFO sqlalchemy.engine.Engine SELECT \"T_C\".\"PK\" \n",
      "FROM \"T_C\", \"T_A\" \n",
      "WHERE \"T_A\".\"NAME\" LIKE ?\n",
      "2023-09-06 11:32:06,938 INFO sqlalchemy.engine.Engine [cached since 0.46s ago] ('%2',)\n",
      "2023-09-06 11:32:06,939 INFO sqlalchemy.engine.Engine INSERT INTO \"T_D\" (\"NAME\", \"FK1\", \"FK2\") VALUES (?, ?, ?)\n",
      "2023-09-06 11:32:06,939 INFO sqlalchemy.engine.Engine [cached since 0.4572s ago] ('8앨범_장르2_노래2', 8, 1)\n",
      "2023-09-06 11:32:06,940 INFO sqlalchemy.engine.Engine SELECT \"T_C\".\"PK\" \n",
      "FROM \"T_C\", \"T_A\" \n",
      "WHERE \"T_A\".\"NAME\" LIKE ?\n",
      "2023-09-06 11:32:06,941 INFO sqlalchemy.engine.Engine [cached since 0.4626s ago] ('%2',)\n",
      "2023-09-06 11:32:06,942 INFO sqlalchemy.engine.Engine INSERT INTO \"T_D\" (\"NAME\", \"FK1\", \"FK2\") VALUES (?, ?, ?)\n",
      "2023-09-06 11:32:06,942 INFO sqlalchemy.engine.Engine [cached since 0.4601s ago] ('8앨범_장르2_노래3', 8, 1)\n",
      "2023-09-06 11:32:06,943 INFO sqlalchemy.engine.Engine SELECT \"T_C\".\"PK\" \n",
      "FROM \"T_C\", \"T_A\" \n",
      "WHERE \"T_A\".\"NAME\" LIKE ?\n",
      "2023-09-06 11:32:06,943 INFO sqlalchemy.engine.Engine [cached since 0.4655s ago] ('%2',)\n",
      "2023-09-06 11:32:06,944 INFO sqlalchemy.engine.Engine INSERT INTO \"T_D\" (\"NAME\", \"FK1\", \"FK2\") VALUES (?, ?, ?)\n",
      "2023-09-06 11:32:06,945 INFO sqlalchemy.engine.Engine [cached since 0.4627s ago] ('8앨범_장르2_노래4', 8, 1)\n",
      "2023-09-06 11:32:06,946 INFO sqlalchemy.engine.Engine SELECT \"T_C\".\"PK\" \n",
      "FROM \"T_C\", \"T_A\" \n",
      "WHERE \"T_A\".\"NAME\" LIKE ?\n",
      "2023-09-06 11:32:06,946 INFO sqlalchemy.engine.Engine [cached since 0.468s ago] ('%3',)\n",
      "2023-09-06 11:32:06,947 INFO sqlalchemy.engine.Engine INSERT INTO \"T_D\" (\"NAME\", \"FK1\", \"FK2\") VALUES (?, ?, ?)\n",
      "2023-09-06 11:32:06,947 INFO sqlalchemy.engine.Engine [cached since 0.4651s ago] ('8앨범_장르3_노래1', 8, 1)\n",
      "2023-09-06 11:32:06,948 INFO sqlalchemy.engine.Engine SELECT \"T_C\".\"PK\" \n",
      "FROM \"T_C\", \"T_A\" \n",
      "WHERE \"T_A\".\"NAME\" LIKE ?\n",
      "2023-09-06 11:32:06,948 INFO sqlalchemy.engine.Engine [cached since 0.4705s ago] ('%3',)\n",
      "2023-09-06 11:32:06,950 INFO sqlalchemy.engine.Engine INSERT INTO \"T_D\" (\"NAME\", \"FK1\", \"FK2\") VALUES (?, ?, ?)\n",
      "2023-09-06 11:32:06,950 INFO sqlalchemy.engine.Engine [cached since 0.4683s ago] ('8앨범_장르3_노래2', 8, 1)\n",
      "2023-09-06 11:32:06,951 INFO sqlalchemy.engine.Engine SELECT \"T_C\".\"PK\" \n",
      "FROM \"T_C\", \"T_A\" \n",
      "WHERE \"T_A\".\"NAME\" LIKE ?\n",
      "2023-09-06 11:32:06,953 INFO sqlalchemy.engine.Engine [cached since 0.4749s ago] ('%3',)\n",
      "2023-09-06 11:32:06,954 INFO sqlalchemy.engine.Engine INSERT INTO \"T_D\" (\"NAME\", \"FK1\", \"FK2\") VALUES (?, ?, ?)\n",
      "2023-09-06 11:32:06,954 INFO sqlalchemy.engine.Engine [cached since 0.4725s ago] ('8앨범_장르3_노래3', 8, 1)\n",
      "2023-09-06 11:32:06,955 INFO sqlalchemy.engine.Engine SELECT \"T_C\".\"PK\" \n",
      "FROM \"T_C\", \"T_A\" \n",
      "WHERE \"T_A\".\"NAME\" LIKE ?\n",
      "2023-09-06 11:32:06,955 INFO sqlalchemy.engine.Engine [cached since 0.4777s ago] ('%3',)\n",
      "2023-09-06 11:32:06,956 INFO sqlalchemy.engine.Engine INSERT INTO \"T_D\" (\"NAME\", \"FK1\", \"FK2\") VALUES (?, ?, ?)\n",
      "2023-09-06 11:32:06,956 INFO sqlalchemy.engine.Engine [cached since 0.475s ago] ('8앨범_장르3_노래4', 8, 1)\n",
      "2023-09-06 11:32:06,958 INFO sqlalchemy.engine.Engine SELECT \"T_C\".\"PK\" \n",
      "FROM \"T_C\", \"T_A\" \n",
      "WHERE \"T_A\".\"NAME\" LIKE ?\n",
      "2023-09-06 11:32:06,958 INFO sqlalchemy.engine.Engine [cached since 0.4801s ago] ('%4',)\n",
      "2023-09-06 11:32:06,959 INFO sqlalchemy.engine.Engine INSERT INTO \"T_D\" (\"NAME\", \"FK1\", \"FK2\") VALUES (?, ?, ?)\n",
      "2023-09-06 11:32:06,959 INFO sqlalchemy.engine.Engine [cached since 0.4772s ago] ('8앨범_장르4_노래1', 8, 1)\n",
      "2023-09-06 11:32:06,961 INFO sqlalchemy.engine.Engine SELECT \"T_C\".\"PK\" \n",
      "FROM \"T_C\", \"T_A\" \n",
      "WHERE \"T_A\".\"NAME\" LIKE ?\n",
      "2023-09-06 11:32:06,961 INFO sqlalchemy.engine.Engine [cached since 0.4827s ago] ('%4',)\n",
      "2023-09-06 11:32:06,962 INFO sqlalchemy.engine.Engine INSERT INTO \"T_D\" (\"NAME\", \"FK1\", \"FK2\") VALUES (?, ?, ?)\n",
      "2023-09-06 11:32:06,962 INFO sqlalchemy.engine.Engine [cached since 0.4801s ago] ('8앨범_장르4_노래2', 8, 1)\n",
      "2023-09-06 11:32:06,963 INFO sqlalchemy.engine.Engine SELECT \"T_C\".\"PK\" \n",
      "FROM \"T_C\", \"T_A\" \n",
      "WHERE \"T_A\".\"NAME\" LIKE ?\n",
      "2023-09-06 11:32:06,963 INFO sqlalchemy.engine.Engine [cached since 0.4853s ago] ('%4',)\n",
      "2023-09-06 11:32:06,964 INFO sqlalchemy.engine.Engine INSERT INTO \"T_D\" (\"NAME\", \"FK1\", \"FK2\") VALUES (?, ?, ?)\n",
      "2023-09-06 11:32:06,965 INFO sqlalchemy.engine.Engine [cached since 0.4824s ago] ('8앨범_장르4_노래3', 8, 1)\n",
      "2023-09-06 11:32:06,966 INFO sqlalchemy.engine.Engine SELECT \"T_C\".\"PK\" \n",
      "FROM \"T_C\", \"T_A\" \n",
      "WHERE \"T_A\".\"NAME\" LIKE ?\n",
      "2023-09-06 11:32:06,967 INFO sqlalchemy.engine.Engine [cached since 0.4884s ago] ('%4',)\n",
      "2023-09-06 11:32:06,968 INFO sqlalchemy.engine.Engine INSERT INTO \"T_D\" (\"NAME\", \"FK1\", \"FK2\") VALUES (?, ?, ?)\n",
      "2023-09-06 11:32:06,968 INFO sqlalchemy.engine.Engine [cached since 0.4859s ago] ('8앨범_장르4_노래4', 8, 1)\n"
     ]
    }
   ],
   "source": [
    "# 이제 T_D를 만들기 위해서 상속키를 만들 T_B를 불러온다. (상속관계 : T_B.c.PK > T_D.c.FK)\n",
    "B_select = con.execute(select(B.c.PK)).fetchall()\n",
    "for row in B_select:\n",
    "    for key in ['1','2','3','4']:\n",
    "        for name in ['노래1', '노래2', '노래3', '노래4']:\n",
    "            # FK2는 T_B를 만들 때 처럼 T_A의 PK 값을 상속한다.\n",
    "            rst = con.execute(select(C.c.PK).where(A.c.NAME.like('%'+key)))\n",
    "            rst = rst.fetchone()[0]     \n",
    "\n",
    "            con.execute(D.insert().values(NAME = f'{row[0]}앨범_장르{key}_{name}'\n",
    "                                          , FK1 = row[0], FK2 = rst))"
   ]
  },
  {
   "cell_type": "code",
   "execution_count": 57,
   "metadata": {},
   "outputs": [
    {
     "name": "stdout",
     "output_type": "stream",
     "text": [
      "2023-09-06 11:35:57,298 INFO sqlalchemy.engine.Engine SELECT sum(\"T_A\".\"PK\") AS sum_1 \n",
      "FROM \"T_A\"\n",
      "2023-09-06 11:35:57,299 INFO sqlalchemy.engine.Engine [generated in 0.00102s] ()\n"
     ]
    },
    {
     "data": {
      "text/plain": [
       "[(10,)]"
      ]
     },
     "execution_count": 57,
     "metadata": {},
     "output_type": "execute_result"
    }
   ],
   "source": [
    "# 집계함수도 사용가능\n",
    "now = con.execute(func.sum(A.c.PK))\n",
    "now.fetchall()"
   ]
  },
  {
   "cell_type": "code",
   "execution_count": 58,
   "metadata": {},
   "outputs": [
    {
     "name": "stdout",
     "output_type": "stream",
     "text": [
      "2023-09-06 11:36:05,670 INFO sqlalchemy.engine.Engine SELECT \"T_A\".\"PK\", \"T_A\".\"NAME\" \n",
      "FROM \"T_A\"\n",
      "2023-09-06 11:36:05,671 INFO sqlalchemy.engine.Engine [generated in 0.00080s] ()\n",
      "(1, '가수1')\n",
      "(2, '가수2')\n",
      "(3, '가수3')\n",
      "(4, '가수4')\n",
      "2023-09-06 11:36:05,673 INFO sqlalchemy.engine.Engine SELECT \"T_B\".\"PK\", \"T_B\".\"NAME\", \"T_B\".\"FK\" \n",
      "FROM \"T_B\"\n",
      "2023-09-06 11:36:05,674 INFO sqlalchemy.engine.Engine [cached since 468.8s ago] ()\n",
      "(1, '앨범1', 1)\n",
      "(2, '앨범2', 1)\n",
      "(3, '앨범1', 2)\n",
      "(4, '앨범2', 2)\n",
      "(5, '앨범1', 3)\n",
      "(6, '앨범2', 3)\n",
      "(7, '앨범1', 4)\n",
      "(8, '앨범2', 4)\n",
      "2023-09-06 11:36:05,676 INFO sqlalchemy.engine.Engine SELECT \"T_C\".\"PK\", \"T_C\".\"NAME\" \n",
      "FROM \"T_C\"\n",
      "2023-09-06 11:36:05,676 INFO sqlalchemy.engine.Engine [cached since 331.8s ago] ()\n",
      "(1, '장르1')\n",
      "(2, '장르2')\n",
      "(3, '장르3')\n",
      "(4, '장르4')\n",
      "2023-09-06 11:36:05,678 INFO sqlalchemy.engine.Engine SELECT \"T_D\".\"PK\", \"T_D\".\"NAME\", \"T_D\".\"FK1\", \"T_D\".\"FK2\" \n",
      "FROM \"T_D\"\n",
      "2023-09-06 11:36:05,678 INFO sqlalchemy.engine.Engine [generated in 0.00088s] ()\n",
      "(1, '1앨범_장르1_노래1', 1, 1)\n",
      "(2, '1앨범_장르1_노래2', 1, 1)\n",
      "(3, '1앨범_장르1_노래3', 1, 1)\n",
      "(4, '1앨범_장르1_노래4', 1, 1)\n",
      "(5, '1앨범_장르2_노래1', 1, 1)\n",
      "(6, '1앨범_장르2_노래2', 1, 1)\n",
      "(7, '1앨범_장르2_노래3', 1, 1)\n",
      "(8, '1앨범_장르2_노래4', 1, 1)\n",
      "(9, '1앨범_장르3_노래1', 1, 1)\n",
      "(10, '1앨범_장르3_노래2', 1, 1)\n",
      "(11, '1앨범_장르3_노래3', 1, 1)\n",
      "(12, '1앨범_장르3_노래4', 1, 1)\n",
      "(13, '1앨범_장르4_노래1', 1, 1)\n",
      "(14, '1앨범_장르4_노래2', 1, 1)\n",
      "(15, '1앨범_장르4_노래3', 1, 1)\n",
      "(16, '1앨범_장르4_노래4', 1, 1)\n",
      "(17, '2앨범_장르1_노래1', 2, 1)\n",
      "(18, '2앨범_장르1_노래2', 2, 1)\n",
      "(19, '2앨범_장르1_노래3', 2, 1)\n",
      "(20, '2앨범_장르1_노래4', 2, 1)\n",
      "(21, '2앨범_장르2_노래1', 2, 1)\n",
      "(22, '2앨범_장르2_노래2', 2, 1)\n",
      "(23, '2앨범_장르2_노래3', 2, 1)\n",
      "(24, '2앨범_장르2_노래4', 2, 1)\n",
      "(25, '2앨범_장르3_노래1', 2, 1)\n",
      "(26, '2앨범_장르3_노래2', 2, 1)\n",
      "(27, '2앨범_장르3_노래3', 2, 1)\n",
      "(28, '2앨범_장르3_노래4', 2, 1)\n",
      "(29, '2앨범_장르4_노래1', 2, 1)\n",
      "(30, '2앨범_장르4_노래2', 2, 1)\n",
      "(31, '2앨범_장르4_노래3', 2, 1)\n",
      "(32, '2앨범_장르4_노래4', 2, 1)\n",
      "(33, '3앨범_장르1_노래1', 3, 1)\n",
      "(34, '3앨범_장르1_노래2', 3, 1)\n",
      "(35, '3앨범_장르1_노래3', 3, 1)\n",
      "(36, '3앨범_장르1_노래4', 3, 1)\n",
      "(37, '3앨범_장르2_노래1', 3, 1)\n",
      "(38, '3앨범_장르2_노래2', 3, 1)\n",
      "(39, '3앨범_장르2_노래3', 3, 1)\n",
      "(40, '3앨범_장르2_노래4', 3, 1)\n",
      "(41, '3앨범_장르3_노래1', 3, 1)\n",
      "(42, '3앨범_장르3_노래2', 3, 1)\n",
      "(43, '3앨범_장르3_노래3', 3, 1)\n",
      "(44, '3앨범_장르3_노래4', 3, 1)\n",
      "(45, '3앨범_장르4_노래1', 3, 1)\n",
      "(46, '3앨범_장르4_노래2', 3, 1)\n",
      "(47, '3앨범_장르4_노래3', 3, 1)\n",
      "(48, '3앨범_장르4_노래4', 3, 1)\n",
      "(49, '4앨범_장르1_노래1', 4, 1)\n",
      "(50, '4앨범_장르1_노래2', 4, 1)\n",
      "(51, '4앨범_장르1_노래3', 4, 1)\n",
      "(52, '4앨범_장르1_노래4', 4, 1)\n",
      "(53, '4앨범_장르2_노래1', 4, 1)\n",
      "(54, '4앨범_장르2_노래2', 4, 1)\n",
      "(55, '4앨범_장르2_노래3', 4, 1)\n",
      "(56, '4앨범_장르2_노래4', 4, 1)\n",
      "(57, '4앨범_장르3_노래1', 4, 1)\n",
      "(58, '4앨범_장르3_노래2', 4, 1)\n",
      "(59, '4앨범_장르3_노래3', 4, 1)\n",
      "(60, '4앨범_장르3_노래4', 4, 1)\n",
      "(61, '4앨범_장르4_노래1', 4, 1)\n",
      "(62, '4앨범_장르4_노래2', 4, 1)\n",
      "(63, '4앨범_장르4_노래3', 4, 1)\n",
      "(64, '4앨범_장르4_노래4', 4, 1)\n",
      "(65, '5앨범_장르1_노래1', 5, 1)\n",
      "(66, '5앨범_장르1_노래2', 5, 1)\n",
      "(67, '5앨범_장르1_노래3', 5, 1)\n",
      "(68, '5앨범_장르1_노래4', 5, 1)\n",
      "(69, '5앨범_장르2_노래1', 5, 1)\n",
      "(70, '5앨범_장르2_노래2', 5, 1)\n",
      "(71, '5앨범_장르2_노래3', 5, 1)\n",
      "(72, '5앨범_장르2_노래4', 5, 1)\n",
      "(73, '5앨범_장르3_노래1', 5, 1)\n",
      "(74, '5앨범_장르3_노래2', 5, 1)\n",
      "(75, '5앨범_장르3_노래3', 5, 1)\n",
      "(76, '5앨범_장르3_노래4', 5, 1)\n",
      "(77, '5앨범_장르4_노래1', 5, 1)\n",
      "(78, '5앨범_장르4_노래2', 5, 1)\n",
      "(79, '5앨범_장르4_노래3', 5, 1)\n",
      "(80, '5앨범_장르4_노래4', 5, 1)\n",
      "(81, '6앨범_장르1_노래1', 6, 1)\n",
      "(82, '6앨범_장르1_노래2', 6, 1)\n",
      "(83, '6앨범_장르1_노래3', 6, 1)\n",
      "(84, '6앨범_장르1_노래4', 6, 1)\n",
      "(85, '6앨범_장르2_노래1', 6, 1)\n",
      "(86, '6앨범_장르2_노래2', 6, 1)\n",
      "(87, '6앨범_장르2_노래3', 6, 1)\n",
      "(88, '6앨범_장르2_노래4', 6, 1)\n",
      "(89, '6앨범_장르3_노래1', 6, 1)\n",
      "(90, '6앨범_장르3_노래2', 6, 1)\n",
      "(91, '6앨범_장르3_노래3', 6, 1)\n",
      "(92, '6앨범_장르3_노래4', 6, 1)\n",
      "(93, '6앨범_장르4_노래1', 6, 1)\n",
      "(94, '6앨범_장르4_노래2', 6, 1)\n",
      "(95, '6앨범_장르4_노래3', 6, 1)\n",
      "(96, '6앨범_장르4_노래4', 6, 1)\n",
      "(97, '7앨범_장르1_노래1', 7, 1)\n",
      "(98, '7앨범_장르1_노래2', 7, 1)\n",
      "(99, '7앨범_장르1_노래3', 7, 1)\n",
      "(100, '7앨범_장르1_노래4', 7, 1)\n",
      "(101, '7앨범_장르2_노래1', 7, 1)\n",
      "(102, '7앨범_장르2_노래2', 7, 1)\n",
      "(103, '7앨범_장르2_노래3', 7, 1)\n",
      "(104, '7앨범_장르2_노래4', 7, 1)\n",
      "(105, '7앨범_장르3_노래1', 7, 1)\n",
      "(106, '7앨범_장르3_노래2', 7, 1)\n",
      "(107, '7앨범_장르3_노래3', 7, 1)\n",
      "(108, '7앨범_장르3_노래4', 7, 1)\n",
      "(109, '7앨범_장르4_노래1', 7, 1)\n",
      "(110, '7앨범_장르4_노래2', 7, 1)\n",
      "(111, '7앨범_장르4_노래3', 7, 1)\n",
      "(112, '7앨범_장르4_노래4', 7, 1)\n",
      "(113, '8앨범_장르1_노래1', 8, 1)\n",
      "(114, '8앨범_장르1_노래2', 8, 1)\n",
      "(115, '8앨범_장르1_노래3', 8, 1)\n",
      "(116, '8앨범_장르1_노래4', 8, 1)\n",
      "(117, '8앨범_장르2_노래1', 8, 1)\n",
      "(118, '8앨범_장르2_노래2', 8, 1)\n",
      "(119, '8앨범_장르2_노래3', 8, 1)\n",
      "(120, '8앨범_장르2_노래4', 8, 1)\n",
      "(121, '8앨범_장르3_노래1', 8, 1)\n",
      "(122, '8앨범_장르3_노래2', 8, 1)\n",
      "(123, '8앨범_장르3_노래3', 8, 1)\n",
      "(124, '8앨범_장르3_노래4', 8, 1)\n",
      "(125, '8앨범_장르4_노래1', 8, 1)\n",
      "(126, '8앨범_장르4_노래2', 8, 1)\n",
      "(127, '8앨범_장르4_노래3', 8, 1)\n",
      "(128, '8앨범_장르4_노래4', 8, 1)\n"
     ]
    }
   ],
   "source": [
    "for t in [A, B, C, D]:\n",
    "    table = con.execute(t.select()) \n",
    "\n",
    "    for _ in table:\n",
    "        print(_)"
   ]
  },
  {
   "cell_type": "code",
   "execution_count": 59,
   "metadata": {},
   "outputs": [
    {
     "name": "stdout",
     "output_type": "stream",
     "text": [
      "SELECT \"T_A\".\"NAME\", \"T_B\".\"NAME\" AS \"NAME_1\" \n",
      "FROM \"T_A\", \"T_B\" \n",
      "WHERE \"T_A\".\"PK\" = \"T_B\".\"FK\"\n"
     ]
    }
   ],
   "source": [
    "# Cross_join (where문 정의)\n",
    "print(select(A.c.NAME, B.c.NAME).where(A.c.PK == B.c.FK))"
   ]
  },
  {
   "cell_type": "code",
   "execution_count": 60,
   "metadata": {},
   "outputs": [
    {
     "name": "stdout",
     "output_type": "stream",
     "text": [
      "SELECT \"T_A\".\"NAME\", \"T_B\".\"NAME\" AS \"NAME_1\" \n",
      "FROM \"T_A\" JOIN \"T_B\" ON \"T_A\".\"PK\" = \"T_B\".\"FK\"\n"
     ]
    }
   ],
   "source": [
    "# Cross_join (A > B의 상속관계 사용)\n",
    "print(select(A.c.NAME, B.c.NAME).join(B))"
   ]
  },
  {
   "cell_type": "code",
   "execution_count": 65,
   "metadata": {},
   "outputs": [
    {
     "name": "stdout",
     "output_type": "stream",
     "text": [
      "2023-09-06 11:39:47,566 INFO sqlalchemy.engine.Engine SELECT \"T_A\".\"PK\", \"T_A\".\"NAME\", \"T_B\".\"PK\" AS \"PK_1\", \"T_B\".\"NAME\" AS \"NAME_1\", \"T_B\".\"FK\" \n",
      "FROM \"T_A\" JOIN \"T_B\" ON \"T_A\".\"PK\" = \"T_B\".\"FK\"\n",
      "2023-09-06 11:39:47,568 INFO sqlalchemy.engine.Engine [generated in 0.00117s] ()\n",
      "<sqlalchemy.engine.cursor.CursorResult object at 0x0000015FD3844340>\n"
     ]
    }
   ],
   "source": [
    "print(con.execute(A.join(B).select()))"
   ]
  },
  {
   "cell_type": "code",
   "execution_count": 61,
   "metadata": {},
   "outputs": [
    {
     "name": "stdout",
     "output_type": "stream",
     "text": [
      "SELECT \"T_A\".\"NAME\", \"T_B\".\"NAME\" AS \"NAME_1\" \n",
      "FROM \"T_A\" JOIN \"T_B\" ON \"T_A\".\"PK\" = \"T_B\".\"FK\"\n"
     ]
    }
   ],
   "source": [
    "# Cross_join (A > B의 상속관계를 사용하되, select_from을 통해 on 절을 가져온다.)\n",
    "print(select(A.c.NAME, B.c.NAME).select_from(A.join(B)))"
   ]
  },
  {
   "cell_type": "code",
   "execution_count": 63,
   "metadata": {},
   "outputs": [
    {
     "name": "stdout",
     "output_type": "stream",
     "text": [
      "2023-09-06 11:36:27,957 INFO sqlalchemy.engine.Engine SELECT \"T_A\".\"NAME\", \"T_B\".\"NAME\" AS \"NAME_1\" \n",
      "FROM \"T_A\", \"T_B\" \n",
      "WHERE \"T_A\".\"PK\" = \"T_B\".\"FK\"\n",
      "2023-09-06 11:36:27,957 INFO sqlalchemy.engine.Engine [cached since 14.01s ago] ()\n",
      "2023-09-06 11:36:27,963 INFO sqlalchemy.engine.Engine SELECT \"T_A\".\"NAME\", \"T_B\".\"NAME\" AS \"NAME_1\" \n",
      "FROM \"T_A\" JOIN \"T_B\" ON \"T_A\".\"PK\" = \"T_B\".\"FK\"\n",
      "2023-09-06 11:36:27,963 INFO sqlalchemy.engine.Engine [cached since 14.01s ago] ()\n",
      "2023-09-06 11:36:27,963 INFO sqlalchemy.engine.Engine SELECT \"T_A\".\"NAME\", \"T_B\".\"NAME\" AS \"NAME_1\" \n",
      "FROM \"T_A\" JOIN \"T_B\" ON \"T_A\".\"PK\" = \"T_B\".\"FK\"\n",
      "2023-09-06 11:36:27,963 INFO sqlalchemy.engine.Engine [cached since 14.01s ago] ()\n",
      "[('가수1', '앨범1'), ('가수1', '앨범2'), ('가수2', '앨범1'), ('가수2', '앨범2'), ('가수3', '앨범1'), ('가수3', '앨범2'), ('가수4', '앨범1'), ('가수4', '앨범2')]\n",
      "[('가수1', '앨범1'), ('가수1', '앨범2'), ('가수2', '앨범1'), ('가수2', '앨범2'), ('가수3', '앨범1'), ('가수3', '앨범2'), ('가수4', '앨범1'), ('가수4', '앨범2')]\n",
      "[('가수1', '앨범1'), ('가수1', '앨범2'), ('가수2', '앨범1'), ('가수2', '앨범2'), ('가수3', '앨범1'), ('가수3', '앨범2'), ('가수4', '앨범1'), ('가수4', '앨범2')]\n"
     ]
    }
   ],
   "source": [
    "# 3개의 결과값은 동일한 것을 확인할 수있다.\n",
    "rst1 = con.execute(select(A.c.NAME, B.c.NAME).where(A.c.PK == B.c.FK)).fetchall()\n",
    "\n",
    "rst2 = con.execute(select(A.c.NAME, B.c.NAME).join(B)).fetchall()\n",
    "\n",
    "rst3 = con.execute(select(A.c.NAME, B.c.NAME).select_from(A.join(B))).fetchall()\n",
    "\n",
    "print(rst1)\n",
    "print(rst2)\n",
    "print(rst3)"
   ]
  },
  {
   "cell_type": "code",
   "execution_count": 66,
   "metadata": {},
   "outputs": [
    {
     "name": "stdout",
     "output_type": "stream",
     "text": [
      "2023-09-06 11:41:04,101 INFO sqlalchemy.engine.Engine SELECT \"T_A\".\"PK\", count(\"T_B\".\"NAME\") AS count_1 \n",
      "FROM \"T_A\" JOIN \"T_B\" ON \"T_A\".\"PK\" = \"T_B\".\"FK\" GROUP BY \"T_A\".\"NAME\"\n",
      "2023-09-06 11:41:04,101 INFO sqlalchemy.engine.Engine [generated in 0.00065s] ()\n",
      "[(1, 2), (2, 2), (3, 2), (4, 2)]\n"
     ]
    }
   ],
   "source": [
    "rst4 = con.execute(select(A.c.PK, func.count(B.c.NAME)).\\\n",
    "                          select_from(A.join(B)).\\\n",
    "                          group_by(A.c.NAME)\n",
    "                          ).fetchall()\n",
    "print(rst4)"
   ]
  },
  {
   "cell_type": "code",
   "execution_count": 69,
   "metadata": {},
   "outputs": [
    {
     "name": "stdout",
     "output_type": "stream",
     "text": [
      "SELECT \"T_A\".\"NAME\", \"T_B\".\"NAME\" AS \"NAME_1\", \"T_D\".\"NAME\" AS \"NAME_2\" \n",
      "FROM \"T_A\" JOIN (\"T_B\" JOIN \"T_D\" ON \"T_B\".\"PK\" = \"T_D\".\"FK1\") ON \"T_A\".\"PK\" = \"T_B\".\"FK\"\n",
      "SELECT \"T_A\".\"NAME\", \"T_B\".\"NAME\" AS \"NAME_1\", \"T_D\".\"NAME\" AS \"NAME_2\" \n",
      "FROM \"T_A\", \"T_B\", \"T_D\" \n",
      "WHERE \"T_A\".\"PK\" = \"T_B\".\"FK\" AND \"T_B\".\"PK\" = \"T_D\".\"FK1\"\n"
     ]
    }
   ],
   "source": [
    "# 가수-앨범-노래\n",
    "# select_from은 PK - FK Refence가정하에 사용된다.\n",
    "print(select(A.c.NAME, B.c.NAME, D.c.NAME).select_from(A.join(B.join(D))))\n",
    "\n",
    "print(select(A.c.NAME, B.c.NAME, D.c.NAME).where((A.c.PK == B.c.FK) & (B.c.PK == D.c.FK1)))"
   ]
  },
  {
   "cell_type": "code",
   "execution_count": 70,
   "metadata": {},
   "outputs": [
    {
     "name": "stdout",
     "output_type": "stream",
     "text": [
      "2023-09-06 11:45:46,142 INFO sqlalchemy.engine.Engine SELECT \"T_A\".\"NAME\", \"T_B\".\"NAME\" AS \"NAME_1\", \"T_D\".\"NAME\" AS \"NAME_2\" \n",
      "FROM \"T_A\" JOIN (\"T_B\" JOIN \"T_D\" ON \"T_B\".\"PK\" = \"T_D\".\"FK1\") ON \"T_A\".\"PK\" = \"T_B\".\"FK\"\n",
      "2023-09-06 11:45:46,143 INFO sqlalchemy.engine.Engine [generated in 0.00086s] ()\n"
     ]
    },
    {
     "data": {
      "text/plain": [
       "[('가수1', '앨범1', '1앨범_장르1_노래1'),\n",
       " ('가수1', '앨범1', '1앨범_장르1_노래2'),\n",
       " ('가수1', '앨범1', '1앨범_장르1_노래3'),\n",
       " ('가수1', '앨범1', '1앨범_장르1_노래4'),\n",
       " ('가수1', '앨범1', '1앨범_장르2_노래1'),\n",
       " ('가수1', '앨범1', '1앨범_장르2_노래2'),\n",
       " ('가수1', '앨범1', '1앨범_장르2_노래3'),\n",
       " ('가수1', '앨범1', '1앨범_장르2_노래4'),\n",
       " ('가수1', '앨범1', '1앨범_장르3_노래1'),\n",
       " ('가수1', '앨범1', '1앨범_장르3_노래2'),\n",
       " ('가수1', '앨범1', '1앨범_장르3_노래3'),\n",
       " ('가수1', '앨범1', '1앨범_장르3_노래4'),\n",
       " ('가수1', '앨범1', '1앨범_장르4_노래1'),\n",
       " ('가수1', '앨범1', '1앨범_장르4_노래2'),\n",
       " ('가수1', '앨범1', '1앨범_장르4_노래3'),\n",
       " ('가수1', '앨범1', '1앨범_장르4_노래4'),\n",
       " ('가수1', '앨범2', '2앨범_장르1_노래1'),\n",
       " ('가수1', '앨범2', '2앨범_장르1_노래2'),\n",
       " ('가수1', '앨범2', '2앨범_장르1_노래3'),\n",
       " ('가수1', '앨범2', '2앨범_장르1_노래4'),\n",
       " ('가수1', '앨범2', '2앨범_장르2_노래1'),\n",
       " ('가수1', '앨범2', '2앨범_장르2_노래2'),\n",
       " ('가수1', '앨범2', '2앨범_장르2_노래3'),\n",
       " ('가수1', '앨범2', '2앨범_장르2_노래4'),\n",
       " ('가수1', '앨범2', '2앨범_장르3_노래1'),\n",
       " ('가수1', '앨범2', '2앨범_장르3_노래2'),\n",
       " ('가수1', '앨범2', '2앨범_장르3_노래3'),\n",
       " ('가수1', '앨범2', '2앨범_장르3_노래4'),\n",
       " ('가수1', '앨범2', '2앨범_장르4_노래1'),\n",
       " ('가수1', '앨범2', '2앨범_장르4_노래2'),\n",
       " ('가수1', '앨범2', '2앨범_장르4_노래3'),\n",
       " ('가수1', '앨범2', '2앨범_장르4_노래4'),\n",
       " ('가수2', '앨범1', '3앨범_장르1_노래1'),\n",
       " ('가수2', '앨범1', '3앨범_장르1_노래2'),\n",
       " ('가수2', '앨범1', '3앨범_장르1_노래3'),\n",
       " ('가수2', '앨범1', '3앨범_장르1_노래4'),\n",
       " ('가수2', '앨범1', '3앨범_장르2_노래1'),\n",
       " ('가수2', '앨범1', '3앨범_장르2_노래2'),\n",
       " ('가수2', '앨범1', '3앨범_장르2_노래3'),\n",
       " ('가수2', '앨범1', '3앨범_장르2_노래4'),\n",
       " ('가수2', '앨범1', '3앨범_장르3_노래1'),\n",
       " ('가수2', '앨범1', '3앨범_장르3_노래2'),\n",
       " ('가수2', '앨범1', '3앨범_장르3_노래3'),\n",
       " ('가수2', '앨범1', '3앨범_장르3_노래4'),\n",
       " ('가수2', '앨범1', '3앨범_장르4_노래1'),\n",
       " ('가수2', '앨범1', '3앨범_장르4_노래2'),\n",
       " ('가수2', '앨범1', '3앨범_장르4_노래3'),\n",
       " ('가수2', '앨범1', '3앨범_장르4_노래4'),\n",
       " ('가수2', '앨범2', '4앨범_장르1_노래1'),\n",
       " ('가수2', '앨범2', '4앨범_장르1_노래2'),\n",
       " ('가수2', '앨범2', '4앨범_장르1_노래3'),\n",
       " ('가수2', '앨범2', '4앨범_장르1_노래4'),\n",
       " ('가수2', '앨범2', '4앨범_장르2_노래1'),\n",
       " ('가수2', '앨범2', '4앨범_장르2_노래2'),\n",
       " ('가수2', '앨범2', '4앨범_장르2_노래3'),\n",
       " ('가수2', '앨범2', '4앨범_장르2_노래4'),\n",
       " ('가수2', '앨범2', '4앨범_장르3_노래1'),\n",
       " ('가수2', '앨범2', '4앨범_장르3_노래2'),\n",
       " ('가수2', '앨범2', '4앨범_장르3_노래3'),\n",
       " ('가수2', '앨범2', '4앨범_장르3_노래4'),\n",
       " ('가수2', '앨범2', '4앨범_장르4_노래1'),\n",
       " ('가수2', '앨범2', '4앨범_장르4_노래2'),\n",
       " ('가수2', '앨범2', '4앨범_장르4_노래3'),\n",
       " ('가수2', '앨범2', '4앨범_장르4_노래4'),\n",
       " ('가수3', '앨범1', '5앨범_장르1_노래1'),\n",
       " ('가수3', '앨범1', '5앨범_장르1_노래2'),\n",
       " ('가수3', '앨범1', '5앨범_장르1_노래3'),\n",
       " ('가수3', '앨범1', '5앨범_장르1_노래4'),\n",
       " ('가수3', '앨범1', '5앨범_장르2_노래1'),\n",
       " ('가수3', '앨범1', '5앨범_장르2_노래2'),\n",
       " ('가수3', '앨범1', '5앨범_장르2_노래3'),\n",
       " ('가수3', '앨범1', '5앨범_장르2_노래4'),\n",
       " ('가수3', '앨범1', '5앨범_장르3_노래1'),\n",
       " ('가수3', '앨범1', '5앨범_장르3_노래2'),\n",
       " ('가수3', '앨범1', '5앨범_장르3_노래3'),\n",
       " ('가수3', '앨범1', '5앨범_장르3_노래4'),\n",
       " ('가수3', '앨범1', '5앨범_장르4_노래1'),\n",
       " ('가수3', '앨범1', '5앨범_장르4_노래2'),\n",
       " ('가수3', '앨범1', '5앨범_장르4_노래3'),\n",
       " ('가수3', '앨범1', '5앨범_장르4_노래4'),\n",
       " ('가수3', '앨범2', '6앨범_장르1_노래1'),\n",
       " ('가수3', '앨범2', '6앨범_장르1_노래2'),\n",
       " ('가수3', '앨범2', '6앨범_장르1_노래3'),\n",
       " ('가수3', '앨범2', '6앨범_장르1_노래4'),\n",
       " ('가수3', '앨범2', '6앨범_장르2_노래1'),\n",
       " ('가수3', '앨범2', '6앨범_장르2_노래2'),\n",
       " ('가수3', '앨범2', '6앨범_장르2_노래3'),\n",
       " ('가수3', '앨범2', '6앨범_장르2_노래4'),\n",
       " ('가수3', '앨범2', '6앨범_장르3_노래1'),\n",
       " ('가수3', '앨범2', '6앨범_장르3_노래2'),\n",
       " ('가수3', '앨범2', '6앨범_장르3_노래3'),\n",
       " ('가수3', '앨범2', '6앨범_장르3_노래4'),\n",
       " ('가수3', '앨범2', '6앨범_장르4_노래1'),\n",
       " ('가수3', '앨범2', '6앨범_장르4_노래2'),\n",
       " ('가수3', '앨범2', '6앨범_장르4_노래3'),\n",
       " ('가수3', '앨범2', '6앨범_장르4_노래4'),\n",
       " ('가수4', '앨범1', '7앨범_장르1_노래1'),\n",
       " ('가수4', '앨범1', '7앨범_장르1_노래2'),\n",
       " ('가수4', '앨범1', '7앨범_장르1_노래3'),\n",
       " ('가수4', '앨범1', '7앨범_장르1_노래4'),\n",
       " ('가수4', '앨범1', '7앨범_장르2_노래1'),\n",
       " ('가수4', '앨범1', '7앨범_장르2_노래2'),\n",
       " ('가수4', '앨범1', '7앨범_장르2_노래3'),\n",
       " ('가수4', '앨범1', '7앨범_장르2_노래4'),\n",
       " ('가수4', '앨범1', '7앨범_장르3_노래1'),\n",
       " ('가수4', '앨범1', '7앨범_장르3_노래2'),\n",
       " ('가수4', '앨범1', '7앨범_장르3_노래3'),\n",
       " ('가수4', '앨범1', '7앨범_장르3_노래4'),\n",
       " ('가수4', '앨범1', '7앨범_장르4_노래1'),\n",
       " ('가수4', '앨범1', '7앨범_장르4_노래2'),\n",
       " ('가수4', '앨범1', '7앨범_장르4_노래3'),\n",
       " ('가수4', '앨범1', '7앨범_장르4_노래4'),\n",
       " ('가수4', '앨범2', '8앨범_장르1_노래1'),\n",
       " ('가수4', '앨범2', '8앨범_장르1_노래2'),\n",
       " ('가수4', '앨범2', '8앨범_장르1_노래3'),\n",
       " ('가수4', '앨범2', '8앨범_장르1_노래4'),\n",
       " ('가수4', '앨범2', '8앨범_장르2_노래1'),\n",
       " ('가수4', '앨범2', '8앨범_장르2_노래2'),\n",
       " ('가수4', '앨범2', '8앨범_장르2_노래3'),\n",
       " ('가수4', '앨범2', '8앨범_장르2_노래4'),\n",
       " ('가수4', '앨범2', '8앨범_장르3_노래1'),\n",
       " ('가수4', '앨범2', '8앨범_장르3_노래2'),\n",
       " ('가수4', '앨범2', '8앨범_장르3_노래3'),\n",
       " ('가수4', '앨범2', '8앨범_장르3_노래4'),\n",
       " ('가수4', '앨범2', '8앨범_장르4_노래1'),\n",
       " ('가수4', '앨범2', '8앨범_장르4_노래2'),\n",
       " ('가수4', '앨범2', '8앨범_장르4_노래3'),\n",
       " ('가수4', '앨범2', '8앨범_장르4_노래4')]"
      ]
     },
     "execution_count": 70,
     "metadata": {},
     "output_type": "execute_result"
    }
   ],
   "source": [
    "con.execute(select(A.c.NAME, B.c.NAME, D.c.NAME).select_from(A.join(B.join(D)))).fetchall()"
   ]
  },
  {
   "cell_type": "code",
   "execution_count": 71,
   "metadata": {},
   "outputs": [
    {
     "name": "stdout",
     "output_type": "stream",
     "text": [
      "2023-09-06 11:45:50,780 INFO sqlalchemy.engine.Engine SELECT \"T_A\".\"NAME\", \"T_B\".\"NAME\" AS \"NAME_1\", \"T_D\".\"NAME\" AS \"NAME_2\" \n",
      "FROM \"T_A\", \"T_B\", \"T_D\" \n",
      "WHERE \"T_A\".\"PK\" = \"T_B\".\"FK\" AND \"T_B\".\"PK\" = \"T_D\".\"FK1\"\n",
      "2023-09-06 11:45:50,782 INFO sqlalchemy.engine.Engine [generated in 0.00172s] ()\n"
     ]
    },
    {
     "data": {
      "text/plain": [
       "[('가수1', '앨범1', '1앨범_장르1_노래1'),\n",
       " ('가수1', '앨범1', '1앨범_장르1_노래2'),\n",
       " ('가수1', '앨범1', '1앨범_장르1_노래3'),\n",
       " ('가수1', '앨범1', '1앨범_장르1_노래4'),\n",
       " ('가수1', '앨범1', '1앨범_장르2_노래1'),\n",
       " ('가수1', '앨범1', '1앨범_장르2_노래2'),\n",
       " ('가수1', '앨범1', '1앨범_장르2_노래3'),\n",
       " ('가수1', '앨범1', '1앨범_장르2_노래4'),\n",
       " ('가수1', '앨범1', '1앨범_장르3_노래1'),\n",
       " ('가수1', '앨범1', '1앨범_장르3_노래2'),\n",
       " ('가수1', '앨범1', '1앨범_장르3_노래3'),\n",
       " ('가수1', '앨범1', '1앨범_장르3_노래4'),\n",
       " ('가수1', '앨범1', '1앨범_장르4_노래1'),\n",
       " ('가수1', '앨범1', '1앨범_장르4_노래2'),\n",
       " ('가수1', '앨범1', '1앨범_장르4_노래3'),\n",
       " ('가수1', '앨범1', '1앨범_장르4_노래4'),\n",
       " ('가수1', '앨범2', '2앨범_장르1_노래1'),\n",
       " ('가수1', '앨범2', '2앨범_장르1_노래2'),\n",
       " ('가수1', '앨범2', '2앨범_장르1_노래3'),\n",
       " ('가수1', '앨범2', '2앨범_장르1_노래4'),\n",
       " ('가수1', '앨범2', '2앨범_장르2_노래1'),\n",
       " ('가수1', '앨범2', '2앨범_장르2_노래2'),\n",
       " ('가수1', '앨범2', '2앨범_장르2_노래3'),\n",
       " ('가수1', '앨범2', '2앨범_장르2_노래4'),\n",
       " ('가수1', '앨범2', '2앨범_장르3_노래1'),\n",
       " ('가수1', '앨범2', '2앨범_장르3_노래2'),\n",
       " ('가수1', '앨범2', '2앨범_장르3_노래3'),\n",
       " ('가수1', '앨범2', '2앨범_장르3_노래4'),\n",
       " ('가수1', '앨범2', '2앨범_장르4_노래1'),\n",
       " ('가수1', '앨범2', '2앨범_장르4_노래2'),\n",
       " ('가수1', '앨범2', '2앨범_장르4_노래3'),\n",
       " ('가수1', '앨범2', '2앨범_장르4_노래4'),\n",
       " ('가수2', '앨범1', '3앨범_장르1_노래1'),\n",
       " ('가수2', '앨범1', '3앨범_장르1_노래2'),\n",
       " ('가수2', '앨범1', '3앨범_장르1_노래3'),\n",
       " ('가수2', '앨범1', '3앨범_장르1_노래4'),\n",
       " ('가수2', '앨범1', '3앨범_장르2_노래1'),\n",
       " ('가수2', '앨범1', '3앨범_장르2_노래2'),\n",
       " ('가수2', '앨범1', '3앨범_장르2_노래3'),\n",
       " ('가수2', '앨범1', '3앨범_장르2_노래4'),\n",
       " ('가수2', '앨범1', '3앨범_장르3_노래1'),\n",
       " ('가수2', '앨범1', '3앨범_장르3_노래2'),\n",
       " ('가수2', '앨범1', '3앨범_장르3_노래3'),\n",
       " ('가수2', '앨범1', '3앨범_장르3_노래4'),\n",
       " ('가수2', '앨범1', '3앨범_장르4_노래1'),\n",
       " ('가수2', '앨범1', '3앨범_장르4_노래2'),\n",
       " ('가수2', '앨범1', '3앨범_장르4_노래3'),\n",
       " ('가수2', '앨범1', '3앨범_장르4_노래4'),\n",
       " ('가수2', '앨범2', '4앨범_장르1_노래1'),\n",
       " ('가수2', '앨범2', '4앨범_장르1_노래2'),\n",
       " ('가수2', '앨범2', '4앨범_장르1_노래3'),\n",
       " ('가수2', '앨범2', '4앨범_장르1_노래4'),\n",
       " ('가수2', '앨범2', '4앨범_장르2_노래1'),\n",
       " ('가수2', '앨범2', '4앨범_장르2_노래2'),\n",
       " ('가수2', '앨범2', '4앨범_장르2_노래3'),\n",
       " ('가수2', '앨범2', '4앨범_장르2_노래4'),\n",
       " ('가수2', '앨범2', '4앨범_장르3_노래1'),\n",
       " ('가수2', '앨범2', '4앨범_장르3_노래2'),\n",
       " ('가수2', '앨범2', '4앨범_장르3_노래3'),\n",
       " ('가수2', '앨범2', '4앨범_장르3_노래4'),\n",
       " ('가수2', '앨범2', '4앨범_장르4_노래1'),\n",
       " ('가수2', '앨범2', '4앨범_장르4_노래2'),\n",
       " ('가수2', '앨범2', '4앨범_장르4_노래3'),\n",
       " ('가수2', '앨범2', '4앨범_장르4_노래4'),\n",
       " ('가수3', '앨범1', '5앨범_장르1_노래1'),\n",
       " ('가수3', '앨범1', '5앨범_장르1_노래2'),\n",
       " ('가수3', '앨범1', '5앨범_장르1_노래3'),\n",
       " ('가수3', '앨범1', '5앨범_장르1_노래4'),\n",
       " ('가수3', '앨범1', '5앨범_장르2_노래1'),\n",
       " ('가수3', '앨범1', '5앨범_장르2_노래2'),\n",
       " ('가수3', '앨범1', '5앨범_장르2_노래3'),\n",
       " ('가수3', '앨범1', '5앨범_장르2_노래4'),\n",
       " ('가수3', '앨범1', '5앨범_장르3_노래1'),\n",
       " ('가수3', '앨범1', '5앨범_장르3_노래2'),\n",
       " ('가수3', '앨범1', '5앨범_장르3_노래3'),\n",
       " ('가수3', '앨범1', '5앨범_장르3_노래4'),\n",
       " ('가수3', '앨범1', '5앨범_장르4_노래1'),\n",
       " ('가수3', '앨범1', '5앨범_장르4_노래2'),\n",
       " ('가수3', '앨범1', '5앨범_장르4_노래3'),\n",
       " ('가수3', '앨범1', '5앨범_장르4_노래4'),\n",
       " ('가수3', '앨범2', '6앨범_장르1_노래1'),\n",
       " ('가수3', '앨범2', '6앨범_장르1_노래2'),\n",
       " ('가수3', '앨범2', '6앨범_장르1_노래3'),\n",
       " ('가수3', '앨범2', '6앨범_장르1_노래4'),\n",
       " ('가수3', '앨범2', '6앨범_장르2_노래1'),\n",
       " ('가수3', '앨범2', '6앨범_장르2_노래2'),\n",
       " ('가수3', '앨범2', '6앨범_장르2_노래3'),\n",
       " ('가수3', '앨범2', '6앨범_장르2_노래4'),\n",
       " ('가수3', '앨범2', '6앨범_장르3_노래1'),\n",
       " ('가수3', '앨범2', '6앨범_장르3_노래2'),\n",
       " ('가수3', '앨범2', '6앨범_장르3_노래3'),\n",
       " ('가수3', '앨범2', '6앨범_장르3_노래4'),\n",
       " ('가수3', '앨범2', '6앨범_장르4_노래1'),\n",
       " ('가수3', '앨범2', '6앨범_장르4_노래2'),\n",
       " ('가수3', '앨범2', '6앨범_장르4_노래3'),\n",
       " ('가수3', '앨범2', '6앨범_장르4_노래4'),\n",
       " ('가수4', '앨범1', '7앨범_장르1_노래1'),\n",
       " ('가수4', '앨범1', '7앨범_장르1_노래2'),\n",
       " ('가수4', '앨범1', '7앨범_장르1_노래3'),\n",
       " ('가수4', '앨범1', '7앨범_장르1_노래4'),\n",
       " ('가수4', '앨범1', '7앨범_장르2_노래1'),\n",
       " ('가수4', '앨범1', '7앨범_장르2_노래2'),\n",
       " ('가수4', '앨범1', '7앨범_장르2_노래3'),\n",
       " ('가수4', '앨범1', '7앨범_장르2_노래4'),\n",
       " ('가수4', '앨범1', '7앨범_장르3_노래1'),\n",
       " ('가수4', '앨범1', '7앨범_장르3_노래2'),\n",
       " ('가수4', '앨범1', '7앨범_장르3_노래3'),\n",
       " ('가수4', '앨범1', '7앨범_장르3_노래4'),\n",
       " ('가수4', '앨범1', '7앨범_장르4_노래1'),\n",
       " ('가수4', '앨범1', '7앨범_장르4_노래2'),\n",
       " ('가수4', '앨범1', '7앨범_장르4_노래3'),\n",
       " ('가수4', '앨범1', '7앨범_장르4_노래4'),\n",
       " ('가수4', '앨범2', '8앨범_장르1_노래1'),\n",
       " ('가수4', '앨범2', '8앨범_장르1_노래2'),\n",
       " ('가수4', '앨범2', '8앨범_장르1_노래3'),\n",
       " ('가수4', '앨범2', '8앨범_장르1_노래4'),\n",
       " ('가수4', '앨범2', '8앨범_장르2_노래1'),\n",
       " ('가수4', '앨범2', '8앨범_장르2_노래2'),\n",
       " ('가수4', '앨범2', '8앨범_장르2_노래3'),\n",
       " ('가수4', '앨범2', '8앨범_장르2_노래4'),\n",
       " ('가수4', '앨범2', '8앨범_장르3_노래1'),\n",
       " ('가수4', '앨범2', '8앨범_장르3_노래2'),\n",
       " ('가수4', '앨범2', '8앨범_장르3_노래3'),\n",
       " ('가수4', '앨범2', '8앨범_장르3_노래4'),\n",
       " ('가수4', '앨범2', '8앨범_장르4_노래1'),\n",
       " ('가수4', '앨범2', '8앨범_장르4_노래2'),\n",
       " ('가수4', '앨범2', '8앨범_장르4_노래3'),\n",
       " ('가수4', '앨범2', '8앨범_장르4_노래4')]"
      ]
     },
     "execution_count": 71,
     "metadata": {},
     "output_type": "execute_result"
    }
   ],
   "source": [
    "con.execute(select(A.c.NAME, B.c.NAME, D.c.NAME).where((A.c.PK == B.c.FK) & (B.c.PK == D.c.FK1))).fetchall()"
   ]
  },
  {
   "cell_type": "code",
   "execution_count": 74,
   "metadata": {},
   "outputs": [
    {
     "name": "stdout",
     "output_type": "stream",
     "text": [
      "2023-09-06 11:47:14,676 INFO sqlalchemy.engine.Engine SELECT \"T_A\".\"NAME\", \"T_B\".\"NAME\" AS \"NAME_1\", count(\"T_D\".\"NAME\") AS count_1 \n",
      "FROM \"T_A\" JOIN (\"T_B\" JOIN \"T_D\" ON \"T_B\".\"PK\" = \"T_D\".\"FK1\") ON \"T_A\".\"PK\" = \"T_B\".\"FK\" GROUP BY \"T_B\".\"PK\"\n",
      "2023-09-06 11:47:14,677 INFO sqlalchemy.engine.Engine [generated in 0.00077s] ()\n"
     ]
    },
    {
     "data": {
      "text/plain": [
       "[('가수1', '앨범1', 16),\n",
       " ('가수1', '앨범2', 16),\n",
       " ('가수2', '앨범1', 16),\n",
       " ('가수2', '앨범2', 16),\n",
       " ('가수3', '앨범1', 16),\n",
       " ('가수3', '앨범2', 16),\n",
       " ('가수4', '앨범1', 16),\n",
       " ('가수4', '앨범2', 16)]"
      ]
     },
     "execution_count": 74,
     "metadata": {},
     "output_type": "execute_result"
    }
   ],
   "source": [
    "# group by절을 넣을 수 있다.\n",
    "con.execute(select(A.c.NAME, B.c.NAME, func.count(D.c.NAME)).select_from(A.join(B.join(D))).group_by(B.c.PK)).fetchall()"
   ]
  },
  {
   "cell_type": "code",
   "execution_count": 76,
   "metadata": {},
   "outputs": [
    {
     "name": "stdout",
     "output_type": "stream",
     "text": [
      "2023-09-06 11:48:50,348 INFO sqlalchemy.engine.Engine SELECT \"T_A\".\"NAME\", \"T_B\".\"NAME\" AS \"NAME_1\", count(\"T_D\".\"NAME\") AS count_1 \n",
      "FROM \"T_A\" JOIN (\"T_B\" JOIN \"T_D\" ON \"T_B\".\"PK\" = \"T_D\".\"FK1\") ON \"T_A\".\"PK\" = \"T_B\".\"FK\" \n",
      "WHERE \"T_A\".\"PK\" = ? GROUP BY \"T_B\".\"PK\"\n",
      "2023-09-06 11:48:50,349 INFO sqlalchemy.engine.Engine [generated in 0.00122s] (1,)\n"
     ]
    },
    {
     "data": {
      "text/plain": [
       "[('가수1', '앨범1', 16), ('가수1', '앨범2', 16)]"
      ]
     },
     "execution_count": 76,
     "metadata": {},
     "output_type": "execute_result"
    }
   ],
   "source": [
    "# where 절을 사용해서 축약하면\n",
    "# func은 DBMS에서 활용하는 함수이다 > python에서 따로 할 필요가 없다.\n",
    "con.execute(select(A.c.NAME, B.c.NAME, func.count(D.c.NAME)).\\\n",
    "            select_from(A.join(B.join(D))).\\\n",
    "            where(A.c.PK == 1).\\\n",
    "            group_by(B.c.PK)).fetchall()"
   ]
  },
  {
   "cell_type": "code",
   "execution_count": 77,
   "metadata": {},
   "outputs": [
    {
     "name": "stdout",
     "output_type": "stream",
     "text": [
      "2023-09-06 11:53:47,073 INFO sqlalchemy.engine.Engine INSERT INTO \"T_A\" (\"NAME\") VALUES (?), (?)\n",
      "2023-09-06 11:53:47,074 INFO sqlalchemy.engine.Engine [no key 0.00087s] ('아무개1', '아무개2')\n"
     ]
    },
    {
     "data": {
      "text/plain": [
       "<sqlalchemy.engine.cursor.CursorResult at 0x15fd387e940>"
      ]
     },
     "execution_count": 77,
     "metadata": {},
     "output_type": "execute_result"
    }
   ],
   "source": [
    "# []로 묶으면 insert구문에서 executemany 처럼 작동한다.\n",
    "con.execute(insert(A).values([{'NAME':'아무개1'}, {'NAME':'아무개2'}]))"
   ]
  },
  {
   "cell_type": "code",
   "execution_count": 78,
   "metadata": {},
   "outputs": [
    {
     "name": "stdout",
     "output_type": "stream",
     "text": [
      "2023-09-06 11:54:11,682 INFO sqlalchemy.engine.Engine SELECT \"T_A\".\"PK\", \"T_A\".\"NAME\" \n",
      "FROM \"T_A\"\n",
      "2023-09-06 11:54:11,683 INFO sqlalchemy.engine.Engine [cached since 1086s ago] ()\n"
     ]
    },
    {
     "data": {
      "text/plain": [
       "[(1, '가수1'), (2, '가수2'), (3, '가수3'), (4, '가수4'), (5, '아무개1'), (6, '아무개2')]"
      ]
     },
     "execution_count": 78,
     "metadata": {},
     "output_type": "execute_result"
    }
   ],
   "source": [
    "# 실제 작동 확인\n",
    "con.execute(select(A)).fetchall()"
   ]
  },
  {
   "cell_type": "code",
   "execution_count": 79,
   "metadata": {},
   "outputs": [
    {
     "name": "stdout",
     "output_type": "stream",
     "text": [
      "SELECT \"T_A\".\"NAME\", \"T_B\".\"NAME\" AS \"NAME_1\", \"T_D\".\"NAME\" AS \"NAME_2\" \n",
      "FROM \"T_A\" JOIN \"T_B\" ON \"T_A\".\"PK\" = \"T_B\".\"FK\" JOIN \"T_D\" ON \"T_B\".\"PK\" = \"T_D\".\"FK1\"\n"
     ]
    }
   ],
   "source": [
    "print(select(A.c.NAME, B.c.NAME, D.c.NAME).select_from(A.join(B).join(D)))"
   ]
  },
  {
   "cell_type": "code",
   "execution_count": 82,
   "metadata": {},
   "outputs": [
    {
     "name": "stdout",
     "output_type": "stream",
     "text": [
      "SELECT \"T_A\".\"NAME\", \"T_B\".\"NAME\" AS \"NAME_1\", \"T_C\".\"NAME\" AS \"NAME_2\", \"T_D\".\"NAME\" AS \"NAME_3\" \n",
      "FROM \"T_A\" JOIN \"T_B\" ON \"T_A\".\"PK\" = \"T_B\".\"FK\" JOIN \"T_D\" ON \"T_B\".\"PK\" = \"T_D\".\"FK1\" JOIN \"T_C\" ON \"T_C\".\"PK\" = \"T_D\".\"FK2\"\n"
     ]
    }
   ],
   "source": [
    "# 가수 - 앨범 - 장르 - 노래\n",
    "print(select(A.c.NAME, B.c.NAME, C.c.NAME, D.c.NAME).\\\n",
    "      # C는 FK가 설정되어 있지 않아서 A, B, D가 상속된 FK2의 값과 연결한다.\n",
    "      select_from(A.join(B).join(D).join(C, C.c.PK == D.c.FK2)))"
   ]
  },
  {
   "cell_type": "code",
   "execution_count": 83,
   "metadata": {},
   "outputs": [
    {
     "name": "stdout",
     "output_type": "stream",
     "text": [
      "2023-09-06 11:59:45,482 INFO sqlalchemy.engine.Engine SELECT \"T_D\".\"PK\", \"T_D\".\"NAME\", \"T_D\".\"FK1\", \"T_D\".\"FK2\" \n",
      "FROM \"T_D\"\n",
      "2023-09-06 11:59:45,483 INFO sqlalchemy.engine.Engine [cached since 1420s ago] ()\n"
     ]
    },
    {
     "data": {
      "text/plain": [
       "[(1, '1앨범_장르1_노래1', 1, 1),\n",
       " (2, '1앨범_장르1_노래2', 1, 1),\n",
       " (3, '1앨범_장르1_노래3', 1, 1),\n",
       " (4, '1앨범_장르1_노래4', 1, 1),\n",
       " (5, '1앨범_장르2_노래1', 1, 1),\n",
       " (6, '1앨범_장르2_노래2', 1, 1),\n",
       " (7, '1앨범_장르2_노래3', 1, 1),\n",
       " (8, '1앨범_장르2_노래4', 1, 1),\n",
       " (9, '1앨범_장르3_노래1', 1, 1),\n",
       " (10, '1앨범_장르3_노래2', 1, 1),\n",
       " (11, '1앨범_장르3_노래3', 1, 1),\n",
       " (12, '1앨범_장르3_노래4', 1, 1),\n",
       " (13, '1앨범_장르4_노래1', 1, 1),\n",
       " (14, '1앨범_장르4_노래2', 1, 1),\n",
       " (15, '1앨범_장르4_노래3', 1, 1),\n",
       " (16, '1앨범_장르4_노래4', 1, 1),\n",
       " (17, '2앨범_장르1_노래1', 2, 1),\n",
       " (18, '2앨범_장르1_노래2', 2, 1),\n",
       " (19, '2앨범_장르1_노래3', 2, 1),\n",
       " (20, '2앨범_장르1_노래4', 2, 1),\n",
       " (21, '2앨범_장르2_노래1', 2, 1),\n",
       " (22, '2앨범_장르2_노래2', 2, 1),\n",
       " (23, '2앨범_장르2_노래3', 2, 1),\n",
       " (24, '2앨범_장르2_노래4', 2, 1),\n",
       " (25, '2앨범_장르3_노래1', 2, 1),\n",
       " (26, '2앨범_장르3_노래2', 2, 1),\n",
       " (27, '2앨범_장르3_노래3', 2, 1),\n",
       " (28, '2앨범_장르3_노래4', 2, 1),\n",
       " (29, '2앨범_장르4_노래1', 2, 1),\n",
       " (30, '2앨범_장르4_노래2', 2, 1),\n",
       " (31, '2앨범_장르4_노래3', 2, 1),\n",
       " (32, '2앨범_장르4_노래4', 2, 1),\n",
       " (33, '3앨범_장르1_노래1', 3, 1),\n",
       " (34, '3앨범_장르1_노래2', 3, 1),\n",
       " (35, '3앨범_장르1_노래3', 3, 1),\n",
       " (36, '3앨범_장르1_노래4', 3, 1),\n",
       " (37, '3앨범_장르2_노래1', 3, 1),\n",
       " (38, '3앨범_장르2_노래2', 3, 1),\n",
       " (39, '3앨범_장르2_노래3', 3, 1),\n",
       " (40, '3앨범_장르2_노래4', 3, 1),\n",
       " (41, '3앨범_장르3_노래1', 3, 1),\n",
       " (42, '3앨범_장르3_노래2', 3, 1),\n",
       " (43, '3앨범_장르3_노래3', 3, 1),\n",
       " (44, '3앨범_장르3_노래4', 3, 1),\n",
       " (45, '3앨범_장르4_노래1', 3, 1),\n",
       " (46, '3앨범_장르4_노래2', 3, 1),\n",
       " (47, '3앨범_장르4_노래3', 3, 1),\n",
       " (48, '3앨범_장르4_노래4', 3, 1),\n",
       " (49, '4앨범_장르1_노래1', 4, 1),\n",
       " (50, '4앨범_장르1_노래2', 4, 1),\n",
       " (51, '4앨범_장르1_노래3', 4, 1),\n",
       " (52, '4앨범_장르1_노래4', 4, 1),\n",
       " (53, '4앨범_장르2_노래1', 4, 1),\n",
       " (54, '4앨범_장르2_노래2', 4, 1),\n",
       " (55, '4앨범_장르2_노래3', 4, 1),\n",
       " (56, '4앨범_장르2_노래4', 4, 1),\n",
       " (57, '4앨범_장르3_노래1', 4, 1),\n",
       " (58, '4앨범_장르3_노래2', 4, 1),\n",
       " (59, '4앨범_장르3_노래3', 4, 1),\n",
       " (60, '4앨범_장르3_노래4', 4, 1),\n",
       " (61, '4앨범_장르4_노래1', 4, 1),\n",
       " (62, '4앨범_장르4_노래2', 4, 1),\n",
       " (63, '4앨범_장르4_노래3', 4, 1),\n",
       " (64, '4앨범_장르4_노래4', 4, 1),\n",
       " (65, '5앨범_장르1_노래1', 5, 1),\n",
       " (66, '5앨범_장르1_노래2', 5, 1),\n",
       " (67, '5앨범_장르1_노래3', 5, 1),\n",
       " (68, '5앨범_장르1_노래4', 5, 1),\n",
       " (69, '5앨범_장르2_노래1', 5, 1),\n",
       " (70, '5앨범_장르2_노래2', 5, 1),\n",
       " (71, '5앨범_장르2_노래3', 5, 1),\n",
       " (72, '5앨범_장르2_노래4', 5, 1),\n",
       " (73, '5앨범_장르3_노래1', 5, 1),\n",
       " (74, '5앨범_장르3_노래2', 5, 1),\n",
       " (75, '5앨범_장르3_노래3', 5, 1),\n",
       " (76, '5앨범_장르3_노래4', 5, 1),\n",
       " (77, '5앨범_장르4_노래1', 5, 1),\n",
       " (78, '5앨범_장르4_노래2', 5, 1),\n",
       " (79, '5앨범_장르4_노래3', 5, 1),\n",
       " (80, '5앨범_장르4_노래4', 5, 1),\n",
       " (81, '6앨범_장르1_노래1', 6, 1),\n",
       " (82, '6앨범_장르1_노래2', 6, 1),\n",
       " (83, '6앨범_장르1_노래3', 6, 1),\n",
       " (84, '6앨범_장르1_노래4', 6, 1),\n",
       " (85, '6앨범_장르2_노래1', 6, 1),\n",
       " (86, '6앨범_장르2_노래2', 6, 1),\n",
       " (87, '6앨범_장르2_노래3', 6, 1),\n",
       " (88, '6앨범_장르2_노래4', 6, 1),\n",
       " (89, '6앨범_장르3_노래1', 6, 1),\n",
       " (90, '6앨범_장르3_노래2', 6, 1),\n",
       " (91, '6앨범_장르3_노래3', 6, 1),\n",
       " (92, '6앨범_장르3_노래4', 6, 1),\n",
       " (93, '6앨범_장르4_노래1', 6, 1),\n",
       " (94, '6앨범_장르4_노래2', 6, 1),\n",
       " (95, '6앨범_장르4_노래3', 6, 1),\n",
       " (96, '6앨범_장르4_노래4', 6, 1),\n",
       " (97, '7앨범_장르1_노래1', 7, 1),\n",
       " (98, '7앨범_장르1_노래2', 7, 1),\n",
       " (99, '7앨범_장르1_노래3', 7, 1),\n",
       " (100, '7앨범_장르1_노래4', 7, 1),\n",
       " (101, '7앨범_장르2_노래1', 7, 1),\n",
       " (102, '7앨범_장르2_노래2', 7, 1),\n",
       " (103, '7앨범_장르2_노래3', 7, 1),\n",
       " (104, '7앨범_장르2_노래4', 7, 1),\n",
       " (105, '7앨범_장르3_노래1', 7, 1),\n",
       " (106, '7앨범_장르3_노래2', 7, 1),\n",
       " (107, '7앨범_장르3_노래3', 7, 1),\n",
       " (108, '7앨범_장르3_노래4', 7, 1),\n",
       " (109, '7앨범_장르4_노래1', 7, 1),\n",
       " (110, '7앨범_장르4_노래2', 7, 1),\n",
       " (111, '7앨범_장르4_노래3', 7, 1),\n",
       " (112, '7앨범_장르4_노래4', 7, 1),\n",
       " (113, '8앨범_장르1_노래1', 8, 1),\n",
       " (114, '8앨범_장르1_노래2', 8, 1),\n",
       " (115, '8앨범_장르1_노래3', 8, 1),\n",
       " (116, '8앨범_장르1_노래4', 8, 1),\n",
       " (117, '8앨범_장르2_노래1', 8, 1),\n",
       " (118, '8앨범_장르2_노래2', 8, 1),\n",
       " (119, '8앨범_장르2_노래3', 8, 1),\n",
       " (120, '8앨범_장르2_노래4', 8, 1),\n",
       " (121, '8앨범_장르3_노래1', 8, 1),\n",
       " (122, '8앨범_장르3_노래2', 8, 1),\n",
       " (123, '8앨범_장르3_노래3', 8, 1),\n",
       " (124, '8앨범_장르3_노래4', 8, 1),\n",
       " (125, '8앨범_장르4_노래1', 8, 1),\n",
       " (126, '8앨범_장르4_노래2', 8, 1),\n",
       " (127, '8앨범_장르4_노래3', 8, 1),\n",
       " (128, '8앨범_장르4_노래4', 8, 1)]"
      ]
     },
     "execution_count": 83,
     "metadata": {},
     "output_type": "execute_result"
    }
   ],
   "source": [
    "# Table D의 장르가 하나로 설정되어 있음. 수정필요.\n",
    "con.execute(select(D)).fetchall()"
   ]
  },
  {
   "cell_type": "code",
   "execution_count": 84,
   "metadata": {},
   "outputs": [
    {
     "name": "stdout",
     "output_type": "stream",
     "text": [
      "2023-09-06 12:01:52,413 INFO sqlalchemy.engine.Engine BEGIN (implicit)\n",
      "2023-09-06 12:01:52,415 INFO sqlalchemy.engine.Engine PRAGMA main.table_info(\"T_A\")\n",
      "2023-09-06 12:01:52,417 INFO sqlalchemy.engine.Engine [raw sql] ()\n",
      "2023-09-06 12:01:52,419 INFO sqlalchemy.engine.Engine PRAGMA main.table_info(\"T_B\")\n",
      "2023-09-06 12:01:52,420 INFO sqlalchemy.engine.Engine [raw sql] ()\n",
      "2023-09-06 12:01:52,421 INFO sqlalchemy.engine.Engine PRAGMA main.table_info(\"T_C\")\n",
      "2023-09-06 12:01:52,422 INFO sqlalchemy.engine.Engine [raw sql] ()\n",
      "2023-09-06 12:01:52,423 INFO sqlalchemy.engine.Engine PRAGMA main.table_info(\"T_D\")\n",
      "2023-09-06 12:01:52,423 INFO sqlalchemy.engine.Engine [raw sql] ()\n",
      "2023-09-06 12:01:52,423 INFO sqlalchemy.engine.Engine \n",
      "DROP TABLE \"T_D\"\n",
      "2023-09-06 12:01:52,429 INFO sqlalchemy.engine.Engine [no key 0.00133s] ()\n",
      "2023-09-06 12:01:52,432 INFO sqlalchemy.engine.Engine \n",
      "DROP TABLE \"T_B\"\n",
      "2023-09-06 12:01:52,435 INFO sqlalchemy.engine.Engine [no key 0.00239s] ()\n",
      "2023-09-06 12:01:52,437 INFO sqlalchemy.engine.Engine \n",
      "DROP TABLE \"T_C\"\n",
      "2023-09-06 12:01:52,438 INFO sqlalchemy.engine.Engine [no key 0.00155s] ()\n",
      "2023-09-06 12:01:52,441 INFO sqlalchemy.engine.Engine \n",
      "DROP TABLE \"T_A\"\n",
      "2023-09-06 12:01:52,442 INFO sqlalchemy.engine.Engine [no key 0.00128s] ()\n",
      "2023-09-06 12:01:52,444 INFO sqlalchemy.engine.Engine COMMIT\n"
     ]
    }
   ],
   "source": [
    "meta.drop_all(engine)\n",
    "meta.clear()"
   ]
  },
  {
   "cell_type": "code",
   "execution_count": 85,
   "metadata": {},
   "outputs": [
    {
     "data": {
      "text/plain": [
       "FacadeDict({})"
      ]
     },
     "execution_count": 85,
     "metadata": {},
     "output_type": "execute_result"
    }
   ],
   "source": [
    "meta.tables"
   ]
  },
  {
   "cell_type": "code",
   "execution_count": 91,
   "metadata": {},
   "outputs": [
    {
     "data": {
      "text/plain": [
       "Table('POSTTAG', MetaData(), Column('PFK', Integer(), ForeignKey('POST.PK'), table=<POSTTAG>), Column('HFK', Integer(), ForeignKey('HASHTAG.PK'), table=<POSTTAG>), schema=None)"
      ]
     },
     "execution_count": 91,
     "metadata": {},
     "output_type": "execute_result"
    }
   ],
   "source": [
    "Table('POST', meta,\n",
    "      Column('PK', Integer, primary_key= True),\n",
    "      Column('CONTENT', Text),\n",
    "      extend_existing = True)\n",
    "\n",
    "Table('HASHTAG', meta,\n",
    "      Column('PK', Integer, primary_key= True),\n",
    "      Column('NAME', Text, nullable=False),\n",
    "      # server_default는 서버에 디폴트를 저장해서 새로 만들때마다 적용한다.\n",
    "      Column('Count', Integer, server_default='0'),\n",
    "      extend_existing = True)\n",
    "\n",
    "Table('POSTTAG', meta,\n",
    "      Column('PFK', None, ForeignKey('POST.PK')),\n",
    "      Column('HFK', Integer, ForeignKey('HASHTAG.PK')),\n",
    "      extend_existing = True)\n"
   ]
  },
  {
   "cell_type": "code",
   "execution_count": 92,
   "metadata": {},
   "outputs": [
    {
     "name": "stdout",
     "output_type": "stream",
     "text": [
      "2023-09-06 12:09:07,845 INFO sqlalchemy.engine.Engine BEGIN (implicit)\n",
      "2023-09-06 12:09:07,845 INFO sqlalchemy.engine.Engine PRAGMA main.table_info(\"POST\")\n",
      "2023-09-06 12:09:07,857 INFO sqlalchemy.engine.Engine [raw sql] ()\n",
      "2023-09-06 12:09:07,858 INFO sqlalchemy.engine.Engine PRAGMA temp.table_info(\"POST\")\n",
      "2023-09-06 12:09:07,859 INFO sqlalchemy.engine.Engine [raw sql] ()\n",
      "2023-09-06 12:09:07,860 INFO sqlalchemy.engine.Engine PRAGMA main.table_info(\"HASHTAG\")\n",
      "2023-09-06 12:09:07,861 INFO sqlalchemy.engine.Engine [raw sql] ()\n",
      "2023-09-06 12:09:07,863 INFO sqlalchemy.engine.Engine PRAGMA temp.table_info(\"HASHTAG\")\n",
      "2023-09-06 12:09:07,863 INFO sqlalchemy.engine.Engine [raw sql] ()\n",
      "2023-09-06 12:09:07,865 INFO sqlalchemy.engine.Engine PRAGMA main.table_info(\"POSTTAG\")\n",
      "2023-09-06 12:09:07,865 INFO sqlalchemy.engine.Engine [raw sql] ()\n",
      "2023-09-06 12:09:07,865 INFO sqlalchemy.engine.Engine PRAGMA temp.table_info(\"POSTTAG\")\n",
      "2023-09-06 12:09:07,865 INFO sqlalchemy.engine.Engine [raw sql] ()\n",
      "2023-09-06 12:09:07,865 INFO sqlalchemy.engine.Engine \n",
      "CREATE TABLE \"POST\" (\n",
      "\t\"PK\" INTEGER NOT NULL, \n",
      "\t\"CONTENT\" TEXT, \n",
      "\tPRIMARY KEY (\"PK\")\n",
      ")\n",
      "\n",
      "\n",
      "2023-09-06 12:09:07,865 INFO sqlalchemy.engine.Engine [no key 0.00083s] ()\n",
      "2023-09-06 12:09:07,865 INFO sqlalchemy.engine.Engine \n",
      "CREATE TABLE \"HASHTAG\" (\n",
      "\t\"PK\" INTEGER NOT NULL, \n",
      "\t\"NAME\" TEXT NOT NULL, \n",
      "\t\"Count\" INTEGER DEFAULT '0', \n",
      "\tPRIMARY KEY (\"PK\")\n",
      ")\n",
      "\n",
      "\n",
      "2023-09-06 12:09:07,865 INFO sqlalchemy.engine.Engine [no key 0.00080s] ()\n",
      "2023-09-06 12:09:07,865 INFO sqlalchemy.engine.Engine \n",
      "CREATE TABLE \"POSTTAG\" (\n",
      "\t\"PFK\" INTEGER, \n",
      "\t\"HFK\" INTEGER, \n",
      "\tFOREIGN KEY(\"PFK\") REFERENCES \"POST\" (\"PK\"), \n",
      "\tFOREIGN KEY(\"HFK\") REFERENCES \"HASHTAG\" (\"PK\")\n",
      ")\n",
      "\n",
      "\n",
      "2023-09-06 12:09:07,865 INFO sqlalchemy.engine.Engine [no key 0.00050s] ()\n",
      "2023-09-06 12:09:07,875 INFO sqlalchemy.engine.Engine COMMIT\n"
     ]
    }
   ],
   "source": [
    "meta.create_all(engine)"
   ]
  },
  {
   "cell_type": "code",
   "execution_count": 94,
   "metadata": {},
   "outputs": [],
   "source": [
    "A = meta.tables['POST']\n",
    "B = meta.tables['HASHTAG']\n",
    "C = meta.tables['POSTTAG']"
   ]
  },
  {
   "cell_type": "code",
   "execution_count": 95,
   "metadata": {},
   "outputs": [
    {
     "name": "stdout",
     "output_type": "stream",
     "text": [
      "2023-09-06 12:10:08,248 INFO sqlalchemy.engine.Engine INSERT INTO \"HASHTAG\" (\"NAME\") VALUES (?)\n",
      "2023-09-06 12:10:08,249 INFO sqlalchemy.engine.Engine [generated in 0.00104s] ('A',)\n"
     ]
    },
    {
     "data": {
      "text/plain": [
       "<sqlalchemy.engine.cursor.CursorResult at 0x15fd39aea60>"
      ]
     },
     "execution_count": 95,
     "metadata": {},
     "output_type": "execute_result"
    }
   ],
   "source": [
    "con.execute(B.insert().values(NAME = 'A'))"
   ]
  },
  {
   "cell_type": "code",
   "execution_count": 96,
   "metadata": {},
   "outputs": [
    {
     "name": "stdout",
     "output_type": "stream",
     "text": [
      "2023-09-06 12:10:25,852 INFO sqlalchemy.engine.Engine SELECT \"HASHTAG\".\"PK\", \"HASHTAG\".\"NAME\", \"HASHTAG\".\"Count\" \n",
      "FROM \"HASHTAG\"\n",
      "2023-09-06 12:10:25,853 INFO sqlalchemy.engine.Engine [generated in 0.00116s] ()\n"
     ]
    },
    {
     "data": {
      "text/plain": [
       "[(1, 'A', 0)]"
      ]
     },
     "execution_count": 96,
     "metadata": {},
     "output_type": "execute_result"
    }
   ],
   "source": [
    "con.execute(B.select()).fetchall()"
   ]
  },
  {
   "cell_type": "code",
   "execution_count": 116,
   "metadata": {},
   "outputs": [
    {
     "name": "stdout",
     "output_type": "stream",
     "text": [
      "2023-09-06 12:15:41,299 INFO sqlalchemy.engine.Engine DELETE FROM \"HASHTAG\"\n",
      "2023-09-06 12:15:41,300 INFO sqlalchemy.engine.Engine [cached since 293.4s ago] ()\n"
     ]
    },
    {
     "data": {
      "text/plain": [
       "<sqlalchemy.engine.cursor.CursorResult at 0x15fd39a5400>"
      ]
     },
     "execution_count": 116,
     "metadata": {},
     "output_type": "execute_result"
    }
   ],
   "source": [
    "con.execute(B.delete())"
   ]
  },
  {
   "cell_type": "code",
   "execution_count": 169,
   "metadata": {},
   "outputs": [
    {
     "name": "stdout",
     "output_type": "stream",
     "text": [
      "2023-09-06 12:56:30,917 INFO sqlalchemy.engine.Engine SELECT \"HASHTAG\".\"PK\", \"HASHTAG\".\"NAME\", \"HASHTAG\".\"Count\" \n",
      "FROM \"HASHTAG\"\n",
      "2023-09-06 12:56:30,918 INFO sqlalchemy.engine.Engine [cached since 2765s ago] ()\n"
     ]
    },
    {
     "data": {
      "text/plain": [
       "[]"
      ]
     },
     "execution_count": 169,
     "metadata": {},
     "output_type": "execute_result"
    }
   ],
   "source": [
    "con.execute(B.select()).fetchall()"
   ]
  },
  {
   "cell_type": "code",
   "execution_count": 172,
   "metadata": {},
   "outputs": [
    {
     "name": "stdout",
     "output_type": "stream",
     "text": [
      "2023-09-06 12:56:59,039 INFO sqlalchemy.engine.Engine SELECT count(\"HASHTAG\".\"PK\") AS count_1 \n",
      "FROM \"HASHTAG\" \n",
      "WHERE \"HASHTAG\".\"NAME\" = ?\n",
      "2023-09-06 12:56:59,040 INFO sqlalchemy.engine.Engine [cached since 2622s ago] ('ORM',)\n",
      "1\n",
      "2023-09-06 12:56:59,040 INFO sqlalchemy.engine.Engine SELECT count(\"HASHTAG\".\"PK\") AS count_1 \n",
      "FROM \"HASHTAG\" \n",
      "WHERE \"HASHTAG\".\"NAME\" = ?\n",
      "2023-09-06 12:56:59,041 INFO sqlalchemy.engine.Engine [cached since 2622s ago] ('ORM',)\n"
     ]
    },
    {
     "data": {
      "text/plain": [
       "1"
      ]
     },
     "execution_count": 172,
     "metadata": {},
     "output_type": "execute_result"
    }
   ],
   "source": [
    "#print(select(func.count(B.c.PK)).where(B.c.NAME == 'ORM'))\n",
    "key = 'ORM'\n",
    "size = con.execute(select(func.count(B.c.PK)).where(B.c.NAME == key)).fetchall()[0][0]\n",
    "print(size)\n",
    "if size == 0:\n",
    "    con.execute(B.insert().values(NAME = key))\n",
    "\n",
    "con.execute(select(func.count(B.c.PK)).where(B.c.NAME == key)).fetchall()[0][0]"
   ]
  },
  {
   "cell_type": "code",
   "execution_count": null,
   "metadata": {},
   "outputs": [],
   "source": [
    "1. POST에 본문 insert\n",
    "2. insert된 PK 가져오기\n",
    "3. 위에 코드 이용해서 해시태그 PK값 가져오기\n",
    "4. POSTAG에 POST.PK, HASHTAG.PK를 insert\n",
    "5. HASHTAG count = HASHTAG count + 1, if PK == HASHTAG.PK "
   ]
  },
  {
   "cell_type": "code",
   "execution_count": 126,
   "metadata": {},
   "outputs": [
    {
     "name": "stdout",
     "output_type": "stream",
     "text": [
      "2023-09-06 12:23:32,336 INFO sqlalchemy.engine.Engine SELECT \"POST\".\"PK\", \"POST\".\"CONTENT\" \n",
      "FROM \"POST\"\n",
      "2023-09-06 12:23:32,337 INFO sqlalchemy.engine.Engine [cached since 10.18s ago] ()\n"
     ]
    },
    {
     "data": {
      "text/plain": [
       "<sqlalchemy.engine.cursor.CursorResult at 0x15fd39aec40>"
      ]
     },
     "execution_count": 126,
     "metadata": {},
     "output_type": "execute_result"
    }
   ],
   "source": [
    "con.execute(A.select())"
   ]
  },
  {
   "cell_type": "code",
   "execution_count": 176,
   "metadata": {},
   "outputs": [
    {
     "name": "stdout",
     "output_type": "stream",
     "text": [
      "2023-09-06 12:57:40,801 INFO sqlalchemy.engine.Engine DELETE FROM \"POST\"\n",
      "2023-09-06 12:57:40,801 INFO sqlalchemy.engine.Engine [cached since 1895s ago] ()\n"
     ]
    },
    {
     "data": {
      "text/plain": [
       "<sqlalchemy.engine.cursor.CursorResult at 0x15fd3c11f40>"
      ]
     },
     "execution_count": 176,
     "metadata": {},
     "output_type": "execute_result"
    }
   ],
   "source": [
    "con.execute(A.delete())"
   ]
  },
  {
   "cell_type": "code",
   "execution_count": 177,
   "metadata": {},
   "outputs": [
    {
     "name": "stdout",
     "output_type": "stream",
     "text": [
      "2023-09-06 12:57:41,784 INFO sqlalchemy.engine.Engine INSERT INTO \"POST\" (\"CONTENT\") VALUES (?)\n",
      "2023-09-06 12:57:41,785 INFO sqlalchemy.engine.Engine [cached since 1991s ago] ('본문1',)\n"
     ]
    },
    {
     "data": {
      "text/plain": [
       "<sqlalchemy.engine.cursor.CursorResult at 0x15fd3c11700>"
      ]
     },
     "execution_count": 177,
     "metadata": {},
     "output_type": "execute_result"
    }
   ],
   "source": [
    "# 1. POST에 content 넣기\n",
    "data1 = {'content': '본문1', 'tags':['Python']}\n",
    "\n",
    "con.execute(A.insert().values(CONTENT = data1['content']))"
   ]
  },
  {
   "cell_type": "code",
   "execution_count": 178,
   "metadata": {},
   "outputs": [
    {
     "name": "stdout",
     "output_type": "stream",
     "text": [
      "2023-09-06 12:57:42,913 INFO sqlalchemy.engine.Engine SELECT \"POST\".\"PK\", \"POST\".\"CONTENT\" \n",
      "FROM \"POST\"\n",
      "2023-09-06 12:57:42,914 INFO sqlalchemy.engine.Engine [cached since 2061s ago] ()\n"
     ]
    },
    {
     "data": {
      "text/plain": [
       "[(1, '본문1')]"
      ]
     },
     "execution_count": 178,
     "metadata": {},
     "output_type": "execute_result"
    }
   ],
   "source": [
    "con.execute(A.select()).fetchall()"
   ]
  },
  {
   "cell_type": "code",
   "execution_count": 191,
   "metadata": {},
   "outputs": [
    {
     "name": "stdout",
     "output_type": "stream",
     "text": [
      "2023-09-06 13:04:03,743 INFO sqlalchemy.engine.Engine SELECT \"POST\".\"PK\" \n",
      "FROM \"POST\" \n",
      "WHERE \"POST\".\"CONTENT\" = ?\n",
      "2023-09-06 13:04:03,745 INFO sqlalchemy.engine.Engine [cached since 2187s ago] ('본문1',)\n"
     ]
    }
   ],
   "source": [
    "# 2. PK값 불러오기\n",
    "A_PK = con.execute(select(A.c.PK).where(A.c.CONTENT == data1['content'])).fetchall()[0]"
   ]
  },
  {
   "cell_type": "code",
   "execution_count": 193,
   "metadata": {},
   "outputs": [
    {
     "name": "stdout",
     "output_type": "stream",
     "text": [
      "2023-09-06 13:04:13,058 INFO sqlalchemy.engine.Engine SELECT \"HASHTAG\".\"PK\" \n",
      "FROM \"HASHTAG\" \n",
      "WHERE \"HASHTAG\".\"PK\" = ?\n",
      "2023-09-06 13:04:13,058 INFO sqlalchemy.engine.Engine [cached since 728s ago] (1,)\n"
     ]
    }
   ],
   "source": [
    "# 3. 해시태그 PK 값 매칭\n",
    "#print(select(func.count(B.c.PK)).where(B.c.NAME == 'ORM'))\n",
    "\n",
    "H_PK = con.execute(select(B.c.PK).where(B.c.PK == A_PK[0])).fetchall()[0]"
   ]
  },
  {
   "cell_type": "code",
   "execution_count": 194,
   "metadata": {},
   "outputs": [
    {
     "data": {
      "text/plain": [
       "(1,)"
      ]
     },
     "execution_count": 194,
     "metadata": {},
     "output_type": "execute_result"
    }
   ],
   "source": [
    "H_PK"
   ]
  },
  {
   "cell_type": "code",
   "execution_count": 206,
   "metadata": {},
   "outputs": [
    {
     "name": "stdout",
     "output_type": "stream",
     "text": [
      "2023-09-06 13:08:24,298 INFO sqlalchemy.engine.Engine INSERT INTO \"POSTTAG\" (\"PFK\", \"HFK\") VALUES (?, ?)\n",
      "2023-09-06 13:08:24,299 INFO sqlalchemy.engine.Engine [no key 0.00071s] (1, 1)\n"
     ]
    },
    {
     "data": {
      "text/plain": [
       "<sqlalchemy.engine.cursor.CursorResult at 0x15fd3c88d00>"
      ]
     },
     "execution_count": 206,
     "metadata": {},
     "output_type": "execute_result"
    }
   ],
   "source": [
    "# 4. POSTAG에 POST.PK, HASHTAG.PK를 insert\n",
    "con.execute(insert(C).values([{'PFK':A_PK[0], 'HFK':H_PK[0]}]))"
   ]
  },
  {
   "cell_type": "code",
   "execution_count": 207,
   "metadata": {},
   "outputs": [
    {
     "name": "stdout",
     "output_type": "stream",
     "text": [
      "2023-09-06 13:08:25,196 INFO sqlalchemy.engine.Engine SELECT \"POSTTAG\".\"PFK\", \"POSTTAG\".\"HFK\" \n",
      "FROM \"POSTTAG\"\n",
      "2023-09-06 13:08:25,196 INFO sqlalchemy.engine.Engine [cached since 56.33s ago] ()\n"
     ]
    },
    {
     "data": {
      "text/plain": [
       "[(1, 1)]"
      ]
     },
     "execution_count": 207,
     "metadata": {},
     "output_type": "execute_result"
    }
   ],
   "source": [
    "con.execute(C.select()).fetchall()"
   ]
  },
  {
   "cell_type": "code",
   "execution_count": 229,
   "metadata": {},
   "outputs": [
    {
     "name": "stdout",
     "output_type": "stream",
     "text": [
      "2023-09-06 13:20:12,395 INFO sqlalchemy.engine.Engine UPDATE \"HASHTAG\" SET \"Count\"=(\"HASHTAG\".\"Count\" + ?) FROM \"POSTTAG\" WHERE \"HASHTAG\".\"PK\" = \"POSTTAG\".\"PFK\"\n",
      "2023-09-06 13:20:12,400 INFO sqlalchemy.engine.Engine [generated in 0.00181s] (1,)\n"
     ]
    },
    {
     "data": {
      "text/plain": [
       "<sqlalchemy.engine.cursor.CursorResult at 0x15fd3c88f40>"
      ]
     },
     "execution_count": 229,
     "metadata": {},
     "output_type": "execute_result"
    }
   ],
   "source": [
    "# 5. HASHTAG count = HASHTAG count + 1, if PK == HASHTAG.PK \n",
    "con.execute(update(B).where(B.c.PK == C.c.PFK).values({'Count': B.c.Count + 1}))"
   ]
  },
  {
   "cell_type": "code",
   "execution_count": 230,
   "metadata": {},
   "outputs": [
    {
     "name": "stdout",
     "output_type": "stream",
     "text": [
      "2023-09-06 13:20:14,734 INFO sqlalchemy.engine.Engine SELECT \"HASHTAG\".\"PK\", \"HASHTAG\".\"NAME\", \"HASHTAG\".\"Count\" \n",
      "FROM \"HASHTAG\"\n",
      "2023-09-06 13:20:14,739 INFO sqlalchemy.engine.Engine [cached since 4189s ago] ()\n"
     ]
    },
    {
     "data": {
      "text/plain": [
       "[(1, 'ORM', 1)]"
      ]
     },
     "execution_count": 230,
     "metadata": {},
     "output_type": "execute_result"
    }
   ],
   "source": [
    "con.execute(B.select()).fetchall()"
   ]
  },
  {
   "cell_type": "code",
   "execution_count": 242,
   "metadata": {},
   "outputs": [
    {
     "name": "stdout",
     "output_type": "stream",
     "text": [
      "2023-09-07 08:01:26,054 INFO sqlalchemy.engine.Engine BEGIN (implicit)\n",
      "2023-09-07 08:01:26,057 INFO sqlalchemy.engine.Engine COMMIT\n",
      "2023-09-07 08:01:26,062 INFO sqlalchemy.engine.Engine BEGIN (implicit)\n",
      "2023-09-07 08:01:26,062 INFO sqlalchemy.engine.Engine PRAGMA main.table_info(\"POST\")\n",
      "2023-09-07 08:01:26,064 INFO sqlalchemy.engine.Engine [raw sql] ()\n",
      "2023-09-07 08:01:26,066 INFO sqlalchemy.engine.Engine PRAGMA temp.table_info(\"POST\")\n",
      "2023-09-07 08:01:26,066 INFO sqlalchemy.engine.Engine [raw sql] ()\n",
      "2023-09-07 08:01:26,066 INFO sqlalchemy.engine.Engine PRAGMA main.table_info(\"HASHTAG\")\n",
      "2023-09-07 08:01:26,066 INFO sqlalchemy.engine.Engine [raw sql] ()\n",
      "2023-09-07 08:01:26,066 INFO sqlalchemy.engine.Engine PRAGMA temp.table_info(\"HASHTAG\")\n",
      "2023-09-07 08:01:26,066 INFO sqlalchemy.engine.Engine [raw sql] ()\n",
      "2023-09-07 08:01:26,074 INFO sqlalchemy.engine.Engine PRAGMA main.table_info(\"POSTTAG\")\n",
      "2023-09-07 08:01:26,074 INFO sqlalchemy.engine.Engine [raw sql] ()\n",
      "2023-09-07 08:01:26,074 INFO sqlalchemy.engine.Engine PRAGMA temp.table_info(\"POSTTAG\")\n",
      "2023-09-07 08:01:26,074 INFO sqlalchemy.engine.Engine [raw sql] ()\n",
      "2023-09-07 08:01:26,074 INFO sqlalchemy.engine.Engine \n",
      "CREATE TABLE \"POST\" (\n",
      "\t\"PK\" INTEGER NOT NULL, \n",
      "\t\"CONTENT\" TEXT, \n",
      "\tPRIMARY KEY (\"PK\")\n",
      ")\n",
      "\n",
      "\n",
      "2023-09-07 08:01:26,074 INFO sqlalchemy.engine.Engine [no key 0.00082s] ()\n",
      "2023-09-07 08:01:26,082 INFO sqlalchemy.engine.Engine \n",
      "CREATE TABLE \"HASHTAG\" (\n",
      "\t\"PK\" INTEGER NOT NULL, \n",
      "\t\"NAME\" TEXT NOT NULL, \n",
      "\t\"Count\" INTEGER DEFAULT '0', \n",
      "\tPRIMARY KEY (\"PK\")\n",
      ")\n",
      "\n",
      "\n",
      "2023-09-07 08:01:26,084 INFO sqlalchemy.engine.Engine [no key 0.00083s] ()\n"
     ]
    },
    {
     "name": "stdout",
     "output_type": "stream",
     "text": [
      "2023-09-07 08:01:26,084 INFO sqlalchemy.engine.Engine \n",
      "CREATE TABLE \"POSTTAG\" (\n",
      "\t\"PFK\" INTEGER, \n",
      "\t\"HFK\" INTEGER, \n",
      "\tFOREIGN KEY(\"PFK\") REFERENCES \"POST\" (\"PK\"), \n",
      "\tFOREIGN KEY(\"HFK\") REFERENCES \"HASHTAG\" (\"PK\")\n",
      ")\n",
      "\n",
      "\n",
      "2023-09-07 08:01:26,086 INFO sqlalchemy.engine.Engine [no key 0.00063s] ()\n",
      "2023-09-07 08:01:26,086 INFO sqlalchemy.engine.Engine COMMIT\n",
      "2023-09-07 08:01:26,086 INFO sqlalchemy.engine.Engine BEGIN (implicit)\n",
      "2023-09-07 08:01:26,090 INFO sqlalchemy.engine.Engine INSERT INTO \"POST\" (\"CONTENT\") VALUES (?)\n",
      "2023-09-07 08:01:26,090 INFO sqlalchemy.engine.Engine [generated in 0.00148s] ('본문1',)\n",
      "1\n",
      "2023-09-07 08:01:26,094 INFO sqlalchemy.engine.Engine SELECT count(\"HASHTAG\".\"Count\") AS count_1 \n",
      "FROM \"HASHTAG\" \n",
      "WHERE \"HASHTAG\".\"NAME\" = ?\n",
      "2023-09-07 08:01:26,094 INFO sqlalchemy.engine.Engine [generated in 0.00107s] ('Python',)\n",
      "2023-09-07 08:01:26,094 INFO sqlalchemy.engine.Engine INSERT INTO \"HASHTAG\" (\"NAME\") VALUES (?)\n",
      "2023-09-07 08:01:26,094 INFO sqlalchemy.engine.Engine [generated in 0.00061s] ('Python',)\n",
      "2023-09-07 08:01:26,098 INFO sqlalchemy.engine.Engine SELECT \"HASHTAG\".\"PK\" \n",
      "FROM \"HASHTAG\" \n",
      "WHERE \"HASHTAG\".\"NAME\" = ?\n",
      "2023-09-07 08:01:26,098 INFO sqlalchemy.engine.Engine [generated in 0.00093s] ('Python',)\n",
      "2023-09-07 08:01:26,098 INFO sqlalchemy.engine.Engine INSERT INTO \"POSTTAG\" (\"PFK\", \"HFK\") VALUES (?, ?)\n",
      "2023-09-07 08:01:26,104 INFO sqlalchemy.engine.Engine [no key 0.00116s] (1, 1)\n",
      "2023-09-07 08:01:26,106 INFO sqlalchemy.engine.Engine UPDATE \"HASHTAG\" SET \"Count\"=(\"HASHTAG\".\"Count\" + ?) FROM \"POSTTAG\" WHERE \"HASHTAG\".\"PK\" = \"POSTTAG\".\"HFK\"\n",
      "2023-09-07 08:01:26,106 INFO sqlalchemy.engine.Engine [generated in 0.00148s] (1,)\n",
      "2023-09-07 08:01:26,106 INFO sqlalchemy.engine.Engine SELECT \"HASHTAG\".\"PK\", \"HASHTAG\".\"NAME\", \"HASHTAG\".\"Count\" \n",
      "FROM \"HASHTAG\"\n",
      "2023-09-07 08:01:26,106 INFO sqlalchemy.engine.Engine [generated in 0.00068s] ()\n"
     ]
    },
    {
     "data": {
      "text/plain": [
       "[(1, 'Python', 1)]"
      ]
     },
     "execution_count": 242,
     "metadata": {},
     "output_type": "execute_result"
    }
   ],
   "source": [
    "\"\"\" \n",
    "<HOMEWORK>\n",
    "1. POST에 본문 insert\n",
    "2. insert된 PK 가져오기\n",
    "3. 위에 코드 이용해서 해시태그 PK값 가져오기\n",
    "4. POSTAG에 POST.PK, HASHTAG.PK를 insert\n",
    "5. HASHTAG count = HASHTAG count + 1, if PK == HASHTAG.PK \n",
    " \"\"\"\n",
    "\n",
    "# engine, connect Define\n",
    "engine = create_engine('sqlite:///:memory:', echo = True)\n",
    "meta = MetaData()\n",
    "con = engine.connect()\n",
    "\n",
    "# 초기화\n",
    "meta.drop_all(engine)\n",
    "meta.clear()\n",
    "meta.remove(A)\n",
    "meta.remove(B)\n",
    "meta.remove(C)\n",
    "\n",
    "# 테이블 생성\n",
    "Table('POST', meta,\n",
    "      Column('PK', Integer, primary_key= True),\n",
    "      Column('CONTENT', Text),\n",
    "      extend_existing = True)\n",
    "\n",
    "Table('HASHTAG', meta,\n",
    "      Column('PK', Integer, primary_key= True),\n",
    "      Column('NAME', Text, nullable=False),\n",
    "      # server_default는 서버에 디폴트를 저장해서 새로 만들때마다 적용한다.\n",
    "      Column('Count', Integer, server_default='0'),\n",
    "      extend_existing = True)\n",
    "\n",
    "Table('POSTTAG', meta,\n",
    "      Column('PFK', None, ForeignKey('POST.PK')),\n",
    "      Column('HFK', Integer, ForeignKey('HASHTAG.PK')),\n",
    "      extend_existing = True)\n",
    "\n",
    "# commit\n",
    "meta.create_all(engine)\n",
    "\n",
    "# Define Table\n",
    "A = meta.tables['POST']\n",
    "B = meta.tables['HASHTAG']\n",
    "C = meta.tables['POSTTAG']\n",
    "\n",
    "# 1. POST에 content 넣기 +  2. PK값 불러오기\n",
    "data1 = {'content': '본문1', 'tags':['Python']}\n",
    "\n",
    "# A에 컨탠츠를 넣음과 동시에 lastrowid로 PFK 값 추출\n",
    "A_PK = con.execute(A.insert().values(CONTENT = data1['content'])).lastrowid\n",
    "print(A_PK)\n",
    "\n",
    "# 3. 해시태그 PK 값 매칭\n",
    "for tag in data1['tags']:\n",
    "    size = con.execute(select(func.count(B.c.Count)).where(B.c.NAME == tag)).fetchone()[0]\n",
    "    if size == 0:\n",
    "        con.execute(insert(B).values(NAME = tag))\n",
    "\n",
    "H_PK = con.execute(select(B.c.PK).where(B.c.NAME == tag)).fetchall()[0]\n",
    "\n",
    "# 4. POSTAG에 POST.PK, HASHTAG.PK를 insert\n",
    "con.execute(insert(C).values([{'PFK':A_PK, 'HFK':H_PK[0]}]))\n",
    "\n",
    "# 5. HASHTAG count = HASHTAG count + 1, if PK == HASHTAG.PK \n",
    "con.execute(update(B).where(B.c.PK == C.c.HFK).values({'Count': B.c.Count + 1}))\n",
    "\n",
    "con.execute(select(B)).fetchall()"
   ]
  }
 ],
 "metadata": {
  "kernelspec": {
   "display_name": "base",
   "language": "python",
   "name": "python3"
  },
  "language_info": {
   "codemirror_mode": {
    "name": "ipython",
    "version": 3
   },
   "file_extension": ".py",
   "mimetype": "text/x-python",
   "name": "python",
   "nbconvert_exporter": "python",
   "pygments_lexer": "ipython3",
   "version": "3.9.13"
  },
  "orig_nbformat": 4
 },
 "nbformat": 4,
 "nbformat_minor": 2
}
