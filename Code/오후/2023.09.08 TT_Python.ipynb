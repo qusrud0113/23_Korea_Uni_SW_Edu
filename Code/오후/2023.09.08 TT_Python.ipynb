{
 "cells": [
  {
   "cell_type": "code",
   "execution_count": 1,
   "metadata": {},
   "outputs": [],
   "source": [
    "adders = []\n",
    "for n in range(5): \n",
    "    adders.append(lambda m:m+n) # 시그니처가 n"
   ]
  },
  {
   "cell_type": "code",
   "execution_count": 2,
   "metadata": {},
   "outputs": [
    {
     "data": {
      "text/plain": [
       "[<function __main__.<lambda>(m)>,\n",
       " <function __main__.<lambda>(m)>,\n",
       " <function __main__.<lambda>(m)>,\n",
       " <function __main__.<lambda>(m)>,\n",
       " <function __main__.<lambda>(m)>]"
      ]
     },
     "execution_count": 2,
     "metadata": {},
     "output_type": "execute_result"
    }
   ],
   "source": [
    "adders # 다 다른 함수지만 (시그니처가 같음 > 이름이 같으므로 다 같음)"
   ]
  },
  {
   "cell_type": "code",
   "execution_count": 15,
   "metadata": {},
   "outputs": [
    {
     "name": "stdout",
     "output_type": "stream",
     "text": [
      "6\n",
      "6\n"
     ]
    }
   ],
   "source": [
    "print(adders[3](2)) # 이름이 같으면 뒤에 있는 것으로 뒤엎는다 \n",
    "print(adders[4](2))"
   ]
  },
  {
   "cell_type": "code",
   "execution_count": 9,
   "metadata": {},
   "outputs": [],
   "source": [
    "a = 1"
   ]
  },
  {
   "cell_type": "code",
   "execution_count": 10,
   "metadata": {},
   "outputs": [],
   "source": [
    "a = 2"
   ]
  },
  {
   "cell_type": "code",
   "execution_count": 11,
   "metadata": {},
   "outputs": [],
   "source": [
    "def a():\n",
    "    return 1"
   ]
  },
  {
   "cell_type": "code",
   "execution_count": 14,
   "metadata": {},
   "outputs": [
    {
     "data": {
      "text/plain": [
       "1"
      ]
     },
     "execution_count": 14,
     "metadata": {},
     "output_type": "execute_result"
    }
   ],
   "source": [
    "a() # 재할당"
   ]
  },
  {
   "cell_type": "code",
   "execution_count": 24,
   "metadata": {},
   "outputs": [],
   "source": [
    "adders = []\n",
    "for n in range(5):                     # 함수의 이름이 같을 때, 다른 함수처럼 사용하고 싶다면,\n",
    "    adders.append(lambda m, n = n:m+n) # n = n (우변의 n은 글로벌 n, 좌변의 n은 로컬의 n)"
   ]
  },
  {
   "cell_type": "code",
   "execution_count": 26,
   "metadata": {},
   "outputs": [
    {
     "name": "stdout",
     "output_type": "stream",
     "text": [
      "1\n",
      "2\n"
     ]
    }
   ],
   "source": [
    "# 다른 함수처럼 만드려면 디폴트값을 적어준다.\n",
    "print(adders[0](1))\n",
    "print(adders[1](1))"
   ]
  },
  {
   "cell_type": "markdown",
   "metadata": {},
   "source": [
    "# Accessors (접근하는 것, descriptor) <br>"
   ]
  },
  {
   "cell_type": "code",
   "execution_count": null,
   "metadata": {},
   "outputs": [],
   "source": [
    "# descriptor (or property)\n",
    "get # 이미 있는 값을 요구하는 것         <- accessor\n",
    "set # 값을 부여하는 것 e.g. a = 2       <- accessor\n",
    "del # 값을 지우는 것"
   ]
  },
  {
   "cell_type": "code",
   "execution_count": null,
   "metadata": {},
   "outputs": [],
   "source": [
    "# Static methods의 사용 이유?\n",
    "# name space : 이름 공간"
   ]
  },
  {
   "cell_type": "code",
   "execution_count": 27,
   "metadata": {},
   "outputs": [
    {
     "data": {
      "text/plain": [
       "<ufunc 'add'>"
      ]
     },
     "execution_count": 27,
     "metadata": {},
     "output_type": "execute_result"
    }
   ],
   "source": [
    "import numpy as np\n",
    "np.add # add는 np라는 이름을 갖는 공간에 있다."
   ]
  },
  {
   "cell_type": "code",
   "execution_count": 28,
   "metadata": {},
   "outputs": [
    {
     "name": "stdout",
     "output_type": "stream",
     "text": [
      "Variable   Type        Data/Info\n",
      "--------------------------------\n",
      "a          function    <function a at 0x00000164FE324310>\n",
      "adders     list        n=5\n",
      "n          int         4\n",
      "np         module      <module 'numpy' from 'c:\\<...>ges\\\\numpy\\\\__init__.py'>\n"
     ]
    }
   ],
   "source": [
    "%whos"
   ]
  },
  {
   "cell_type": "code",
   "execution_count": 29,
   "metadata": {},
   "outputs": [],
   "source": [
    "class A:\n",
    "    def x(self):\n",
    "        print('A')"
   ]
  },
  {
   "cell_type": "code",
   "execution_count": 30,
   "metadata": {},
   "outputs": [
    {
     "data": {
      "text/plain": [
       "<function __main__.A.x(self)>"
      ]
     },
     "execution_count": 30,
     "metadata": {},
     "output_type": "execute_result"
    }
   ],
   "source": [
    "A.x # A라는 name space안에 x라는 함수\n",
    "# 클래스는 name space다. => class = type이고 type은 name space 관점에서 볼 수 있다."
   ]
  },
  {
   "cell_type": "markdown",
   "metadata": {},
   "source": [
    "catastrophic forggeting # 내 기억용량이 1 > 내일 1만큼 새로 배우면 과거자료를 삭제함"
   ]
  },
  {
   "cell_type": "code",
   "execution_count": 31,
   "metadata": {},
   "outputs": [],
   "source": [
    "from numpy import add # from은 내 name space에 가져오겠다. \n",
    "                      # name space에 add를 가지고 온다."
   ]
  },
  {
   "cell_type": "code",
   "execution_count": 33,
   "metadata": {},
   "outputs": [
    {
     "name": "stdout",
     "output_type": "stream",
     "text": [
      "Variable   Type        Data/Info\n",
      "--------------------------------\n",
      "A          type        <class '__main__.A'>\n",
      "a          function    <function a at 0x00000164FE324310>\n",
      "add        ufunc       <ufunc 'add'>\n",
      "adders     list        n=5\n",
      "n          int         4\n",
      "np         module      <module 'numpy' from 'c:\\<...>ges\\\\numpy\\\\__init__.py'>\n"
     ]
    }
   ],
   "source": [
    "%whos"
   ]
  },
  {
   "cell_type": "code",
   "execution_count": 40,
   "metadata": {},
   "outputs": [
    {
     "data": {
      "text/plain": [
       "1"
      ]
     },
     "execution_count": 40,
     "metadata": {},
     "output_type": "execute_result"
    }
   ],
   "source": [
    "# 왜 st를 같은 실습하는 공간에 넣었는가?\n",
    "# sys에서 st를 찾기 위해서\n",
    "# st.py 파일 생성\n",
    "\"\"\"\n",
    "a = 1\n",
    "_a = 2\n",
    "def x():\n",
    "    print(1)\n",
    "def _x():\n",
    "    print(1)\n",
    "\n",
    "\"\"\"\n",
    "from st import x, _x, a, _a # import는 파일안에 저장된 것을 불러온다.\n",
    "a"
   ]
  },
  {
   "cell_type": "code",
   "execution_count": 37,
   "metadata": {},
   "outputs": [
    {
     "data": {
      "text/plain": [
       "['c:\\\\Users\\\\GyeongJun\\\\Desktop\\\\고대_SW교육\\\\Code\\\\오후',\n",
       " 'c:\\\\Users\\\\GyeongJun\\\\anaconda3\\\\python39.zip',\n",
       " 'c:\\\\Users\\\\GyeongJun\\\\anaconda3\\\\DLLs',\n",
       " 'c:\\\\Users\\\\GyeongJun\\\\anaconda3\\\\lib',\n",
       " 'c:\\\\Users\\\\GyeongJun\\\\anaconda3',\n",
       " '',\n",
       " 'c:\\\\Users\\\\GyeongJun\\\\anaconda3\\\\lib\\\\site-packages',\n",
       " 'c:\\\\Users\\\\GyeongJun\\\\anaconda3\\\\lib\\\\site-packages\\\\win32',\n",
       " 'c:\\\\Users\\\\GyeongJun\\\\anaconda3\\\\lib\\\\site-packages\\\\win32\\\\lib',\n",
       " 'c:\\\\Users\\\\GyeongJun\\\\anaconda3\\\\lib\\\\site-packages\\\\Pythonwin',\n",
       " 'c:\\\\Users\\\\GyeongJun\\\\anaconda3\\\\lib\\\\site-packages\\\\IPython\\\\extensions',\n",
       " 'C:\\\\Users\\\\GyeongJun\\\\.ipython']"
      ]
     },
     "execution_count": 37,
     "metadata": {},
     "output_type": "execute_result"
    }
   ],
   "source": [
    "# 아래 path(내 작업공간)에 넣어야지 사용가능하다.\n",
    "import sys\n",
    "sys.path"
   ]
  },
  {
   "cell_type": "code",
   "execution_count": 39,
   "metadata": {},
   "outputs": [
    {
     "name": "stdout",
     "output_type": "stream",
     "text": [
      "Variable   Type        Data/Info\n",
      "--------------------------------\n",
      "A          type        <class '__main__.A'>\n",
      "a          int         1\n",
      "add        ufunc       <ufunc 'add'>\n",
      "adders     list        n=5\n",
      "n          int         4\n",
      "np         module      <module 'numpy' from 'c:\\<...>ges\\\\numpy\\\\__init__.py'>\n",
      "sys        module      <module 'sys' (built-in)>\n",
      "x          function    <function x at 0x00000164FE494CA0>\n"
     ]
    }
   ],
   "source": [
    "from st import * # _가 앞에 쓰인 것들은 불러오지 않는다\n",
    "                 # => _가 앞에 쓰인 것들은 숨김처리해서 불러오지 않는다.\n",
    "%whos"
   ]
  },
  {
   "cell_type": "code",
   "execution_count": 49,
   "metadata": {},
   "outputs": [],
   "source": [
    "# from) raise, import from, yield\n",
    "# recall) class가 name space의 역할을 한다.\n",
    "# staticmethod <- instance/class와 상관 없는 함수\n",
    "# staticmethod: class의 name 이름만 빌려서 사용하는 함수\n",
    "# 이름 안에 구조화되기 때문에 유지보수에 용이하다.\n",
    "\n",
    "# staticmethod를 안쓰면 어떻게 될까?\n",
    "class A:\n",
    "    def xx(self): # instance 변수\n",
    "        print('A') \n",
    "    @staticmethod\n",
    "    # staticmethod가 쓰일 때는 self는 x랑 같다 (이름만 self)\n",
    "    # staticmethod는 self를 사용하지 않는게 원칙이다.\n",
    "    def yy(self):\n",
    "        print('static')"
   ]
  },
  {
   "cell_type": "code",
   "execution_count": 50,
   "metadata": {},
   "outputs": [],
   "source": [
    "a = A()"
   ]
  },
  {
   "cell_type": "code",
   "execution_count": 51,
   "metadata": {},
   "outputs": [
    {
     "name": "stdout",
     "output_type": "stream",
     "text": [
      "A\n"
     ]
    }
   ],
   "source": [
    "a.xx() # instance 변수"
   ]
  },
  {
   "cell_type": "code",
   "execution_count": 54,
   "metadata": {},
   "outputs": [
    {
     "name": "stdout",
     "output_type": "stream",
     "text": [
      "static\n"
     ]
    }
   ],
   "source": [
    "A.yy(3) # staticmethod는 클래스 이름으로 쓰는 것으로 알지만 (name space)\n",
    "        # instance 이름으로도 사용 가능하다.\n",
    "        # instance에 없으면 class에서 찾기 때문에 사용 가능"
   ]
  },
  {
   "cell_type": "code",
   "execution_count": 53,
   "metadata": {},
   "outputs": [
    {
     "name": "stdout",
     "output_type": "stream",
     "text": [
      "static\n"
     ]
    }
   ],
   "source": [
    "a.yy(3) # staticmethod는 instance가 아니고\n",
    "       # name space 관점에서 사용되므로 변수가 필요하다.\n",
    "       # 함수처럼 사용"
   ]
  },
  {
   "cell_type": "code",
   "execution_count": 91,
   "metadata": {},
   "outputs": [
    {
     "data": {
      "text/plain": [
       "45"
      ]
     },
     "execution_count": 91,
     "metadata": {},
     "output_type": "execute_result"
    }
   ],
   "source": [
    "sum([x for x in range(10)]) # iterable이라 가능함"
   ]
  },
  {
   "cell_type": "code",
   "execution_count": 92,
   "metadata": {},
   "outputs": [
    {
     "data": {
      "text/plain": [
       "45"
      ]
     },
     "execution_count": 92,
     "metadata": {},
     "output_type": "execute_result"
    }
   ],
   "source": [
    "sum((x for x in range(10))) # generator도 가능함"
   ]
  },
  {
   "cell_type": "code",
   "execution_count": 95,
   "metadata": {},
   "outputs": [
    {
     "data": {
      "text/plain": [
       "45"
      ]
     },
     "execution_count": 95,
     "metadata": {},
     "output_type": "execute_result"
    }
   ],
   "source": [
    "sum(x for x in range(10)) # tuple은 괄호를 생략 가능해서 계산이 된다."
   ]
  },
  {
   "cell_type": "code",
   "execution_count": 97,
   "metadata": {},
   "outputs": [
    {
     "name": "stdout",
     "output_type": "stream",
     "text": [
      "194 µs ± 2.19 µs per loop (mean ± std. dev. of 7 runs, 10000 loops each)\n"
     ]
    }
   ],
   "source": [
    "%timeit sum([x for x in range(10000)]) # 메모리에 한꺼번에 올라가서 빠르다."
   ]
  },
  {
   "cell_type": "code",
   "execution_count": 101,
   "metadata": {},
   "outputs": [
    {
     "name": "stdout",
     "output_type": "stream",
     "text": [
      "279 µs ± 1.76 µs per loop (mean ± std. dev. of 7 runs, 1000 loops each)\n"
     ]
    }
   ],
   "source": [
    "%timeit sum(x for x in range(10000))"
   ]
  },
  {
   "cell_type": "code",
   "execution_count": 102,
   "metadata": {},
   "outputs": [
    {
     "name": "stdout",
     "output_type": "stream",
     "text": [
      "278 µs ± 1.51 µs per loop (mean ± std. dev. of 7 runs, 1000 loops each)\n"
     ]
    }
   ],
   "source": [
    "%timeit sum((x for x in range(10000)))"
   ]
  },
  {
   "cell_type": "code",
   "execution_count": 100,
   "metadata": {},
   "outputs": [
    {
     "name": "stdout",
     "output_type": "stream",
     "text": [
      "87.2 µs ± 995 ns per loop (mean ± std. dev. of 7 runs, 10000 loops each)\n"
     ]
    }
   ],
   "source": [
    "%timeit sum(range(10000)) # for문을 돌지 않아서 더 빠름."
   ]
  },
  {
   "cell_type": "code",
   "execution_count": null,
   "metadata": {},
   "outputs": [],
   "source": [
    "# _ 사용\n",
    "# 100_000_000 > 눈에 보이게 쉽게\n",
    "# _a > a라는 변수를 숨길 때"
   ]
  },
  {
   "cell_type": "code",
   "execution_count": 105,
   "metadata": {},
   "outputs": [
    {
     "data": {
      "text/plain": [
       "1"
      ]
     },
     "execution_count": 105,
     "metadata": {},
     "output_type": "execute_result"
    }
   ],
   "source": [
    "a = 1\n",
    "a"
   ]
  },
  {
   "cell_type": "code",
   "execution_count": 106,
   "metadata": {},
   "outputs": [
    {
     "data": {
      "text/plain": [
       "1"
      ]
     },
     "execution_count": 106,
     "metadata": {},
     "output_type": "execute_result"
    }
   ],
   "source": [
    "# _는 직전에 out(결과)을 임시 저장한다.\n",
    "_"
   ]
  },
  {
   "cell_type": "code",
   "execution_count": 107,
   "metadata": {},
   "outputs": [],
   "source": [
    "# 가장 중요한 _ 예시\n",
    "class A:\n",
    "    __x = 1"
   ]
  },
  {
   "cell_type": "code",
   "execution_count": 108,
   "metadata": {},
   "outputs": [
    {
     "data": {
      "text/plain": [
       "['_A__x',\n",
       " '__class__',\n",
       " '__delattr__',\n",
       " '__dict__',\n",
       " '__dir__',\n",
       " '__doc__',\n",
       " '__eq__',\n",
       " '__format__',\n",
       " '__ge__',\n",
       " '__getattribute__',\n",
       " '__gt__',\n",
       " '__hash__',\n",
       " '__init__',\n",
       " '__init_subclass__',\n",
       " '__le__',\n",
       " '__lt__',\n",
       " '__module__',\n",
       " '__ne__',\n",
       " '__new__',\n",
       " '__reduce__',\n",
       " '__reduce_ex__',\n",
       " '__repr__',\n",
       " '__setattr__',\n",
       " '__sizeof__',\n",
       " '__str__',\n",
       " '__subclasshook__',\n",
       " '__weakref__']"
      ]
     },
     "execution_count": 108,
     "metadata": {},
     "output_type": "execute_result"
    }
   ],
   "source": [
    "dir(A) # _A__x"
   ]
  },
  {
   "cell_type": "code",
   "execution_count": 111,
   "metadata": {},
   "outputs": [
    {
     "data": {
      "text/plain": [
       "1"
      ]
     },
     "execution_count": 111,
     "metadata": {},
     "output_type": "execute_result"
    }
   ],
   "source": [
    "A._A__x # 내부적으로 이름을 바꿔준다 > mangling(맹글링): 간단한 접근 제한\n",
    "      # 쉽게 변수를 감추고 싶을 때 편의상 사용한다."
   ]
  },
  {
   "cell_type": "code",
   "execution_count": null,
   "metadata": {},
   "outputs": [],
   "source": [
    "# __어떤거__ : magic method, special, duble underbar > dunder\n",
    "# 프로그래밍할 때 _는 관례상 안쓸 얘들을 표기할 때 사용한다.\n",
    "# e.g.\n",
    "_, a = 1,2\n",
    "# in_ : 기능은 같지만, 이름 충돌 방지용"
   ]
  },
  {
   "cell_type": "code",
   "execution_count": 112,
   "metadata": {},
   "outputs": [
    {
     "data": {
      "text/plain": [
       "3"
      ]
     },
     "execution_count": 112,
     "metadata": {},
     "output_type": "execute_result"
    }
   ],
   "source": [
    "# 파이썬은 single dispatch를 지원하는 언어다\n",
    "# dtype에 따라서 다르게 처리한다.\n",
    "len('abc') # 인자 한 개에 대해서 다르게(dispatch) 처리한다."
   ]
  },
  {
   "cell_type": "code",
   "execution_count": 113,
   "metadata": {},
   "outputs": [
    {
     "data": {
      "text/plain": [
       "1"
      ]
     },
     "execution_count": 113,
     "metadata": {},
     "output_type": "execute_result"
    }
   ],
   "source": [
    "len({'a':[1,2,3]})"
   ]
  },
  {
   "cell_type": "code",
   "execution_count": null,
   "metadata": {},
   "outputs": [],
   "source": [
    "len(a,b) # a,b의 type이 어떤 것인가에 따라서 다르게 처리한다."
   ]
  },
  {
   "cell_type": "code",
   "execution_count": 114,
   "metadata": {},
   "outputs": [],
   "source": [
    "from functools import singledispatch"
   ]
  },
  {
   "cell_type": "code",
   "execution_count": 115,
   "metadata": {},
   "outputs": [],
   "source": [
    "# pytorch에서 다시 사용한다.\n",
    "# singledispatch 때문에 같은 이름에 함수라도\n",
    "# dtype에 따라 다르게 적용한다.\n",
    "# 이러한 함수 x들을 generic라고 한다. \n",
    "# single : 인자 하나, dispatch : dtype에 따라 적용\n",
    "# 파이썬은 multipledispatch를 사용하지 않음 > 라이브러리 설치하면 사용가능\n",
    "@singledispatch\n",
    "def x(t):\n",
    "    print(t)\n",
    "\n",
    "@x.register(int)\n",
    "def _(t):\n",
    "    print('int')\n",
    "\n",
    "\n",
    "@x.register(str)\n",
    "def _(t):\n",
    "    print('str')"
   ]
  },
  {
   "cell_type": "code",
   "execution_count": 116,
   "metadata": {},
   "outputs": [
    {
     "name": "stdout",
     "output_type": "stream",
     "text": [
      "int\n"
     ]
    }
   ],
   "source": [
    "x(3)"
   ]
  },
  {
   "cell_type": "code",
   "execution_count": 117,
   "metadata": {},
   "outputs": [
    {
     "name": "stdout",
     "output_type": "stream",
     "text": [
      "str\n"
     ]
    }
   ],
   "source": [
    "x('abc')"
   ]
  },
  {
   "cell_type": "code",
   "execution_count": 118,
   "metadata": {},
   "outputs": [
    {
     "name": "stdout",
     "output_type": "stream",
     "text": [
      "{'a': 1}\n"
     ]
    }
   ],
   "source": [
    "x({'a':1})"
   ]
  },
  {
   "cell_type": "code",
   "execution_count": 119,
   "metadata": {},
   "outputs": [],
   "source": [
    "class A:\n",
    "    pass"
   ]
  },
  {
   "cell_type": "code",
   "execution_count": null,
   "metadata": {},
   "outputs": [],
   "source": [
    "A() # instance화"
   ]
  },
  {
   "cell_type": "code",
   "execution_count": 125,
   "metadata": {},
   "outputs": [],
   "source": [
    "class A:\n",
    "    def __init__(self):\n",
    "        print('A')"
   ]
  },
  {
   "cell_type": "code",
   "execution_count": 121,
   "metadata": {},
   "outputs": [
    {
     "name": "stdout",
     "output_type": "stream",
     "text": [
      "A\n"
     ]
    },
    {
     "data": {
      "text/plain": [
       "<__main__.A at 0x16480623f10>"
      ]
     },
     "execution_count": 121,
     "metadata": {},
     "output_type": "execute_result"
    }
   ],
   "source": [
    "A() # __init__: construct(생성자)"
   ]
  },
  {
   "cell_type": "code",
   "execution_count": null,
   "metadata": {},
   "outputs": [],
   "source": [
    "# init Signature가 나오면 클래스, Signature는 함수다\n",
    "int"
   ]
  },
  {
   "cell_type": "code",
   "execution_count": 131,
   "metadata": {},
   "outputs": [],
   "source": [
    "# init는 실행되기 전에 default로 __new__가 실행된다.\n",
    "# __new__가 실행되고 문제가 있기 때문에 __init__가 실행하지 않는다.\n",
    "# 우리 눈에는 안보이지만, __new__가 실행되고\n",
    "# super()이후의 인스턴스를 생성하고 init가 실행한다.\n",
    "# 이때 super()이후 구문에 return이 포함되어 있기 때문에\n",
    "# init에 return의 구문을 사용하지 않는다. (중복)\n",
    "class A: # 원래는 class A(object) 인데 (object)를 생략해도 된다.\n",
    "    # static method는 아니고, class method이다.\n",
    "    def __new__(cls):\n",
    "        print('new')\n",
    "        return super().__new__(cls)\n",
    "    # 이미 만들어진 것을 잘 사용하기 위해서 값을 초기화(생성)하는 것이다.\n",
    "    def __init__(self):\n",
    "        print('A')\n",
    "        # return을 안적으면 return None이 default다."
   ]
  },
  {
   "cell_type": "code",
   "execution_count": 135,
   "metadata": {},
   "outputs": [
    {
     "name": "stdout",
     "output_type": "stream",
     "text": [
      "new\n"
     ]
    }
   ],
   "source": [
    "class A: # 원래는 class A(object) 인데 (object)를 생략해도 된다.\n",
    "    # static method는 아니고, class method이다. 매우 어렵기 때문에 생략\n",
    "    def __new__(cls):\n",
    "        print('new')\n",
    "       # return super().__new__(cls) # return이 없다\n",
    "       # > __new__ 단계에서 오류 발생\n",
    "       # > 따라서 순서대로 값이 실행될 때 print('new')까지 작동하고, __init__이 실행되지 않는다.\n",
    "    # 이미 만들어진 것을 잘 사용하기 위해서 값을 초기화(생성)하는 것이다.\n",
    "    def __init__(self):\n",
    "        print('A')\n",
    "        # return을 안적으면 return None이 default다.\n",
    "A()        "
   ]
  },
  {
   "cell_type": "code",
   "execution_count": 132,
   "metadata": {},
   "outputs": [
    {
     "name": "stdout",
     "output_type": "stream",
     "text": [
      "new\n",
      "A\n"
     ]
    },
    {
     "data": {
      "text/plain": [
       "<__main__.A at 0x164fdf998e0>"
      ]
     },
     "execution_count": 132,
     "metadata": {},
     "output_type": "execute_result"
    }
   ],
   "source": [
    "A()"
   ]
  },
  {
   "cell_type": "code",
   "execution_count": 141,
   "metadata": {},
   "outputs": [],
   "source": [
    "# generic은 다양성의 개념, 똑같은 얘에게 시켰는데 dtype에 따라 다르게 행동한다.\n",
    "# 다양성은 상속과 연관되어 있다.\n",
    "# super()은 상속의 개념이다.\n",
    "# 객체지향의 4가지 특성) encapsulation(접근성), inheritance(상속), abstraction(추상화), polymophicm\n",
    "\n",
    "# 객체지향에서 가장 유용한 것이 상속이다.\n",
    "# 파이썬의 상속은 delegate(위임하다) [dispatch와 비슷하다]\n",
    "\n",
    "class A(object, metaclass = type):\n",
    "    x = 1"
   ]
  },
  {
   "cell_type": "code",
   "execution_count": 142,
   "metadata": {},
   "outputs": [
    {
     "ename": "TypeError",
     "evalue": "Cannot create a consistent method resolution\norder (MRO) for bases A, B",
     "output_type": "error",
     "traceback": [
      "\u001b[1;31m---------------------------------------------------------------------------\u001b[0m",
      "\u001b[1;31mTypeError\u001b[0m                                 Traceback (most recent call last)",
      "\u001b[1;32m~\\AppData\\Local\\Temp\\ipykernel_14720\\2688172645.py\u001b[0m in \u001b[0;36m<module>\u001b[1;34m\u001b[0m\n\u001b[0;32m      9\u001b[0m     \u001b[1;32mpass\u001b[0m\u001b[1;33m\u001b[0m\u001b[1;33m\u001b[0m\u001b[0m\n\u001b[0;32m     10\u001b[0m \u001b[1;33m\u001b[0m\u001b[0m\n\u001b[1;32m---> 11\u001b[1;33m \u001b[1;32mclass\u001b[0m \u001b[0mC\u001b[0m\u001b[1;33m(\u001b[0m\u001b[0mA\u001b[0m\u001b[1;33m,\u001b[0m\u001b[0mB\u001b[0m\u001b[1;33m)\u001b[0m\u001b[1;33m:\u001b[0m\u001b[1;33m\u001b[0m\u001b[1;33m\u001b[0m\u001b[0m\n\u001b[0m\u001b[0;32m     12\u001b[0m     \u001b[1;32mpass\u001b[0m\u001b[1;33m\u001b[0m\u001b[1;33m\u001b[0m\u001b[0m\n",
      "\u001b[1;31mTypeError\u001b[0m: Cannot create a consistent method resolution\norder (MRO) for bases A, B"
     ]
    }
   ],
   "source": [
    "# 파이썬의 상속은 다중상속이다.\n",
    "# B를 부모 객체라고 한다. 파이썬은 부모 객체를 2개 이상 만들 수 있다.\n",
    "# 단, 부모 객체가 많으면 method의 실행 순서 같이 문제가 생길 수 있다 (우선순위)\n",
    "\n",
    "class A:\n",
    "    pass\n",
    "\n",
    "class B(A): # A를 상속한다.\n",
    "    pass\n",
    "\n",
    "class C(A,B): # A,B를 상속한다 \n",
    "              # > method resolution order를 알 수없으면 만들 수 없다.\n",
    "# class C(B,A)로 하면 실행된다. B가 A를 상속하기 때문에\n",
    "    pass"
   ]
  },
  {
   "cell_type": "code",
   "execution_count": 143,
   "metadata": {},
   "outputs": [],
   "source": [
    "class A:\n",
    "    pass\n",
    "\n",
    "class B(A): # A를 상속한다.\n",
    "    pass\n",
    "\n",
    "class C(B,A): # A,B를 상속한다 \n",
    "    pass"
   ]
  },
  {
   "cell_type": "code",
   "execution_count": 144,
   "metadata": {},
   "outputs": [
    {
     "data": {
      "text/plain": [
       "[__main__.C, __main__.B, __main__.A, object]"
      ]
     },
     "execution_count": 144,
     "metadata": {},
     "output_type": "execute_result"
    }
   ],
   "source": [
    "C.mro() # C가 없으면 B, B가 없으면 A를 실행한다.\n",
    "        # 상속이 되고, 인스턴스를 몇개 만들고를 결정하는 것을 metaclass라고 한다."
   ]
  },
  {
   "cell_type": "code",
   "execution_count": 145,
   "metadata": {},
   "outputs": [
    {
     "data": {
      "text/plain": [
       "['__class__',\n",
       " '__delattr__',\n",
       " '__dict__',\n",
       " '__dir__',\n",
       " '__doc__',\n",
       " '__eq__',\n",
       " '__format__',\n",
       " '__ge__',\n",
       " '__getattribute__',\n",
       " '__gt__',\n",
       " '__hash__',\n",
       " '__init__',\n",
       " '__init_subclass__',\n",
       " '__le__',\n",
       " '__lt__',\n",
       " '__module__',\n",
       " '__ne__',\n",
       " '__new__',\n",
       " '__reduce__',\n",
       " '__reduce_ex__',\n",
       " '__repr__',\n",
       " '__setattr__',\n",
       " '__sizeof__',\n",
       " '__str__',\n",
       " '__subclasshook__',\n",
       " '__weakref__']"
      ]
     },
     "execution_count": 145,
     "metadata": {},
     "output_type": "execute_result"
    }
   ],
   "source": [
    "dir(C) # metaclass가 mro를 지원하기 때문에 dir에 없어도 사용가능하다."
   ]
  },
  {
   "cell_type": "code",
   "execution_count": 146,
   "metadata": {},
   "outputs": [],
   "source": [
    "# 부모를 아는 방법 (상속의 주체)\n",
    "c = C()"
   ]
  },
  {
   "cell_type": "code",
   "execution_count": 147,
   "metadata": {},
   "outputs": [
    {
     "data": {
      "text/plain": [
       "__main__.C"
      ]
     },
     "execution_count": 147,
     "metadata": {},
     "output_type": "execute_result"
    }
   ],
   "source": [
    "type(c) # instance를 아는 것 > 클래스를 아는 것"
   ]
  },
  {
   "cell_type": "code",
   "execution_count": 148,
   "metadata": {},
   "outputs": [
    {
     "data": {
      "text/plain": [
       "__main__.C"
      ]
     },
     "execution_count": 148,
     "metadata": {},
     "output_type": "execute_result"
    }
   ],
   "source": [
    "c.__class__"
   ]
  },
  {
   "cell_type": "code",
   "execution_count": 151,
   "metadata": {},
   "outputs": [
    {
     "data": {
      "text/plain": [
       "(__main__.B, __main__.A)"
      ]
     },
     "execution_count": 151,
     "metadata": {},
     "output_type": "execute_result"
    }
   ],
   "source": [
    "# instance는 부모가 없다.\n",
    "# class를 통해서 알아야한다.\n",
    "C.__bases__"
   ]
  },
  {
   "cell_type": "code",
   "execution_count": 152,
   "metadata": {},
   "outputs": [
    {
     "data": {
      "text/plain": [
       "__main__.B"
      ]
     },
     "execution_count": 152,
     "metadata": {},
     "output_type": "execute_result"
    }
   ],
   "source": [
    "# 명확한 부모\n",
    "C.__base__"
   ]
  },
  {
   "cell_type": "code",
   "execution_count": 153,
   "metadata": {},
   "outputs": [
    {
     "data": {
      "text/plain": [
       "True"
      ]
     },
     "execution_count": 153,
     "metadata": {},
     "output_type": "execute_result"
    }
   ],
   "source": [
    "# 클래스에서 정의된 instance인지 확인\n",
    "isinstance(c,C)"
   ]
  },
  {
   "cell_type": "code",
   "execution_count": 154,
   "metadata": {},
   "outputs": [
    {
     "data": {
      "text/plain": [
       "True"
      ]
     },
     "execution_count": 154,
     "metadata": {},
     "output_type": "execute_result"
    }
   ],
   "source": [
    "issubclass(C,A)"
   ]
  },
  {
   "cell_type": "code",
   "execution_count": 155,
   "metadata": {},
   "outputs": [
    {
     "data": {
      "text/plain": [
       "True"
      ]
     },
     "execution_count": 155,
     "metadata": {},
     "output_type": "execute_result"
    }
   ],
   "source": [
    "# bool class는 int를 부모개체로 두기 때문에\n",
    "# True의 값이 1이 나온다.\n",
    "issubclass(bool, int)"
   ]
  },
  {
   "cell_type": "code",
   "execution_count": null,
   "metadata": {},
   "outputs": [],
   "source": [
    "# 프로그래밍 세상에서는 부모가 더 많은 것을 가진다.\n",
    "import tensorflow as tf\n",
    "tf.keras.models.Sequential.mro()\n",
    "\"\"\"\n",
    "[keras.engine.sequential.Sequential,\n",
    " keras.engine.functional.Functional,\n",
    " keras.engine.training.Model,\n",
    " keras.engine.base_layer.Layer,\n",
    " tensorflow.python.module.module.Module,\n",
    " tensorflow.python.trackable.autotrackable.AutoTrackable,\n",
    " tensorflow.python.trackable.base.Trackable,\n",
    " keras.utils.version_utils.LayerVersionSelector,\n",
    " keras.utils.version_utils.ModelVersionSelector,\n",
    " object]\n",
    " \"\"\""
   ]
  },
  {
   "cell_type": "code",
   "execution_count": null,
   "metadata": {},
   "outputs": [],
   "source": [
    "tf.keras.models.Sequential.__bases__\n",
    "\"\"\"\n",
    "(keras.engine.functional.Functional,)\n",
    "\"\"\""
   ]
  },
  {
   "cell_type": "code",
   "execution_count": null,
   "metadata": {},
   "outputs": [],
   "source": [
    "issubclass(tf.keras.models.Sequential, tf.keras.models.Model)\n",
    "\"\"\"\n",
    "True\n",
    "\"\"\""
   ]
  },
  {
   "cell_type": "code",
   "execution_count": 156,
   "metadata": {},
   "outputs": [],
   "source": [
    "class A:\n",
    "    x = 1\n",
    "class B(A):\n",
    "    pass"
   ]
  },
  {
   "cell_type": "code",
   "execution_count": 159,
   "metadata": {},
   "outputs": [
    {
     "data": {
      "text/plain": [
       "True"
      ]
     },
     "execution_count": 159,
     "metadata": {},
     "output_type": "execute_result"
    }
   ],
   "source": [
    "# 이렇게 이해하면 안됨\n",
    "# B는 A를 상속했다 > B.x = 1이다! (XX)\n",
    "# B에 없기 때문에 A에 있는지 확인한다\n",
    "# 인스턴스에 없으면 class에서 확인한다.\n",
    "\n",
    "# B.x한테 있으면 반환하고, 없으면 부모(A)한테 물어본다\n",
    "# 이런걸 위임(delegate)라고 한다.\n",
    "\n",
    "id(B.x) == id(A.x)"
   ]
  },
  {
   "cell_type": "code",
   "execution_count": 160,
   "metadata": {},
   "outputs": [],
   "source": [
    "class A:\n",
    "    x = 1\n",
    "class B(A): # overriding\n",
    "    x = 2"
   ]
  },
  {
   "cell_type": "code",
   "execution_count": 161,
   "metadata": {},
   "outputs": [
    {
     "data": {
      "text/plain": [
       "2"
      ]
     },
     "execution_count": 161,
     "metadata": {},
     "output_type": "execute_result"
    }
   ],
   "source": [
    "# overriding: 부모에 있는 값을 바꿔서 보여줌.\n",
    "# 나한테 있으면 부모의 값을 추출 X\n",
    "B.x"
   ]
  },
  {
   "cell_type": "code",
   "execution_count": 162,
   "metadata": {},
   "outputs": [],
   "source": [
    "# 객체지향에서 생산성 측면에서 효율적이기 때문에 상속이 중요하다.\n",
    "# don't reinvent the wheel: 더 좋은 것을 만들 수 없으면 가져다가 써라!\n",
    "# 변경은 2가지로 나뉜다 > 일부변경, 완전변경\n",
    "\n",
    "class A:\n",
    "    def xx(self):\n",
    "        print('xx')"
   ]
  },
  {
   "cell_type": "code",
   "execution_count": 163,
   "metadata": {},
   "outputs": [],
   "source": [
    "class B(A):\n",
    "    pass"
   ]
  },
  {
   "cell_type": "code",
   "execution_count": null,
   "metadata": {},
   "outputs": [],
   "source": [
    "# 나는 xx뿐만 아니라 yy도 같이 찎고 싶다.\n",
    "class B(A):\n",
    "    def xx(self):\n",
    "        print('xx')\n",
    "        print('yy') # 비효율적이다."
   ]
  },
  {
   "cell_type": "code",
   "execution_count": 164,
   "metadata": {},
   "outputs": [],
   "source": [
    "class B(A):\n",
    "    def xx(self):\n",
    "        A.xx(self) # 부모의 기능을 가져온다.\n",
    "        print('yy')"
   ]
  },
  {
   "cell_type": "code",
   "execution_count": 169,
   "metadata": {},
   "outputs": [],
   "source": [
    "# 다중 상속 시 문제점이 생김\n",
    "class A:\n",
    "    def __init__(self):\n",
    "        print('A')\n",
    "class B(A): \n",
    "    def __init__(self):\n",
    "        A.__init__(self) # 부모가 사용하는거 그대로 가져오고 싶다. # ---- (2)\n",
    "        print('B') # ---- (3)\n",
    "class C(A):\n",
    "    def __init__(self):\n",
    "        A.__init__(self) # 부모가 사용하는거 그대로 가져오고 싶다.   # ---- (4)\n",
    "        print('C')   # ---- (5)\n",
    "class D(B,C):\n",
    "    def __init__(self): #---- (1)\n",
    "        B.__init__(self) \n",
    "        C.__init__(self) \n",
    "        print('D')  # ---- (6)"
   ]
  },
  {
   "cell_type": "code",
   "execution_count": 170,
   "metadata": {},
   "outputs": [
    {
     "name": "stdout",
     "output_type": "stream",
     "text": [
      "A\n",
      "B\n",
      "A\n",
      "C\n",
      "D\n"
     ]
    },
    {
     "data": {
      "text/plain": [
       "<__main__.D at 0x164805d1b20>"
      ]
     },
     "execution_count": 170,
     "metadata": {},
     "output_type": "execute_result"
    }
   ],
   "source": [
    "# 찍히는 순서\n",
    "D()"
   ]
  },
  {
   "cell_type": "code",
   "execution_count": 171,
   "metadata": {},
   "outputs": [],
   "source": [
    "# 다중 상속 시 문제점이 생김\n",
    "# super는 instance로 쓴다.\n",
    "class A:\n",
    "    def __init__(self):\n",
    "        print('A')\n",
    "class B(A): \n",
    "    def __init__(self):\n",
    "        # A.__init__(self) # 함수로 사용했을 때\n",
    "        super(B, self).__init__() # 부모의 인스턴스를 반환함 # ---- (2)\n",
    "        # super().__init__() class가 같으면 생략 가능하다.\n",
    "        print('B') \n",
    "class C(A):\n",
    "    def __init__(self):\n",
    "        super(C, self).__init__()\n",
    "        print('C')   \n",
    "class D(B,C):\n",
    "    def __init__(self):\n",
    "        super(D, self).__init__() # ---- (1)\n",
    "        print('D')  \n",
    "\n",
    "# D를 실행 시키고 저장 (D) > B를 실행 시키고 저장 (D,B,A)\n",
    "# > C를 실행 시키고 저장 (D,B,A,C,A)\n",
    "# > 과거 A를 제거 (중복제거) > (D,B,C,A)\n"
   ]
  },
  {
   "cell_type": "code",
   "execution_count": 172,
   "metadata": {},
   "outputs": [
    {
     "name": "stdout",
     "output_type": "stream",
     "text": [
      "A\n",
      "C\n",
      "B\n",
      "D\n"
     ]
    },
    {
     "data": {
      "text/plain": [
       "<__main__.D at 0x16480618790>"
      ]
     },
     "execution_count": 172,
     "metadata": {},
     "output_type": "execute_result"
    }
   ],
   "source": [
    "D() # super를 사용하면 스스로 중복을 제거해서 mro() 기반으로 실행된다.\n",
    "    # 역순으로 찍힌다."
   ]
  },
  {
   "cell_type": "code",
   "execution_count": 174,
   "metadata": {},
   "outputs": [
    {
     "data": {
      "text/plain": [
       "[__main__.D, __main__.B, __main__.C, __main__.A, object]"
      ]
     },
     "execution_count": 174,
     "metadata": {},
     "output_type": "execute_result"
    }
   ],
   "source": [
    "D.mro()"
   ]
  },
  {
   "cell_type": "code",
   "execution_count": null,
   "metadata": {},
   "outputs": [],
   "source": [
    "from tensorflow.keras.layers import Dense, Flatten, Conv2D\n",
    "from tensorflow.keras import Model\n",
    "import tensorflow as tf\n",
    "\n",
    "class MyModel(Model):\n",
    "  def __init__(self):\n",
    "    #super(MyModel, self).__init__()\n",
    "    self.conv1 = Conv2D(32, 3, activation='relu')\n",
    "    self.flatten = Flatten()\n",
    "    self.d1 = Dense(128, activation='relu')\n",
    "    self.d2 = Dense(10)\n",
    "MyModel()\n",
    "\n",
    "\"\"\"\n",
    "---------------------------------------------------------------------------\n",
    "AttributeError                            Traceback (most recent call last)\n",
    "~/miniconda3/envs/gpu/lib/python3.7/site-packages/keras/engine/training.py in __setattr__(self, name, value)\n",
    "    352             try:\n",
    "--> 353                 self._base_model_initialized\n",
    "    354             except AttributeError:\n",
    "\n",
    "AttributeError: 'MyModel' object has no attribute '_base_model_initialized'\n",
    "\n",
    "During handling of the above exception, another exception occurred:\n",
    "\n",
    "RuntimeError                              Traceback (most recent call last)\n",
    "/tmp/ipykernel_169/4024285597.py in <module>\n",
    "----> 1 MyModel()\n",
    "\n",
    "/tmp/ipykernel_169/3495503248.py in __init__(self)\n",
    "      5   def __init__(self):\n",
    "      6     #super(MyModel, self).__init__()\n",
    "----> 7     self.conv1 = Conv2D(32, 3, activation='relu')\n",
    "      8     self.flatten = Flatten()\n",
    "      9     self.d1 = Dense(128, activation='relu')\n",
    "\n",
    "~/miniconda3/envs/gpu/lib/python3.7/site-packages/keras/engine/training.py in __setattr__(self, name, value)\n",
    "    354             except AttributeError:\n",
    "    355                 raise RuntimeError(\n",
    "--> 356                     \"It looks like you are subclassing `Model` and you \"\n",
    "    357                     \"forgot to call `super().__init__()`.\"\n",
    "    358                     \" Always start with this line.\"\n",
    "\n",
    "RuntimeError: It looks like you are subclassing `Model` and you forgot to call `super().__init__()`. Always start with this line.\n",
    "\"\"\""
   ]
  },
  {
   "cell_type": "code",
   "execution_count": null,
   "metadata": {},
   "outputs": [],
   "source": [
    "# 월요일) self와 super를 활용한 method간의 호출"
   ]
  }
 ],
 "metadata": {
  "kernelspec": {
   "display_name": "base",
   "language": "python",
   "name": "python3"
  },
  "language_info": {
   "codemirror_mode": {
    "name": "ipython",
    "version": 3
   },
   "file_extension": ".py",
   "mimetype": "text/x-python",
   "name": "python",
   "nbconvert_exporter": "python",
   "pygments_lexer": "ipython3",
   "version": "3.9.13"
  },
  "orig_nbformat": 4
 },
 "nbformat": 4,
 "nbformat_minor": 2
}
