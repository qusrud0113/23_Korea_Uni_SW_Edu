{
 "cells": [
  {
   "cell_type": "code",
   "execution_count": 7,
   "metadata": {},
   "outputs": [],
   "source": [
    "# compile: 최적화해서 실행시켜줌\n",
    "\n",
    "import array"
   ]
  },
  {
   "cell_type": "code",
   "execution_count": 10,
   "metadata": {},
   "outputs": [],
   "source": [
    "x =array.array('b', [1,2,3]) # 'b': signed integer\n",
    "                             # homo sequence data type"
   ]
  },
  {
   "cell_type": "code",
   "execution_count": 11,
   "metadata": {},
   "outputs": [
    {
     "data": {
      "text/plain": [
       "['__add__',\n",
       " '__class__',\n",
       " '__contains__',\n",
       " '__copy__',\n",
       " '__deepcopy__',\n",
       " '__delattr__',\n",
       " '__delitem__',\n",
       " '__dir__',\n",
       " '__doc__',\n",
       " '__eq__',\n",
       " '__format__',\n",
       " '__ge__',\n",
       " '__getattribute__',\n",
       " '__getitem__',\n",
       " '__gt__',\n",
       " '__hash__',\n",
       " '__iadd__',\n",
       " '__imul__',\n",
       " '__init__',\n",
       " '__init_subclass__',\n",
       " '__iter__',\n",
       " '__le__',\n",
       " '__len__',\n",
       " '__lt__',\n",
       " '__mul__',\n",
       " '__ne__',\n",
       " '__new__',\n",
       " '__reduce__',\n",
       " '__reduce_ex__',\n",
       " '__repr__',\n",
       " '__rmul__',\n",
       " '__setattr__',\n",
       " '__setitem__',\n",
       " '__sizeof__',\n",
       " '__str__',\n",
       " '__subclasshook__',\n",
       " 'append',\n",
       " 'buffer_info',\n",
       " 'byteswap',\n",
       " 'count',\n",
       " 'extend',\n",
       " 'frombytes',\n",
       " 'fromfile',\n",
       " 'fromlist',\n",
       " 'fromunicode',\n",
       " 'index',\n",
       " 'insert',\n",
       " 'itemsize',\n",
       " 'pop',\n",
       " 'remove',\n",
       " 'reverse',\n",
       " 'tobytes',\n",
       " 'tofile',\n",
       " 'tolist',\n",
       " 'tounicode',\n",
       " 'typecode']"
      ]
     },
     "execution_count": 11,
     "metadata": {},
     "output_type": "execute_result"
    }
   ],
   "source": [
    "dir(x) # sequence Data type이다."
   ]
  },
  {
   "cell_type": "code",
   "execution_count": 13,
   "metadata": {},
   "outputs": [
    {
     "name": "stdout",
     "output_type": "stream",
     "text": [
      "array('b', [1, 2, 3, 1, 2, 3])\n",
      "array('b', [1, 2, 3, 1, 2, 3, 1, 2, 3])\n"
     ]
    }
   ],
   "source": [
    "print(x + x)\n",
    "print(3 * x)"
   ]
  },
  {
   "cell_type": "code",
   "execution_count": 14,
   "metadata": {},
   "outputs": [],
   "source": [
    "import numpy as np"
   ]
  },
  {
   "cell_type": "code",
   "execution_count": 19,
   "metadata": {},
   "outputs": [],
   "source": [
    "x = np.array([1,2,3.])"
   ]
  },
  {
   "cell_type": "code",
   "execution_count": 20,
   "metadata": {},
   "outputs": [
    {
     "data": {
      "text/plain": [
       "array([1., 2., 3.])"
      ]
     },
     "execution_count": 20,
     "metadata": {},
     "output_type": "execute_result"
    }
   ],
   "source": [
    "x # homo로 데이터 양식을 맞춰준다. \n",
    "  # 수체계가 커지면 큰 집합으로 양식을 맞춰준다."
   ]
  },
  {
   "cell_type": "code",
   "execution_count": null,
   "metadata": {},
   "outputs": [],
   "source": [
    "# 결과 값에 numpy = array로 나오는 이유는 numpy를 감싸기 때문이다 (composition)\n",
    "import tensorflow as tf\n",
    "\n",
    "xx = tf.constant([1,2,3.])\n",
    "xx\n",
    "\n",
    "\"\"\"\n",
    "<tf.Tensor: shape=(3,), dtype=float32, numpy=array([1., 2., 3.], dtype=float32)>\n",
    "['OVERLOADABLE_OPERATORS',\n",
    " '_USE_EQUALITY',\n",
    " '__abs__',\n",
    " '__add__',\n",
    " '__and__',\n",
    " '__array__',\n",
    " ....\n",
    "\"\"\""
   ]
  },
  {
   "cell_type": "code",
   "execution_count": null,
   "metadata": {},
   "outputs": [],
   "source": [
    "import torch\n",
    "y = torch.Tensor([1,2,3.])\n",
    "y + y\n",
    "\"\"\"\n",
    "tensor([2., 4., 6.])\n",
    "['H',\n",
    " 'T',\n",
    " '__abs__',\n",
    " '__add__',\n",
    " '__and__',\n",
    " '__array__',\n",
    " '__array_priority__',\n",
    " '__array_wrap__',\n",
    " '__bool__',\n",
    " ...\n",
    "\"\"\""
   ]
  },
  {
   "cell_type": "code",
   "execution_count": 42,
   "metadata": {},
   "outputs": [
    {
     "name": "stdout",
     "output_type": "stream",
     "text": [
      "379 ns ± 2.68 ns per loop (mean ± std. dev. of 7 runs, 1000000 loops each)\n"
     ]
    }
   ],
   "source": [
    "# 파이썬의 array는 수학적 컨샙을 가지지 않는다\n",
    "# 하지만, numpy는 수학에 사용할 수 있게 array를 만들었다.\n",
    "# 하드웨어 성능을 최적화하는 것을 vectorization이라 한다.\n",
    "\n",
    "a = [1,2,3,4,5]\n",
    "b = [4,5,6,7,8]\n",
    "\n",
    "%timeit [x*y for x,y in zip(a,b)]"
   ]
  },
  {
   "cell_type": "code",
   "execution_count": 35,
   "metadata": {},
   "outputs": [
    {
     "name": "stdout",
     "output_type": "stream",
     "text": [
      "356 ns ± 9.37 ns per loop (mean ± std. dev. of 7 runs, 1000000 loops each)\n"
     ]
    }
   ],
   "source": [
    "from operator import mul\n",
    "\n",
    "%timeit [i for i in map(mul,[1,2,3,4,5],[4,5,6,7,8])]"
   ]
  },
  {
   "cell_type": "code",
   "execution_count": 43,
   "metadata": {},
   "outputs": [
    {
     "name": "stdout",
     "output_type": "stream",
     "text": [
      "282 ns ± 1.46 ns per loop (mean ± std. dev. of 7 runs, 1000000 loops each)\n"
     ]
    }
   ],
   "source": [
    "# ndarray는 연속된 메모리 공간에 할당시킨다. > 데이터를 뽑을 때 좋다 > c의 pointer\n",
    "# numpy는 vector, matrix, tensor를 계산하기 쉽게 하기위해서 사용한다.\n",
    "# 각 원소끼리 연산한다고 해서 element-wise라고 한다 > vectorization 가능\n",
    "a = np.array([1,2,3,4,5])\n",
    "b = np.array([4,5,6,7,8])\n",
    "%timeit a*b"
   ]
  },
  {
   "cell_type": "code",
   "execution_count": 44,
   "metadata": {},
   "outputs": [],
   "source": [
    "a = np.array([1,2,3])"
   ]
  },
  {
   "cell_type": "code",
   "execution_count": 45,
   "metadata": {},
   "outputs": [
    {
     "data": {
      "text/plain": [
       "array([1, 2, 3])"
      ]
     },
     "execution_count": 45,
     "metadata": {},
     "output_type": "execute_result"
    }
   ],
   "source": [
    "a"
   ]
  },
  {
   "cell_type": "code",
   "execution_count": 48,
   "metadata": {},
   "outputs": [],
   "source": [
    "b = array.array('b', [1,2,3]) # 파이썬의 array는 항상 첫번째에 data type을 표기한다."
   ]
  },
  {
   "cell_type": "code",
   "execution_count": 47,
   "metadata": {},
   "outputs": [
    {
     "name": "stdout",
     "output_type": "stream",
     "text": [
      "[1 2 3]\n"
     ]
    }
   ],
   "source": [
    "print(a) # print를 했더니 array가 사라진다."
   ]
  },
  {
   "cell_type": "code",
   "execution_count": 50,
   "metadata": {},
   "outputs": [
    {
     "name": "stdout",
     "output_type": "stream",
     "text": [
      "array('b', [1, 2, 3])\n"
     ]
    }
   ],
   "source": [
    "print(b) # 파이썬의 array를 print하면 array를 반환한다."
   ]
  },
  {
   "cell_type": "code",
   "execution_count": 56,
   "metadata": {},
   "outputs": [
    {
     "data": {
      "text/plain": [
       "['__call__',\n",
       " '__class__',\n",
       " '__delattr__',\n",
       " '__dir__',\n",
       " '__doc__',\n",
       " '__eq__',\n",
       " '__format__',\n",
       " '__ge__',\n",
       " '__getattribute__',\n",
       " '__gt__',\n",
       " '__hash__',\n",
       " '__init__',\n",
       " '__init_subclass__',\n",
       " '__le__',\n",
       " '__lt__',\n",
       " '__module__',\n",
       " '__name__',\n",
       " '__ne__',\n",
       " '__new__',\n",
       " '__qualname__',\n",
       " '__reduce__',\n",
       " '__reduce_ex__',\n",
       " '__repr__',\n",
       " '__self__',\n",
       " '__setattr__',\n",
       " '__sizeof__',\n",
       " '__str__',\n",
       " '__subclasshook__',\n",
       " '__text_signature__']"
      ]
     },
     "execution_count": 56,
     "metadata": {},
     "output_type": "execute_result"
    }
   ],
   "source": [
    "dir(np.array) # np.array는 __repr__를 가지고 있다."
   ]
  },
  {
   "cell_type": "code",
   "execution_count": 52,
   "metadata": {},
   "outputs": [],
   "source": [
    "# 왜 같은 array인데 다르게 반환하는가?\n",
    "# repr: representation, str의 차이\n",
    "class X:\n",
    "    def __repr__(self):\n",
    "        return('repr')\n",
    "    def __str__(self):\n",
    "        return ('str') "
   ]
  },
  {
   "cell_type": "code",
   "execution_count": 53,
   "metadata": {},
   "outputs": [],
   "source": [
    "x = X() # instance 생성"
   ]
  },
  {
   "cell_type": "code",
   "execution_count": 54,
   "metadata": {},
   "outputs": [
    {
     "data": {
      "text/plain": [
       "repr"
      ]
     },
     "execution_count": 54,
     "metadata": {},
     "output_type": "execute_result"
    }
   ],
   "source": [
    "x # 이름을 불렀을 때 나오는 것을 repr"
   ]
  },
  {
   "cell_type": "code",
   "execution_count": 55,
   "metadata": {},
   "outputs": [
    {
     "name": "stdout",
     "output_type": "stream",
     "text": [
      "str\n"
     ]
    }
   ],
   "source": [
    "print(x) # print할 때 나오는 것을 str"
   ]
  },
  {
   "cell_type": "code",
   "execution_count": 58,
   "metadata": {},
   "outputs": [
    {
     "data": {
      "text/plain": [
       "numpy.ndarray"
      ]
     },
     "execution_count": 58,
     "metadata": {},
     "output_type": "execute_result"
    }
   ],
   "source": [
    "# NumPy quickstart \n",
    "type(np.array([1,2,3])) \n",
    "# class가 ndarray이다.\n",
    "# factory method: 괄호로 값을 만든다고 해서 instance 되는게 아니다.\n",
    "# 사용자가 쉽게 만들기 위해서 지원한다."
   ]
  },
  {
   "cell_type": "code",
   "execution_count": 59,
   "metadata": {},
   "outputs": [
    {
     "data": {
      "text/plain": [
       "array([[0., 0., 0.],\n",
       "       [0., 0., 0.]])"
      ]
     },
     "execution_count": 59,
     "metadata": {},
     "output_type": "execute_result"
    }
   ],
   "source": [
    "np.ndarray((2,3))"
   ]
  },
  {
   "cell_type": "code",
   "execution_count": null,
   "metadata": {},
   "outputs": [],
   "source": [
    "type(tf.constant([1,2,3.]))\n",
    "\"\"\"\n",
    "tensorflow.python.framework.ops.EagerTensor\n",
    "\"\"\"\n",
    "tf.executing_eagerly()\n",
    "\"\"\"\n",
    "True << True면 eager(직관적으로 보여줌)의 형태로 만들어준다.\n",
    "\"\"\""
   ]
  },
  {
   "cell_type": "code",
   "execution_count": 61,
   "metadata": {},
   "outputs": [
    {
     "data": {
      "text/plain": [
       "array([[1., 0.],\n",
       "       [0., 1.]])"
      ]
     },
     "execution_count": 61,
     "metadata": {},
     "output_type": "execute_result"
    }
   ],
   "source": [
    "# factory method의 예시\n",
    "np.eye(2) # 단위행렬"
   ]
  },
  {
   "cell_type": "code",
   "execution_count": 64,
   "metadata": {},
   "outputs": [
    {
     "data": {
      "text/plain": [
       "array([[0., 0., 0.],\n",
       "       [0., 0., 0.]])"
      ]
     },
     "execution_count": 64,
     "metadata": {},
     "output_type": "execute_result"
    }
   ],
   "source": [
    "np.zeros((2,3)) # 영행렬"
   ]
  },
  {
   "cell_type": "code",
   "execution_count": 66,
   "metadata": {},
   "outputs": [],
   "source": [
    "# shape: row & column\n",
    "a = np.ndarray((2,3), dtype = complex)"
   ]
  },
  {
   "cell_type": "code",
   "execution_count": 70,
   "metadata": {},
   "outputs": [
    {
     "data": {
      "text/plain": [
       "(int,\n",
       " float,\n",
       " complex,\n",
       " bool,\n",
       " bytes,\n",
       " str,\n",
       " memoryview,\n",
       " numpy.bool_,\n",
       " numpy.complex64,\n",
       " numpy.clongdouble,\n",
       " numpy.complex128,\n",
       " numpy.float16,\n",
       " numpy.float32,\n",
       " numpy.longdouble,\n",
       " numpy.float64,\n",
       " numpy.int8,\n",
       " numpy.int16,\n",
       " numpy.int32,\n",
       " numpy.intc,\n",
       " numpy.int64,\n",
       " numpy.timedelta64,\n",
       " numpy.datetime64,\n",
       " numpy.object_,\n",
       " numpy.bytes_,\n",
       " numpy.str_,\n",
       " numpy.uint8,\n",
       " numpy.uint16,\n",
       " numpy.uintc,\n",
       " numpy.uint32,\n",
       " numpy.uint64,\n",
       " numpy.void)"
      ]
     },
     "execution_count": 70,
     "metadata": {},
     "output_type": "execute_result"
    }
   ],
   "source": [
    "np.ScalarType"
   ]
  },
  {
   "cell_type": "code",
   "execution_count": 71,
   "metadata": {},
   "outputs": [
    {
     "data": {
      "text/plain": [
       "{'int': [numpy.int8, numpy.int16, numpy.int32, numpy.int64],\n",
       " 'uint': [numpy.uint8, numpy.uint16, numpy.uint32, numpy.uint64],\n",
       " 'float': [numpy.float16, numpy.float32, numpy.float64],\n",
       " 'complex': [numpy.complex64, numpy.complex128],\n",
       " 'others': [bool, object, bytes, str, numpy.void]}"
      ]
     },
     "execution_count": 71,
     "metadata": {},
     "output_type": "execute_result"
    }
   ],
   "source": [
    "np.sctypes #scalr type"
   ]
  },
  {
   "cell_type": "code",
   "execution_count": 72,
   "metadata": {},
   "outputs": [
    {
     "data": {
      "text/plain": [
       "{'?': numpy.bool_,\n",
       " 0: numpy.bool_,\n",
       " 'byte': numpy.int8,\n",
       " 'b': numpy.int8,\n",
       " 1: numpy.int8,\n",
       " 'ubyte': numpy.uint8,\n",
       " 'B': numpy.uint8,\n",
       " 2: numpy.uint8,\n",
       " 'short': numpy.int16,\n",
       " 'h': numpy.int16,\n",
       " 3: numpy.int16,\n",
       " 'ushort': numpy.uint16,\n",
       " 'H': numpy.uint16,\n",
       " 4: numpy.uint16,\n",
       " 'i': numpy.intc,\n",
       " 5: numpy.intc,\n",
       " 'uint': numpy.uint32,\n",
       " 'I': numpy.uintc,\n",
       " 6: numpy.uintc,\n",
       " 'intp': numpy.int64,\n",
       " 'p': numpy.int64,\n",
       " 9: numpy.int64,\n",
       " 'uintp': numpy.uint64,\n",
       " 'P': numpy.uint64,\n",
       " 10: numpy.uint64,\n",
       " 'long': numpy.int32,\n",
       " 'l': numpy.int32,\n",
       " 7: numpy.int32,\n",
       " 'ulong': numpy.uint32,\n",
       " 'L': numpy.uint32,\n",
       " 8: numpy.uint32,\n",
       " 'longlong': numpy.int64,\n",
       " 'q': numpy.int64,\n",
       " 'ulonglong': numpy.uint64,\n",
       " 'Q': numpy.uint64,\n",
       " 'half': numpy.float16,\n",
       " 'e': numpy.float16,\n",
       " 23: numpy.float16,\n",
       " 'f': numpy.float32,\n",
       " 11: numpy.float32,\n",
       " 'double': numpy.float64,\n",
       " 'd': numpy.float64,\n",
       " 12: numpy.float64,\n",
       " 'longdouble': numpy.longdouble,\n",
       " 'g': numpy.longdouble,\n",
       " 13: numpy.longdouble,\n",
       " 'cfloat': numpy.complex128,\n",
       " 'F': numpy.complex64,\n",
       " 14: numpy.complex64,\n",
       " 'cdouble': numpy.complex128,\n",
       " 'D': numpy.complex128,\n",
       " 15: numpy.complex128,\n",
       " 'clongdouble': numpy.clongdouble,\n",
       " 'G': numpy.clongdouble,\n",
       " 16: numpy.clongdouble,\n",
       " 'O': numpy.object_,\n",
       " 17: numpy.object_,\n",
       " 'S': numpy.bytes_,\n",
       " 18: numpy.bytes_,\n",
       " 'unicode': numpy.str_,\n",
       " 'U': numpy.str_,\n",
       " 19: numpy.str_,\n",
       " 'void': numpy.void,\n",
       " 'V': numpy.void,\n",
       " 20: numpy.void,\n",
       " 'M': numpy.datetime64,\n",
       " 21: numpy.datetime64,\n",
       " 'm': numpy.timedelta64,\n",
       " 22: numpy.timedelta64,\n",
       " 'bool8': numpy.bool_,\n",
       " 'b1': numpy.bool_,\n",
       " 'int64': numpy.int64,\n",
       " 'i8': numpy.int64,\n",
       " 'uint64': numpy.uint64,\n",
       " 'u8': numpy.uint64,\n",
       " 'float16': numpy.float16,\n",
       " 'f2': numpy.float16,\n",
       " 'float32': numpy.float32,\n",
       " 'f4': numpy.float32,\n",
       " 'float64': numpy.float64,\n",
       " 'f8': numpy.float64,\n",
       " 'complex64': numpy.complex64,\n",
       " 'c8': numpy.complex64,\n",
       " 'complex128': numpy.complex128,\n",
       " 'c16': numpy.complex128,\n",
       " 'object0': numpy.object_,\n",
       " 'bytes0': numpy.bytes_,\n",
       " 'str0': numpy.str_,\n",
       " 'void0': numpy.void,\n",
       " 'datetime64': numpy.datetime64,\n",
       " 'M8': numpy.datetime64,\n",
       " 'timedelta64': numpy.timedelta64,\n",
       " 'm8': numpy.timedelta64,\n",
       " 'int32': numpy.int32,\n",
       " 'i4': numpy.int32,\n",
       " 'uint32': numpy.uint32,\n",
       " 'u4': numpy.uint32,\n",
       " 'int16': numpy.int16,\n",
       " 'i2': numpy.int16,\n",
       " 'uint16': numpy.uint16,\n",
       " 'u2': numpy.uint16,\n",
       " 'int8': numpy.int8,\n",
       " 'i1': numpy.int8,\n",
       " 'uint8': numpy.uint8,\n",
       " 'u1': numpy.uint8,\n",
       " 'complex_': numpy.complex128,\n",
       " 'int0': numpy.int64,\n",
       " 'uint0': numpy.uint64,\n",
       " 'single': numpy.float32,\n",
       " 'csingle': numpy.complex64,\n",
       " 'singlecomplex': numpy.complex64,\n",
       " 'float_': numpy.float64,\n",
       " 'intc': numpy.intc,\n",
       " 'uintc': numpy.uintc,\n",
       " 'int_': numpy.int32,\n",
       " 'longfloat': numpy.longdouble,\n",
       " 'clongfloat': numpy.clongdouble,\n",
       " 'longcomplex': numpy.clongdouble,\n",
       " 'bool_': numpy.bool_,\n",
       " 'bytes_': numpy.bytes_,\n",
       " 'string_': numpy.bytes_,\n",
       " 'str_': numpy.str_,\n",
       " 'unicode_': numpy.str_,\n",
       " 'object_': numpy.object_,\n",
       " 'int': numpy.int32,\n",
       " 'float': numpy.float64,\n",
       " 'complex': numpy.complex128,\n",
       " 'bool': numpy.bool_,\n",
       " 'object': numpy.object_,\n",
       " 'str': numpy.str_,\n",
       " 'bytes': numpy.bytes_,\n",
       " 'a': numpy.bytes_}"
      ]
     },
     "execution_count": 72,
     "metadata": {},
     "output_type": "execute_result"
    }
   ],
   "source": [
    "np.sctypeDict # 단축표현"
   ]
  },
  {
   "cell_type": "code",
   "execution_count": 77,
   "metadata": {},
   "outputs": [
    {
     "name": "stderr",
     "output_type": "stream",
     "text": [
      "C:\\Users\\GyeongJun\\AppData\\Local\\Temp\\ipykernel_16716\\2644157820.py:1: VisibleDeprecationWarning: Creating an ndarray from ragged nested sequences (which is a list-or-tuple of lists-or-tuples-or ndarrays with different lengths or shapes) is deprecated. If you meant to do this, you must specify 'dtype=object' when creating the ndarray.\n",
      "  a = np.array([[1,2,3],[2,3,]])\n"
     ]
    }
   ],
   "source": [
    "a = np.array([[1,2,3],[2,3,]])"
   ]
  },
  {
   "cell_type": "code",
   "execution_count": 78,
   "metadata": {},
   "outputs": [
    {
     "data": {
      "text/plain": [
       "array([list([1, 2, 3]), list([2, 3])], dtype=object)"
      ]
     },
     "execution_count": 78,
     "metadata": {},
     "output_type": "execute_result"
    }
   ],
   "source": [
    "a # 개수가 안맞으면 list의 형태 > 행렬 X"
   ]
  },
  {
   "cell_type": "code",
   "execution_count": 93,
   "metadata": {},
   "outputs": [],
   "source": [
    "a = np.array([[1,2,3],[2,3,4]], dtype = np.int16) # 'i2': 단축표현도 가능"
   ]
  },
  {
   "cell_type": "code",
   "execution_count": 94,
   "metadata": {},
   "outputs": [
    {
     "data": {
      "text/plain": [
       "array([[1, 2, 3],\n",
       "       [2, 3, 4]], dtype=int16)"
      ]
     },
     "execution_count": 94,
     "metadata": {},
     "output_type": "execute_result"
    }
   ],
   "source": [
    "a"
   ]
  },
  {
   "cell_type": "code",
   "execution_count": 96,
   "metadata": {},
   "outputs": [
    {
     "data": {
      "text/plain": [
       "(2, 3)"
      ]
     },
     "execution_count": 96,
     "metadata": {},
     "output_type": "execute_result"
    }
   ],
   "source": [
    "a.shape # 행렬 모양 확인"
   ]
  },
  {
   "cell_type": "code",
   "execution_count": 97,
   "metadata": {},
   "outputs": [
    {
     "data": {
      "text/plain": [
       "dtype('int16')"
      ]
     },
     "execution_count": 97,
     "metadata": {},
     "output_type": "execute_result"
    }
   ],
   "source": [
    "a.dtype # data type 파악"
   ]
  },
  {
   "cell_type": "code",
   "execution_count": 98,
   "metadata": {},
   "outputs": [
    {
     "data": {
      "text/plain": [
       "6"
      ]
     },
     "execution_count": 98,
     "metadata": {},
     "output_type": "execute_result"
    }
   ],
   "source": [
    "a.size # 원소의 개수"
   ]
  },
  {
   "cell_type": "code",
   "execution_count": 99,
   "metadata": {},
   "outputs": [
    {
     "data": {
      "text/plain": [
       "2"
      ]
     },
     "execution_count": 99,
     "metadata": {},
     "output_type": "execute_result"
    }
   ],
   "source": [
    "a.ndim # 차원을 알려면"
   ]
  },
  {
   "cell_type": "code",
   "execution_count": 100,
   "metadata": {},
   "outputs": [
    {
     "data": {
      "text/plain": [
       "2"
      ]
     },
     "execution_count": 100,
     "metadata": {},
     "output_type": "execute_result"
    }
   ],
   "source": [
    "a.itemsize # 1bit = 8byte"
   ]
  }
 ],
 "metadata": {
  "kernelspec": {
   "display_name": "base",
   "language": "python",
   "name": "python3"
  },
  "language_info": {
   "codemirror_mode": {
    "name": "ipython",
    "version": 3
   },
   "file_extension": ".py",
   "mimetype": "text/x-python",
   "name": "python",
   "nbconvert_exporter": "python",
   "pygments_lexer": "ipython3",
   "version": "3.9.13"
  },
  "orig_nbformat": 4
 },
 "nbformat": 4,
 "nbformat_minor": 2
}
